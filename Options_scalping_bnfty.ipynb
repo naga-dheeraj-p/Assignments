{
  "nbformat": 4,
  "nbformat_minor": 0,
  "metadata": {
    "colab": {
      "provenance": [],
      "authorship_tag": "ABX9TyMBTq2DQ7whh99z9KbjNO1p",
      "include_colab_link": true
    },
    "kernelspec": {
      "name": "python3",
      "display_name": "Python 3"
    },
    "language_info": {
      "name": "python"
    }
  },
  "cells": [
    {
      "cell_type": "markdown",
      "metadata": {
        "id": "view-in-github",
        "colab_type": "text"
      },
      "source": [
        "<a href=\"https://colab.research.google.com/github/naga-dheeraj-p/Assignments/blob/main/Options_scalping_bnfty.ipynb\" target=\"_parent\"><img src=\"https://colab.research.google.com/assets/colab-badge.svg\" alt=\"Open In Colab\"/></a>"
      ]
    },
    {
      "cell_type": "code",
      "execution_count": 1,
      "metadata": {
        "colab": {
          "base_uri": "https://localhost:8080/"
        },
        "id": "WFi5zteRbxmv",
        "outputId": "36aedb15-e12b-4015-ccd4-70e2b0a20efb"
      },
      "outputs": [
        {
          "output_type": "stream",
          "name": "stdout",
          "text": [
            "Mounted at /content/gdrive\n"
          ]
        }
      ],
      "source": [
        "import pandas as pd\n",
        "import numpy as np\n",
        "from google.colab import drive\n",
        "drive.mount('/content/gdrive')"
      ]
    },
    {
      "cell_type": "code",
      "source": [
        "import os\n",
        "import pandas as pd\n",
        "\n",
        "folder_path = '/content/gdrive/MyDrive/bank_nifty_csv'  # Replace with your actual path\n",
        "output_folder = '/content/gdrive/MyDrive/Colab Notebooks/dataqqqqq'  # Save resampled CSVs here\n",
        "\n",
        "os.makedirs(output_folder, exist_ok=True)\n",
        "\n",
        "for file_name in os.listdir(folder_path):\n",
        "    if file_name.endswith('.csv'):\n",
        "        date_str = file_name.split('.')[0]\n",
        "        date_formatted = pd.to_datetime(date_str, format='%d%m%Y').date()\n",
        "\n",
        "        file_path = os.path.join(folder_path, file_name)\n",
        "        df = pd.read_csv(file_path)\n",
        "        df['datetime'] = pd.to_datetime(df['time'].apply(lambda x: f\"{date_formatted} {x}\"))\n",
        "        df.set_index('datetime', inplace=True)\n",
        "\n",
        "        resampled_df = df.resample('5T').agg({\n",
        "            'open': 'first',\n",
        "            'high': 'max',\n",
        "            'low': 'min',\n",
        "            'close': 'last',\n",
        "            'volume': 'sum',\n",
        "            'oi': 'sum',\n",
        "            'symbol': 'first',\n",
        "            'expiry': 'first',\n",
        "            'strike': 'first',\n",
        "            'instrument_type': 'first'\n",
        "        }).dropna(subset=['open'])\n",
        "\n",
        "        resampled_df.reset_index(inplace=True)\n",
        "\n",
        "        # Save each resampled file\n",
        "        resampled_file_path = os.path.join(output_folder, f\"resampled_{file_name}\")\n",
        "        resampled_df.to_csv(resampled_file_path, index=False)\n",
        "\n",
        "        print(f\"Processed and saved: {file_name}\")\n",
        "\n",
        "print(\"All files processed and resampled!\")\n",
        "\n",
        "\n",
        "resampled_files = os.listdir(output_folder)\n",
        "dfs = []\n",
        "\n",
        "for res_file in resampled_files:\n",
        "    if res_file.endswith('.csv'):\n",
        "        file_path = os.path.join(output_folder, res_file)\n",
        "        df = pd.read_csv(file_path)\n",
        "        dfs.append(df)\n",
        "\n",
        "# Final merge\n",
        "final_df = pd.concat(dfs, ignore_index=True)\n",
        "\n",
        "# Save merged file\n",
        "final_df.to_csv('merged_resampled_all.csv', index=False)\n",
        "\n",
        "print(\"Final merged file saved!\")\n"
      ],
      "metadata": {
        "colab": {
          "base_uri": "https://localhost:8080/"
        },
        "id": "TVjgSTV2b2ys",
        "outputId": "25ff316a-3a87-4389-e3a0-8221df86d358"
      },
      "execution_count": 2,
      "outputs": [
        {
          "output_type": "stream",
          "name": "stderr",
          "text": [
            "<ipython-input-2-6defbfa87029>:19: FutureWarning: 'T' is deprecated and will be removed in a future version, please use 'min' instead.\n",
            "  resampled_df = df.resample('5T').agg({\n"
          ]
        },
        {
          "output_type": "stream",
          "name": "stdout",
          "text": [
            "Processed and saved: 04072011.csv\n"
          ]
        },
        {
          "output_type": "stream",
          "name": "stderr",
          "text": [
            "<ipython-input-2-6defbfa87029>:19: FutureWarning: 'T' is deprecated and will be removed in a future version, please use 'min' instead.\n",
            "  resampled_df = df.resample('5T').agg({\n"
          ]
        },
        {
          "output_type": "stream",
          "name": "stdout",
          "text": [
            "Processed and saved: 25022011.csv\n"
          ]
        },
        {
          "output_type": "stream",
          "name": "stderr",
          "text": [
            "<ipython-input-2-6defbfa87029>:19: FutureWarning: 'T' is deprecated and will be removed in a future version, please use 'min' instead.\n",
            "  resampled_df = df.resample('5T').agg({\n"
          ]
        },
        {
          "output_type": "stream",
          "name": "stdout",
          "text": [
            "Processed and saved: 10012011.csv\n"
          ]
        },
        {
          "output_type": "stream",
          "name": "stderr",
          "text": [
            "<ipython-input-2-6defbfa87029>:19: FutureWarning: 'T' is deprecated and will be removed in a future version, please use 'min' instead.\n",
            "  resampled_df = df.resample('5T').agg({\n"
          ]
        },
        {
          "output_type": "stream",
          "name": "stdout",
          "text": [
            "Processed and saved: 01092014.csv\n"
          ]
        },
        {
          "output_type": "stream",
          "name": "stderr",
          "text": [
            "<ipython-input-2-6defbfa87029>:19: FutureWarning: 'T' is deprecated and will be removed in a future version, please use 'min' instead.\n",
            "  resampled_df = df.resample('5T').agg({\n"
          ]
        },
        {
          "output_type": "stream",
          "name": "stdout",
          "text": [
            "Processed and saved: 01092015.csv\n"
          ]
        },
        {
          "output_type": "stream",
          "name": "stderr",
          "text": [
            "<ipython-input-2-6defbfa87029>:19: FutureWarning: 'T' is deprecated and will be removed in a future version, please use 'min' instead.\n",
            "  resampled_df = df.resample('5T').agg({\n"
          ]
        },
        {
          "output_type": "stream",
          "name": "stdout",
          "text": [
            "Processed and saved: 19012018.csv\n"
          ]
        },
        {
          "output_type": "stream",
          "name": "stderr",
          "text": [
            "<ipython-input-2-6defbfa87029>:19: FutureWarning: 'T' is deprecated and will be removed in a future version, please use 'min' instead.\n",
            "  resampled_df = df.resample('5T').agg({\n"
          ]
        },
        {
          "output_type": "stream",
          "name": "stdout",
          "text": [
            "Processed and saved: 12012018.csv\n"
          ]
        },
        {
          "output_type": "stream",
          "name": "stderr",
          "text": [
            "<ipython-input-2-6defbfa87029>:19: FutureWarning: 'T' is deprecated and will be removed in a future version, please use 'min' instead.\n",
            "  resampled_df = df.resample('5T').agg({\n"
          ]
        },
        {
          "output_type": "stream",
          "name": "stdout",
          "text": [
            "Processed and saved: 15012018.csv\n"
          ]
        },
        {
          "output_type": "stream",
          "name": "stderr",
          "text": [
            "<ipython-input-2-6defbfa87029>:19: FutureWarning: 'T' is deprecated and will be removed in a future version, please use 'min' instead.\n",
            "  resampled_df = df.resample('5T').agg({\n"
          ]
        },
        {
          "output_type": "stream",
          "name": "stdout",
          "text": [
            "Processed and saved: 18012018.csv\n"
          ]
        },
        {
          "output_type": "stream",
          "name": "stderr",
          "text": [
            "<ipython-input-2-6defbfa87029>:19: FutureWarning: 'T' is deprecated and will be removed in a future version, please use 'min' instead.\n",
            "  resampled_df = df.resample('5T').agg({\n"
          ]
        },
        {
          "output_type": "stream",
          "name": "stdout",
          "text": [
            "Processed and saved: 01022018.csv\n"
          ]
        },
        {
          "output_type": "stream",
          "name": "stderr",
          "text": [
            "<ipython-input-2-6defbfa87029>:19: FutureWarning: 'T' is deprecated and will be removed in a future version, please use 'min' instead.\n",
            "  resampled_df = df.resample('5T').agg({\n"
          ]
        },
        {
          "output_type": "stream",
          "name": "stdout",
          "text": [
            "Processed and saved: 07022018.csv\n"
          ]
        },
        {
          "output_type": "stream",
          "name": "stderr",
          "text": [
            "<ipython-input-2-6defbfa87029>:19: FutureWarning: 'T' is deprecated and will be removed in a future version, please use 'min' instead.\n",
            "  resampled_df = df.resample('5T').agg({\n"
          ]
        },
        {
          "output_type": "stream",
          "name": "stdout",
          "text": [
            "Processed and saved: 06022018.csv\n"
          ]
        },
        {
          "output_type": "stream",
          "name": "stderr",
          "text": [
            "<ipython-input-2-6defbfa87029>:19: FutureWarning: 'T' is deprecated and will be removed in a future version, please use 'min' instead.\n",
            "  resampled_df = df.resample('5T').agg({\n"
          ]
        },
        {
          "output_type": "stream",
          "name": "stdout",
          "text": [
            "Processed and saved: 27022018.csv\n"
          ]
        },
        {
          "output_type": "stream",
          "name": "stderr",
          "text": [
            "<ipython-input-2-6defbfa87029>:19: FutureWarning: 'T' is deprecated and will be removed in a future version, please use 'min' instead.\n",
            "  resampled_df = df.resample('5T').agg({\n"
          ]
        },
        {
          "output_type": "stream",
          "name": "stdout",
          "text": [
            "Processed and saved: 21022018.csv\n"
          ]
        },
        {
          "output_type": "stream",
          "name": "stderr",
          "text": [
            "<ipython-input-2-6defbfa87029>:19: FutureWarning: 'T' is deprecated and will be removed in a future version, please use 'min' instead.\n",
            "  resampled_df = df.resample('5T').agg({\n"
          ]
        },
        {
          "output_type": "stream",
          "name": "stdout",
          "text": [
            "Processed and saved: 15022018.csv\n"
          ]
        },
        {
          "output_type": "stream",
          "name": "stderr",
          "text": [
            "<ipython-input-2-6defbfa87029>:19: FutureWarning: 'T' is deprecated and will be removed in a future version, please use 'min' instead.\n",
            "  resampled_df = df.resample('5T').agg({\n"
          ]
        },
        {
          "output_type": "stream",
          "name": "stdout",
          "text": [
            "Processed and saved: 12022018.csv\n"
          ]
        },
        {
          "output_type": "stream",
          "name": "stderr",
          "text": [
            "<ipython-input-2-6defbfa87029>:19: FutureWarning: 'T' is deprecated and will be removed in a future version, please use 'min' instead.\n",
            "  resampled_df = df.resample('5T').agg({\n"
          ]
        },
        {
          "output_type": "stream",
          "name": "stdout",
          "text": [
            "Processed and saved: 19022018.csv\n"
          ]
        },
        {
          "output_type": "stream",
          "name": "stderr",
          "text": [
            "<ipython-input-2-6defbfa87029>:19: FutureWarning: 'T' is deprecated and will be removed in a future version, please use 'min' instead.\n",
            "  resampled_df = df.resample('5T').agg({\n"
          ]
        },
        {
          "output_type": "stream",
          "name": "stdout",
          "text": [
            "Processed and saved: 01032018.csv\n"
          ]
        },
        {
          "output_type": "stream",
          "name": "stderr",
          "text": [
            "<ipython-input-2-6defbfa87029>:19: FutureWarning: 'T' is deprecated and will be removed in a future version, please use 'min' instead.\n",
            "  resampled_df = df.resample('5T').agg({\n"
          ]
        },
        {
          "output_type": "stream",
          "name": "stdout",
          "text": [
            "Processed and saved: 26022018.csv\n"
          ]
        },
        {
          "output_type": "stream",
          "name": "stderr",
          "text": [
            "<ipython-input-2-6defbfa87029>:19: FutureWarning: 'T' is deprecated and will be removed in a future version, please use 'min' instead.\n",
            "  resampled_df = df.resample('5T').agg({\n"
          ]
        },
        {
          "output_type": "stream",
          "name": "stdout",
          "text": [
            "Processed and saved: 20022018.csv\n"
          ]
        },
        {
          "output_type": "stream",
          "name": "stderr",
          "text": [
            "<ipython-input-2-6defbfa87029>:19: FutureWarning: 'T' is deprecated and will be removed in a future version, please use 'min' instead.\n",
            "  resampled_df = df.resample('5T').agg({\n"
          ]
        },
        {
          "output_type": "stream",
          "name": "stdout",
          "text": [
            "Processed and saved: 14022018.csv\n"
          ]
        },
        {
          "output_type": "stream",
          "name": "stderr",
          "text": [
            "<ipython-input-2-6defbfa87029>:19: FutureWarning: 'T' is deprecated and will be removed in a future version, please use 'min' instead.\n",
            "  resampled_df = df.resample('5T').agg({\n"
          ]
        },
        {
          "output_type": "stream",
          "name": "stdout",
          "text": [
            "Processed and saved: 19032018.csv\n"
          ]
        },
        {
          "output_type": "stream",
          "name": "stderr",
          "text": [
            "<ipython-input-2-6defbfa87029>:19: FutureWarning: 'T' is deprecated and will be removed in a future version, please use 'min' instead.\n",
            "  resampled_df = df.resample('5T').agg({\n"
          ]
        },
        {
          "output_type": "stream",
          "name": "stdout",
          "text": [
            "Processed and saved: 15032018.csv\n"
          ]
        },
        {
          "output_type": "stream",
          "name": "stderr",
          "text": [
            "<ipython-input-2-6defbfa87029>:19: FutureWarning: 'T' is deprecated and will be removed in a future version, please use 'min' instead.\n",
            "  resampled_df = df.resample('5T').agg({\n"
          ]
        },
        {
          "output_type": "stream",
          "name": "stdout",
          "text": [
            "Processed and saved: 20032018.csv\n"
          ]
        },
        {
          "output_type": "stream",
          "name": "stderr",
          "text": [
            "<ipython-input-2-6defbfa87029>:19: FutureWarning: 'T' is deprecated and will be removed in a future version, please use 'min' instead.\n",
            "  resampled_df = df.resample('5T').agg({\n"
          ]
        },
        {
          "output_type": "stream",
          "name": "stdout",
          "text": [
            "Processed and saved: 07032018.csv\n"
          ]
        },
        {
          "output_type": "stream",
          "name": "stderr",
          "text": [
            "<ipython-input-2-6defbfa87029>:19: FutureWarning: 'T' is deprecated and will be removed in a future version, please use 'min' instead.\n",
            "  resampled_df = df.resample('5T').agg({\n"
          ]
        },
        {
          "output_type": "stream",
          "name": "stdout",
          "text": [
            "Processed and saved: 12032018.csv\n"
          ]
        },
        {
          "output_type": "stream",
          "name": "stderr",
          "text": [
            "<ipython-input-2-6defbfa87029>:19: FutureWarning: 'T' is deprecated and will be removed in a future version, please use 'min' instead.\n",
            "  resampled_df = df.resample('5T').agg({\n"
          ]
        },
        {
          "output_type": "stream",
          "name": "stdout",
          "text": [
            "Processed and saved: 13032018.csv\n"
          ]
        },
        {
          "output_type": "stream",
          "name": "stderr",
          "text": [
            "<ipython-input-2-6defbfa87029>:19: FutureWarning: 'T' is deprecated and will be removed in a future version, please use 'min' instead.\n",
            "  resampled_df = df.resample('5T').agg({\n"
          ]
        },
        {
          "output_type": "stream",
          "name": "stdout",
          "text": [
            "Processed and saved: 06032018.csv\n"
          ]
        },
        {
          "output_type": "stream",
          "name": "stderr",
          "text": [
            "<ipython-input-2-6defbfa87029>:19: FutureWarning: 'T' is deprecated and will be removed in a future version, please use 'min' instead.\n",
            "  resampled_df = df.resample('5T').agg({\n"
          ]
        },
        {
          "output_type": "stream",
          "name": "stdout",
          "text": [
            "Processed and saved: 04042018.csv\n"
          ]
        },
        {
          "output_type": "stream",
          "name": "stderr",
          "text": [
            "<ipython-input-2-6defbfa87029>:19: FutureWarning: 'T' is deprecated and will be removed in a future version, please use 'min' instead.\n",
            "  resampled_df = df.resample('5T').agg({\n"
          ]
        },
        {
          "output_type": "stream",
          "name": "stdout",
          "text": [
            "Processed and saved: 02042018.csv\n"
          ]
        },
        {
          "output_type": "stream",
          "name": "stderr",
          "text": [
            "<ipython-input-2-6defbfa87029>:19: FutureWarning: 'T' is deprecated and will be removed in a future version, please use 'min' instead.\n",
            "  resampled_df = df.resample('5T').agg({\n"
          ]
        },
        {
          "output_type": "stream",
          "name": "stdout",
          "text": [
            "Processed and saved: 26032018.csv\n"
          ]
        },
        {
          "output_type": "stream",
          "name": "stderr",
          "text": [
            "<ipython-input-2-6defbfa87029>:19: FutureWarning: 'T' is deprecated and will be removed in a future version, please use 'min' instead.\n",
            "  resampled_df = df.resample('5T').agg({\n"
          ]
        },
        {
          "output_type": "stream",
          "name": "stdout",
          "text": [
            "Processed and saved: 09042018.csv\n"
          ]
        },
        {
          "output_type": "stream",
          "name": "stderr",
          "text": [
            "<ipython-input-2-6defbfa87029>:19: FutureWarning: 'T' is deprecated and will be removed in a future version, please use 'min' instead.\n",
            "  resampled_df = df.resample('5T').agg({\n"
          ]
        },
        {
          "output_type": "stream",
          "name": "stdout",
          "text": [
            "Processed and saved: 11042018.csv\n"
          ]
        },
        {
          "output_type": "stream",
          "name": "stderr",
          "text": [
            "<ipython-input-2-6defbfa87029>:19: FutureWarning: 'T' is deprecated and will be removed in a future version, please use 'min' instead.\n",
            "  resampled_df = df.resample('5T').agg({\n"
          ]
        },
        {
          "output_type": "stream",
          "name": "stdout",
          "text": [
            "Processed and saved: 05042018.csv\n"
          ]
        },
        {
          "output_type": "stream",
          "name": "stderr",
          "text": [
            "<ipython-input-2-6defbfa87029>:19: FutureWarning: 'T' is deprecated and will be removed in a future version, please use 'min' instead.\n",
            "  resampled_df = df.resample('5T').agg({\n"
          ]
        },
        {
          "output_type": "stream",
          "name": "stdout",
          "text": [
            "Processed and saved: 10042018.csv\n"
          ]
        },
        {
          "output_type": "stream",
          "name": "stderr",
          "text": [
            "<ipython-input-2-6defbfa87029>:19: FutureWarning: 'T' is deprecated and will be removed in a future version, please use 'min' instead.\n",
            "  resampled_df = df.resample('5T').agg({\n"
          ]
        },
        {
          "output_type": "stream",
          "name": "stdout",
          "text": [
            "Processed and saved: 03042018.csv\n"
          ]
        },
        {
          "output_type": "stream",
          "name": "stderr",
          "text": [
            "<ipython-input-2-6defbfa87029>:19: FutureWarning: 'T' is deprecated and will be removed in a future version, please use 'min' instead.\n",
            "  resampled_df = df.resample('5T').agg({\n"
          ]
        },
        {
          "output_type": "stream",
          "name": "stdout",
          "text": [
            "Processed and saved: 27032018.csv\n"
          ]
        },
        {
          "output_type": "stream",
          "name": "stderr",
          "text": [
            "<ipython-input-2-6defbfa87029>:19: FutureWarning: 'T' is deprecated and will be removed in a future version, please use 'min' instead.\n",
            "  resampled_df = df.resample('5T').agg({\n"
          ]
        },
        {
          "output_type": "stream",
          "name": "stdout",
          "text": [
            "Processed and saved: 02052018.csv\n"
          ]
        },
        {
          "output_type": "stream",
          "name": "stderr",
          "text": [
            "<ipython-input-2-6defbfa87029>:19: FutureWarning: 'T' is deprecated and will be removed in a future version, please use 'min' instead.\n",
            "  resampled_df = df.resample('5T').agg({\n"
          ]
        },
        {
          "output_type": "stream",
          "name": "stdout",
          "text": [
            "Processed and saved: 23042018.csv\n"
          ]
        },
        {
          "output_type": "stream",
          "name": "stderr",
          "text": [
            "<ipython-input-2-6defbfa87029>:19: FutureWarning: 'T' is deprecated and will be removed in a future version, please use 'min' instead.\n",
            "  resampled_df = df.resample('5T').agg({\n"
          ]
        },
        {
          "output_type": "stream",
          "name": "stdout",
          "text": [
            "Processed and saved: 16042018.csv\n"
          ]
        },
        {
          "output_type": "stream",
          "name": "stderr",
          "text": [
            "<ipython-input-2-6defbfa87029>:19: FutureWarning: 'T' is deprecated and will be removed in a future version, please use 'min' instead.\n",
            "  resampled_df = df.resample('5T').agg({\n"
          ]
        },
        {
          "output_type": "stream",
          "name": "stdout",
          "text": [
            "Processed and saved: 03052018.csv\n"
          ]
        },
        {
          "output_type": "stream",
          "name": "stderr",
          "text": [
            "<ipython-input-2-6defbfa87029>:19: FutureWarning: 'T' is deprecated and will be removed in a future version, please use 'min' instead.\n",
            "  resampled_df = df.resample('5T').agg({\n"
          ]
        },
        {
          "output_type": "stream",
          "name": "stdout",
          "text": [
            "Processed and saved: 24042018.csv\n"
          ]
        },
        {
          "output_type": "stream",
          "name": "stderr",
          "text": [
            "<ipython-input-2-6defbfa87029>:19: FutureWarning: 'T' is deprecated and will be removed in a future version, please use 'min' instead.\n",
            "  resampled_df = df.resample('5T').agg({\n"
          ]
        },
        {
          "output_type": "stream",
          "name": "stdout",
          "text": [
            "Processed and saved: 30042018.csv\n"
          ]
        },
        {
          "output_type": "stream",
          "name": "stderr",
          "text": [
            "<ipython-input-2-6defbfa87029>:19: FutureWarning: 'T' is deprecated and will be removed in a future version, please use 'min' instead.\n",
            "  resampled_df = df.resample('5T').agg({\n"
          ]
        },
        {
          "output_type": "stream",
          "name": "stdout",
          "text": [
            "Processed and saved: 25042018.csv\n"
          ]
        },
        {
          "output_type": "stream",
          "name": "stderr",
          "text": [
            "<ipython-input-2-6defbfa87029>:19: FutureWarning: 'T' is deprecated and will be removed in a future version, please use 'min' instead.\n",
            "  resampled_df = df.resample('5T').agg({\n"
          ]
        },
        {
          "output_type": "stream",
          "name": "stdout",
          "text": [
            "Processed and saved: 17042018.csv\n"
          ]
        },
        {
          "output_type": "stream",
          "name": "stderr",
          "text": [
            "<ipython-input-2-6defbfa87029>:19: FutureWarning: 'T' is deprecated and will be removed in a future version, please use 'min' instead.\n",
            "  resampled_df = df.resample('5T').agg({\n"
          ]
        },
        {
          "output_type": "stream",
          "name": "stdout",
          "text": [
            "Processed and saved: 08052018.csv\n"
          ]
        },
        {
          "output_type": "stream",
          "name": "stderr",
          "text": [
            "<ipython-input-2-6defbfa87029>:19: FutureWarning: 'T' is deprecated and will be removed in a future version, please use 'min' instead.\n",
            "  resampled_df = df.resample('5T').agg({\n"
          ]
        },
        {
          "output_type": "stream",
          "name": "stdout",
          "text": [
            "Processed and saved: 09052018.csv\n"
          ]
        },
        {
          "output_type": "stream",
          "name": "stderr",
          "text": [
            "<ipython-input-2-6defbfa87029>:19: FutureWarning: 'T' is deprecated and will be removed in a future version, please use 'min' instead.\n",
            "  resampled_df = df.resample('5T').agg({\n"
          ]
        },
        {
          "output_type": "stream",
          "name": "stdout",
          "text": [
            "Processed and saved: 22052018.csv\n"
          ]
        },
        {
          "output_type": "stream",
          "name": "stderr",
          "text": [
            "<ipython-input-2-6defbfa87029>:19: FutureWarning: 'T' is deprecated and will be removed in a future version, please use 'min' instead.\n",
            "  resampled_df = df.resample('5T').agg({\n"
          ]
        },
        {
          "output_type": "stream",
          "name": "stdout",
          "text": [
            "Processed and saved: 17052018.csv\n"
          ]
        },
        {
          "output_type": "stream",
          "name": "stderr",
          "text": [
            "<ipython-input-2-6defbfa87029>:19: FutureWarning: 'T' is deprecated and will be removed in a future version, please use 'min' instead.\n",
            "  resampled_df = df.resample('5T').agg({\n"
          ]
        },
        {
          "output_type": "stream",
          "name": "stdout",
          "text": [
            "Processed and saved: 04052018.csv\n"
          ]
        },
        {
          "output_type": "stream",
          "name": "stderr",
          "text": [
            "<ipython-input-2-6defbfa87029>:19: FutureWarning: 'T' is deprecated and will be removed in a future version, please use 'min' instead.\n",
            "  resampled_df = df.resample('5T').agg({\n"
          ]
        },
        {
          "output_type": "stream",
          "name": "stdout",
          "text": [
            "Processed and saved: 11052018.csv\n"
          ]
        },
        {
          "output_type": "stream",
          "name": "stderr",
          "text": [
            "<ipython-input-2-6defbfa87029>:19: FutureWarning: 'T' is deprecated and will be removed in a future version, please use 'min' instead.\n",
            "  resampled_df = df.resample('5T').agg({\n"
          ]
        },
        {
          "output_type": "stream",
          "name": "stdout",
          "text": [
            "Processed and saved: 16052018.csv\n"
          ]
        },
        {
          "output_type": "stream",
          "name": "stderr",
          "text": [
            "<ipython-input-2-6defbfa87029>:19: FutureWarning: 'T' is deprecated and will be removed in a future version, please use 'min' instead.\n",
            "  resampled_df = df.resample('5T').agg({\n"
          ]
        },
        {
          "output_type": "stream",
          "name": "stdout",
          "text": [
            "Processed and saved: 30052018.csv\n"
          ]
        },
        {
          "output_type": "stream",
          "name": "stderr",
          "text": [
            "<ipython-input-2-6defbfa87029>:19: FutureWarning: 'T' is deprecated and will be removed in a future version, please use 'min' instead.\n",
            "  resampled_df = df.resample('5T').agg({\n"
          ]
        },
        {
          "output_type": "stream",
          "name": "stdout",
          "text": [
            "Processed and saved: 24052018.csv\n"
          ]
        },
        {
          "output_type": "stream",
          "name": "stderr",
          "text": [
            "<ipython-input-2-6defbfa87029>:19: FutureWarning: 'T' is deprecated and will be removed in a future version, please use 'min' instead.\n",
            "  resampled_df = df.resample('5T').agg({\n"
          ]
        },
        {
          "output_type": "stream",
          "name": "stdout",
          "text": [
            "Processed and saved: 05062018.csv\n"
          ]
        },
        {
          "output_type": "stream",
          "name": "stderr",
          "text": [
            "<ipython-input-2-6defbfa87029>:19: FutureWarning: 'T' is deprecated and will be removed in a future version, please use 'min' instead.\n",
            "  resampled_df = df.resample('5T').agg({\n"
          ]
        },
        {
          "output_type": "stream",
          "name": "stdout",
          "text": [
            "Processed and saved: 31052018.csv\n"
          ]
        },
        {
          "output_type": "stream",
          "name": "stderr",
          "text": [
            "<ipython-input-2-6defbfa87029>:19: FutureWarning: 'T' is deprecated and will be removed in a future version, please use 'min' instead.\n",
            "  resampled_df = df.resample('5T').agg({\n"
          ]
        },
        {
          "output_type": "stream",
          "name": "stdout",
          "text": [
            "Processed and saved: 28052018.csv\n"
          ]
        },
        {
          "output_type": "stream",
          "name": "stderr",
          "text": [
            "<ipython-input-2-6defbfa87029>:19: FutureWarning: 'T' is deprecated and will be removed in a future version, please use 'min' instead.\n",
            "  resampled_df = df.resample('5T').agg({\n"
          ]
        },
        {
          "output_type": "stream",
          "name": "stdout",
          "text": [
            "Processed and saved: 23052018.csv\n"
          ]
        },
        {
          "output_type": "stream",
          "name": "stderr",
          "text": [
            "<ipython-input-2-6defbfa87029>:19: FutureWarning: 'T' is deprecated and will be removed in a future version, please use 'min' instead.\n",
            "  resampled_df = df.resample('5T').agg({\n"
          ]
        },
        {
          "output_type": "stream",
          "name": "stdout",
          "text": [
            "Processed and saved: 25052018.csv\n"
          ]
        },
        {
          "output_type": "stream",
          "name": "stderr",
          "text": [
            "<ipython-input-2-6defbfa87029>:19: FutureWarning: 'T' is deprecated and will be removed in a future version, please use 'min' instead.\n",
            "  resampled_df = df.resample('5T').agg({\n"
          ]
        },
        {
          "output_type": "stream",
          "name": "stdout",
          "text": [
            "Processed and saved: 29052018.csv\n"
          ]
        },
        {
          "output_type": "stream",
          "name": "stderr",
          "text": [
            "<ipython-input-2-6defbfa87029>:19: FutureWarning: 'T' is deprecated and will be removed in a future version, please use 'min' instead.\n",
            "  resampled_df = df.resample('5T').agg({\n"
          ]
        },
        {
          "output_type": "stream",
          "name": "stdout",
          "text": [
            "Processed and saved: 04062018.csv\n"
          ]
        },
        {
          "output_type": "stream",
          "name": "stderr",
          "text": [
            "<ipython-input-2-6defbfa87029>:19: FutureWarning: 'T' is deprecated and will be removed in a future version, please use 'min' instead.\n",
            "  resampled_df = df.resample('5T').agg({\n"
          ]
        },
        {
          "output_type": "stream",
          "name": "stdout",
          "text": [
            "Processed and saved: 22062018.csv\n"
          ]
        },
        {
          "output_type": "stream",
          "name": "stderr",
          "text": [
            "<ipython-input-2-6defbfa87029>:19: FutureWarning: 'T' is deprecated and will be removed in a future version, please use 'min' instead.\n",
            "  resampled_df = df.resample('5T').agg({\n"
          ]
        },
        {
          "output_type": "stream",
          "name": "stdout",
          "text": [
            "Processed and saved: 11062018.csv\n"
          ]
        },
        {
          "output_type": "stream",
          "name": "stderr",
          "text": [
            "<ipython-input-2-6defbfa87029>:19: FutureWarning: 'T' is deprecated and will be removed in a future version, please use 'min' instead.\n",
            "  resampled_df = df.resample('5T').agg({\n"
          ]
        },
        {
          "output_type": "stream",
          "name": "stdout",
          "text": [
            "Processed and saved: 28062018.csv\n"
          ]
        },
        {
          "output_type": "stream",
          "name": "stderr",
          "text": [
            "<ipython-input-2-6defbfa87029>:19: FutureWarning: 'T' is deprecated and will be removed in a future version, please use 'min' instead.\n",
            "  resampled_df = df.resample('5T').agg({\n"
          ]
        },
        {
          "output_type": "stream",
          "name": "stdout",
          "text": [
            "Processed and saved: 25062018.csv\n"
          ]
        },
        {
          "output_type": "stream",
          "name": "stderr",
          "text": [
            "<ipython-input-2-6defbfa87029>:19: FutureWarning: 'T' is deprecated and will be removed in a future version, please use 'min' instead.\n",
            "  resampled_df = df.resample('5T').agg({\n"
          ]
        },
        {
          "output_type": "stream",
          "name": "stdout",
          "text": [
            "Processed and saved: 04072018.csv\n"
          ]
        },
        {
          "output_type": "stream",
          "name": "stderr",
          "text": [
            "<ipython-input-2-6defbfa87029>:19: FutureWarning: 'T' is deprecated and will be removed in a future version, please use 'min' instead.\n",
            "  resampled_df = df.resample('5T').agg({\n"
          ]
        },
        {
          "output_type": "stream",
          "name": "stdout",
          "text": [
            "Processed and saved: 29062018.csv\n"
          ]
        },
        {
          "output_type": "stream",
          "name": "stderr",
          "text": [
            "<ipython-input-2-6defbfa87029>:19: FutureWarning: 'T' is deprecated and will be removed in a future version, please use 'min' instead.\n",
            "  resampled_df = df.resample('5T').agg({\n"
          ]
        },
        {
          "output_type": "stream",
          "name": "stdout",
          "text": [
            "Processed and saved: 10072018.csv\n"
          ]
        },
        {
          "output_type": "stream",
          "name": "stderr",
          "text": [
            "<ipython-input-2-6defbfa87029>:19: FutureWarning: 'T' is deprecated and will be removed in a future version, please use 'min' instead.\n",
            "  resampled_df = df.resample('5T').agg({\n"
          ]
        },
        {
          "output_type": "stream",
          "name": "stdout",
          "text": [
            "Processed and saved: 02072018.csv\n"
          ]
        },
        {
          "output_type": "stream",
          "name": "stderr",
          "text": [
            "<ipython-input-2-6defbfa87029>:19: FutureWarning: 'T' is deprecated and will be removed in a future version, please use 'min' instead.\n",
            "  resampled_df = df.resample('5T').agg({\n"
          ]
        },
        {
          "output_type": "stream",
          "name": "stdout",
          "text": [
            "Processed and saved: 11072018.csv\n"
          ]
        },
        {
          "output_type": "stream",
          "name": "stderr",
          "text": [
            "<ipython-input-2-6defbfa87029>:19: FutureWarning: 'T' is deprecated and will be removed in a future version, please use 'min' instead.\n",
            "  resampled_df = df.resample('5T').agg({\n"
          ]
        },
        {
          "output_type": "stream",
          "name": "stdout",
          "text": [
            "Processed and saved: 05072018.csv\n"
          ]
        },
        {
          "output_type": "stream",
          "name": "stderr",
          "text": [
            "<ipython-input-2-6defbfa87029>:19: FutureWarning: 'T' is deprecated and will be removed in a future version, please use 'min' instead.\n",
            "  resampled_df = df.resample('5T').agg({\n"
          ]
        },
        {
          "output_type": "stream",
          "name": "stdout",
          "text": [
            "Processed and saved: 16072018.csv\n"
          ]
        },
        {
          "output_type": "stream",
          "name": "stderr",
          "text": [
            "<ipython-input-2-6defbfa87029>:19: FutureWarning: 'T' is deprecated and will be removed in a future version, please use 'min' instead.\n",
            "  resampled_df = df.resample('5T').agg({\n"
          ]
        },
        {
          "output_type": "stream",
          "name": "stdout",
          "text": [
            "Processed and saved: 03072018.csv\n"
          ]
        },
        {
          "output_type": "stream",
          "name": "stderr",
          "text": [
            "<ipython-input-2-6defbfa87029>:19: FutureWarning: 'T' is deprecated and will be removed in a future version, please use 'min' instead.\n",
            "  resampled_df = df.resample('5T').agg({\n"
          ]
        },
        {
          "output_type": "stream",
          "name": "stdout",
          "text": [
            "Processed and saved: 17072018.csv\n"
          ]
        },
        {
          "output_type": "stream",
          "name": "stderr",
          "text": [
            "<ipython-input-2-6defbfa87029>:19: FutureWarning: 'T' is deprecated and will be removed in a future version, please use 'min' instead.\n",
            "  resampled_df = df.resample('5T').agg({\n"
          ]
        },
        {
          "output_type": "stream",
          "name": "stdout",
          "text": [
            "Processed and saved: 09072018.csv\n"
          ]
        },
        {
          "output_type": "stream",
          "name": "stderr",
          "text": [
            "<ipython-input-2-6defbfa87029>:19: FutureWarning: 'T' is deprecated and will be removed in a future version, please use 'min' instead.\n",
            "  resampled_df = df.resample('5T').agg({\n"
          ]
        },
        {
          "output_type": "stream",
          "name": "stdout",
          "text": [
            "Processed and saved: 31072018.csv\n"
          ]
        },
        {
          "output_type": "stream",
          "name": "stderr",
          "text": [
            "<ipython-input-2-6defbfa87029>:19: FutureWarning: 'T' is deprecated and will be removed in a future version, please use 'min' instead.\n",
            "  resampled_df = df.resample('5T').agg({\n"
          ]
        },
        {
          "output_type": "stream",
          "name": "stdout",
          "text": [
            "Processed and saved: 23072018.csv\n"
          ]
        },
        {
          "output_type": "stream",
          "name": "stderr",
          "text": [
            "<ipython-input-2-6defbfa87029>:19: FutureWarning: 'T' is deprecated and will be removed in a future version, please use 'min' instead.\n",
            "  resampled_df = df.resample('5T').agg({\n"
          ]
        },
        {
          "output_type": "stream",
          "name": "stdout",
          "text": [
            "Processed and saved: 30072018.csv\n"
          ]
        },
        {
          "output_type": "stream",
          "name": "stderr",
          "text": [
            "<ipython-input-2-6defbfa87029>:19: FutureWarning: 'T' is deprecated and will be removed in a future version, please use 'min' instead.\n",
            "  resampled_df = df.resample('5T').agg({\n"
          ]
        },
        {
          "output_type": "stream",
          "name": "stdout",
          "text": [
            "Processed and saved: 01082018.csv\n"
          ]
        },
        {
          "output_type": "stream",
          "name": "stderr",
          "text": [
            "<ipython-input-2-6defbfa87029>:19: FutureWarning: 'T' is deprecated and will be removed in a future version, please use 'min' instead.\n",
            "  resampled_df = df.resample('5T').agg({\n"
          ]
        },
        {
          "output_type": "stream",
          "name": "stdout",
          "text": [
            "Processed and saved: 07082018.csv\n"
          ]
        },
        {
          "output_type": "stream",
          "name": "stderr",
          "text": [
            "<ipython-input-2-6defbfa87029>:19: FutureWarning: 'T' is deprecated and will be removed in a future version, please use 'min' instead.\n",
            "  resampled_df = df.resample('5T').agg({\n"
          ]
        },
        {
          "output_type": "stream",
          "name": "stdout",
          "text": [
            "Processed and saved: 24072018.csv\n"
          ]
        },
        {
          "output_type": "stream",
          "name": "stderr",
          "text": [
            "<ipython-input-2-6defbfa87029>:19: FutureWarning: 'T' is deprecated and will be removed in a future version, please use 'min' instead.\n",
            "  resampled_df = df.resample('5T').agg({\n"
          ]
        },
        {
          "output_type": "stream",
          "name": "stdout",
          "text": [
            "Processed and saved: 25072018.csv\n"
          ]
        },
        {
          "output_type": "stream",
          "name": "stderr",
          "text": [
            "<ipython-input-2-6defbfa87029>:19: FutureWarning: 'T' is deprecated and will be removed in a future version, please use 'min' instead.\n",
            "  resampled_df = df.resample('5T').agg({\n"
          ]
        },
        {
          "output_type": "stream",
          "name": "stdout",
          "text": [
            "Processed and saved: 06082018.csv\n"
          ]
        },
        {
          "output_type": "stream",
          "name": "stderr",
          "text": [
            "<ipython-input-2-6defbfa87029>:19: FutureWarning: 'T' is deprecated and will be removed in a future version, please use 'min' instead.\n",
            "  resampled_df = df.resample('5T').agg({\n"
          ]
        },
        {
          "output_type": "stream",
          "name": "stdout",
          "text": [
            "Processed and saved: 21082018.csv\n"
          ]
        },
        {
          "output_type": "stream",
          "name": "stderr",
          "text": [
            "<ipython-input-2-6defbfa87029>:19: FutureWarning: 'T' is deprecated and will be removed in a future version, please use 'min' instead.\n",
            "  resampled_df = df.resample('5T').agg({\n"
          ]
        },
        {
          "output_type": "stream",
          "name": "stdout",
          "text": [
            "Processed and saved: 20082018.csv\n"
          ]
        },
        {
          "output_type": "stream",
          "name": "stderr",
          "text": [
            "<ipython-input-2-6defbfa87029>:19: FutureWarning: 'T' is deprecated and will be removed in a future version, please use 'min' instead.\n",
            "  resampled_df = df.resample('5T').agg({\n"
          ]
        },
        {
          "output_type": "stream",
          "name": "stdout",
          "text": [
            "Processed and saved: 27082018.csv\n"
          ]
        },
        {
          "output_type": "stream",
          "name": "stderr",
          "text": [
            "<ipython-input-2-6defbfa87029>:19: FutureWarning: 'T' is deprecated and will be removed in a future version, please use 'min' instead.\n",
            "  resampled_df = df.resample('5T').agg({\n"
          ]
        },
        {
          "output_type": "stream",
          "name": "stdout",
          "text": [
            "Processed and saved: 13082018.csv\n"
          ]
        },
        {
          "output_type": "stream",
          "name": "stderr",
          "text": [
            "<ipython-input-2-6defbfa87029>:19: FutureWarning: 'T' is deprecated and will be removed in a future version, please use 'min' instead.\n",
            "  resampled_df = df.resample('5T').agg({\n"
          ]
        },
        {
          "output_type": "stream",
          "name": "stdout",
          "text": [
            "Processed and saved: 14082018.csv\n"
          ]
        },
        {
          "output_type": "stream",
          "name": "stderr",
          "text": [
            "<ipython-input-2-6defbfa87029>:19: FutureWarning: 'T' is deprecated and will be removed in a future version, please use 'min' instead.\n",
            "  resampled_df = df.resample('5T').agg({\n"
          ]
        },
        {
          "output_type": "stream",
          "name": "stdout",
          "text": [
            "Processed and saved: 07092018.csv\n"
          ]
        },
        {
          "output_type": "stream",
          "name": "stderr",
          "text": [
            "<ipython-input-2-6defbfa87029>:19: FutureWarning: 'T' is deprecated and will be removed in a future version, please use 'min' instead.\n",
            "  resampled_df = df.resample('5T').agg({\n"
          ]
        },
        {
          "output_type": "stream",
          "name": "stdout",
          "text": [
            "Processed and saved: 06092018.csv\n"
          ]
        },
        {
          "output_type": "stream",
          "name": "stderr",
          "text": [
            "<ipython-input-2-6defbfa87029>:19: FutureWarning: 'T' is deprecated and will be removed in a future version, please use 'min' instead.\n",
            "  resampled_df = df.resample('5T').agg({\n"
          ]
        },
        {
          "output_type": "stream",
          "name": "stdout",
          "text": [
            "Processed and saved: 14092018.csv\n"
          ]
        },
        {
          "output_type": "stream",
          "name": "stderr",
          "text": [
            "<ipython-input-2-6defbfa87029>:19: FutureWarning: 'T' is deprecated and will be removed in a future version, please use 'min' instead.\n",
            "  resampled_df = df.resample('5T').agg({\n"
          ]
        },
        {
          "output_type": "stream",
          "name": "stdout",
          "text": [
            "Processed and saved: 12092018.csv\n"
          ]
        },
        {
          "output_type": "stream",
          "name": "stderr",
          "text": [
            "<ipython-input-2-6defbfa87029>:19: FutureWarning: 'T' is deprecated and will be removed in a future version, please use 'min' instead.\n",
            "  resampled_df = df.resample('5T').agg({\n"
          ]
        },
        {
          "output_type": "stream",
          "name": "stdout",
          "text": [
            "Processed and saved: 19092018.csv\n"
          ]
        },
        {
          "output_type": "stream",
          "name": "stderr",
          "text": [
            "<ipython-input-2-6defbfa87029>:19: FutureWarning: 'T' is deprecated and will be removed in a future version, please use 'min' instead.\n",
            "  resampled_df = df.resample('5T').agg({\n"
          ]
        },
        {
          "output_type": "stream",
          "name": "stdout",
          "text": [
            "Processed and saved: 18092018.csv\n"
          ]
        },
        {
          "output_type": "stream",
          "name": "stderr",
          "text": [
            "<ipython-input-2-6defbfa87029>:19: FutureWarning: 'T' is deprecated and will be removed in a future version, please use 'min' instead.\n",
            "  resampled_df = df.resample('5T').agg({\n"
          ]
        },
        {
          "output_type": "stream",
          "name": "stdout",
          "text": [
            "Processed and saved: 27092018.csv\n"
          ]
        },
        {
          "output_type": "stream",
          "name": "stderr",
          "text": [
            "<ipython-input-2-6defbfa87029>:19: FutureWarning: 'T' is deprecated and will be removed in a future version, please use 'min' instead.\n",
            "  resampled_df = df.resample('5T').agg({\n"
          ]
        },
        {
          "output_type": "stream",
          "name": "stdout",
          "text": [
            "Processed and saved: 21092018.csv\n"
          ]
        },
        {
          "output_type": "stream",
          "name": "stderr",
          "text": [
            "<ipython-input-2-6defbfa87029>:19: FutureWarning: 'T' is deprecated and will be removed in a future version, please use 'min' instead.\n",
            "  resampled_df = df.resample('5T').agg({\n"
          ]
        },
        {
          "output_type": "stream",
          "name": "stdout",
          "text": [
            "Processed and saved: 01102018.csv\n"
          ]
        },
        {
          "output_type": "stream",
          "name": "stderr",
          "text": [
            "<ipython-input-2-6defbfa87029>:19: FutureWarning: 'T' is deprecated and will be removed in a future version, please use 'min' instead.\n",
            "  resampled_df = df.resample('5T').agg({\n"
          ]
        },
        {
          "output_type": "stream",
          "name": "stdout",
          "text": [
            "Processed and saved: 26092018.csv\n"
          ]
        },
        {
          "output_type": "stream",
          "name": "stderr",
          "text": [
            "<ipython-input-2-6defbfa87029>:19: FutureWarning: 'T' is deprecated and will be removed in a future version, please use 'min' instead.\n",
            "  resampled_df = df.resample('5T').agg({\n"
          ]
        },
        {
          "output_type": "stream",
          "name": "stdout",
          "text": [
            "Processed and saved: 12102018.csv\n"
          ]
        },
        {
          "output_type": "stream",
          "name": "stderr",
          "text": [
            "<ipython-input-2-6defbfa87029>:19: FutureWarning: 'T' is deprecated and will be removed in a future version, please use 'min' instead.\n",
            "  resampled_df = df.resample('5T').agg({\n"
          ]
        },
        {
          "output_type": "stream",
          "name": "stdout",
          "text": [
            "Processed and saved: 19102018.csv\n"
          ]
        },
        {
          "output_type": "stream",
          "name": "stderr",
          "text": [
            "<ipython-input-2-6defbfa87029>:19: FutureWarning: 'T' is deprecated and will be removed in a future version, please use 'min' instead.\n",
            "  resampled_df = df.resample('5T').agg({\n"
          ]
        },
        {
          "output_type": "stream",
          "name": "stdout",
          "text": [
            "Processed and saved: 15102018.csv\n"
          ]
        },
        {
          "output_type": "stream",
          "name": "stderr",
          "text": [
            "<ipython-input-2-6defbfa87029>:19: FutureWarning: 'T' is deprecated and will be removed in a future version, please use 'min' instead.\n",
            "  resampled_df = df.resample('5T').agg({\n"
          ]
        },
        {
          "output_type": "stream",
          "name": "stdout",
          "text": [
            "Processed and saved: 01112018.csv\n"
          ]
        },
        {
          "output_type": "stream",
          "name": "stderr",
          "text": [
            "<ipython-input-2-6defbfa87029>:19: FutureWarning: 'T' is deprecated and will be removed in a future version, please use 'min' instead.\n",
            "  resampled_df = df.resample('5T').agg({\n"
          ]
        },
        {
          "output_type": "stream",
          "name": "stdout",
          "text": [
            "Processed and saved: 26102018.csv\n"
          ]
        },
        {
          "output_type": "stream",
          "name": "stderr",
          "text": [
            "<ipython-input-2-6defbfa87029>:19: FutureWarning: 'T' is deprecated and will be removed in a future version, please use 'min' instead.\n",
            "  resampled_df = df.resample('5T').agg({\n"
          ]
        },
        {
          "output_type": "stream",
          "name": "stdout",
          "text": [
            "Processed and saved: 15112018.csv\n"
          ]
        },
        {
          "output_type": "stream",
          "name": "stderr",
          "text": [
            "<ipython-input-2-6defbfa87029>:19: FutureWarning: 'T' is deprecated and will be removed in a future version, please use 'min' instead.\n",
            "  resampled_df = df.resample('5T').agg({\n"
          ]
        },
        {
          "output_type": "stream",
          "name": "stdout",
          "text": [
            "Processed and saved: 20112018.csv\n"
          ]
        },
        {
          "output_type": "stream",
          "name": "stderr",
          "text": [
            "<ipython-input-2-6defbfa87029>:19: FutureWarning: 'T' is deprecated and will be removed in a future version, please use 'min' instead.\n",
            "  resampled_df = df.resample('5T').agg({\n"
          ]
        },
        {
          "output_type": "stream",
          "name": "stdout",
          "text": [
            "Processed and saved: 12112018.csv\n"
          ]
        },
        {
          "output_type": "stream",
          "name": "stderr",
          "text": [
            "<ipython-input-2-6defbfa87029>:19: FutureWarning: 'T' is deprecated and will be removed in a future version, please use 'min' instead.\n",
            "  resampled_df = df.resample('5T').agg({\n"
          ]
        },
        {
          "output_type": "stream",
          "name": "stdout",
          "text": [
            "Processed and saved: 07112018.csv\n"
          ]
        },
        {
          "output_type": "stream",
          "name": "stderr",
          "text": [
            "<ipython-input-2-6defbfa87029>:19: FutureWarning: 'T' is deprecated and will be removed in a future version, please use 'min' instead.\n",
            "  resampled_df = df.resample('5T').agg({\n"
          ]
        },
        {
          "output_type": "stream",
          "name": "stdout",
          "text": [
            "Processed and saved: 14112018.csv\n"
          ]
        },
        {
          "output_type": "stream",
          "name": "stderr",
          "text": [
            "<ipython-input-2-6defbfa87029>:19: FutureWarning: 'T' is deprecated and will be removed in a future version, please use 'min' instead.\n",
            "  resampled_df = df.resample('5T').agg({\n"
          ]
        },
        {
          "output_type": "stream",
          "name": "stdout",
          "text": [
            "Processed and saved: 19112018.csv\n"
          ]
        },
        {
          "output_type": "stream",
          "name": "stderr",
          "text": [
            "<ipython-input-2-6defbfa87029>:19: FutureWarning: 'T' is deprecated and will be removed in a future version, please use 'min' instead.\n",
            "  resampled_df = df.resample('5T').agg({\n"
          ]
        },
        {
          "output_type": "stream",
          "name": "stdout",
          "text": [
            "Processed and saved: 21112018.csv\n"
          ]
        },
        {
          "output_type": "stream",
          "name": "stderr",
          "text": [
            "<ipython-input-2-6defbfa87029>:19: FutureWarning: 'T' is deprecated and will be removed in a future version, please use 'min' instead.\n",
            "  resampled_df = df.resample('5T').agg({\n"
          ]
        },
        {
          "output_type": "stream",
          "name": "stdout",
          "text": [
            "Processed and saved: 06112018.csv\n"
          ]
        },
        {
          "output_type": "stream",
          "name": "stderr",
          "text": [
            "<ipython-input-2-6defbfa87029>:19: FutureWarning: 'T' is deprecated and will be removed in a future version, please use 'min' instead.\n",
            "  resampled_df = df.resample('5T').agg({\n"
          ]
        },
        {
          "output_type": "stream",
          "name": "stdout",
          "text": [
            "Processed and saved: 27112018.csv\n"
          ]
        },
        {
          "output_type": "stream",
          "name": "stderr",
          "text": [
            "<ipython-input-2-6defbfa87029>:19: FutureWarning: 'T' is deprecated and will be removed in a future version, please use 'min' instead.\n",
            "  resampled_df = df.resample('5T').agg({\n"
          ]
        },
        {
          "output_type": "stream",
          "name": "stdout",
          "text": [
            "Processed and saved: 06122018.csv\n"
          ]
        },
        {
          "output_type": "stream",
          "name": "stderr",
          "text": [
            "<ipython-input-2-6defbfa87029>:19: FutureWarning: 'T' is deprecated and will be removed in a future version, please use 'min' instead.\n",
            "  resampled_df = df.resample('5T').agg({\n"
          ]
        },
        {
          "output_type": "stream",
          "name": "stdout",
          "text": [
            "Processed and saved: 07122018.csv\n"
          ]
        },
        {
          "output_type": "stream",
          "name": "stderr",
          "text": [
            "<ipython-input-2-6defbfa87029>:19: FutureWarning: 'T' is deprecated and will be removed in a future version, please use 'min' instead.\n",
            "  resampled_df = df.resample('5T').agg({\n"
          ]
        },
        {
          "output_type": "stream",
          "name": "stdout",
          "text": [
            "Processed and saved: 14122018.csv\n"
          ]
        },
        {
          "output_type": "stream",
          "name": "stderr",
          "text": [
            "<ipython-input-2-6defbfa87029>:19: FutureWarning: 'T' is deprecated and will be removed in a future version, please use 'min' instead.\n",
            "  resampled_df = df.resample('5T').agg({\n"
          ]
        },
        {
          "output_type": "stream",
          "name": "stdout",
          "text": [
            "Processed and saved: 21122018.csv\n"
          ]
        },
        {
          "output_type": "stream",
          "name": "stderr",
          "text": [
            "<ipython-input-2-6defbfa87029>:19: FutureWarning: 'T' is deprecated and will be removed in a future version, please use 'min' instead.\n",
            "  resampled_df = df.resample('5T').agg({\n"
          ]
        },
        {
          "output_type": "stream",
          "name": "stdout",
          "text": [
            "Processed and saved: 13122018.csv\n"
          ]
        },
        {
          "output_type": "stream",
          "name": "stderr",
          "text": [
            "<ipython-input-2-6defbfa87029>:19: FutureWarning: 'T' is deprecated and will be removed in a future version, please use 'min' instead.\n",
            "  resampled_df = df.resample('5T').agg({\n"
          ]
        },
        {
          "output_type": "stream",
          "name": "stdout",
          "text": [
            "Processed and saved: 20122018.csv\n"
          ]
        },
        {
          "output_type": "stream",
          "name": "stderr",
          "text": [
            "<ipython-input-2-6defbfa87029>:19: FutureWarning: 'T' is deprecated and will be removed in a future version, please use 'min' instead.\n",
            "  resampled_df = df.resample('5T').agg({\n"
          ]
        },
        {
          "output_type": "stream",
          "name": "stdout",
          "text": [
            "Processed and saved: 19122018.csv\n"
          ]
        },
        {
          "output_type": "stream",
          "name": "stderr",
          "text": [
            "<ipython-input-2-6defbfa87029>:19: FutureWarning: 'T' is deprecated and will be removed in a future version, please use 'min' instead.\n",
            "  resampled_df = df.resample('5T').agg({\n"
          ]
        },
        {
          "output_type": "stream",
          "name": "stdout",
          "text": [
            "Processed and saved: 18122018.csv\n"
          ]
        },
        {
          "output_type": "stream",
          "name": "stderr",
          "text": [
            "<ipython-input-2-6defbfa87029>:19: FutureWarning: 'T' is deprecated and will be removed in a future version, please use 'min' instead.\n",
            "  resampled_df = df.resample('5T').agg({\n"
          ]
        },
        {
          "output_type": "stream",
          "name": "stdout",
          "text": [
            "Processed and saved: 12122018.csv\n"
          ]
        },
        {
          "output_type": "stream",
          "name": "stderr",
          "text": [
            "<ipython-input-2-6defbfa87029>:19: FutureWarning: 'T' is deprecated and will be removed in a future version, please use 'min' instead.\n",
            "  resampled_df = df.resample('5T').agg({\n"
          ]
        },
        {
          "output_type": "stream",
          "name": "stdout",
          "text": [
            "Processed and saved: 26122018.csv\n"
          ]
        },
        {
          "output_type": "stream",
          "name": "stderr",
          "text": [
            "<ipython-input-2-6defbfa87029>:19: FutureWarning: 'T' is deprecated and will be removed in a future version, please use 'min' instead.\n",
            "  resampled_df = df.resample('5T').agg({\n"
          ]
        },
        {
          "output_type": "stream",
          "name": "stdout",
          "text": [
            "Processed and saved: 07012019.csv\n"
          ]
        },
        {
          "output_type": "stream",
          "name": "stderr",
          "text": [
            "<ipython-input-2-6defbfa87029>:19: FutureWarning: 'T' is deprecated and will be removed in a future version, please use 'min' instead.\n",
            "  resampled_df = df.resample('5T').agg({\n"
          ]
        },
        {
          "output_type": "stream",
          "name": "stdout",
          "text": [
            "Processed and saved: 01012019.csv\n"
          ]
        },
        {
          "output_type": "stream",
          "name": "stderr",
          "text": [
            "<ipython-input-2-6defbfa87029>:19: FutureWarning: 'T' is deprecated and will be removed in a future version, please use 'min' instead.\n",
            "  resampled_df = df.resample('5T').agg({\n"
          ]
        },
        {
          "output_type": "stream",
          "name": "stdout",
          "text": [
            "Processed and saved: 27122018.csv\n"
          ]
        },
        {
          "output_type": "stream",
          "name": "stderr",
          "text": [
            "<ipython-input-2-6defbfa87029>:19: FutureWarning: 'T' is deprecated and will be removed in a future version, please use 'min' instead.\n",
            "  resampled_df = df.resample('5T').agg({\n"
          ]
        },
        {
          "output_type": "stream",
          "name": "stdout",
          "text": [
            "Processed and saved: 14012019.csv\n"
          ]
        },
        {
          "output_type": "stream",
          "name": "stderr",
          "text": [
            "<ipython-input-2-6defbfa87029>:19: FutureWarning: 'T' is deprecated and will be removed in a future version, please use 'min' instead.\n",
            "  resampled_df = df.resample('5T').agg({\n"
          ]
        },
        {
          "output_type": "stream",
          "name": "stdout",
          "text": [
            "Processed and saved: 18012019.csv\n"
          ]
        },
        {
          "output_type": "stream",
          "name": "stderr",
          "text": [
            "<ipython-input-2-6defbfa87029>:19: FutureWarning: 'T' is deprecated and will be removed in a future version, please use 'min' instead.\n",
            "  resampled_df = df.resample('5T').agg({\n"
          ]
        },
        {
          "output_type": "stream",
          "name": "stdout",
          "text": [
            "Processed and saved: 15012019.csv\n"
          ]
        },
        {
          "output_type": "stream",
          "name": "stderr",
          "text": [
            "<ipython-input-2-6defbfa87029>:19: FutureWarning: 'T' is deprecated and will be removed in a future version, please use 'min' instead.\n",
            "  resampled_df = df.resample('5T').agg({\n"
          ]
        },
        {
          "output_type": "stream",
          "name": "stdout",
          "text": [
            "Processed and saved: 21012019.csv\n"
          ]
        },
        {
          "output_type": "stream",
          "name": "stderr",
          "text": [
            "<ipython-input-2-6defbfa87029>:19: FutureWarning: 'T' is deprecated and will be removed in a future version, please use 'min' instead.\n",
            "  resampled_df = df.resample('5T').agg({\n"
          ]
        },
        {
          "output_type": "stream",
          "name": "stdout",
          "text": [
            "Processed and saved: 01022019.csv\n"
          ]
        },
        {
          "output_type": "stream",
          "name": "stderr",
          "text": [
            "<ipython-input-2-6defbfa87029>:19: FutureWarning: 'T' is deprecated and will be removed in a future version, please use 'min' instead.\n",
            "  resampled_df = df.resample('5T').agg({\n"
          ]
        },
        {
          "output_type": "stream",
          "name": "stdout",
          "text": [
            "Processed and saved: 12022019.csv\n"
          ]
        },
        {
          "output_type": "stream",
          "name": "stderr",
          "text": [
            "<ipython-input-2-6defbfa87029>:19: FutureWarning: 'T' is deprecated and will be removed in a future version, please use 'min' instead.\n",
            "  resampled_df = df.resample('5T').agg({\n"
          ]
        },
        {
          "output_type": "stream",
          "name": "stdout",
          "text": [
            "Processed and saved: 13022019.csv\n"
          ]
        },
        {
          "output_type": "stream",
          "name": "stderr",
          "text": [
            "<ipython-input-2-6defbfa87029>:19: FutureWarning: 'T' is deprecated and will be removed in a future version, please use 'min' instead.\n",
            "  resampled_df = df.resample('5T').agg({\n"
          ]
        },
        {
          "output_type": "stream",
          "name": "stdout",
          "text": [
            "Processed and saved: 06022019.csv\n"
          ]
        },
        {
          "output_type": "stream",
          "name": "stderr",
          "text": [
            "<ipython-input-2-6defbfa87029>:19: FutureWarning: 'T' is deprecated and will be removed in a future version, please use 'min' instead.\n",
            "  resampled_df = df.resample('5T').agg({\n"
          ]
        },
        {
          "output_type": "stream",
          "name": "stdout",
          "text": [
            "Processed and saved: 15022019.csv\n"
          ]
        },
        {
          "output_type": "stream",
          "name": "stderr",
          "text": [
            "<ipython-input-2-6defbfa87029>:19: FutureWarning: 'T' is deprecated and will be removed in a future version, please use 'min' instead.\n",
            "  resampled_df = df.resample('5T').agg({\n"
          ]
        },
        {
          "output_type": "stream",
          "name": "stdout",
          "text": [
            "Processed and saved: 07022019.csv\n"
          ]
        },
        {
          "output_type": "stream",
          "name": "stderr",
          "text": [
            "<ipython-input-2-6defbfa87029>:19: FutureWarning: 'T' is deprecated and will be removed in a future version, please use 'min' instead.\n",
            "  resampled_df = df.resample('5T').agg({\n"
          ]
        },
        {
          "output_type": "stream",
          "name": "stdout",
          "text": [
            "Processed and saved: 14022019.csv\n"
          ]
        },
        {
          "output_type": "stream",
          "name": "stderr",
          "text": [
            "<ipython-input-2-6defbfa87029>:19: FutureWarning: 'T' is deprecated and will be removed in a future version, please use 'min' instead.\n",
            "  resampled_df = df.resample('5T').agg({\n"
          ]
        },
        {
          "output_type": "stream",
          "name": "stdout",
          "text": [
            "Processed and saved: 21022019.csv\n"
          ]
        },
        {
          "output_type": "stream",
          "name": "stderr",
          "text": [
            "<ipython-input-2-6defbfa87029>:19: FutureWarning: 'T' is deprecated and will be removed in a future version, please use 'min' instead.\n",
            "  resampled_df = df.resample('5T').agg({\n"
          ]
        },
        {
          "output_type": "stream",
          "name": "stdout",
          "text": [
            "Processed and saved: 26022019.csv\n"
          ]
        },
        {
          "output_type": "stream",
          "name": "stderr",
          "text": [
            "<ipython-input-2-6defbfa87029>:19: FutureWarning: 'T' is deprecated and will be removed in a future version, please use 'min' instead.\n",
            "  resampled_df = df.resample('5T').agg({\n"
          ]
        },
        {
          "output_type": "stream",
          "name": "stdout",
          "text": [
            "Processed and saved: 06032019.csv\n"
          ]
        },
        {
          "output_type": "stream",
          "name": "stderr",
          "text": [
            "<ipython-input-2-6defbfa87029>:19: FutureWarning: 'T' is deprecated and will be removed in a future version, please use 'min' instead.\n",
            "  resampled_df = df.resample('5T').agg({\n"
          ]
        },
        {
          "output_type": "stream",
          "name": "stdout",
          "text": [
            "Processed and saved: 19022019.csv\n"
          ]
        },
        {
          "output_type": "stream",
          "name": "stderr",
          "text": [
            "<ipython-input-2-6defbfa87029>:19: FutureWarning: 'T' is deprecated and will be removed in a future version, please use 'min' instead.\n",
            "  resampled_df = df.resample('5T').agg({\n"
          ]
        },
        {
          "output_type": "stream",
          "name": "stdout",
          "text": [
            "Processed and saved: 27022019.csv\n"
          ]
        },
        {
          "output_type": "stream",
          "name": "stderr",
          "text": [
            "<ipython-input-2-6defbfa87029>:19: FutureWarning: 'T' is deprecated and will be removed in a future version, please use 'min' instead.\n",
            "  resampled_df = df.resample('5T').agg({\n"
          ]
        },
        {
          "output_type": "stream",
          "name": "stdout",
          "text": [
            "Processed and saved: 01032019.csv\n"
          ]
        },
        {
          "output_type": "stream",
          "name": "stderr",
          "text": [
            "<ipython-input-2-6defbfa87029>:19: FutureWarning: 'T' is deprecated and will be removed in a future version, please use 'min' instead.\n",
            "  resampled_df = df.resample('5T').agg({\n"
          ]
        },
        {
          "output_type": "stream",
          "name": "stdout",
          "text": [
            "Processed and saved: 18022019.csv\n"
          ]
        },
        {
          "output_type": "stream",
          "name": "stderr",
          "text": [
            "<ipython-input-2-6defbfa87029>:19: FutureWarning: 'T' is deprecated and will be removed in a future version, please use 'min' instead.\n",
            "  resampled_df = df.resample('5T').agg({\n"
          ]
        },
        {
          "output_type": "stream",
          "name": "stdout",
          "text": [
            "Processed and saved: 20022019.csv\n"
          ]
        },
        {
          "output_type": "stream",
          "name": "stderr",
          "text": [
            "<ipython-input-2-6defbfa87029>:19: FutureWarning: 'T' is deprecated and will be removed in a future version, please use 'min' instead.\n",
            "  resampled_df = df.resample('5T').agg({\n"
          ]
        },
        {
          "output_type": "stream",
          "name": "stdout",
          "text": [
            "Processed and saved: 18032019.csv\n"
          ]
        },
        {
          "output_type": "stream",
          "name": "stderr",
          "text": [
            "<ipython-input-2-6defbfa87029>:19: FutureWarning: 'T' is deprecated and will be removed in a future version, please use 'min' instead.\n",
            "  resampled_df = df.resample('5T').agg({\n"
          ]
        },
        {
          "output_type": "stream",
          "name": "stdout",
          "text": [
            "Processed and saved: 12032019.csv\n"
          ]
        },
        {
          "output_type": "stream",
          "name": "stderr",
          "text": [
            "<ipython-input-2-6defbfa87029>:19: FutureWarning: 'T' is deprecated and will be removed in a future version, please use 'min' instead.\n",
            "  resampled_df = df.resample('5T').agg({\n"
          ]
        },
        {
          "output_type": "stream",
          "name": "stdout",
          "text": [
            "Processed and saved: 07032019.csv\n"
          ]
        },
        {
          "output_type": "stream",
          "name": "stderr",
          "text": [
            "<ipython-input-2-6defbfa87029>:19: FutureWarning: 'T' is deprecated and will be removed in a future version, please use 'min' instead.\n",
            "  resampled_df = df.resample('5T').agg({\n"
          ]
        },
        {
          "output_type": "stream",
          "name": "stdout",
          "text": [
            "Processed and saved: 13032019.csv\n"
          ]
        },
        {
          "output_type": "stream",
          "name": "stderr",
          "text": [
            "<ipython-input-2-6defbfa87029>:19: FutureWarning: 'T' is deprecated and will be removed in a future version, please use 'min' instead.\n",
            "  resampled_df = df.resample('5T').agg({\n"
          ]
        },
        {
          "output_type": "stream",
          "name": "stdout",
          "text": [
            "Processed and saved: 19032019.csv\n"
          ]
        },
        {
          "output_type": "stream",
          "name": "stderr",
          "text": [
            "<ipython-input-2-6defbfa87029>:19: FutureWarning: 'T' is deprecated and will be removed in a future version, please use 'min' instead.\n",
            "  resampled_df = df.resample('5T').agg({\n"
          ]
        },
        {
          "output_type": "stream",
          "name": "stdout",
          "text": [
            "Processed and saved: 20032019.csv\n"
          ]
        },
        {
          "output_type": "stream",
          "name": "stderr",
          "text": [
            "<ipython-input-2-6defbfa87029>:19: FutureWarning: 'T' is deprecated and will be removed in a future version, please use 'min' instead.\n",
            "  resampled_df = df.resample('5T').agg({\n"
          ]
        },
        {
          "output_type": "stream",
          "name": "stdout",
          "text": [
            "Processed and saved: 15032019.csv\n"
          ]
        },
        {
          "output_type": "stream",
          "name": "stderr",
          "text": [
            "<ipython-input-2-6defbfa87029>:19: FutureWarning: 'T' is deprecated and will be removed in a future version, please use 'min' instead.\n",
            "  resampled_df = df.resample('5T').agg({\n"
          ]
        },
        {
          "output_type": "stream",
          "name": "stdout",
          "text": [
            "Processed and saved: 26032019.csv\n"
          ]
        },
        {
          "output_type": "stream",
          "name": "stderr",
          "text": [
            "<ipython-input-2-6defbfa87029>:19: FutureWarning: 'T' is deprecated and will be removed in a future version, please use 'min' instead.\n",
            "  resampled_df = df.resample('5T').agg({\n"
          ]
        },
        {
          "output_type": "stream",
          "name": "stdout",
          "text": [
            "Processed and saved: 02042019.csv\n"
          ]
        },
        {
          "output_type": "stream",
          "name": "stderr",
          "text": [
            "<ipython-input-2-6defbfa87029>:19: FutureWarning: 'T' is deprecated and will be removed in a future version, please use 'min' instead.\n",
            "  resampled_df = df.resample('5T').agg({\n"
          ]
        },
        {
          "output_type": "stream",
          "name": "stdout",
          "text": [
            "Processed and saved: 03042019.csv\n"
          ]
        },
        {
          "output_type": "stream",
          "name": "stderr",
          "text": [
            "<ipython-input-2-6defbfa87029>:19: FutureWarning: 'T' is deprecated and will be removed in a future version, please use 'min' instead.\n",
            "  resampled_df = df.resample('5T').agg({\n"
          ]
        },
        {
          "output_type": "stream",
          "name": "stdout",
          "text": [
            "Processed and saved: 27032019.csv\n"
          ]
        },
        {
          "output_type": "stream",
          "name": "stderr",
          "text": [
            "<ipython-input-2-6defbfa87029>:19: FutureWarning: 'T' is deprecated and will be removed in a future version, please use 'min' instead.\n",
            "  resampled_df = df.resample('5T').agg({\n"
          ]
        },
        {
          "output_type": "stream",
          "name": "stdout",
          "text": [
            "Processed and saved: 04042019.csv\n"
          ]
        },
        {
          "output_type": "stream",
          "name": "stderr",
          "text": [
            "<ipython-input-2-6defbfa87029>:19: FutureWarning: 'T' is deprecated and will be removed in a future version, please use 'min' instead.\n",
            "  resampled_df = df.resample('5T').agg({\n"
          ]
        },
        {
          "output_type": "stream",
          "name": "stdout",
          "text": [
            "Processed and saved: 05042019.csv\n"
          ]
        },
        {
          "output_type": "stream",
          "name": "stderr",
          "text": [
            "<ipython-input-2-6defbfa87029>:19: FutureWarning: 'T' is deprecated and will be removed in a future version, please use 'min' instead.\n",
            "  resampled_df = df.resample('5T').agg({\n"
          ]
        },
        {
          "output_type": "stream",
          "name": "stdout",
          "text": [
            "Processed and saved: 16042019.csv\n"
          ]
        },
        {
          "output_type": "stream",
          "name": "stderr",
          "text": [
            "<ipython-input-2-6defbfa87029>:19: FutureWarning: 'T' is deprecated and will be removed in a future version, please use 'min' instead.\n",
            "  resampled_df = df.resample('5T').agg({\n"
          ]
        },
        {
          "output_type": "stream",
          "name": "stdout",
          "text": [
            "Processed and saved: 10042019.csv\n"
          ]
        },
        {
          "output_type": "stream",
          "name": "stderr",
          "text": [
            "<ipython-input-2-6defbfa87029>:19: FutureWarning: 'T' is deprecated and will be removed in a future version, please use 'min' instead.\n",
            "  resampled_df = df.resample('5T').agg({\n"
          ]
        },
        {
          "output_type": "stream",
          "name": "stdout",
          "text": [
            "Processed and saved: 09042019.csv\n"
          ]
        },
        {
          "output_type": "stream",
          "name": "stderr",
          "text": [
            "<ipython-input-2-6defbfa87029>:19: FutureWarning: 'T' is deprecated and will be removed in a future version, please use 'min' instead.\n",
            "  resampled_df = df.resample('5T').agg({\n"
          ]
        },
        {
          "output_type": "stream",
          "name": "stdout",
          "text": [
            "Processed and saved: 24042019.csv\n"
          ]
        },
        {
          "output_type": "stream",
          "name": "stderr",
          "text": [
            "<ipython-input-2-6defbfa87029>:19: FutureWarning: 'T' is deprecated and will be removed in a future version, please use 'min' instead.\n",
            "  resampled_df = df.resample('5T').agg({\n"
          ]
        },
        {
          "output_type": "stream",
          "name": "stdout",
          "text": [
            "Processed and saved: 11042019.csv\n"
          ]
        },
        {
          "output_type": "stream",
          "name": "stderr",
          "text": [
            "<ipython-input-2-6defbfa87029>:19: FutureWarning: 'T' is deprecated and will be removed in a future version, please use 'min' instead.\n",
            "  resampled_df = df.resample('5T').agg({\n"
          ]
        },
        {
          "output_type": "stream",
          "name": "stdout",
          "text": [
            "Processed and saved: 23042019.csv\n"
          ]
        },
        {
          "output_type": "stream",
          "name": "stderr",
          "text": [
            "<ipython-input-2-6defbfa87029>:19: FutureWarning: 'T' is deprecated and will be removed in a future version, please use 'min' instead.\n",
            "  resampled_df = df.resample('5T').agg({\n"
          ]
        },
        {
          "output_type": "stream",
          "name": "stdout",
          "text": [
            "Processed and saved: 08042019.csv\n"
          ]
        },
        {
          "output_type": "stream",
          "name": "stderr",
          "text": [
            "<ipython-input-2-6defbfa87029>:19: FutureWarning: 'T' is deprecated and will be removed in a future version, please use 'min' instead.\n",
            "  resampled_df = df.resample('5T').agg({\n"
          ]
        },
        {
          "output_type": "stream",
          "name": "stdout",
          "text": [
            "Processed and saved: 22042019.csv\n"
          ]
        },
        {
          "output_type": "stream",
          "name": "stderr",
          "text": [
            "<ipython-input-2-6defbfa87029>:19: FutureWarning: 'T' is deprecated and will be removed in a future version, please use 'min' instead.\n",
            "  resampled_df = df.resample('5T').agg({\n"
          ]
        },
        {
          "output_type": "stream",
          "name": "stdout",
          "text": [
            "Processed and saved: 09052019.csv\n"
          ]
        },
        {
          "output_type": "stream",
          "name": "stderr",
          "text": [
            "<ipython-input-2-6defbfa87029>:19: FutureWarning: 'T' is deprecated and will be removed in a future version, please use 'min' instead.\n",
            "  resampled_df = df.resample('5T').agg({\n"
          ]
        },
        {
          "output_type": "stream",
          "name": "stdout",
          "text": [
            "Processed and saved: 30042019.csv\n"
          ]
        },
        {
          "output_type": "stream",
          "name": "stderr",
          "text": [
            "<ipython-input-2-6defbfa87029>:19: FutureWarning: 'T' is deprecated and will be removed in a future version, please use 'min' instead.\n",
            "  resampled_df = df.resample('5T').agg({\n"
          ]
        },
        {
          "output_type": "stream",
          "name": "stdout",
          "text": [
            "Processed and saved: 03052019.csv\n"
          ]
        },
        {
          "output_type": "stream",
          "name": "stderr",
          "text": [
            "<ipython-input-2-6defbfa87029>:19: FutureWarning: 'T' is deprecated and will be removed in a future version, please use 'min' instead.\n",
            "  resampled_df = df.resample('5T').agg({\n"
          ]
        },
        {
          "output_type": "stream",
          "name": "stdout",
          "text": [
            "Processed and saved: 02052019.csv\n"
          ]
        },
        {
          "output_type": "stream",
          "name": "stderr",
          "text": [
            "<ipython-input-2-6defbfa87029>:19: FutureWarning: 'T' is deprecated and will be removed in a future version, please use 'min' instead.\n",
            "  resampled_df = df.resample('5T').agg({\n"
          ]
        },
        {
          "output_type": "stream",
          "name": "stdout",
          "text": [
            "Processed and saved: 08052019.csv\n"
          ]
        },
        {
          "output_type": "stream",
          "name": "stderr",
          "text": [
            "<ipython-input-2-6defbfa87029>:19: FutureWarning: 'T' is deprecated and will be removed in a future version, please use 'min' instead.\n",
            "  resampled_df = df.resample('5T').agg({\n"
          ]
        },
        {
          "output_type": "stream",
          "name": "stdout",
          "text": [
            "Processed and saved: 10052019.csv\n"
          ]
        },
        {
          "output_type": "stream",
          "name": "stderr",
          "text": [
            "<ipython-input-2-6defbfa87029>:19: FutureWarning: 'T' is deprecated and will be removed in a future version, please use 'min' instead.\n",
            "  resampled_df = df.resample('5T').agg({\n"
          ]
        },
        {
          "output_type": "stream",
          "name": "stdout",
          "text": [
            "Processed and saved: 25042019.csv\n"
          ]
        },
        {
          "output_type": "stream",
          "name": "stderr",
          "text": [
            "<ipython-input-2-6defbfa87029>:19: FutureWarning: 'T' is deprecated and will be removed in a future version, please use 'min' instead.\n",
            "  resampled_df = df.resample('5T').agg({\n"
          ]
        },
        {
          "output_type": "stream",
          "name": "stdout",
          "text": [
            "Processed and saved: 16052019.csv\n"
          ]
        },
        {
          "output_type": "stream",
          "name": "stderr",
          "text": [
            "<ipython-input-2-6defbfa87029>:19: FutureWarning: 'T' is deprecated and will be removed in a future version, please use 'min' instead.\n",
            "  resampled_df = df.resample('5T').agg({\n"
          ]
        },
        {
          "output_type": "stream",
          "name": "stdout",
          "text": [
            "Processed and saved: 24052019.csv\n"
          ]
        },
        {
          "output_type": "stream",
          "name": "stderr",
          "text": [
            "<ipython-input-2-6defbfa87029>:19: FutureWarning: 'T' is deprecated and will be removed in a future version, please use 'min' instead.\n",
            "  resampled_df = df.resample('5T').agg({\n"
          ]
        },
        {
          "output_type": "stream",
          "name": "stdout",
          "text": [
            "Processed and saved: 17052019.csv\n"
          ]
        },
        {
          "output_type": "stream",
          "name": "stderr",
          "text": [
            "<ipython-input-2-6defbfa87029>:19: FutureWarning: 'T' is deprecated and will be removed in a future version, please use 'min' instead.\n",
            "  resampled_df = df.resample('5T').agg({\n"
          ]
        },
        {
          "output_type": "stream",
          "name": "stdout",
          "text": [
            "Processed and saved: 23052019.csv\n"
          ]
        },
        {
          "output_type": "stream",
          "name": "stderr",
          "text": [
            "<ipython-input-2-6defbfa87029>:19: FutureWarning: 'T' is deprecated and will be removed in a future version, please use 'min' instead.\n",
            "  resampled_df = df.resample('5T').agg({\n"
          ]
        },
        {
          "output_type": "stream",
          "name": "stdout",
          "text": [
            "Processed and saved: 28052019.csv\n"
          ]
        },
        {
          "output_type": "stream",
          "name": "stderr",
          "text": [
            "<ipython-input-2-6defbfa87029>:19: FutureWarning: 'T' is deprecated and will be removed in a future version, please use 'min' instead.\n",
            "  resampled_df = df.resample('5T').agg({\n"
          ]
        },
        {
          "output_type": "stream",
          "name": "stdout",
          "text": [
            "Processed and saved: 22052019.csv\n"
          ]
        },
        {
          "output_type": "stream",
          "name": "stderr",
          "text": [
            "<ipython-input-2-6defbfa87029>:19: FutureWarning: 'T' is deprecated and will be removed in a future version, please use 'min' instead.\n",
            "  resampled_df = df.resample('5T').agg({\n"
          ]
        },
        {
          "output_type": "stream",
          "name": "stdout",
          "text": [
            "Processed and saved: 03062019.csv\n"
          ]
        },
        {
          "output_type": "stream",
          "name": "stderr",
          "text": [
            "<ipython-input-2-6defbfa87029>:19: FutureWarning: 'T' is deprecated and will be removed in a future version, please use 'min' instead.\n",
            "  resampled_df = df.resample('5T').agg({\n"
          ]
        },
        {
          "output_type": "stream",
          "name": "stdout",
          "text": [
            "Processed and saved: 04062019.csv\n"
          ]
        },
        {
          "output_type": "stream",
          "name": "stderr",
          "text": [
            "<ipython-input-2-6defbfa87029>:19: FutureWarning: 'T' is deprecated and will be removed in a future version, please use 'min' instead.\n",
            "  resampled_df = df.resample('5T').agg({\n"
          ]
        },
        {
          "output_type": "stream",
          "name": "stdout",
          "text": [
            "Processed and saved: 11062019.csv\n"
          ]
        },
        {
          "output_type": "stream",
          "name": "stderr",
          "text": [
            "<ipython-input-2-6defbfa87029>:19: FutureWarning: 'T' is deprecated and will be removed in a future version, please use 'min' instead.\n",
            "  resampled_df = df.resample('5T').agg({\n"
          ]
        },
        {
          "output_type": "stream",
          "name": "stdout",
          "text": [
            "Processed and saved: 29052019.csv\n"
          ]
        },
        {
          "output_type": "stream",
          "name": "stderr",
          "text": [
            "<ipython-input-2-6defbfa87029>:19: FutureWarning: 'T' is deprecated and will be removed in a future version, please use 'min' instead.\n",
            "  resampled_df = df.resample('5T').agg({\n"
          ]
        },
        {
          "output_type": "stream",
          "name": "stdout",
          "text": [
            "Processed and saved: 10062019.csv\n"
          ]
        },
        {
          "output_type": "stream",
          "name": "stderr",
          "text": [
            "<ipython-input-2-6defbfa87029>:19: FutureWarning: 'T' is deprecated and will be removed in a future version, please use 'min' instead.\n",
            "  resampled_df = df.resample('5T').agg({\n"
          ]
        },
        {
          "output_type": "stream",
          "name": "stdout",
          "text": [
            "Processed and saved: 30052019.csv\n"
          ]
        },
        {
          "output_type": "stream",
          "name": "stderr",
          "text": [
            "<ipython-input-2-6defbfa87029>:19: FutureWarning: 'T' is deprecated and will be removed in a future version, please use 'min' instead.\n",
            "  resampled_df = df.resample('5T').agg({\n"
          ]
        },
        {
          "output_type": "stream",
          "name": "stdout",
          "text": [
            "Processed and saved: 28062019.csv\n"
          ]
        },
        {
          "output_type": "stream",
          "name": "stderr",
          "text": [
            "<ipython-input-2-6defbfa87029>:19: FutureWarning: 'T' is deprecated and will be removed in a future version, please use 'min' instead.\n",
            "  resampled_df = df.resample('5T').agg({\n"
          ]
        },
        {
          "output_type": "stream",
          "name": "stdout",
          "text": [
            "Processed and saved: 17062019.csv\n"
          ]
        },
        {
          "output_type": "stream",
          "name": "stderr",
          "text": [
            "<ipython-input-2-6defbfa87029>:19: FutureWarning: 'T' is deprecated and will be removed in a future version, please use 'min' instead.\n",
            "  resampled_df = df.resample('5T').agg({\n"
          ]
        },
        {
          "output_type": "stream",
          "name": "stdout",
          "text": [
            "Processed and saved: 25062019.csv\n"
          ]
        },
        {
          "output_type": "stream",
          "name": "stderr",
          "text": [
            "<ipython-input-2-6defbfa87029>:19: FutureWarning: 'T' is deprecated and will be removed in a future version, please use 'min' instead.\n",
            "  resampled_df = df.resample('5T').agg({\n"
          ]
        },
        {
          "output_type": "stream",
          "name": "stdout",
          "text": [
            "Processed and saved: 24062019.csv\n"
          ]
        },
        {
          "output_type": "stream",
          "name": "stderr",
          "text": [
            "<ipython-input-2-6defbfa87029>:19: FutureWarning: 'T' is deprecated and will be removed in a future version, please use 'min' instead.\n",
            "  resampled_df = df.resample('5T').agg({\n"
          ]
        },
        {
          "output_type": "stream",
          "name": "stdout",
          "text": [
            "Processed and saved: 16072019.csv\n"
          ]
        },
        {
          "output_type": "stream",
          "name": "stderr",
          "text": [
            "<ipython-input-2-6defbfa87029>:19: FutureWarning: 'T' is deprecated and will be removed in a future version, please use 'min' instead.\n",
            "  resampled_df = df.resample('5T').agg({\n"
          ]
        },
        {
          "output_type": "stream",
          "name": "stdout",
          "text": [
            "Processed and saved: 11072019.csv\n"
          ]
        },
        {
          "output_type": "stream",
          "name": "stderr",
          "text": [
            "<ipython-input-2-6defbfa87029>:19: FutureWarning: 'T' is deprecated and will be removed in a future version, please use 'min' instead.\n",
            "  resampled_df = df.resample('5T').agg({\n"
          ]
        },
        {
          "output_type": "stream",
          "name": "stdout",
          "text": [
            "Processed and saved: 04072019.csv\n"
          ]
        },
        {
          "output_type": "stream",
          "name": "stderr",
          "text": [
            "<ipython-input-2-6defbfa87029>:19: FutureWarning: 'T' is deprecated and will be removed in a future version, please use 'min' instead.\n",
            "  resampled_df = df.resample('5T').agg({\n"
          ]
        },
        {
          "output_type": "stream",
          "name": "stdout",
          "text": [
            "Processed and saved: 08072019.csv\n"
          ]
        },
        {
          "output_type": "stream",
          "name": "stderr",
          "text": [
            "<ipython-input-2-6defbfa87029>:19: FutureWarning: 'T' is deprecated and will be removed in a future version, please use 'min' instead.\n",
            "  resampled_df = df.resample('5T').agg({\n"
          ]
        },
        {
          "output_type": "stream",
          "name": "stdout",
          "text": [
            "Processed and saved: 10072019.csv\n"
          ]
        },
        {
          "output_type": "stream",
          "name": "stderr",
          "text": [
            "<ipython-input-2-6defbfa87029>:19: FutureWarning: 'T' is deprecated and will be removed in a future version, please use 'min' instead.\n",
            "  resampled_df = df.resample('5T').agg({\n"
          ]
        },
        {
          "output_type": "stream",
          "name": "stdout",
          "text": [
            "Processed and saved: 05072019.csv\n"
          ]
        },
        {
          "output_type": "stream",
          "name": "stderr",
          "text": [
            "<ipython-input-2-6defbfa87029>:19: FutureWarning: 'T' is deprecated and will be removed in a future version, please use 'min' instead.\n",
            "  resampled_df = df.resample('5T').agg({\n"
          ]
        },
        {
          "output_type": "stream",
          "name": "stdout",
          "text": [
            "Processed and saved: 09072019.csv\n"
          ]
        },
        {
          "output_type": "stream",
          "name": "stderr",
          "text": [
            "<ipython-input-2-6defbfa87029>:19: FutureWarning: 'T' is deprecated and will be removed in a future version, please use 'min' instead.\n",
            "  resampled_df = df.resample('5T').agg({\n"
          ]
        },
        {
          "output_type": "stream",
          "name": "stdout",
          "text": [
            "Processed and saved: 02072019.csv\n"
          ]
        },
        {
          "output_type": "stream",
          "name": "stderr",
          "text": [
            "<ipython-input-2-6defbfa87029>:19: FutureWarning: 'T' is deprecated and will be removed in a future version, please use 'min' instead.\n",
            "  resampled_df = df.resample('5T').agg({\n"
          ]
        },
        {
          "output_type": "stream",
          "name": "stdout",
          "text": [
            "Processed and saved: 25072019.csv\n"
          ]
        },
        {
          "output_type": "stream",
          "name": "stderr",
          "text": [
            "<ipython-input-2-6defbfa87029>:19: FutureWarning: 'T' is deprecated and will be removed in a future version, please use 'min' instead.\n",
            "  resampled_df = df.resample('5T').agg({\n"
          ]
        },
        {
          "output_type": "stream",
          "name": "stdout",
          "text": [
            "Processed and saved: 30072019.csv\n"
          ]
        },
        {
          "output_type": "stream",
          "name": "stderr",
          "text": [
            "<ipython-input-2-6defbfa87029>:19: FutureWarning: 'T' is deprecated and will be removed in a future version, please use 'min' instead.\n",
            "  resampled_df = df.resample('5T').agg({\n"
          ]
        },
        {
          "output_type": "stream",
          "name": "stdout",
          "text": [
            "Processed and saved: 24072019.csv\n"
          ]
        },
        {
          "output_type": "stream",
          "name": "stderr",
          "text": [
            "<ipython-input-2-6defbfa87029>:19: FutureWarning: 'T' is deprecated and will be removed in a future version, please use 'min' instead.\n",
            "  resampled_df = df.resample('5T').agg({\n"
          ]
        },
        {
          "output_type": "stream",
          "name": "stdout",
          "text": [
            "Processed and saved: 23072019.csv\n"
          ]
        },
        {
          "output_type": "stream",
          "name": "stderr",
          "text": [
            "<ipython-input-2-6defbfa87029>:19: FutureWarning: 'T' is deprecated and will be removed in a future version, please use 'min' instead.\n",
            "  resampled_df = df.resample('5T').agg({\n"
          ]
        },
        {
          "output_type": "stream",
          "name": "stdout",
          "text": [
            "Processed and saved: 22072019.csv\n"
          ]
        },
        {
          "output_type": "stream",
          "name": "stderr",
          "text": [
            "<ipython-input-2-6defbfa87029>:19: FutureWarning: 'T' is deprecated and will be removed in a future version, please use 'min' instead.\n",
            "  resampled_df = df.resample('5T').agg({\n"
          ]
        },
        {
          "output_type": "stream",
          "name": "stdout",
          "text": [
            "Processed and saved: 31072019.csv\n"
          ]
        },
        {
          "output_type": "stream",
          "name": "stderr",
          "text": [
            "<ipython-input-2-6defbfa87029>:19: FutureWarning: 'T' is deprecated and will be removed in a future version, please use 'min' instead.\n",
            "  resampled_df = df.resample('5T').agg({\n"
          ]
        },
        {
          "output_type": "stream",
          "name": "stdout",
          "text": [
            "Processed and saved: 29072019.csv\n"
          ]
        },
        {
          "output_type": "stream",
          "name": "stderr",
          "text": [
            "<ipython-input-2-6defbfa87029>:19: FutureWarning: 'T' is deprecated and will be removed in a future version, please use 'min' instead.\n",
            "  resampled_df = df.resample('5T').agg({\n"
          ]
        },
        {
          "output_type": "stream",
          "name": "stdout",
          "text": [
            "Processed and saved: 01082019.csv\n"
          ]
        },
        {
          "output_type": "stream",
          "name": "stderr",
          "text": [
            "<ipython-input-2-6defbfa87029>:19: FutureWarning: 'T' is deprecated and will be removed in a future version, please use 'min' instead.\n",
            "  resampled_df = df.resample('5T').agg({\n"
          ]
        },
        {
          "output_type": "stream",
          "name": "stdout",
          "text": [
            "Processed and saved: 06082019.csv\n"
          ]
        },
        {
          "output_type": "stream",
          "name": "stderr",
          "text": [
            "<ipython-input-2-6defbfa87029>:19: FutureWarning: 'T' is deprecated and will be removed in a future version, please use 'min' instead.\n",
            "  resampled_df = df.resample('5T').agg({\n"
          ]
        },
        {
          "output_type": "stream",
          "name": "stdout",
          "text": [
            "Processed and saved: 14082019.csv\n"
          ]
        },
        {
          "output_type": "stream",
          "name": "stderr",
          "text": [
            "<ipython-input-2-6defbfa87029>:19: FutureWarning: 'T' is deprecated and will be removed in a future version, please use 'min' instead.\n",
            "  resampled_df = df.resample('5T').agg({\n"
          ]
        },
        {
          "output_type": "stream",
          "name": "stdout",
          "text": [
            "Processed and saved: 07082019.csv\n"
          ]
        },
        {
          "output_type": "stream",
          "name": "stderr",
          "text": [
            "<ipython-input-2-6defbfa87029>:19: FutureWarning: 'T' is deprecated and will be removed in a future version, please use 'min' instead.\n",
            "  resampled_df = df.resample('5T').agg({\n"
          ]
        },
        {
          "output_type": "stream",
          "name": "stdout",
          "text": [
            "Processed and saved: 13082019.csv\n"
          ]
        },
        {
          "output_type": "stream",
          "name": "stderr",
          "text": [
            "<ipython-input-2-6defbfa87029>:19: FutureWarning: 'T' is deprecated and will be removed in a future version, please use 'min' instead.\n",
            "  resampled_df = df.resample('5T').agg({\n"
          ]
        },
        {
          "output_type": "stream",
          "name": "stdout",
          "text": [
            "Processed and saved: 27082019.csv\n"
          ]
        },
        {
          "output_type": "stream",
          "name": "stderr",
          "text": [
            "<ipython-input-2-6defbfa87029>:19: FutureWarning: 'T' is deprecated and will be removed in a future version, please use 'min' instead.\n",
            "  resampled_df = df.resample('5T').agg({\n"
          ]
        },
        {
          "output_type": "stream",
          "name": "stdout",
          "text": [
            "Processed and saved: 21082019.csv\n"
          ]
        },
        {
          "output_type": "stream",
          "name": "stderr",
          "text": [
            "<ipython-input-2-6defbfa87029>:19: FutureWarning: 'T' is deprecated and will be removed in a future version, please use 'min' instead.\n",
            "  resampled_df = df.resample('5T').agg({\n"
          ]
        },
        {
          "output_type": "stream",
          "name": "stdout",
          "text": [
            "Processed and saved: 20082019.csv\n"
          ]
        },
        {
          "output_type": "stream",
          "name": "stderr",
          "text": [
            "<ipython-input-2-6defbfa87029>:19: FutureWarning: 'T' is deprecated and will be removed in a future version, please use 'min' instead.\n",
            "  resampled_df = df.resample('5T').agg({\n"
          ]
        },
        {
          "output_type": "stream",
          "name": "stdout",
          "text": [
            "Processed and saved: 26082019.csv\n"
          ]
        },
        {
          "output_type": "stream",
          "name": "stderr",
          "text": [
            "<ipython-input-2-6defbfa87029>:19: FutureWarning: 'T' is deprecated and will be removed in a future version, please use 'min' instead.\n",
            "  resampled_df = df.resample('5T').agg({\n"
          ]
        },
        {
          "output_type": "stream",
          "name": "stdout",
          "text": [
            "Processed and saved: 19082019.csv\n"
          ]
        },
        {
          "output_type": "stream",
          "name": "stderr",
          "text": [
            "<ipython-input-2-6defbfa87029>:19: FutureWarning: 'T' is deprecated and will be removed in a future version, please use 'min' instead.\n",
            "  resampled_df = df.resample('5T').agg({\n"
          ]
        },
        {
          "output_type": "stream",
          "name": "stdout",
          "text": [
            "Processed and saved: 12092019.csv\n"
          ]
        },
        {
          "output_type": "stream",
          "name": "stderr",
          "text": [
            "<ipython-input-2-6defbfa87029>:19: FutureWarning: 'T' is deprecated and will be removed in a future version, please use 'min' instead.\n",
            "  resampled_df = df.resample('5T').agg({\n"
          ]
        },
        {
          "output_type": "stream",
          "name": "stdout",
          "text": [
            "Processed and saved: 13092019.csv\n"
          ]
        },
        {
          "output_type": "stream",
          "name": "stderr",
          "text": [
            "<ipython-input-2-6defbfa87029>:19: FutureWarning: 'T' is deprecated and will be removed in a future version, please use 'min' instead.\n",
            "  resampled_df = df.resample('5T').agg({\n"
          ]
        },
        {
          "output_type": "stream",
          "name": "stdout",
          "text": [
            "Processed and saved: 06092019.csv\n"
          ]
        },
        {
          "output_type": "stream",
          "name": "stderr",
          "text": [
            "<ipython-input-2-6defbfa87029>:19: FutureWarning: 'T' is deprecated and will be removed in a future version, please use 'min' instead.\n",
            "  resampled_df = df.resample('5T').agg({\n"
          ]
        },
        {
          "output_type": "stream",
          "name": "stdout",
          "text": [
            "Processed and saved: 26092019.csv\n"
          ]
        },
        {
          "output_type": "stream",
          "name": "stderr",
          "text": [
            "<ipython-input-2-6defbfa87029>:19: FutureWarning: 'T' is deprecated and will be removed in a future version, please use 'min' instead.\n",
            "  resampled_df = df.resample('5T').agg({\n"
          ]
        },
        {
          "output_type": "stream",
          "name": "stdout",
          "text": [
            "Processed and saved: 27092019.csv\n"
          ]
        },
        {
          "output_type": "stream",
          "name": "stderr",
          "text": [
            "<ipython-input-2-6defbfa87029>:19: FutureWarning: 'T' is deprecated and will be removed in a future version, please use 'min' instead.\n",
            "  resampled_df = df.resample('5T').agg({\n"
          ]
        },
        {
          "output_type": "stream",
          "name": "stdout",
          "text": [
            "Processed and saved: 20092019.csv\n"
          ]
        },
        {
          "output_type": "stream",
          "name": "stderr",
          "text": [
            "<ipython-input-2-6defbfa87029>:19: FutureWarning: 'T' is deprecated and will be removed in a future version, please use 'min' instead.\n",
            "  resampled_df = df.resample('5T').agg({\n"
          ]
        },
        {
          "output_type": "stream",
          "name": "stdout",
          "text": [
            "Processed and saved: 18092019.csv\n"
          ]
        },
        {
          "output_type": "stream",
          "name": "stderr",
          "text": [
            "<ipython-input-2-6defbfa87029>:19: FutureWarning: 'T' is deprecated and will be removed in a future version, please use 'min' instead.\n",
            "  resampled_df = df.resample('5T').agg({\n"
          ]
        },
        {
          "output_type": "stream",
          "name": "stdout",
          "text": [
            "Processed and saved: 19092019.csv\n"
          ]
        },
        {
          "output_type": "stream",
          "name": "stderr",
          "text": [
            "<ipython-input-2-6defbfa87029>:19: FutureWarning: 'T' is deprecated and will be removed in a future version, please use 'min' instead.\n",
            "  resampled_df = df.resample('5T').agg({\n"
          ]
        },
        {
          "output_type": "stream",
          "name": "stdout",
          "text": [
            "Processed and saved: 07102019.csv\n"
          ]
        },
        {
          "output_type": "stream",
          "name": "stderr",
          "text": [
            "<ipython-input-2-6defbfa87029>:19: FutureWarning: 'T' is deprecated and will be removed in a future version, please use 'min' instead.\n",
            "  resampled_df = df.resample('5T').agg({\n"
          ]
        },
        {
          "output_type": "stream",
          "name": "stdout",
          "text": [
            "Processed and saved: 01102019.csv\n"
          ]
        },
        {
          "output_type": "stream",
          "name": "stderr",
          "text": [
            "<ipython-input-2-6defbfa87029>:19: FutureWarning: 'T' is deprecated and will be removed in a future version, please use 'min' instead.\n",
            "  resampled_df = df.resample('5T').agg({\n"
          ]
        },
        {
          "output_type": "stream",
          "name": "stdout",
          "text": [
            "Processed and saved: 14102019.csv\n"
          ]
        },
        {
          "output_type": "stream",
          "name": "stderr",
          "text": [
            "<ipython-input-2-6defbfa87029>:19: FutureWarning: 'T' is deprecated and will be removed in a future version, please use 'min' instead.\n",
            "  resampled_df = df.resample('5T').agg({\n"
          ]
        },
        {
          "output_type": "stream",
          "name": "stdout",
          "text": [
            "Processed and saved: 15102019.csv\n"
          ]
        },
        {
          "output_type": "stream",
          "name": "stderr",
          "text": [
            "<ipython-input-2-6defbfa87029>:19: FutureWarning: 'T' is deprecated and will be removed in a future version, please use 'min' instead.\n",
            "  resampled_df = df.resample('5T').agg({\n"
          ]
        },
        {
          "output_type": "stream",
          "name": "stdout",
          "text": [
            "Processed and saved: 01112019.csv\n"
          ]
        },
        {
          "output_type": "stream",
          "name": "stderr",
          "text": [
            "<ipython-input-2-6defbfa87029>:19: FutureWarning: 'T' is deprecated and will be removed in a future version, please use 'min' instead.\n",
            "  resampled_df = df.resample('5T').agg({\n"
          ]
        },
        {
          "output_type": "stream",
          "name": "stdout",
          "text": [
            "Processed and saved: 27102019.csv\n"
          ]
        },
        {
          "output_type": "stream",
          "name": "stderr",
          "text": [
            "<ipython-input-2-6defbfa87029>:19: FutureWarning: 'T' is deprecated and will be removed in a future version, please use 'min' instead.\n",
            "  resampled_df = df.resample('5T').agg({\n"
          ]
        },
        {
          "output_type": "stream",
          "name": "stdout",
          "text": [
            "Processed and saved: 06112019.csv\n"
          ]
        },
        {
          "output_type": "stream",
          "name": "stderr",
          "text": [
            "<ipython-input-2-6defbfa87029>:19: FutureWarning: 'T' is deprecated and will be removed in a future version, please use 'min' instead.\n",
            "  resampled_df = df.resample('5T').agg({\n"
          ]
        },
        {
          "output_type": "stream",
          "name": "stdout",
          "text": [
            "Processed and saved: 07112019.csv\n"
          ]
        },
        {
          "output_type": "stream",
          "name": "stderr",
          "text": [
            "<ipython-input-2-6defbfa87029>:19: FutureWarning: 'T' is deprecated and will be removed in a future version, please use 'min' instead.\n",
            "  resampled_df = df.resample('5T').agg({\n"
          ]
        },
        {
          "output_type": "stream",
          "name": "stdout",
          "text": [
            "Processed and saved: 15112019.csv\n"
          ]
        },
        {
          "output_type": "stream",
          "name": "stderr",
          "text": [
            "<ipython-input-2-6defbfa87029>:19: FutureWarning: 'T' is deprecated and will be removed in a future version, please use 'min' instead.\n",
            "  resampled_df = df.resample('5T').agg({\n"
          ]
        },
        {
          "output_type": "stream",
          "name": "stdout",
          "text": [
            "Processed and saved: 13112019.csv\n"
          ]
        },
        {
          "output_type": "stream",
          "name": "stderr",
          "text": [
            "<ipython-input-2-6defbfa87029>:19: FutureWarning: 'T' is deprecated and will be removed in a future version, please use 'min' instead.\n",
            "  resampled_df = df.resample('5T').agg({\n"
          ]
        },
        {
          "output_type": "stream",
          "name": "stdout",
          "text": [
            "Processed and saved: 19112019.csv\n"
          ]
        },
        {
          "output_type": "stream",
          "name": "stderr",
          "text": [
            "<ipython-input-2-6defbfa87029>:19: FutureWarning: 'T' is deprecated and will be removed in a future version, please use 'min' instead.\n",
            "  resampled_df = df.resample('5T').agg({\n"
          ]
        },
        {
          "output_type": "stream",
          "name": "stdout",
          "text": [
            "Processed and saved: 14112019.csv\n"
          ]
        },
        {
          "output_type": "stream",
          "name": "stderr",
          "text": [
            "<ipython-input-2-6defbfa87029>:19: FutureWarning: 'T' is deprecated and will be removed in a future version, please use 'min' instead.\n",
            "  resampled_df = df.resample('5T').agg({\n"
          ]
        },
        {
          "output_type": "stream",
          "name": "stdout",
          "text": [
            "Processed and saved: 21112019.csv\n"
          ]
        },
        {
          "output_type": "stream",
          "name": "stderr",
          "text": [
            "<ipython-input-2-6defbfa87029>:19: FutureWarning: 'T' is deprecated and will be removed in a future version, please use 'min' instead.\n",
            "  resampled_df = df.resample('5T').agg({\n"
          ]
        },
        {
          "output_type": "stream",
          "name": "stdout",
          "text": [
            "Processed and saved: 18112019.csv\n"
          ]
        },
        {
          "output_type": "stream",
          "name": "stderr",
          "text": [
            "<ipython-input-2-6defbfa87029>:19: FutureWarning: 'T' is deprecated and will be removed in a future version, please use 'min' instead.\n",
            "  resampled_df = df.resample('5T').agg({\n"
          ]
        },
        {
          "output_type": "stream",
          "name": "stdout",
          "text": [
            "Processed and saved: 20112019.csv\n"
          ]
        },
        {
          "output_type": "stream",
          "name": "stderr",
          "text": [
            "<ipython-input-2-6defbfa87029>:19: FutureWarning: 'T' is deprecated and will be removed in a future version, please use 'min' instead.\n",
            "  resampled_df = df.resample('5T').agg({\n"
          ]
        },
        {
          "output_type": "stream",
          "name": "stdout",
          "text": [
            "Processed and saved: 06122019.csv\n"
          ]
        },
        {
          "output_type": "stream",
          "name": "stderr",
          "text": [
            "<ipython-input-2-6defbfa87029>:19: FutureWarning: 'T' is deprecated and will be removed in a future version, please use 'min' instead.\n",
            "  resampled_df = df.resample('5T').agg({\n"
          ]
        },
        {
          "output_type": "stream",
          "name": "stdout",
          "text": [
            "Processed and saved: 27112019.csv\n"
          ]
        },
        {
          "output_type": "stream",
          "name": "stderr",
          "text": [
            "<ipython-input-2-6defbfa87029>:19: FutureWarning: 'T' is deprecated and will be removed in a future version, please use 'min' instead.\n",
            "  resampled_df = df.resample('5T').agg({\n"
          ]
        },
        {
          "output_type": "stream",
          "name": "stdout",
          "text": [
            "Processed and saved: 19122019.csv\n"
          ]
        },
        {
          "output_type": "stream",
          "name": "stderr",
          "text": [
            "<ipython-input-2-6defbfa87029>:19: FutureWarning: 'T' is deprecated and will be removed in a future version, please use 'min' instead.\n",
            "  resampled_df = df.resample('5T').agg({\n"
          ]
        },
        {
          "output_type": "stream",
          "name": "stdout",
          "text": [
            "Processed and saved: 13122019.csv\n"
          ]
        },
        {
          "output_type": "stream",
          "name": "stderr",
          "text": [
            "<ipython-input-2-6defbfa87029>:19: FutureWarning: 'T' is deprecated and will be removed in a future version, please use 'min' instead.\n",
            "  resampled_df = df.resample('5T').agg({\n"
          ]
        },
        {
          "output_type": "stream",
          "name": "stdout",
          "text": [
            "Processed and saved: 20122019.csv\n"
          ]
        },
        {
          "output_type": "stream",
          "name": "stderr",
          "text": [
            "<ipython-input-2-6defbfa87029>:19: FutureWarning: 'T' is deprecated and will be removed in a future version, please use 'min' instead.\n",
            "  resampled_df = df.resample('5T').agg({\n"
          ]
        },
        {
          "output_type": "stream",
          "name": "stdout",
          "text": [
            "Processed and saved: 18122019.csv\n"
          ]
        },
        {
          "output_type": "stream",
          "name": "stderr",
          "text": [
            "<ipython-input-2-6defbfa87029>:19: FutureWarning: 'T' is deprecated and will be removed in a future version, please use 'min' instead.\n",
            "  resampled_df = df.resample('5T').agg({\n"
          ]
        },
        {
          "output_type": "stream",
          "name": "stdout",
          "text": [
            "Processed and saved: 12122019.csv\n"
          ]
        },
        {
          "output_type": "stream",
          "name": "stderr",
          "text": [
            "<ipython-input-2-6defbfa87029>:19: FutureWarning: 'T' is deprecated and will be removed in a future version, please use 'min' instead.\n",
            "  resampled_df = df.resample('5T').agg({\n"
          ]
        },
        {
          "output_type": "stream",
          "name": "stdout",
          "text": [
            "Processed and saved: 06012020.csv\n"
          ]
        },
        {
          "output_type": "stream",
          "name": "stderr",
          "text": [
            "<ipython-input-2-6defbfa87029>:19: FutureWarning: 'T' is deprecated and will be removed in a future version, please use 'min' instead.\n",
            "  resampled_df = df.resample('5T').agg({\n"
          ]
        },
        {
          "output_type": "stream",
          "name": "stdout",
          "text": [
            "Processed and saved: 26122019.csv\n"
          ]
        },
        {
          "output_type": "stream",
          "name": "stderr",
          "text": [
            "<ipython-input-2-6defbfa87029>:19: FutureWarning: 'T' is deprecated and will be removed in a future version, please use 'min' instead.\n",
            "  resampled_df = df.resample('5T').agg({\n"
          ]
        },
        {
          "output_type": "stream",
          "name": "stdout",
          "text": [
            "Processed and saved: 27122019.csv\n"
          ]
        },
        {
          "output_type": "stream",
          "name": "stderr",
          "text": [
            "<ipython-input-2-6defbfa87029>:19: FutureWarning: 'T' is deprecated and will be removed in a future version, please use 'min' instead.\n",
            "  resampled_df = df.resample('5T').agg({\n"
          ]
        },
        {
          "output_type": "stream",
          "name": "stdout",
          "text": [
            "Processed and saved: 07012020.csv\n"
          ]
        },
        {
          "output_type": "stream",
          "name": "stderr",
          "text": [
            "<ipython-input-2-6defbfa87029>:19: FutureWarning: 'T' is deprecated and will be removed in a future version, please use 'min' instead.\n",
            "  resampled_df = df.resample('5T').agg({\n"
          ]
        },
        {
          "output_type": "stream",
          "name": "stdout",
          "text": [
            "Processed and saved: 01012020.csv\n"
          ]
        },
        {
          "output_type": "stream",
          "name": "stderr",
          "text": [
            "<ipython-input-2-6defbfa87029>:19: FutureWarning: 'T' is deprecated and will be removed in a future version, please use 'min' instead.\n",
            "  resampled_df = df.resample('5T').agg({\n"
          ]
        },
        {
          "output_type": "stream",
          "name": "stdout",
          "text": [
            "Processed and saved: 13012020.csv\n"
          ]
        },
        {
          "output_type": "stream",
          "name": "stderr",
          "text": [
            "<ipython-input-2-6defbfa87029>:19: FutureWarning: 'T' is deprecated and will be removed in a future version, please use 'min' instead.\n",
            "  resampled_df = df.resample('5T').agg({\n"
          ]
        },
        {
          "output_type": "stream",
          "name": "stdout",
          "text": [
            "Processed and saved: 14012020.csv\n"
          ]
        },
        {
          "output_type": "stream",
          "name": "stderr",
          "text": [
            "<ipython-input-2-6defbfa87029>:19: FutureWarning: 'T' is deprecated and will be removed in a future version, please use 'min' instead.\n",
            "  resampled_df = df.resample('5T').agg({\n"
          ]
        },
        {
          "output_type": "stream",
          "name": "stdout",
          "text": [
            "Processed and saved: 15012020.csv\n"
          ]
        },
        {
          "output_type": "stream",
          "name": "stderr",
          "text": [
            "<ipython-input-2-6defbfa87029>:19: FutureWarning: 'T' is deprecated and will be removed in a future version, please use 'min' instead.\n",
            "  resampled_df = df.resample('5T').agg({\n"
          ]
        },
        {
          "output_type": "stream",
          "name": "stdout",
          "text": [
            "Processed and saved: 21012020.csv\n"
          ]
        },
        {
          "output_type": "stream",
          "name": "stderr",
          "text": [
            "<ipython-input-2-6defbfa87029>:19: FutureWarning: 'T' is deprecated and will be removed in a future version, please use 'min' instead.\n",
            "  resampled_df = df.resample('5T').agg({\n"
          ]
        },
        {
          "output_type": "stream",
          "name": "stdout",
          "text": [
            "Processed and saved: 20012020.csv\n"
          ]
        },
        {
          "output_type": "stream",
          "name": "stderr",
          "text": [
            "<ipython-input-2-6defbfa87029>:19: FutureWarning: 'T' is deprecated and will be removed in a future version, please use 'min' instead.\n",
            "  resampled_df = df.resample('5T').agg({\n"
          ]
        },
        {
          "output_type": "stream",
          "name": "stdout",
          "text": [
            "Processed and saved: 01022020.csv\n"
          ]
        },
        {
          "output_type": "stream",
          "name": "stderr",
          "text": [
            "<ipython-input-2-6defbfa87029>:19: FutureWarning: 'T' is deprecated and will be removed in a future version, please use 'min' instead.\n",
            "  resampled_df = df.resample('5T').agg({\n"
          ]
        },
        {
          "output_type": "stream",
          "name": "stdout",
          "text": [
            "Processed and saved: 27012020.csv\n"
          ]
        },
        {
          "output_type": "stream",
          "name": "stderr",
          "text": [
            "<ipython-input-2-6defbfa87029>:19: FutureWarning: 'T' is deprecated and will be removed in a future version, please use 'min' instead.\n",
            "  resampled_df = df.resample('5T').agg({\n"
          ]
        },
        {
          "output_type": "stream",
          "name": "stdout",
          "text": [
            "Processed and saved: 12022020.csv\n"
          ]
        },
        {
          "output_type": "stream",
          "name": "stderr",
          "text": [
            "<ipython-input-2-6defbfa87029>:19: FutureWarning: 'T' is deprecated and will be removed in a future version, please use 'min' instead.\n",
            "  resampled_df = df.resample('5T').agg({\n"
          ]
        },
        {
          "output_type": "stream",
          "name": "stdout",
          "text": [
            "Processed and saved: 13022020.csv\n"
          ]
        },
        {
          "output_type": "stream",
          "name": "stderr",
          "text": [
            "<ipython-input-2-6defbfa87029>:19: FutureWarning: 'T' is deprecated and will be removed in a future version, please use 'min' instead.\n",
            "  resampled_df = df.resample('5T').agg({\n"
          ]
        },
        {
          "output_type": "stream",
          "name": "stdout",
          "text": [
            "Processed and saved: 06022020.csv\n"
          ]
        },
        {
          "output_type": "stream",
          "name": "stderr",
          "text": [
            "<ipython-input-2-6defbfa87029>:19: FutureWarning: 'T' is deprecated and will be removed in a future version, please use 'min' instead.\n",
            "  resampled_df = df.resample('5T').agg({\n"
          ]
        },
        {
          "output_type": "stream",
          "name": "stdout",
          "text": [
            "Processed and saved: 07022020.csv\n"
          ]
        },
        {
          "output_type": "stream",
          "name": "stderr",
          "text": [
            "<ipython-input-2-6defbfa87029>:19: FutureWarning: 'T' is deprecated and will be removed in a future version, please use 'min' instead.\n",
            "  resampled_df = df.resample('5T').agg({\n"
          ]
        },
        {
          "output_type": "stream",
          "name": "stdout",
          "text": [
            "Processed and saved: 18022020.csv\n"
          ]
        },
        {
          "output_type": "stream",
          "name": "stderr",
          "text": [
            "<ipython-input-2-6defbfa87029>:19: FutureWarning: 'T' is deprecated and will be removed in a future version, please use 'min' instead.\n",
            "  resampled_df = df.resample('5T').agg({\n"
          ]
        },
        {
          "output_type": "stream",
          "name": "stdout",
          "text": [
            "Processed and saved: 26022020.csv\n"
          ]
        },
        {
          "output_type": "stream",
          "name": "stderr",
          "text": [
            "<ipython-input-2-6defbfa87029>:19: FutureWarning: 'T' is deprecated and will be removed in a future version, please use 'min' instead.\n",
            "  resampled_df = df.resample('5T').agg({\n"
          ]
        },
        {
          "output_type": "stream",
          "name": "stdout",
          "text": [
            "Processed and saved: 19022020.csv\n"
          ]
        },
        {
          "output_type": "stream",
          "name": "stderr",
          "text": [
            "<ipython-input-2-6defbfa87029>:19: FutureWarning: 'T' is deprecated and will be removed in a future version, please use 'min' instead.\n",
            "  resampled_df = df.resample('5T').agg({\n"
          ]
        },
        {
          "output_type": "stream",
          "name": "stdout",
          "text": [
            "Processed and saved: 20022020.csv\n"
          ]
        },
        {
          "output_type": "stream",
          "name": "stderr",
          "text": [
            "<ipython-input-2-6defbfa87029>:19: FutureWarning: 'T' is deprecated and will be removed in a future version, please use 'min' instead.\n",
            "  resampled_df = df.resample('5T').agg({\n"
          ]
        },
        {
          "output_type": "stream",
          "name": "stdout",
          "text": [
            "Processed and saved: 27022020.csv\n"
          ]
        },
        {
          "output_type": "stream",
          "name": "stderr",
          "text": [
            "<ipython-input-2-6defbfa87029>:19: FutureWarning: 'T' is deprecated and will be removed in a future version, please use 'min' instead.\n",
            "  resampled_df = df.resample('5T').agg({\n"
          ]
        },
        {
          "output_type": "stream",
          "name": "stdout",
          "text": [
            "Processed and saved: 13032020.csv\n"
          ]
        },
        {
          "output_type": "stream",
          "name": "stderr",
          "text": [
            "<ipython-input-2-6defbfa87029>:19: FutureWarning: 'T' is deprecated and will be removed in a future version, please use 'min' instead.\n",
            "  resampled_df = df.resample('5T').agg({\n"
          ]
        },
        {
          "output_type": "stream",
          "name": "stdout",
          "text": [
            "Processed and saved: 06032020.csv\n"
          ]
        },
        {
          "output_type": "stream",
          "name": "stderr",
          "text": [
            "<ipython-input-2-6defbfa87029>:19: FutureWarning: 'T' is deprecated and will be removed in a future version, please use 'min' instead.\n",
            "  resampled_df = df.resample('5T').agg({\n"
          ]
        },
        {
          "output_type": "stream",
          "name": "stdout",
          "text": [
            "Processed and saved: 12032020.csv\n"
          ]
        },
        {
          "output_type": "stream",
          "name": "stderr",
          "text": [
            "<ipython-input-2-6defbfa87029>:19: FutureWarning: 'T' is deprecated and will be removed in a future version, please use 'min' instead.\n",
            "  resampled_df = df.resample('5T').agg({\n"
          ]
        },
        {
          "output_type": "stream",
          "name": "stdout",
          "text": [
            "Processed and saved: 20032020.csv\n"
          ]
        },
        {
          "output_type": "stream",
          "name": "stderr",
          "text": [
            "<ipython-input-2-6defbfa87029>:19: FutureWarning: 'T' is deprecated and will be removed in a future version, please use 'min' instead.\n",
            "  resampled_df = df.resample('5T').agg({\n"
          ]
        },
        {
          "output_type": "stream",
          "name": "stdout",
          "text": [
            "Processed and saved: 19032020.csv\n"
          ]
        },
        {
          "output_type": "stream",
          "name": "stderr",
          "text": [
            "<ipython-input-2-6defbfa87029>:19: FutureWarning: 'T' is deprecated and will be removed in a future version, please use 'min' instead.\n",
            "  resampled_df = df.resample('5T').agg({\n"
          ]
        },
        {
          "output_type": "stream",
          "name": "stdout",
          "text": [
            "Processed and saved: 18032020.csv\n"
          ]
        },
        {
          "output_type": "stream",
          "name": "stderr",
          "text": [
            "<ipython-input-2-6defbfa87029>:19: FutureWarning: 'T' is deprecated and will be removed in a future version, please use 'min' instead.\n",
            "  resampled_df = df.resample('5T').agg({\n"
          ]
        },
        {
          "output_type": "stream",
          "name": "stdout",
          "text": [
            "Processed and saved: 27032020.csv\n"
          ]
        },
        {
          "output_type": "stream",
          "name": "stderr",
          "text": [
            "<ipython-input-2-6defbfa87029>:19: FutureWarning: 'T' is deprecated and will be removed in a future version, please use 'min' instead.\n",
            "  resampled_df = df.resample('5T').agg({\n"
          ]
        },
        {
          "output_type": "stream",
          "name": "stdout",
          "text": [
            "Processed and saved: 26032020.csv\n"
          ]
        },
        {
          "output_type": "stream",
          "name": "stderr",
          "text": [
            "<ipython-input-2-6defbfa87029>:19: FutureWarning: 'T' is deprecated and will be removed in a future version, please use 'min' instead.\n",
            "  resampled_df = df.resample('5T').agg({\n"
          ]
        },
        {
          "output_type": "stream",
          "name": "stdout",
          "text": [
            "Processed and saved: 03042020.csv\n"
          ]
        },
        {
          "output_type": "stream",
          "name": "stderr",
          "text": [
            "<ipython-input-2-6defbfa87029>:19: FutureWarning: 'T' is deprecated and will be removed in a future version, please use 'min' instead.\n",
            "  resampled_df = df.resample('5T').agg({\n"
          ]
        },
        {
          "output_type": "stream",
          "name": "stdout",
          "text": [
            "Processed and saved: 09042020.csv\n"
          ]
        },
        {
          "output_type": "stream",
          "name": "stderr",
          "text": [
            "<ipython-input-2-6defbfa87029>:19: FutureWarning: 'T' is deprecated and will be removed in a future version, please use 'min' instead.\n",
            "  resampled_df = df.resample('5T').agg({\n"
          ]
        },
        {
          "output_type": "stream",
          "name": "stdout",
          "text": [
            "Processed and saved: 16042020.csv\n"
          ]
        },
        {
          "output_type": "stream",
          "name": "stderr",
          "text": [
            "<ipython-input-2-6defbfa87029>:19: FutureWarning: 'T' is deprecated and will be removed in a future version, please use 'min' instead.\n",
            "  resampled_df = df.resample('5T').agg({\n"
          ]
        },
        {
          "output_type": "stream",
          "name": "stdout",
          "text": [
            "Processed and saved: 17042020.csv\n"
          ]
        },
        {
          "output_type": "stream",
          "name": "stderr",
          "text": [
            "<ipython-input-2-6defbfa87029>:19: FutureWarning: 'T' is deprecated and will be removed in a future version, please use 'min' instead.\n",
            "  resampled_df = df.resample('5T').agg({\n"
          ]
        },
        {
          "output_type": "stream",
          "name": "stdout",
          "text": [
            "Processed and saved: 08042020.csv\n"
          ]
        },
        {
          "output_type": "stream",
          "name": "stderr",
          "text": [
            "<ipython-input-2-6defbfa87029>:19: FutureWarning: 'T' is deprecated and will be removed in a future version, please use 'min' instead.\n",
            "  resampled_df = df.resample('5T').agg({\n"
          ]
        },
        {
          "output_type": "stream",
          "name": "stdout",
          "text": [
            "Processed and saved: 29042020.csv\n"
          ]
        },
        {
          "output_type": "stream",
          "name": "stderr",
          "text": [
            "<ipython-input-2-6defbfa87029>:19: FutureWarning: 'T' is deprecated and will be removed in a future version, please use 'min' instead.\n",
            "  resampled_df = df.resample('5T').agg({\n"
          ]
        },
        {
          "output_type": "stream",
          "name": "stdout",
          "text": [
            "Processed and saved: 28042020.csv\n"
          ]
        },
        {
          "output_type": "stream",
          "name": "stderr",
          "text": [
            "<ipython-input-2-6defbfa87029>:19: FutureWarning: 'T' is deprecated and will be removed in a future version, please use 'min' instead.\n",
            "  resampled_df = df.resample('5T').agg({\n"
          ]
        },
        {
          "output_type": "stream",
          "name": "stdout",
          "text": [
            "Processed and saved: 22042020.csv\n"
          ]
        },
        {
          "output_type": "stream",
          "name": "stderr",
          "text": [
            "<ipython-input-2-6defbfa87029>:19: FutureWarning: 'T' is deprecated and will be removed in a future version, please use 'min' instead.\n",
            "  resampled_df = df.resample('5T').agg({\n"
          ]
        },
        {
          "output_type": "stream",
          "name": "stdout",
          "text": [
            "Processed and saved: 30042020.csv\n"
          ]
        },
        {
          "output_type": "stream",
          "name": "stderr",
          "text": [
            "<ipython-input-2-6defbfa87029>:19: FutureWarning: 'T' is deprecated and will be removed in a future version, please use 'min' instead.\n",
            "  resampled_df = df.resample('5T').agg({\n"
          ]
        },
        {
          "output_type": "stream",
          "name": "stdout",
          "text": [
            "Processed and saved: 23042020.csv\n"
          ]
        },
        {
          "output_type": "stream",
          "name": "stderr",
          "text": [
            "<ipython-input-2-6defbfa87029>:19: FutureWarning: 'T' is deprecated and will be removed in a future version, please use 'min' instead.\n",
            "  resampled_df = df.resample('5T').agg({\n"
          ]
        },
        {
          "output_type": "stream",
          "name": "stdout",
          "text": [
            "Processed and saved: 24042020.csv\n"
          ]
        },
        {
          "output_type": "stream",
          "name": "stderr",
          "text": [
            "<ipython-input-2-6defbfa87029>:19: FutureWarning: 'T' is deprecated and will be removed in a future version, please use 'min' instead.\n",
            "  resampled_df = df.resample('5T').agg({\n"
          ]
        },
        {
          "output_type": "stream",
          "name": "stdout",
          "text": [
            "Processed and saved: 04052020.csv\n"
          ]
        },
        {
          "output_type": "stream",
          "name": "stderr",
          "text": [
            "<ipython-input-2-6defbfa87029>:19: FutureWarning: 'T' is deprecated and will be removed in a future version, please use 'min' instead.\n",
            "  resampled_df = df.resample('5T').agg({\n"
          ]
        },
        {
          "output_type": "stream",
          "name": "stdout",
          "text": [
            "Processed and saved: 05052020.csv\n"
          ]
        },
        {
          "output_type": "stream",
          "name": "stderr",
          "text": [
            "<ipython-input-2-6defbfa87029>:19: FutureWarning: 'T' is deprecated and will be removed in a future version, please use 'min' instead.\n",
            "  resampled_df = df.resample('5T').agg({\n"
          ]
        },
        {
          "output_type": "stream",
          "name": "stdout",
          "text": [
            "Processed and saved: 11052020.csv\n"
          ]
        },
        {
          "output_type": "stream",
          "name": "stderr",
          "text": [
            "<ipython-input-2-6defbfa87029>:19: FutureWarning: 'T' is deprecated and will be removed in a future version, please use 'min' instead.\n",
            "  resampled_df = df.resample('5T').agg({\n"
          ]
        },
        {
          "output_type": "stream",
          "name": "stdout",
          "text": [
            "Processed and saved: 08052020.csv\n"
          ]
        },
        {
          "output_type": "stream",
          "name": "stderr",
          "text": [
            "<ipython-input-2-6defbfa87029>:19: FutureWarning: 'T' is deprecated and will be removed in a future version, please use 'min' instead.\n",
            "  resampled_df = df.resample('5T').agg({\n"
          ]
        },
        {
          "output_type": "stream",
          "name": "stdout",
          "text": [
            "Processed and saved: 02062020.csv\n"
          ]
        },
        {
          "output_type": "stream",
          "name": "stderr",
          "text": [
            "<ipython-input-2-6defbfa87029>:19: FutureWarning: 'T' is deprecated and will be removed in a future version, please use 'min' instead.\n",
            "  resampled_df = df.resample('5T').agg({\n"
          ]
        },
        {
          "output_type": "stream",
          "name": "stdout",
          "text": [
            "Processed and saved: 28052020.csv\n"
          ]
        },
        {
          "output_type": "stream",
          "name": "stderr",
          "text": [
            "<ipython-input-2-6defbfa87029>:19: FutureWarning: 'T' is deprecated and will be removed in a future version, please use 'min' instead.\n",
            "  resampled_df = df.resample('5T').agg({\n"
          ]
        },
        {
          "output_type": "stream",
          "name": "stdout",
          "text": [
            "Processed and saved: 22052020.csv\n"
          ]
        },
        {
          "output_type": "stream",
          "name": "stderr",
          "text": [
            "<ipython-input-2-6defbfa87029>:19: FutureWarning: 'T' is deprecated and will be removed in a future version, please use 'min' instead.\n",
            "  resampled_df = df.resample('5T').agg({\n"
          ]
        },
        {
          "output_type": "stream",
          "name": "stdout",
          "text": [
            "Processed and saved: 29052020.csv\n"
          ]
        },
        {
          "output_type": "stream",
          "name": "stderr",
          "text": [
            "<ipython-input-2-6defbfa87029>:19: FutureWarning: 'T' is deprecated and will be removed in a future version, please use 'min' instead.\n",
            "  resampled_df = df.resample('5T').agg({\n"
          ]
        },
        {
          "output_type": "stream",
          "name": "stdout",
          "text": [
            "Processed and saved: 10062020.csv\n"
          ]
        },
        {
          "output_type": "stream",
          "name": "stderr",
          "text": [
            "<ipython-input-2-6defbfa87029>:19: FutureWarning: 'T' is deprecated and will be removed in a future version, please use 'min' instead.\n",
            "  resampled_df = df.resample('5T').agg({\n"
          ]
        },
        {
          "output_type": "stream",
          "name": "stdout",
          "text": [
            "Processed and saved: 05062020.csv\n"
          ]
        },
        {
          "output_type": "stream",
          "name": "stderr",
          "text": [
            "<ipython-input-2-6defbfa87029>:19: FutureWarning: 'T' is deprecated and will be removed in a future version, please use 'min' instead.\n",
            "  resampled_df = df.resample('5T').agg({\n"
          ]
        },
        {
          "output_type": "stream",
          "name": "stdout",
          "text": [
            "Processed and saved: 08062020.csv\n"
          ]
        },
        {
          "output_type": "stream",
          "name": "stderr",
          "text": [
            "<ipython-input-2-6defbfa87029>:19: FutureWarning: 'T' is deprecated and will be removed in a future version, please use 'min' instead.\n",
            "  resampled_df = df.resample('5T').agg({\n"
          ]
        },
        {
          "output_type": "stream",
          "name": "stdout",
          "text": [
            "Processed and saved: 09062020.csv\n"
          ]
        },
        {
          "output_type": "stream",
          "name": "stderr",
          "text": [
            "<ipython-input-2-6defbfa87029>:19: FutureWarning: 'T' is deprecated and will be removed in a future version, please use 'min' instead.\n",
            "  resampled_df = df.resample('5T').agg({\n"
          ]
        },
        {
          "output_type": "stream",
          "name": "stdout",
          "text": [
            "Processed and saved: 11062020.csv\n"
          ]
        },
        {
          "output_type": "stream",
          "name": "stderr",
          "text": [
            "<ipython-input-2-6defbfa87029>:19: FutureWarning: 'T' is deprecated and will be removed in a future version, please use 'min' instead.\n",
            "  resampled_df = df.resample('5T').agg({\n"
          ]
        },
        {
          "output_type": "stream",
          "name": "stdout",
          "text": [
            "Processed and saved: 04062020.csv\n"
          ]
        },
        {
          "output_type": "stream",
          "name": "stderr",
          "text": [
            "<ipython-input-2-6defbfa87029>:19: FutureWarning: 'T' is deprecated and will be removed in a future version, please use 'min' instead.\n",
            "  resampled_df = df.resample('5T').agg({\n"
          ]
        },
        {
          "output_type": "stream",
          "name": "stdout",
          "text": [
            "Processed and saved: 23062020.csv\n"
          ]
        },
        {
          "output_type": "stream",
          "name": "stderr",
          "text": [
            "<ipython-input-2-6defbfa87029>:19: FutureWarning: 'T' is deprecated and will be removed in a future version, please use 'min' instead.\n",
            "  resampled_df = df.resample('5T').agg({\n"
          ]
        },
        {
          "output_type": "stream",
          "name": "stdout",
          "text": [
            "Processed and saved: 22062020.csv\n"
          ]
        },
        {
          "output_type": "stream",
          "name": "stderr",
          "text": [
            "<ipython-input-2-6defbfa87029>:19: FutureWarning: 'T' is deprecated and will be removed in a future version, please use 'min' instead.\n",
            "  resampled_df = df.resample('5T').agg({\n"
          ]
        },
        {
          "output_type": "stream",
          "name": "stdout",
          "text": [
            "Processed and saved: 16062020.csv\n"
          ]
        },
        {
          "output_type": "stream",
          "name": "stderr",
          "text": [
            "<ipython-input-2-6defbfa87029>:19: FutureWarning: 'T' is deprecated and will be removed in a future version, please use 'min' instead.\n",
            "  resampled_df = df.resample('5T').agg({\n"
          ]
        },
        {
          "output_type": "stream",
          "name": "stdout",
          "text": [
            "Processed and saved: 30062020.csv\n"
          ]
        },
        {
          "output_type": "stream",
          "name": "stderr",
          "text": [
            "<ipython-input-2-6defbfa87029>:19: FutureWarning: 'T' is deprecated and will be removed in a future version, please use 'min' instead.\n",
            "  resampled_df = df.resample('5T').agg({\n"
          ]
        },
        {
          "output_type": "stream",
          "name": "stdout",
          "text": [
            "Processed and saved: 25062020.csv\n"
          ]
        },
        {
          "output_type": "stream",
          "name": "stderr",
          "text": [
            "<ipython-input-2-6defbfa87029>:19: FutureWarning: 'T' is deprecated and will be removed in a future version, please use 'min' instead.\n",
            "  resampled_df = df.resample('5T').agg({\n"
          ]
        },
        {
          "output_type": "stream",
          "name": "stdout",
          "text": [
            "Processed and saved: 24062020.csv\n"
          ]
        },
        {
          "output_type": "stream",
          "name": "stderr",
          "text": [
            "<ipython-input-2-6defbfa87029>:19: FutureWarning: 'T' is deprecated and will be removed in a future version, please use 'min' instead.\n",
            "  resampled_df = df.resample('5T').agg({\n"
          ]
        },
        {
          "output_type": "stream",
          "name": "stdout",
          "text": [
            "Processed and saved: 29062020.csv\n"
          ]
        },
        {
          "output_type": "stream",
          "name": "stderr",
          "text": [
            "<ipython-input-2-6defbfa87029>:19: FutureWarning: 'T' is deprecated and will be removed in a future version, please use 'min' instead.\n",
            "  resampled_df = df.resample('5T').agg({\n"
          ]
        },
        {
          "output_type": "stream",
          "name": "stdout",
          "text": [
            "Processed and saved: 02072020.csv\n"
          ]
        },
        {
          "output_type": "stream",
          "name": "stderr",
          "text": [
            "<ipython-input-2-6defbfa87029>:19: FutureWarning: 'T' is deprecated and will be removed in a future version, please use 'min' instead.\n",
            "  resampled_df = df.resample('5T').agg({\n"
          ]
        },
        {
          "output_type": "stream",
          "name": "stdout",
          "text": [
            "Processed and saved: 08072020.csv\n"
          ]
        },
        {
          "output_type": "stream",
          "name": "stderr",
          "text": [
            "<ipython-input-2-6defbfa87029>:19: FutureWarning: 'T' is deprecated and will be removed in a future version, please use 'min' instead.\n",
            "  resampled_df = df.resample('5T').agg({\n"
          ]
        },
        {
          "output_type": "stream",
          "name": "stdout",
          "text": [
            "Processed and saved: 10072020.csv\n"
          ]
        },
        {
          "output_type": "stream",
          "name": "stderr",
          "text": [
            "<ipython-input-2-6defbfa87029>:19: FutureWarning: 'T' is deprecated and will be removed in a future version, please use 'min' instead.\n",
            "  resampled_df = df.resample('5T').agg({\n"
          ]
        },
        {
          "output_type": "stream",
          "name": "stdout",
          "text": [
            "Processed and saved: 03072020.csv\n"
          ]
        },
        {
          "output_type": "stream",
          "name": "stderr",
          "text": [
            "<ipython-input-2-6defbfa87029>:19: FutureWarning: 'T' is deprecated and will be removed in a future version, please use 'min' instead.\n",
            "  resampled_df = df.resample('5T').agg({\n"
          ]
        },
        {
          "output_type": "stream",
          "name": "stdout",
          "text": [
            "Processed and saved: 09072020.csv\n"
          ]
        },
        {
          "output_type": "stream",
          "name": "stderr",
          "text": [
            "<ipython-input-2-6defbfa87029>:19: FutureWarning: 'T' is deprecated and will be removed in a future version, please use 'min' instead.\n",
            "  resampled_df = df.resample('5T').agg({\n"
          ]
        },
        {
          "output_type": "stream",
          "name": "stdout",
          "text": [
            "Processed and saved: 16072020.csv\n"
          ]
        },
        {
          "output_type": "stream",
          "name": "stderr",
          "text": [
            "<ipython-input-2-6defbfa87029>:19: FutureWarning: 'T' is deprecated and will be removed in a future version, please use 'min' instead.\n",
            "  resampled_df = df.resample('5T').agg({\n"
          ]
        },
        {
          "output_type": "stream",
          "name": "stdout",
          "text": [
            "Processed and saved: 17072020.csv\n"
          ]
        },
        {
          "output_type": "stream",
          "name": "stderr",
          "text": [
            "<ipython-input-2-6defbfa87029>:19: FutureWarning: 'T' is deprecated and will be removed in a future version, please use 'min' instead.\n",
            "  resampled_df = df.resample('5T').agg({\n"
          ]
        },
        {
          "output_type": "stream",
          "name": "stdout",
          "text": [
            "Processed and saved: 30072020.csv\n"
          ]
        },
        {
          "output_type": "stream",
          "name": "stderr",
          "text": [
            "<ipython-input-2-6defbfa87029>:19: FutureWarning: 'T' is deprecated and will be removed in a future version, please use 'min' instead.\n",
            "  resampled_df = df.resample('5T').agg({\n"
          ]
        },
        {
          "output_type": "stream",
          "name": "stdout",
          "text": [
            "Processed and saved: 23072020.csv\n"
          ]
        },
        {
          "output_type": "stream",
          "name": "stderr",
          "text": [
            "<ipython-input-2-6defbfa87029>:19: FutureWarning: 'T' is deprecated and will be removed in a future version, please use 'min' instead.\n",
            "  resampled_df = df.resample('5T').agg({\n"
          ]
        },
        {
          "output_type": "stream",
          "name": "stdout",
          "text": [
            "Processed and saved: 22072020.csv\n"
          ]
        },
        {
          "output_type": "stream",
          "name": "stderr",
          "text": [
            "<ipython-input-2-6defbfa87029>:19: FutureWarning: 'T' is deprecated and will be removed in a future version, please use 'min' instead.\n",
            "  resampled_df = df.resample('5T').agg({\n"
          ]
        },
        {
          "output_type": "stream",
          "name": "stdout",
          "text": [
            "Processed and saved: 24072020.csv\n"
          ]
        },
        {
          "output_type": "stream",
          "name": "stderr",
          "text": [
            "<ipython-input-2-6defbfa87029>:19: FutureWarning: 'T' is deprecated and will be removed in a future version, please use 'min' instead.\n",
            "  resampled_df = df.resample('5T').agg({\n"
          ]
        },
        {
          "output_type": "stream",
          "name": "stdout",
          "text": [
            "Processed and saved: 28072020.csv\n"
          ]
        },
        {
          "output_type": "stream",
          "name": "stderr",
          "text": [
            "<ipython-input-2-6defbfa87029>:19: FutureWarning: 'T' is deprecated and will be removed in a future version, please use 'min' instead.\n",
            "  resampled_df = df.resample('5T').agg({\n"
          ]
        },
        {
          "output_type": "stream",
          "name": "stdout",
          "text": [
            "Processed and saved: 06082020.csv\n"
          ]
        },
        {
          "output_type": "stream",
          "name": "stderr",
          "text": [
            "<ipython-input-2-6defbfa87029>:19: FutureWarning: 'T' is deprecated and will be removed in a future version, please use 'min' instead.\n",
            "  resampled_df = df.resample('5T').agg({\n"
          ]
        },
        {
          "output_type": "stream",
          "name": "stdout",
          "text": [
            "Processed and saved: 31072020.csv\n"
          ]
        },
        {
          "output_type": "stream",
          "name": "stderr",
          "text": [
            "<ipython-input-2-6defbfa87029>:19: FutureWarning: 'T' is deprecated and will be removed in a future version, please use 'min' instead.\n",
            "  resampled_df = df.resample('5T').agg({\n"
          ]
        },
        {
          "output_type": "stream",
          "name": "stdout",
          "text": [
            "Processed and saved: 07082020.csv\n"
          ]
        },
        {
          "output_type": "stream",
          "name": "stderr",
          "text": [
            "<ipython-input-2-6defbfa87029>:19: FutureWarning: 'T' is deprecated and will be removed in a future version, please use 'min' instead.\n",
            "  resampled_df = df.resample('5T').agg({\n"
          ]
        },
        {
          "output_type": "stream",
          "name": "stdout",
          "text": [
            "Processed and saved: 21082020.csv\n"
          ]
        },
        {
          "output_type": "stream",
          "name": "stderr",
          "text": [
            "<ipython-input-2-6defbfa87029>:19: FutureWarning: 'T' is deprecated and will be removed in a future version, please use 'min' instead.\n",
            "  resampled_df = df.resample('5T').agg({\n"
          ]
        },
        {
          "output_type": "stream",
          "name": "stdout",
          "text": [
            "Processed and saved: 14082020.csv\n"
          ]
        },
        {
          "output_type": "stream",
          "name": "stderr",
          "text": [
            "<ipython-input-2-6defbfa87029>:19: FutureWarning: 'T' is deprecated and will be removed in a future version, please use 'min' instead.\n",
            "  resampled_df = df.resample('5T').agg({\n"
          ]
        },
        {
          "output_type": "stream",
          "name": "stdout",
          "text": [
            "Processed and saved: 18082020.csv\n"
          ]
        },
        {
          "output_type": "stream",
          "name": "stderr",
          "text": [
            "<ipython-input-2-6defbfa87029>:19: FutureWarning: 'T' is deprecated and will be removed in a future version, please use 'min' instead.\n",
            "  resampled_df = df.resample('5T').agg({\n"
          ]
        },
        {
          "output_type": "stream",
          "name": "stdout",
          "text": [
            "Processed and saved: 19082020.csv\n"
          ]
        },
        {
          "output_type": "stream",
          "name": "stderr",
          "text": [
            "<ipython-input-2-6defbfa87029>:19: FutureWarning: 'T' is deprecated and will be removed in a future version, please use 'min' instead.\n",
            "  resampled_df = df.resample('5T').agg({\n"
          ]
        },
        {
          "output_type": "stream",
          "name": "stdout",
          "text": [
            "Processed and saved: 12082020.csv\n"
          ]
        },
        {
          "output_type": "stream",
          "name": "stderr",
          "text": [
            "<ipython-input-2-6defbfa87029>:19: FutureWarning: 'T' is deprecated and will be removed in a future version, please use 'min' instead.\n",
            "  resampled_df = df.resample('5T').agg({\n"
          ]
        },
        {
          "output_type": "stream",
          "name": "stdout",
          "text": [
            "Processed and saved: 13082020.csv\n"
          ]
        },
        {
          "output_type": "stream",
          "name": "stderr",
          "text": [
            "<ipython-input-2-6defbfa87029>:19: FutureWarning: 'T' is deprecated and will be removed in a future version, please use 'min' instead.\n",
            "  resampled_df = df.resample('5T').agg({\n"
          ]
        },
        {
          "output_type": "stream",
          "name": "stdout",
          "text": [
            "Processed and saved: 20082020.csv\n"
          ]
        },
        {
          "output_type": "stream",
          "name": "stderr",
          "text": [
            "<ipython-input-2-6defbfa87029>:19: FutureWarning: 'T' is deprecated and will be removed in a future version, please use 'min' instead.\n",
            "  resampled_df = df.resample('5T').agg({\n"
          ]
        },
        {
          "output_type": "stream",
          "name": "stdout",
          "text": [
            "Processed and saved: 27082020.csv\n"
          ]
        },
        {
          "output_type": "stream",
          "name": "stderr",
          "text": [
            "<ipython-input-2-6defbfa87029>:19: FutureWarning: 'T' is deprecated and will be removed in a future version, please use 'min' instead.\n",
            "  resampled_df = df.resample('5T').agg({\n"
          ]
        },
        {
          "output_type": "stream",
          "name": "stdout",
          "text": [
            "Processed and saved: 26082020.csv\n"
          ]
        },
        {
          "output_type": "stream",
          "name": "stderr",
          "text": [
            "<ipython-input-2-6defbfa87029>:19: FutureWarning: 'T' is deprecated and will be removed in a future version, please use 'min' instead.\n",
            "  resampled_df = df.resample('5T').agg({\n"
          ]
        },
        {
          "output_type": "stream",
          "name": "stdout",
          "text": [
            "Processed and saved: 01092020.csv\n"
          ]
        },
        {
          "output_type": "stream",
          "name": "stderr",
          "text": [
            "<ipython-input-2-6defbfa87029>:19: FutureWarning: 'T' is deprecated and will be removed in a future version, please use 'min' instead.\n",
            "  resampled_df = df.resample('5T').agg({\n"
          ]
        },
        {
          "output_type": "stream",
          "name": "stdout",
          "text": [
            "Processed and saved: 07092020.csv\n"
          ]
        },
        {
          "output_type": "stream",
          "name": "stderr",
          "text": [
            "<ipython-input-2-6defbfa87029>:19: FutureWarning: 'T' is deprecated and will be removed in a future version, please use 'min' instead.\n",
            "  resampled_df = df.resample('5T').agg({\n"
          ]
        },
        {
          "output_type": "stream",
          "name": "stdout",
          "text": [
            "Processed and saved: 14092020.csv\n"
          ]
        },
        {
          "output_type": "stream",
          "name": "stderr",
          "text": [
            "<ipython-input-2-6defbfa87029>:19: FutureWarning: 'T' is deprecated and will be removed in a future version, please use 'min' instead.\n",
            "  resampled_df = df.resample('5T').agg({\n"
          ]
        },
        {
          "output_type": "stream",
          "name": "stdout",
          "text": [
            "Processed and saved: 15092020.csv\n"
          ]
        },
        {
          "output_type": "stream",
          "name": "stderr",
          "text": [
            "<ipython-input-2-6defbfa87029>:19: FutureWarning: 'T' is deprecated and will be removed in a future version, please use 'min' instead.\n",
            "  resampled_df = df.resample('5T').agg({\n"
          ]
        },
        {
          "output_type": "stream",
          "name": "stdout",
          "text": [
            "Processed and saved: 18092020.csv\n"
          ]
        },
        {
          "output_type": "stream",
          "name": "stderr",
          "text": [
            "<ipython-input-2-6defbfa87029>:19: FutureWarning: 'T' is deprecated and will be removed in a future version, please use 'min' instead.\n",
            "  resampled_df = df.resample('5T').agg({\n"
          ]
        },
        {
          "output_type": "stream",
          "name": "stdout",
          "text": [
            "Processed and saved: 21092020.csv\n"
          ]
        },
        {
          "output_type": "stream",
          "name": "stderr",
          "text": [
            "<ipython-input-2-6defbfa87029>:19: FutureWarning: 'T' is deprecated and will be removed in a future version, please use 'min' instead.\n",
            "  resampled_df = df.resample('5T').agg({\n"
          ]
        },
        {
          "output_type": "stream",
          "name": "stdout",
          "text": [
            "Processed and saved: 01102020.csv\n"
          ]
        },
        {
          "output_type": "stream",
          "name": "stderr",
          "text": [
            "<ipython-input-2-6defbfa87029>:19: FutureWarning: 'T' is deprecated and will be removed in a future version, please use 'min' instead.\n",
            "  resampled_df = df.resample('5T').agg({\n"
          ]
        },
        {
          "output_type": "stream",
          "name": "stdout",
          "text": [
            "Processed and saved: 06102020.csv\n"
          ]
        },
        {
          "output_type": "stream",
          "name": "stderr",
          "text": [
            "<ipython-input-2-6defbfa87029>:19: FutureWarning: 'T' is deprecated and will be removed in a future version, please use 'min' instead.\n",
            "  resampled_df = df.resample('5T').agg({\n"
          ]
        },
        {
          "output_type": "stream",
          "name": "stdout",
          "text": [
            "Processed and saved: 12102020.csv\n"
          ]
        },
        {
          "output_type": "stream",
          "name": "stderr",
          "text": [
            "<ipython-input-2-6defbfa87029>:19: FutureWarning: 'T' is deprecated and will be removed in a future version, please use 'min' instead.\n",
            "  resampled_df = df.resample('5T').agg({\n"
          ]
        },
        {
          "output_type": "stream",
          "name": "stdout",
          "text": [
            "Processed and saved: 13102020.csv\n"
          ]
        },
        {
          "output_type": "stream",
          "name": "stderr",
          "text": [
            "<ipython-input-2-6defbfa87029>:19: FutureWarning: 'T' is deprecated and will be removed in a future version, please use 'min' instead.\n",
            "  resampled_df = df.resample('5T').agg({\n"
          ]
        },
        {
          "output_type": "stream",
          "name": "stdout",
          "text": [
            "Processed and saved: 07102020.csv\n"
          ]
        },
        {
          "output_type": "stream",
          "name": "stderr",
          "text": [
            "<ipython-input-2-6defbfa87029>:19: FutureWarning: 'T' is deprecated and will be removed in a future version, please use 'min' instead.\n",
            "  resampled_df = df.resample('5T').agg({\n"
          ]
        },
        {
          "output_type": "stream",
          "name": "stdout",
          "text": [
            "Processed and saved: 20102020.csv\n"
          ]
        },
        {
          "output_type": "stream",
          "name": "stderr",
          "text": [
            "<ipython-input-2-6defbfa87029>:19: FutureWarning: 'T' is deprecated and will be removed in a future version, please use 'min' instead.\n",
            "  resampled_df = df.resample('5T').agg({\n"
          ]
        },
        {
          "output_type": "stream",
          "name": "stdout",
          "text": [
            "Processed and saved: 19102020.csv\n"
          ]
        },
        {
          "output_type": "stream",
          "name": "stderr",
          "text": [
            "<ipython-input-2-6defbfa87029>:19: FutureWarning: 'T' is deprecated and will be removed in a future version, please use 'min' instead.\n",
            "  resampled_df = df.resample('5T').agg({\n"
          ]
        },
        {
          "output_type": "stream",
          "name": "stdout",
          "text": [
            "Processed and saved: 15102020.csv\n"
          ]
        },
        {
          "output_type": "stream",
          "name": "stderr",
          "text": [
            "<ipython-input-2-6defbfa87029>:19: FutureWarning: 'T' is deprecated and will be removed in a future version, please use 'min' instead.\n",
            "  resampled_df = df.resample('5T').agg({\n"
          ]
        },
        {
          "output_type": "stream",
          "name": "stdout",
          "text": [
            "Processed and saved: 14102020.csv\n"
          ]
        },
        {
          "output_type": "stream",
          "name": "stderr",
          "text": [
            "<ipython-input-2-6defbfa87029>:19: FutureWarning: 'T' is deprecated and will be removed in a future version, please use 'min' instead.\n",
            "  resampled_df = df.resample('5T').agg({\n"
          ]
        },
        {
          "output_type": "stream",
          "name": "stdout",
          "text": [
            "Processed and saved: 21102020.csv\n"
          ]
        },
        {
          "output_type": "stream",
          "name": "stderr",
          "text": [
            "<ipython-input-2-6defbfa87029>:19: FutureWarning: 'T' is deprecated and will be removed in a future version, please use 'min' instead.\n",
            "  resampled_df = df.resample('5T').agg({\n"
          ]
        },
        {
          "output_type": "stream",
          "name": "stdout",
          "text": [
            "Processed and saved: 27102020.csv\n"
          ]
        },
        {
          "output_type": "stream",
          "name": "stderr",
          "text": [
            "<ipython-input-2-6defbfa87029>:19: FutureWarning: 'T' is deprecated and will be removed in a future version, please use 'min' instead.\n",
            "  resampled_df = df.resample('5T').agg({\n"
          ]
        },
        {
          "output_type": "stream",
          "name": "stdout",
          "text": [
            "Processed and saved: 06112020.csv\n"
          ]
        },
        {
          "output_type": "stream",
          "name": "stderr",
          "text": [
            "<ipython-input-2-6defbfa87029>:19: FutureWarning: 'T' is deprecated and will be removed in a future version, please use 'min' instead.\n",
            "  resampled_df = df.resample('5T').agg({\n"
          ]
        },
        {
          "output_type": "stream",
          "name": "stdout",
          "text": [
            "Processed and saved: 12112020.csv\n"
          ]
        },
        {
          "output_type": "stream",
          "name": "stderr",
          "text": [
            "<ipython-input-2-6defbfa87029>:19: FutureWarning: 'T' is deprecated and will be removed in a future version, please use 'min' instead.\n",
            "  resampled_df = df.resample('5T').agg({\n"
          ]
        },
        {
          "output_type": "stream",
          "name": "stdout",
          "text": [
            "Processed and saved: 20112020.csv\n"
          ]
        },
        {
          "output_type": "stream",
          "name": "stderr",
          "text": [
            "<ipython-input-2-6defbfa87029>:19: FutureWarning: 'T' is deprecated and will be removed in a future version, please use 'min' instead.\n",
            "  resampled_df = df.resample('5T').agg({\n"
          ]
        },
        {
          "output_type": "stream",
          "name": "stdout",
          "text": [
            "Processed and saved: 13112020.csv\n"
          ]
        },
        {
          "output_type": "stream",
          "name": "stderr",
          "text": [
            "<ipython-input-2-6defbfa87029>:19: FutureWarning: 'T' is deprecated and will be removed in a future version, please use 'min' instead.\n",
            "  resampled_df = df.resample('5T').agg({\n"
          ]
        },
        {
          "output_type": "stream",
          "name": "stdout",
          "text": [
            "Processed and saved: 14112020.csv\n"
          ]
        },
        {
          "output_type": "stream",
          "name": "stderr",
          "text": [
            "<ipython-input-2-6defbfa87029>:19: FutureWarning: 'T' is deprecated and will be removed in a future version, please use 'min' instead.\n",
            "  resampled_df = df.resample('5T').agg({\n"
          ]
        },
        {
          "output_type": "stream",
          "name": "stdout",
          "text": [
            "Processed and saved: 19112020.csv\n"
          ]
        },
        {
          "output_type": "stream",
          "name": "stderr",
          "text": [
            "<ipython-input-2-6defbfa87029>:19: FutureWarning: 'T' is deprecated and will be removed in a future version, please use 'min' instead.\n",
            "  resampled_df = df.resample('5T').agg({\n"
          ]
        },
        {
          "output_type": "stream",
          "name": "stdout",
          "text": [
            "Processed and saved: 01122020.csv\n"
          ]
        },
        {
          "output_type": "stream",
          "name": "stderr",
          "text": [
            "<ipython-input-2-6defbfa87029>:19: FutureWarning: 'T' is deprecated and will be removed in a future version, please use 'min' instead.\n",
            "  resampled_df = df.resample('5T').agg({\n"
          ]
        },
        {
          "output_type": "stream",
          "name": "stdout",
          "text": [
            "Processed and saved: 26112020.csv\n"
          ]
        },
        {
          "output_type": "stream",
          "name": "stderr",
          "text": [
            "<ipython-input-2-6defbfa87029>:19: FutureWarning: 'T' is deprecated and will be removed in a future version, please use 'min' instead.\n",
            "  resampled_df = df.resample('5T').agg({\n"
          ]
        },
        {
          "output_type": "stream",
          "name": "stdout",
          "text": [
            "Processed and saved: 27112020.csv\n"
          ]
        },
        {
          "output_type": "stream",
          "name": "stderr",
          "text": [
            "<ipython-input-2-6defbfa87029>:19: FutureWarning: 'T' is deprecated and will be removed in a future version, please use 'min' instead.\n",
            "  resampled_df = df.resample('5T').agg({\n"
          ]
        },
        {
          "output_type": "stream",
          "name": "stdout",
          "text": [
            "Processed and saved: 07122020.csv\n"
          ]
        },
        {
          "output_type": "stream",
          "name": "stderr",
          "text": [
            "<ipython-input-2-6defbfa87029>:19: FutureWarning: 'T' is deprecated and will be removed in a future version, please use 'min' instead.\n",
            "  resampled_df = df.resample('5T').agg({\n"
          ]
        },
        {
          "output_type": "stream",
          "name": "stdout",
          "text": [
            "Processed and saved: 15122020.csv\n"
          ]
        },
        {
          "output_type": "stream",
          "name": "stderr",
          "text": [
            "<ipython-input-2-6defbfa87029>:19: FutureWarning: 'T' is deprecated and will be removed in a future version, please use 'min' instead.\n",
            "  resampled_df = df.resample('5T').agg({\n"
          ]
        },
        {
          "output_type": "stream",
          "name": "stdout",
          "text": [
            "Processed and saved: 18122020.csv\n"
          ]
        },
        {
          "output_type": "stream",
          "name": "stderr",
          "text": [
            "<ipython-input-2-6defbfa87029>:19: FutureWarning: 'T' is deprecated and will be removed in a future version, please use 'min' instead.\n",
            "  resampled_df = df.resample('5T').agg({\n"
          ]
        },
        {
          "output_type": "stream",
          "name": "stdout",
          "text": [
            "Processed and saved: 21122020.csv\n"
          ]
        },
        {
          "output_type": "stream",
          "name": "stderr",
          "text": [
            "<ipython-input-2-6defbfa87029>:19: FutureWarning: 'T' is deprecated and will be removed in a future version, please use 'min' instead.\n",
            "  resampled_df = df.resample('5T').agg({\n"
          ]
        },
        {
          "output_type": "stream",
          "name": "stdout",
          "text": [
            "Processed and saved: 01012021.csv\n"
          ]
        },
        {
          "output_type": "stream",
          "name": "stderr",
          "text": [
            "<ipython-input-2-6defbfa87029>:19: FutureWarning: 'T' is deprecated and will be removed in a future version, please use 'min' instead.\n",
            "  resampled_df = df.resample('5T').agg({\n"
          ]
        },
        {
          "output_type": "stream",
          "name": "stdout",
          "text": [
            "Processed and saved: 12012021.csv\n"
          ]
        },
        {
          "output_type": "stream",
          "name": "stderr",
          "text": [
            "<ipython-input-2-6defbfa87029>:19: FutureWarning: 'T' is deprecated and will be removed in a future version, please use 'min' instead.\n",
            "  resampled_df = df.resample('5T').agg({\n"
          ]
        },
        {
          "output_type": "stream",
          "name": "stdout",
          "text": [
            "Processed and saved: 07012021.csv\n"
          ]
        },
        {
          "output_type": "stream",
          "name": "stderr",
          "text": [
            "<ipython-input-2-6defbfa87029>:19: FutureWarning: 'T' is deprecated and will be removed in a future version, please use 'min' instead.\n",
            "  resampled_df = df.resample('5T').agg({\n"
          ]
        },
        {
          "output_type": "stream",
          "name": "stdout",
          "text": [
            "Processed and saved: 06012021.csv\n"
          ]
        },
        {
          "output_type": "stream",
          "name": "stderr",
          "text": [
            "<ipython-input-2-6defbfa87029>:19: FutureWarning: 'T' is deprecated and will be removed in a future version, please use 'min' instead.\n",
            "  resampled_df = df.resample('5T').agg({\n"
          ]
        },
        {
          "output_type": "stream",
          "name": "stdout",
          "text": [
            "Processed and saved: 15012021.csv\n"
          ]
        },
        {
          "output_type": "stream",
          "name": "stderr",
          "text": [
            "<ipython-input-2-6defbfa87029>:19: FutureWarning: 'T' is deprecated and will be removed in a future version, please use 'min' instead.\n",
            "  resampled_df = df.resample('5T').agg({\n"
          ]
        },
        {
          "output_type": "stream",
          "name": "stdout",
          "text": [
            "Processed and saved: 13012021.csv\n"
          ]
        },
        {
          "output_type": "stream",
          "name": "stderr",
          "text": [
            "<ipython-input-2-6defbfa87029>:19: FutureWarning: 'T' is deprecated and will be removed in a future version, please use 'min' instead.\n",
            "  resampled_df = df.resample('5T').agg({\n"
          ]
        },
        {
          "output_type": "stream",
          "name": "stdout",
          "text": [
            "Processed and saved: 20012021.csv\n"
          ]
        },
        {
          "output_type": "stream",
          "name": "stderr",
          "text": [
            "<ipython-input-2-6defbfa87029>:19: FutureWarning: 'T' is deprecated and will be removed in a future version, please use 'min' instead.\n",
            "  resampled_df = df.resample('5T').agg({\n"
          ]
        },
        {
          "output_type": "stream",
          "name": "stdout",
          "text": [
            "Processed and saved: 14012021.csv\n"
          ]
        },
        {
          "output_type": "stream",
          "name": "stderr",
          "text": [
            "<ipython-input-2-6defbfa87029>:19: FutureWarning: 'T' is deprecated and will be removed in a future version, please use 'min' instead.\n",
            "  resampled_df = df.resample('5T').agg({\n"
          ]
        },
        {
          "output_type": "stream",
          "name": "stdout",
          "text": [
            "Processed and saved: 19012021.csv\n"
          ]
        },
        {
          "output_type": "stream",
          "name": "stderr",
          "text": [
            "<ipython-input-2-6defbfa87029>:19: FutureWarning: 'T' is deprecated and will be removed in a future version, please use 'min' instead.\n",
            "  resampled_df = df.resample('5T').agg({\n"
          ]
        },
        {
          "output_type": "stream",
          "name": "stdout",
          "text": [
            "Processed and saved: 27012021.csv\n"
          ]
        },
        {
          "output_type": "stream",
          "name": "stderr",
          "text": [
            "<ipython-input-2-6defbfa87029>:19: FutureWarning: 'T' is deprecated and will be removed in a future version, please use 'min' instead.\n",
            "  resampled_df = df.resample('5T').agg({\n"
          ]
        },
        {
          "output_type": "stream",
          "name": "stdout",
          "text": [
            "Processed and saved: 21012021.csv\n"
          ]
        },
        {
          "output_type": "stream",
          "name": "stderr",
          "text": [
            "<ipython-input-2-6defbfa87029>:19: FutureWarning: 'T' is deprecated and will be removed in a future version, please use 'min' instead.\n",
            "  resampled_df = df.resample('5T').agg({\n"
          ]
        },
        {
          "output_type": "stream",
          "name": "stdout",
          "text": [
            "Processed and saved: 01022021.csv\n"
          ]
        },
        {
          "output_type": "stream",
          "name": "stderr",
          "text": [
            "<ipython-input-2-6defbfa87029>:19: FutureWarning: 'T' is deprecated and will be removed in a future version, please use 'min' instead.\n",
            "  resampled_df = df.resample('5T').agg({\n"
          ]
        },
        {
          "output_type": "stream",
          "name": "stdout",
          "text": [
            "Processed and saved: 15022021.csv\n"
          ]
        },
        {
          "output_type": "stream",
          "name": "stderr",
          "text": [
            "<ipython-input-2-6defbfa87029>:19: FutureWarning: 'T' is deprecated and will be removed in a future version, please use 'min' instead.\n",
            "  resampled_df = df.resample('5T').agg({\n"
          ]
        },
        {
          "output_type": "stream",
          "name": "stdout",
          "text": [
            "Processed and saved: 12022021.csv\n"
          ]
        },
        {
          "output_type": "stream",
          "name": "stderr",
          "text": [
            "<ipython-input-2-6defbfa87029>:19: FutureWarning: 'T' is deprecated and will be removed in a future version, please use 'min' instead.\n",
            "  resampled_df = df.resample('5T').agg({\n"
          ]
        },
        {
          "output_type": "stream",
          "name": "stdout",
          "text": [
            "Processed and saved: 18022021.csv\n"
          ]
        },
        {
          "output_type": "stream",
          "name": "stderr",
          "text": [
            "<ipython-input-2-6defbfa87029>:19: FutureWarning: 'T' is deprecated and will be removed in a future version, please use 'min' instead.\n",
            "  resampled_df = df.resample('5T').agg({\n"
          ]
        },
        {
          "output_type": "stream",
          "name": "stdout",
          "text": [
            "Processed and saved: 19022021.csv\n"
          ]
        },
        {
          "output_type": "stream",
          "name": "stderr",
          "text": [
            "<ipython-input-2-6defbfa87029>:19: FutureWarning: 'T' is deprecated and will be removed in a future version, please use 'min' instead.\n",
            "  resampled_df = df.resample('5T').agg({\n"
          ]
        },
        {
          "output_type": "stream",
          "name": "stdout",
          "text": [
            "Processed and saved: 26022021.csv\n"
          ]
        },
        {
          "output_type": "stream",
          "name": "stderr",
          "text": [
            "<ipython-input-2-6defbfa87029>:19: FutureWarning: 'T' is deprecated and will be removed in a future version, please use 'min' instead.\n",
            "  resampled_df = df.resample('5T').agg({\n"
          ]
        },
        {
          "output_type": "stream",
          "name": "stdout",
          "text": [
            "Processed and saved: 01032021.csv\n"
          ]
        },
        {
          "output_type": "stream",
          "name": "stderr",
          "text": [
            "<ipython-input-2-6defbfa87029>:19: FutureWarning: 'T' is deprecated and will be removed in a future version, please use 'min' instead.\n",
            "  resampled_df = df.resample('5T').agg({\n"
          ]
        },
        {
          "output_type": "stream",
          "name": "stdout",
          "text": [
            "Processed and saved: 15032021.csv\n"
          ]
        },
        {
          "output_type": "stream",
          "name": "stderr",
          "text": [
            "<ipython-input-2-6defbfa87029>:19: FutureWarning: 'T' is deprecated and will be removed in a future version, please use 'min' instead.\n",
            "  resampled_df = df.resample('5T').agg({\n"
          ]
        },
        {
          "output_type": "stream",
          "name": "stdout",
          "text": [
            "Processed and saved: 12032021.csv\n"
          ]
        },
        {
          "output_type": "stream",
          "name": "stderr",
          "text": [
            "<ipython-input-2-6defbfa87029>:19: FutureWarning: 'T' is deprecated and will be removed in a future version, please use 'min' instead.\n",
            "  resampled_df = df.resample('5T').agg({\n"
          ]
        },
        {
          "output_type": "stream",
          "name": "stdout",
          "text": [
            "Processed and saved: 19032021.csv\n"
          ]
        },
        {
          "output_type": "stream",
          "name": "stderr",
          "text": [
            "<ipython-input-2-6defbfa87029>:19: FutureWarning: 'T' is deprecated and will be removed in a future version, please use 'min' instead.\n",
            "  resampled_df = df.resample('5T').agg({\n"
          ]
        },
        {
          "output_type": "stream",
          "name": "stdout",
          "text": [
            "Processed and saved: 18032021.csv\n"
          ]
        },
        {
          "output_type": "stream",
          "name": "stderr",
          "text": [
            "<ipython-input-2-6defbfa87029>:19: FutureWarning: 'T' is deprecated and will be removed in a future version, please use 'min' instead.\n",
            "  resampled_df = df.resample('5T').agg({\n"
          ]
        },
        {
          "output_type": "stream",
          "name": "stdout",
          "text": [
            "Processed and saved: 26032021.csv\n"
          ]
        },
        {
          "output_type": "stream",
          "name": "stderr",
          "text": [
            "<ipython-input-2-6defbfa87029>:19: FutureWarning: 'T' is deprecated and will be removed in a future version, please use 'min' instead.\n",
            "  resampled_df = df.resample('5T').agg({\n"
          ]
        },
        {
          "output_type": "stream",
          "name": "stdout",
          "text": [
            "Processed and saved: 05042021.csv\n"
          ]
        },
        {
          "output_type": "stream",
          "name": "stderr",
          "text": [
            "<ipython-input-2-6defbfa87029>:19: FutureWarning: 'T' is deprecated and will be removed in a future version, please use 'min' instead.\n",
            "  resampled_df = df.resample('5T').agg({\n"
          ]
        },
        {
          "output_type": "stream",
          "name": "stdout",
          "text": [
            "Processed and saved: 09042021.csv\n"
          ]
        },
        {
          "output_type": "stream",
          "name": "stderr",
          "text": [
            "<ipython-input-2-6defbfa87029>:19: FutureWarning: 'T' is deprecated and will be removed in a future version, please use 'min' instead.\n",
            "  resampled_df = df.resample('5T').agg({\n"
          ]
        },
        {
          "output_type": "stream",
          "name": "stdout",
          "text": [
            "Processed and saved: 08042021.csv\n"
          ]
        },
        {
          "output_type": "stream",
          "name": "stderr",
          "text": [
            "<ipython-input-2-6defbfa87029>:19: FutureWarning: 'T' is deprecated and will be removed in a future version, please use 'min' instead.\n",
            "  resampled_df = df.resample('5T').agg({\n"
          ]
        },
        {
          "output_type": "stream",
          "name": "stdout",
          "text": [
            "Processed and saved: 22042021.csv\n"
          ]
        },
        {
          "output_type": "stream",
          "name": "stderr",
          "text": [
            "<ipython-input-2-6defbfa87029>:19: FutureWarning: 'T' is deprecated and will be removed in a future version, please use 'min' instead.\n",
            "  resampled_df = df.resample('5T').agg({\n"
          ]
        },
        {
          "output_type": "stream",
          "name": "stdout",
          "text": [
            "Processed and saved: 16042021.csv\n"
          ]
        },
        {
          "output_type": "stream",
          "name": "stderr",
          "text": [
            "<ipython-input-2-6defbfa87029>:19: FutureWarning: 'T' is deprecated and will be removed in a future version, please use 'min' instead.\n",
            "  resampled_df = df.resample('5T').agg({\n"
          ]
        },
        {
          "output_type": "stream",
          "name": "stdout",
          "text": [
            "Processed and saved: 23042021.csv\n"
          ]
        },
        {
          "output_type": "stream",
          "name": "stderr",
          "text": [
            "<ipython-input-2-6defbfa87029>:19: FutureWarning: 'T' is deprecated and will be removed in a future version, please use 'min' instead.\n",
            "  resampled_df = df.resample('5T').agg({\n"
          ]
        },
        {
          "output_type": "stream",
          "name": "stdout",
          "text": [
            "Processed and saved: 29042021.csv\n"
          ]
        },
        {
          "output_type": "stream",
          "name": "stderr",
          "text": [
            "<ipython-input-2-6defbfa87029>:19: FutureWarning: 'T' is deprecated and will be removed in a future version, please use 'min' instead.\n",
            "  resampled_df = df.resample('5T').agg({\n"
          ]
        },
        {
          "output_type": "stream",
          "name": "stdout",
          "text": [
            "Processed and saved: 28042021.csv\n"
          ]
        },
        {
          "output_type": "stream",
          "name": "stderr",
          "text": [
            "<ipython-input-2-6defbfa87029>:19: FutureWarning: 'T' is deprecated and will be removed in a future version, please use 'min' instead.\n",
            "  resampled_df = df.resample('5T').agg({\n"
          ]
        },
        {
          "output_type": "stream",
          "name": "stdout",
          "text": [
            "Processed and saved: 03052021.csv\n"
          ]
        },
        {
          "output_type": "stream",
          "name": "stderr",
          "text": [
            "<ipython-input-2-6defbfa87029>:19: FutureWarning: 'T' is deprecated and will be removed in a future version, please use 'min' instead.\n",
            "  resampled_df = df.resample('5T').agg({\n"
          ]
        },
        {
          "output_type": "stream",
          "name": "stdout",
          "text": [
            "Processed and saved: 04052021.csv\n"
          ]
        },
        {
          "output_type": "stream",
          "name": "stderr",
          "text": [
            "<ipython-input-2-6defbfa87029>:19: FutureWarning: 'T' is deprecated and will be removed in a future version, please use 'min' instead.\n",
            "  resampled_df = df.resample('5T').agg({\n"
          ]
        },
        {
          "output_type": "stream",
          "name": "stdout",
          "text": [
            "Processed and saved: 05052021.csv\n"
          ]
        },
        {
          "output_type": "stream",
          "name": "stderr",
          "text": [
            "<ipython-input-2-6defbfa87029>:19: FutureWarning: 'T' is deprecated and will be removed in a future version, please use 'min' instead.\n",
            "  resampled_df = df.resample('5T').agg({\n"
          ]
        },
        {
          "output_type": "stream",
          "name": "stdout",
          "text": [
            "Processed and saved: 30042021.csv\n"
          ]
        },
        {
          "output_type": "stream",
          "name": "stderr",
          "text": [
            "<ipython-input-2-6defbfa87029>:19: FutureWarning: 'T' is deprecated and will be removed in a future version, please use 'min' instead.\n",
            "  resampled_df = df.resample('5T').agg({\n"
          ]
        },
        {
          "output_type": "stream",
          "name": "stdout",
          "text": [
            "Processed and saved: 11052021.csv\n"
          ]
        },
        {
          "output_type": "stream",
          "name": "stderr",
          "text": [
            "<ipython-input-2-6defbfa87029>:19: FutureWarning: 'T' is deprecated and will be removed in a future version, please use 'min' instead.\n",
            "  resampled_df = df.resample('5T').agg({\n"
          ]
        },
        {
          "output_type": "stream",
          "name": "stdout",
          "text": [
            "Processed and saved: 10052021.csv\n"
          ]
        },
        {
          "output_type": "stream",
          "name": "stderr",
          "text": [
            "<ipython-input-2-6defbfa87029>:19: FutureWarning: 'T' is deprecated and will be removed in a future version, please use 'min' instead.\n",
            "  resampled_df = df.resample('5T').agg({\n"
          ]
        },
        {
          "output_type": "stream",
          "name": "stdout",
          "text": [
            "Processed and saved: 17052021.csv\n"
          ]
        },
        {
          "output_type": "stream",
          "name": "stderr",
          "text": [
            "<ipython-input-2-6defbfa87029>:19: FutureWarning: 'T' is deprecated and will be removed in a future version, please use 'min' instead.\n",
            "  resampled_df = df.resample('5T').agg({\n"
          ]
        },
        {
          "output_type": "stream",
          "name": "stdout",
          "text": [
            "Processed and saved: 25052021.csv\n"
          ]
        },
        {
          "output_type": "stream",
          "name": "stderr",
          "text": [
            "<ipython-input-2-6defbfa87029>:19: FutureWarning: 'T' is deprecated and will be removed in a future version, please use 'min' instead.\n",
            "  resampled_df = df.resample('5T').agg({\n"
          ]
        },
        {
          "output_type": "stream",
          "name": "stdout",
          "text": [
            "Processed and saved: 24052021.csv\n"
          ]
        },
        {
          "output_type": "stream",
          "name": "stderr",
          "text": [
            "<ipython-input-2-6defbfa87029>:19: FutureWarning: 'T' is deprecated and will be removed in a future version, please use 'min' instead.\n",
            "  resampled_df = df.resample('5T').agg({\n"
          ]
        },
        {
          "output_type": "stream",
          "name": "stdout",
          "text": [
            "Processed and saved: 31052021.csv\n"
          ]
        },
        {
          "output_type": "stream",
          "name": "stderr",
          "text": [
            "<ipython-input-2-6defbfa87029>:19: FutureWarning: 'T' is deprecated and will be removed in a future version, please use 'min' instead.\n",
            "  resampled_df = df.resample('5T').agg({\n"
          ]
        },
        {
          "output_type": "stream",
          "name": "stdout",
          "text": [
            "Processed and saved: 02062021.csv\n"
          ]
        },
        {
          "output_type": "stream",
          "name": "stderr",
          "text": [
            "<ipython-input-2-6defbfa87029>:19: FutureWarning: 'T' is deprecated and will be removed in a future version, please use 'min' instead.\n",
            "  resampled_df = df.resample('5T').agg({\n"
          ]
        },
        {
          "output_type": "stream",
          "name": "stdout",
          "text": [
            "Processed and saved: 28052021.csv\n"
          ]
        },
        {
          "output_type": "stream",
          "name": "stderr",
          "text": [
            "<ipython-input-2-6defbfa87029>:19: FutureWarning: 'T' is deprecated and will be removed in a future version, please use 'min' instead.\n",
            "  resampled_df = df.resample('5T').agg({\n"
          ]
        },
        {
          "output_type": "stream",
          "name": "stdout",
          "text": [
            "Processed and saved: 04062021.csv\n"
          ]
        },
        {
          "output_type": "stream",
          "name": "stderr",
          "text": [
            "<ipython-input-2-6defbfa87029>:19: FutureWarning: 'T' is deprecated and will be removed in a future version, please use 'min' instead.\n",
            "  resampled_df = df.resample('5T').agg({\n"
          ]
        },
        {
          "output_type": "stream",
          "name": "stdout",
          "text": [
            "Processed and saved: 03062021.csv\n"
          ]
        },
        {
          "output_type": "stream",
          "name": "stderr",
          "text": [
            "<ipython-input-2-6defbfa87029>:19: FutureWarning: 'T' is deprecated and will be removed in a future version, please use 'min' instead.\n",
            "  resampled_df = df.resample('5T').agg({\n"
          ]
        },
        {
          "output_type": "stream",
          "name": "stdout",
          "text": [
            "Processed and saved: 09062021.csv\n"
          ]
        },
        {
          "output_type": "stream",
          "name": "stderr",
          "text": [
            "<ipython-input-2-6defbfa87029>:19: FutureWarning: 'T' is deprecated and will be removed in a future version, please use 'min' instead.\n",
            "  resampled_df = df.resample('5T').agg({\n"
          ]
        },
        {
          "output_type": "stream",
          "name": "stdout",
          "text": [
            "Processed and saved: 08062021.csv\n"
          ]
        },
        {
          "output_type": "stream",
          "name": "stderr",
          "text": [
            "<ipython-input-2-6defbfa87029>:19: FutureWarning: 'T' is deprecated and will be removed in a future version, please use 'min' instead.\n",
            "  resampled_df = df.resample('5T').agg({\n"
          ]
        },
        {
          "output_type": "stream",
          "name": "stdout",
          "text": [
            "Processed and saved: 10062021.csv\n"
          ]
        },
        {
          "output_type": "stream",
          "name": "stderr",
          "text": [
            "<ipython-input-2-6defbfa87029>:19: FutureWarning: 'T' is deprecated and will be removed in a future version, please use 'min' instead.\n",
            "  resampled_df = df.resample('5T').agg({\n"
          ]
        },
        {
          "output_type": "stream",
          "name": "stdout",
          "text": [
            "Processed and saved: 11062021.csv\n"
          ]
        },
        {
          "output_type": "stream",
          "name": "stderr",
          "text": [
            "<ipython-input-2-6defbfa87029>:19: FutureWarning: 'T' is deprecated and will be removed in a future version, please use 'min' instead.\n",
            "  resampled_df = df.resample('5T').agg({\n"
          ]
        },
        {
          "output_type": "stream",
          "name": "stdout",
          "text": [
            "Processed and saved: 16062021.csv\n"
          ]
        },
        {
          "output_type": "stream",
          "name": "stderr",
          "text": [
            "<ipython-input-2-6defbfa87029>:19: FutureWarning: 'T' is deprecated and will be removed in a future version, please use 'min' instead.\n",
            "  resampled_df = df.resample('5T').agg({\n"
          ]
        },
        {
          "output_type": "stream",
          "name": "stdout",
          "text": [
            "Processed and saved: 17062021.csv\n"
          ]
        },
        {
          "output_type": "stream",
          "name": "stderr",
          "text": [
            "<ipython-input-2-6defbfa87029>:19: FutureWarning: 'T' is deprecated and will be removed in a future version, please use 'min' instead.\n",
            "  resampled_df = df.resample('5T').agg({\n"
          ]
        },
        {
          "output_type": "stream",
          "name": "stdout",
          "text": [
            "Processed and saved: 23062021.csv\n"
          ]
        },
        {
          "output_type": "stream",
          "name": "stderr",
          "text": [
            "<ipython-input-2-6defbfa87029>:19: FutureWarning: 'T' is deprecated and will be removed in a future version, please use 'min' instead.\n",
            "  resampled_df = df.resample('5T').agg({\n"
          ]
        },
        {
          "output_type": "stream",
          "name": "stdout",
          "text": [
            "Processed and saved: 29062021.csv\n"
          ]
        },
        {
          "output_type": "stream",
          "name": "stderr",
          "text": [
            "<ipython-input-2-6defbfa87029>:19: FutureWarning: 'T' is deprecated and will be removed in a future version, please use 'min' instead.\n",
            "  resampled_df = df.resample('5T').agg({\n"
          ]
        },
        {
          "output_type": "stream",
          "name": "stdout",
          "text": [
            "Processed and saved: 28062021.csv\n"
          ]
        },
        {
          "output_type": "stream",
          "name": "stderr",
          "text": [
            "<ipython-input-2-6defbfa87029>:19: FutureWarning: 'T' is deprecated and will be removed in a future version, please use 'min' instead.\n",
            "  resampled_df = df.resample('5T').agg({\n"
          ]
        },
        {
          "output_type": "stream",
          "name": "stdout",
          "text": [
            "Processed and saved: 30062021.csv\n"
          ]
        },
        {
          "output_type": "stream",
          "name": "stderr",
          "text": [
            "<ipython-input-2-6defbfa87029>:19: FutureWarning: 'T' is deprecated and will be removed in a future version, please use 'min' instead.\n",
            "  resampled_df = df.resample('5T').agg({\n"
          ]
        },
        {
          "output_type": "stream",
          "name": "stdout",
          "text": [
            "Processed and saved: 24062021.csv\n"
          ]
        },
        {
          "output_type": "stream",
          "name": "stderr",
          "text": [
            "<ipython-input-2-6defbfa87029>:19: FutureWarning: 'T' is deprecated and will be removed in a future version, please use 'min' instead.\n",
            "  resampled_df = df.resample('5T').agg({\n"
          ]
        },
        {
          "output_type": "stream",
          "name": "stdout",
          "text": [
            "Processed and saved: 25062021.csv\n"
          ]
        },
        {
          "output_type": "stream",
          "name": "stderr",
          "text": [
            "<ipython-input-2-6defbfa87029>:19: FutureWarning: 'T' is deprecated and will be removed in a future version, please use 'min' instead.\n",
            "  resampled_df = df.resample('5T').agg({\n"
          ]
        },
        {
          "output_type": "stream",
          "name": "stdout",
          "text": [
            "Processed and saved: 02072021.csv\n"
          ]
        },
        {
          "output_type": "stream",
          "name": "stderr",
          "text": [
            "<ipython-input-2-6defbfa87029>:19: FutureWarning: 'T' is deprecated and will be removed in a future version, please use 'min' instead.\n",
            "  resampled_df = df.resample('5T').agg({\n"
          ]
        },
        {
          "output_type": "stream",
          "name": "stdout",
          "text": [
            "Processed and saved: 05072021.csv\n"
          ]
        },
        {
          "output_type": "stream",
          "name": "stderr",
          "text": [
            "<ipython-input-2-6defbfa87029>:19: FutureWarning: 'T' is deprecated and will be removed in a future version, please use 'min' instead.\n",
            "  resampled_df = df.resample('5T').agg({\n"
          ]
        },
        {
          "output_type": "stream",
          "name": "stdout",
          "text": [
            "Processed and saved: 09072021.csv\n"
          ]
        },
        {
          "output_type": "stream",
          "name": "stderr",
          "text": [
            "<ipython-input-2-6defbfa87029>:19: FutureWarning: 'T' is deprecated and will be removed in a future version, please use 'min' instead.\n",
            "  resampled_df = df.resample('5T').agg({\n"
          ]
        },
        {
          "output_type": "stream",
          "name": "stdout",
          "text": [
            "Processed and saved: 16072021.csv\n"
          ]
        },
        {
          "output_type": "stream",
          "name": "stderr",
          "text": [
            "<ipython-input-2-6defbfa87029>:19: FutureWarning: 'T' is deprecated and will be removed in a future version, please use 'min' instead.\n",
            "  resampled_df = df.resample('5T').agg({\n"
          ]
        },
        {
          "output_type": "stream",
          "name": "stdout",
          "text": [
            "Processed and saved: 23072021.csv\n"
          ]
        },
        {
          "output_type": "stream",
          "name": "stderr",
          "text": [
            "<ipython-input-2-6defbfa87029>:19: FutureWarning: 'T' is deprecated and will be removed in a future version, please use 'min' instead.\n",
            "  resampled_df = df.resample('5T').agg({\n"
          ]
        },
        {
          "output_type": "stream",
          "name": "stdout",
          "text": [
            "Processed and saved: 28072021.csv\n"
          ]
        },
        {
          "output_type": "stream",
          "name": "stderr",
          "text": [
            "<ipython-input-2-6defbfa87029>:19: FutureWarning: 'T' is deprecated and will be removed in a future version, please use 'min' instead.\n",
            "  resampled_df = df.resample('5T').agg({\n"
          ]
        },
        {
          "output_type": "stream",
          "name": "stdout",
          "text": [
            "Processed and saved: 22072021.csv\n"
          ]
        },
        {
          "output_type": "stream",
          "name": "stderr",
          "text": [
            "<ipython-input-2-6defbfa87029>:19: FutureWarning: 'T' is deprecated and will be removed in a future version, please use 'min' instead.\n",
            "  resampled_df = df.resample('5T').agg({\n"
          ]
        },
        {
          "output_type": "stream",
          "name": "stdout",
          "text": [
            "Processed and saved: 30072021.csv\n"
          ]
        },
        {
          "output_type": "stream",
          "name": "stderr",
          "text": [
            "<ipython-input-2-6defbfa87029>:19: FutureWarning: 'T' is deprecated and will be removed in a future version, please use 'min' instead.\n",
            "  resampled_df = df.resample('5T').agg({\n"
          ]
        },
        {
          "output_type": "stream",
          "name": "stdout",
          "text": [
            "Processed and saved: 29072021.csv\n"
          ]
        },
        {
          "output_type": "stream",
          "name": "stderr",
          "text": [
            "<ipython-input-2-6defbfa87029>:19: FutureWarning: 'T' is deprecated and will be removed in a future version, please use 'min' instead.\n",
            "  resampled_df = df.resample('5T').agg({\n"
          ]
        },
        {
          "output_type": "stream",
          "name": "stdout",
          "text": [
            "Processed and saved: 06082021.csv\n"
          ]
        },
        {
          "output_type": "stream",
          "name": "stderr",
          "text": [
            "<ipython-input-2-6defbfa87029>:19: FutureWarning: 'T' is deprecated and will be removed in a future version, please use 'min' instead.\n",
            "  resampled_df = df.resample('5T').agg({\n"
          ]
        },
        {
          "output_type": "stream",
          "name": "stdout",
          "text": [
            "Processed and saved: 13082021.csv\n"
          ]
        },
        {
          "output_type": "stream",
          "name": "stderr",
          "text": [
            "<ipython-input-2-6defbfa87029>:19: FutureWarning: 'T' is deprecated and will be removed in a future version, please use 'min' instead.\n",
            "  resampled_df = df.resample('5T').agg({\n"
          ]
        },
        {
          "output_type": "stream",
          "name": "stdout",
          "text": [
            "Processed and saved: 12082021.csv\n"
          ]
        },
        {
          "output_type": "stream",
          "name": "stderr",
          "text": [
            "<ipython-input-2-6defbfa87029>:19: FutureWarning: 'T' is deprecated and will be removed in a future version, please use 'min' instead.\n",
            "  resampled_df = df.resample('5T').agg({\n"
          ]
        },
        {
          "output_type": "stream",
          "name": "stdout",
          "text": [
            "Processed and saved: 18082021.csv\n"
          ]
        },
        {
          "output_type": "stream",
          "name": "stderr",
          "text": [
            "<ipython-input-2-6defbfa87029>:19: FutureWarning: 'T' is deprecated and will be removed in a future version, please use 'min' instead.\n",
            "  resampled_df = df.resample('5T').agg({\n"
          ]
        },
        {
          "output_type": "stream",
          "name": "stdout",
          "text": [
            "Processed and saved: 27082021.csv\n"
          ]
        },
        {
          "output_type": "stream",
          "name": "stderr",
          "text": [
            "<ipython-input-2-6defbfa87029>:19: FutureWarning: 'T' is deprecated and will be removed in a future version, please use 'min' instead.\n",
            "  resampled_df = df.resample('5T').agg({\n"
          ]
        },
        {
          "output_type": "stream",
          "name": "stdout",
          "text": [
            "Processed and saved: 26082021.csv\n"
          ]
        },
        {
          "output_type": "stream",
          "name": "stderr",
          "text": [
            "<ipython-input-2-6defbfa87029>:19: FutureWarning: 'T' is deprecated and will be removed in a future version, please use 'min' instead.\n",
            "  resampled_df = df.resample('5T').agg({\n"
          ]
        },
        {
          "output_type": "stream",
          "name": "stdout",
          "text": [
            "Processed and saved: 01092021.csv\n"
          ]
        },
        {
          "output_type": "stream",
          "name": "stderr",
          "text": [
            "<ipython-input-2-6defbfa87029>:19: FutureWarning: 'T' is deprecated and will be removed in a future version, please use 'min' instead.\n",
            "  resampled_df = df.resample('5T').agg({\n"
          ]
        },
        {
          "output_type": "stream",
          "name": "stdout",
          "text": [
            "Processed and saved: 06092021.csv\n"
          ]
        },
        {
          "output_type": "stream",
          "name": "stderr",
          "text": [
            "<ipython-input-2-6defbfa87029>:19: FutureWarning: 'T' is deprecated and will be removed in a future version, please use 'min' instead.\n",
            "  resampled_df = df.resample('5T').agg({\n"
          ]
        },
        {
          "output_type": "stream",
          "name": "stdout",
          "text": [
            "Processed and saved: 07092021.csv\n"
          ]
        },
        {
          "output_type": "stream",
          "name": "stderr",
          "text": [
            "<ipython-input-2-6defbfa87029>:19: FutureWarning: 'T' is deprecated and will be removed in a future version, please use 'min' instead.\n",
            "  resampled_df = df.resample('5T').agg({\n"
          ]
        },
        {
          "output_type": "stream",
          "name": "stdout",
          "text": [
            "Processed and saved: 13092021.csv\n"
          ]
        },
        {
          "output_type": "stream",
          "name": "stderr",
          "text": [
            "<ipython-input-2-6defbfa87029>:19: FutureWarning: 'T' is deprecated and will be removed in a future version, please use 'min' instead.\n",
            "  resampled_df = df.resample('5T').agg({\n"
          ]
        },
        {
          "output_type": "stream",
          "name": "stdout",
          "text": [
            "Processed and saved: 14092021.csv\n"
          ]
        },
        {
          "output_type": "stream",
          "name": "stderr",
          "text": [
            "<ipython-input-2-6defbfa87029>:19: FutureWarning: 'T' is deprecated and will be removed in a future version, please use 'min' instead.\n",
            "  resampled_df = df.resample('5T').agg({\n"
          ]
        },
        {
          "output_type": "stream",
          "name": "stdout",
          "text": [
            "Processed and saved: 15092021.csv\n"
          ]
        },
        {
          "output_type": "stream",
          "name": "stderr",
          "text": [
            "<ipython-input-2-6defbfa87029>:19: FutureWarning: 'T' is deprecated and will be removed in a future version, please use 'min' instead.\n",
            "  resampled_df = df.resample('5T').agg({\n"
          ]
        },
        {
          "output_type": "stream",
          "name": "stdout",
          "text": [
            "Processed and saved: 21092021.csv\n"
          ]
        },
        {
          "output_type": "stream",
          "name": "stderr",
          "text": [
            "<ipython-input-2-6defbfa87029>:19: FutureWarning: 'T' is deprecated and will be removed in a future version, please use 'min' instead.\n",
            "  resampled_df = df.resample('5T').agg({\n"
          ]
        },
        {
          "output_type": "stream",
          "name": "stdout",
          "text": [
            "Processed and saved: 20092021.csv\n"
          ]
        },
        {
          "output_type": "stream",
          "name": "stderr",
          "text": [
            "<ipython-input-2-6defbfa87029>:19: FutureWarning: 'T' is deprecated and will be removed in a future version, please use 'min' instead.\n",
            "  resampled_df = df.resample('5T').agg({\n"
          ]
        },
        {
          "output_type": "stream",
          "name": "stdout",
          "text": [
            "Processed and saved: 27092021.csv\n"
          ]
        },
        {
          "output_type": "stream",
          "name": "stderr",
          "text": [
            "<ipython-input-2-6defbfa87029>:19: FutureWarning: 'T' is deprecated and will be removed in a future version, please use 'min' instead.\n",
            "  resampled_df = df.resample('5T').agg({\n"
          ]
        },
        {
          "output_type": "stream",
          "name": "stdout",
          "text": [
            "Processed and saved: 01102021.csv\n"
          ]
        },
        {
          "output_type": "stream",
          "name": "stderr",
          "text": [
            "<ipython-input-2-6defbfa87029>:19: FutureWarning: 'T' is deprecated and will be removed in a future version, please use 'min' instead.\n",
            "  resampled_df = df.resample('5T').agg({\n"
          ]
        },
        {
          "output_type": "stream",
          "name": "stdout",
          "text": [
            "Processed and saved: 06102021.csv\n"
          ]
        },
        {
          "output_type": "stream",
          "name": "stderr",
          "text": [
            "<ipython-input-2-6defbfa87029>:19: FutureWarning: 'T' is deprecated and will be removed in a future version, please use 'min' instead.\n",
            "  resampled_df = df.resample('5T').agg({\n"
          ]
        },
        {
          "output_type": "stream",
          "name": "stdout",
          "text": [
            "Processed and saved: 12102021.csv\n"
          ]
        },
        {
          "output_type": "stream",
          "name": "stderr",
          "text": [
            "<ipython-input-2-6defbfa87029>:19: FutureWarning: 'T' is deprecated and will be removed in a future version, please use 'min' instead.\n",
            "  resampled_df = df.resample('5T').agg({\n"
          ]
        },
        {
          "output_type": "stream",
          "name": "stdout",
          "text": [
            "Processed and saved: 14102021.csv\n"
          ]
        },
        {
          "output_type": "stream",
          "name": "stderr",
          "text": [
            "<ipython-input-2-6defbfa87029>:19: FutureWarning: 'T' is deprecated and will be removed in a future version, please use 'min' instead.\n",
            "  resampled_df = df.resample('5T').agg({\n"
          ]
        },
        {
          "output_type": "stream",
          "name": "stdout",
          "text": [
            "Processed and saved: 18102021.csv\n"
          ]
        },
        {
          "output_type": "stream",
          "name": "stderr",
          "text": [
            "<ipython-input-2-6defbfa87029>:19: FutureWarning: 'T' is deprecated and will be removed in a future version, please use 'min' instead.\n",
            "  resampled_df = df.resample('5T').agg({\n"
          ]
        },
        {
          "output_type": "stream",
          "name": "stdout",
          "text": [
            "Processed and saved: 20102021.csv\n"
          ]
        },
        {
          "output_type": "stream",
          "name": "stderr",
          "text": [
            "<ipython-input-2-6defbfa87029>:19: FutureWarning: 'T' is deprecated and will be removed in a future version, please use 'min' instead.\n",
            "  resampled_df = df.resample('5T').agg({\n"
          ]
        },
        {
          "output_type": "stream",
          "name": "stdout",
          "text": [
            "Processed and saved: 19102021.csv\n"
          ]
        },
        {
          "output_type": "stream",
          "name": "stderr",
          "text": [
            "<ipython-input-2-6defbfa87029>:19: FutureWarning: 'T' is deprecated and will be removed in a future version, please use 'min' instead.\n",
            "  resampled_df = df.resample('5T').agg({\n"
          ]
        },
        {
          "output_type": "stream",
          "name": "stdout",
          "text": [
            "Processed and saved: 26102021.csv\n"
          ]
        },
        {
          "output_type": "stream",
          "name": "stderr",
          "text": [
            "<ipython-input-2-6defbfa87029>:19: FutureWarning: 'T' is deprecated and will be removed in a future version, please use 'min' instead.\n",
            "  resampled_df = df.resample('5T').agg({\n"
          ]
        },
        {
          "output_type": "stream",
          "name": "stdout",
          "text": [
            "Processed and saved: 21102021.csv\n"
          ]
        },
        {
          "output_type": "stream",
          "name": "stderr",
          "text": [
            "<ipython-input-2-6defbfa87029>:19: FutureWarning: 'T' is deprecated and will be removed in a future version, please use 'min' instead.\n",
            "  resampled_df = df.resample('5T').agg({\n"
          ]
        },
        {
          "output_type": "stream",
          "name": "stdout",
          "text": [
            "Processed and saved: 27102021.csv\n"
          ]
        },
        {
          "output_type": "stream",
          "name": "stderr",
          "text": [
            "<ipython-input-2-6defbfa87029>:19: FutureWarning: 'T' is deprecated and will be removed in a future version, please use 'min' instead.\n",
            "  resampled_df = df.resample('5T').agg({\n"
          ]
        },
        {
          "output_type": "stream",
          "name": "stdout",
          "text": [
            "Processed and saved: 01112021.csv\n"
          ]
        },
        {
          "output_type": "stream",
          "name": "stderr",
          "text": [
            "<ipython-input-2-6defbfa87029>:19: FutureWarning: 'T' is deprecated and will be removed in a future version, please use 'min' instead.\n",
            "  resampled_df = df.resample('5T').agg({\n"
          ]
        },
        {
          "output_type": "stream",
          "name": "stdout",
          "text": [
            "Processed and saved: 12112021.csv\n"
          ]
        },
        {
          "output_type": "stream",
          "name": "stderr",
          "text": [
            "<ipython-input-2-6defbfa87029>:19: FutureWarning: 'T' is deprecated and will be removed in a future version, please use 'min' instead.\n",
            "  resampled_df = df.resample('5T').agg({\n"
          ]
        },
        {
          "output_type": "stream",
          "name": "stdout",
          "text": [
            "Processed and saved: 15112021.csv\n"
          ]
        },
        {
          "output_type": "stream",
          "name": "stderr",
          "text": [
            "<ipython-input-2-6defbfa87029>:19: FutureWarning: 'T' is deprecated and will be removed in a future version, please use 'min' instead.\n",
            "  resampled_df = df.resample('5T').agg({\n"
          ]
        },
        {
          "output_type": "stream",
          "name": "stdout",
          "text": [
            "Processed and saved: 26112021.csv\n"
          ]
        },
        {
          "output_type": "stream",
          "name": "stderr",
          "text": [
            "<ipython-input-2-6defbfa87029>:19: FutureWarning: 'T' is deprecated and will be removed in a future version, please use 'min' instead.\n",
            "  resampled_df = df.resample('5T').agg({\n"
          ]
        },
        {
          "output_type": "stream",
          "name": "stdout",
          "text": [
            "Processed and saved: 01122021.csv\n"
          ]
        },
        {
          "output_type": "stream",
          "name": "stderr",
          "text": [
            "<ipython-input-2-6defbfa87029>:19: FutureWarning: 'T' is deprecated and will be removed in a future version, please use 'min' instead.\n",
            "  resampled_df = df.resample('5T').agg({\n"
          ]
        },
        {
          "output_type": "stream",
          "name": "stdout",
          "text": [
            "Processed and saved: 06122021.csv\n"
          ]
        },
        {
          "output_type": "stream",
          "name": "stderr",
          "text": [
            "<ipython-input-2-6defbfa87029>:19: FutureWarning: 'T' is deprecated and will be removed in a future version, please use 'min' instead.\n",
            "  resampled_df = df.resample('5T').agg({\n"
          ]
        },
        {
          "output_type": "stream",
          "name": "stdout",
          "text": [
            "Processed and saved: 07122021.csv\n"
          ]
        },
        {
          "output_type": "stream",
          "name": "stderr",
          "text": [
            "<ipython-input-2-6defbfa87029>:19: FutureWarning: 'T' is deprecated and will be removed in a future version, please use 'min' instead.\n",
            "  resampled_df = df.resample('5T').agg({\n"
          ]
        },
        {
          "output_type": "stream",
          "name": "stdout",
          "text": [
            "Processed and saved: 13122021.csv\n"
          ]
        },
        {
          "output_type": "stream",
          "name": "stderr",
          "text": [
            "<ipython-input-2-6defbfa87029>:19: FutureWarning: 'T' is deprecated and will be removed in a future version, please use 'min' instead.\n",
            "  resampled_df = df.resample('5T').agg({\n"
          ]
        },
        {
          "output_type": "stream",
          "name": "stdout",
          "text": [
            "Processed and saved: 15122021.csv\n"
          ]
        },
        {
          "output_type": "stream",
          "name": "stderr",
          "text": [
            "<ipython-input-2-6defbfa87029>:19: FutureWarning: 'T' is deprecated and will be removed in a future version, please use 'min' instead.\n",
            "  resampled_df = df.resample('5T').agg({\n"
          ]
        },
        {
          "output_type": "stream",
          "name": "stdout",
          "text": [
            "Processed and saved: 14122021.csv\n"
          ]
        },
        {
          "output_type": "stream",
          "name": "stderr",
          "text": [
            "<ipython-input-2-6defbfa87029>:19: FutureWarning: 'T' is deprecated and will be removed in a future version, please use 'min' instead.\n",
            "  resampled_df = df.resample('5T').agg({\n"
          ]
        },
        {
          "output_type": "stream",
          "name": "stdout",
          "text": [
            "Processed and saved: 20122021.csv\n"
          ]
        },
        {
          "output_type": "stream",
          "name": "stderr",
          "text": [
            "<ipython-input-2-6defbfa87029>:19: FutureWarning: 'T' is deprecated and will be removed in a future version, please use 'min' instead.\n",
            "  resampled_df = df.resample('5T').agg({\n"
          ]
        },
        {
          "output_type": "stream",
          "name": "stdout",
          "text": [
            "Processed and saved: 27122021.csv\n"
          ]
        },
        {
          "output_type": "stream",
          "name": "stderr",
          "text": [
            "<ipython-input-2-6defbfa87029>:19: FutureWarning: 'T' is deprecated and will be removed in a future version, please use 'min' instead.\n",
            "  resampled_df = df.resample('5T').agg({\n"
          ]
        },
        {
          "output_type": "stream",
          "name": "stdout",
          "text": [
            "Processed and saved: 07012022.csv\n"
          ]
        },
        {
          "output_type": "stream",
          "name": "stderr",
          "text": [
            "<ipython-input-2-6defbfa87029>:19: FutureWarning: 'T' is deprecated and will be removed in a future version, please use 'min' instead.\n",
            "  resampled_df = df.resample('5T').agg({\n"
          ]
        },
        {
          "output_type": "stream",
          "name": "stdout",
          "text": [
            "Processed and saved: 06012022.csv\n"
          ]
        },
        {
          "output_type": "stream",
          "name": "stderr",
          "text": [
            "<ipython-input-2-6defbfa87029>:19: FutureWarning: 'T' is deprecated and will be removed in a future version, please use 'min' instead.\n",
            "  resampled_df = df.resample('5T').agg({\n"
          ]
        },
        {
          "output_type": "stream",
          "name": "stdout",
          "text": [
            "Processed and saved: 13012022.csv\n"
          ]
        },
        {
          "output_type": "stream",
          "name": "stderr",
          "text": [
            "<ipython-input-2-6defbfa87029>:19: FutureWarning: 'T' is deprecated and will be removed in a future version, please use 'min' instead.\n",
            "  resampled_df = df.resample('5T').agg({\n"
          ]
        },
        {
          "output_type": "stream",
          "name": "stdout",
          "text": [
            "Processed and saved: 12012022.csv\n"
          ]
        },
        {
          "output_type": "stream",
          "name": "stderr",
          "text": [
            "<ipython-input-2-6defbfa87029>:19: FutureWarning: 'T' is deprecated and will be removed in a future version, please use 'min' instead.\n",
            "  resampled_df = df.resample('5T').agg({\n"
          ]
        },
        {
          "output_type": "stream",
          "name": "stdout",
          "text": [
            "Processed and saved: 18012022.csv\n"
          ]
        },
        {
          "output_type": "stream",
          "name": "stderr",
          "text": [
            "<ipython-input-2-6defbfa87029>:19: FutureWarning: 'T' is deprecated and will be removed in a future version, please use 'min' instead.\n",
            "  resampled_df = df.resample('5T').agg({\n"
          ]
        },
        {
          "output_type": "stream",
          "name": "stdout",
          "text": [
            "Processed and saved: 14012022.csv\n"
          ]
        },
        {
          "output_type": "stream",
          "name": "stderr",
          "text": [
            "<ipython-input-2-6defbfa87029>:19: FutureWarning: 'T' is deprecated and will be removed in a future version, please use 'min' instead.\n",
            "  resampled_df = df.resample('5T').agg({\n"
          ]
        },
        {
          "output_type": "stream",
          "name": "stdout",
          "text": [
            "Processed and saved: 19012022.csv\n"
          ]
        },
        {
          "output_type": "stream",
          "name": "stderr",
          "text": [
            "<ipython-input-2-6defbfa87029>:19: FutureWarning: 'T' is deprecated and will be removed in a future version, please use 'min' instead.\n",
            "  resampled_df = df.resample('5T').agg({\n"
          ]
        },
        {
          "output_type": "stream",
          "name": "stdout",
          "text": [
            "Processed and saved: 21012022.csv\n"
          ]
        },
        {
          "output_type": "stream",
          "name": "stderr",
          "text": [
            "<ipython-input-2-6defbfa87029>:19: FutureWarning: 'T' is deprecated and will be removed in a future version, please use 'min' instead.\n",
            "  resampled_df = df.resample('5T').agg({\n"
          ]
        },
        {
          "output_type": "stream",
          "name": "stdout",
          "text": [
            "Processed and saved: 01022022.csv\n"
          ]
        },
        {
          "output_type": "stream",
          "name": "stderr",
          "text": [
            "<ipython-input-2-6defbfa87029>:19: FutureWarning: 'T' is deprecated and will be removed in a future version, please use 'min' instead.\n",
            "  resampled_df = df.resample('5T').agg({\n"
          ]
        },
        {
          "output_type": "stream",
          "name": "stdout",
          "text": [
            "Processed and saved: 27012022.csv\n"
          ]
        },
        {
          "output_type": "stream",
          "name": "stderr",
          "text": [
            "<ipython-input-2-6defbfa87029>:19: FutureWarning: 'T' is deprecated and will be removed in a future version, please use 'min' instead.\n",
            "  resampled_df = df.resample('5T').agg({\n"
          ]
        },
        {
          "output_type": "stream",
          "name": "stdout",
          "text": [
            "Processed and saved: 07022022.csv\n"
          ]
        },
        {
          "output_type": "stream",
          "name": "stderr",
          "text": [
            "<ipython-input-2-6defbfa87029>:19: FutureWarning: 'T' is deprecated and will be removed in a future version, please use 'min' instead.\n",
            "  resampled_df = df.resample('5T').agg({\n"
          ]
        },
        {
          "output_type": "stream",
          "name": "stdout",
          "text": [
            "Processed and saved: 15022022.csv\n"
          ]
        },
        {
          "output_type": "stream",
          "name": "stderr",
          "text": [
            "<ipython-input-2-6defbfa87029>:19: FutureWarning: 'T' is deprecated and will be removed in a future version, please use 'min' instead.\n",
            "  resampled_df = df.resample('5T').agg({\n"
          ]
        },
        {
          "output_type": "stream",
          "name": "stdout",
          "text": [
            "Processed and saved: 14022022.csv\n"
          ]
        },
        {
          "output_type": "stream",
          "name": "stderr",
          "text": [
            "<ipython-input-2-6defbfa87029>:19: FutureWarning: 'T' is deprecated and will be removed in a future version, please use 'min' instead.\n",
            "  resampled_df = df.resample('5T').agg({\n"
          ]
        },
        {
          "output_type": "stream",
          "name": "stdout",
          "text": [
            "Processed and saved: 18022022.csv\n"
          ]
        },
        {
          "output_type": "stream",
          "name": "stderr",
          "text": [
            "<ipython-input-2-6defbfa87029>:19: FutureWarning: 'T' is deprecated and will be removed in a future version, please use 'min' instead.\n",
            "  resampled_df = df.resample('5T').agg({\n"
          ]
        },
        {
          "output_type": "stream",
          "name": "stdout",
          "text": [
            "Processed and saved: 21022022.csv\n"
          ]
        },
        {
          "output_type": "stream",
          "name": "stderr",
          "text": [
            "<ipython-input-2-6defbfa87029>:19: FutureWarning: 'T' is deprecated and will be removed in a future version, please use 'min' instead.\n",
            "  resampled_df = df.resample('5T').agg({\n"
          ]
        },
        {
          "output_type": "stream",
          "name": "stdout",
          "text": [
            "Processed and saved: 07032022.csv\n"
          ]
        },
        {
          "output_type": "stream",
          "name": "stderr",
          "text": [
            "<ipython-input-2-6defbfa87029>:19: FutureWarning: 'T' is deprecated and will be removed in a future version, please use 'min' instead.\n",
            "  resampled_df = df.resample('5T').agg({\n"
          ]
        },
        {
          "output_type": "stream",
          "name": "stdout",
          "text": [
            "Processed and saved: 14032022.csv\n"
          ]
        },
        {
          "output_type": "stream",
          "name": "stderr",
          "text": [
            "<ipython-input-2-6defbfa87029>:19: FutureWarning: 'T' is deprecated and will be removed in a future version, please use 'min' instead.\n",
            "  resampled_df = df.resample('5T').agg({\n"
          ]
        },
        {
          "output_type": "stream",
          "name": "stdout",
          "text": [
            "Processed and saved: 15032022.csv\n"
          ]
        },
        {
          "output_type": "stream",
          "name": "stderr",
          "text": [
            "<ipython-input-2-6defbfa87029>:19: FutureWarning: 'T' is deprecated and will be removed in a future version, please use 'min' instead.\n",
            "  resampled_df = df.resample('5T').agg({\n"
          ]
        },
        {
          "output_type": "stream",
          "name": "stdout",
          "text": [
            "Processed and saved: 21032022.csv\n"
          ]
        },
        {
          "output_type": "stream",
          "name": "stderr",
          "text": [
            "<ipython-input-2-6defbfa87029>:19: FutureWarning: 'T' is deprecated and will be removed in a future version, please use 'min' instead.\n",
            "  resampled_df = df.resample('5T').agg({\n"
          ]
        },
        {
          "output_type": "stream",
          "name": "stdout",
          "text": [
            "Processed and saved: 04042022.csv\n"
          ]
        },
        {
          "output_type": "stream",
          "name": "stderr",
          "text": [
            "<ipython-input-2-6defbfa87029>:19: FutureWarning: 'T' is deprecated and will be removed in a future version, please use 'min' instead.\n",
            "  resampled_df = df.resample('5T').agg({\n"
          ]
        },
        {
          "output_type": "stream",
          "name": "stdout",
          "text": [
            "Processed and saved: 05042022.csv\n"
          ]
        },
        {
          "output_type": "stream",
          "name": "stderr",
          "text": [
            "<ipython-input-2-6defbfa87029>:19: FutureWarning: 'T' is deprecated and will be removed in a future version, please use 'min' instead.\n",
            "  resampled_df = df.resample('5T').agg({\n"
          ]
        },
        {
          "output_type": "stream",
          "name": "stdout",
          "text": [
            "Processed and saved: 08042022.csv\n"
          ]
        },
        {
          "output_type": "stream",
          "name": "stderr",
          "text": [
            "<ipython-input-2-6defbfa87029>:19: FutureWarning: 'T' is deprecated and will be removed in a future version, please use 'min' instead.\n",
            "  resampled_df = df.resample('5T').agg({\n"
          ]
        },
        {
          "output_type": "stream",
          "name": "stdout",
          "text": [
            "Processed and saved: 11042022.csv\n"
          ]
        },
        {
          "output_type": "stream",
          "name": "stderr",
          "text": [
            "<ipython-input-2-6defbfa87029>:19: FutureWarning: 'T' is deprecated and will be removed in a future version, please use 'min' instead.\n",
            "  resampled_df = df.resample('5T').agg({\n"
          ]
        },
        {
          "output_type": "stream",
          "name": "stdout",
          "text": [
            "Processed and saved: 22042022.csv\n"
          ]
        },
        {
          "output_type": "stream",
          "name": "stderr",
          "text": [
            "<ipython-input-2-6defbfa87029>:19: FutureWarning: 'T' is deprecated and will be removed in a future version, please use 'min' instead.\n",
            "  resampled_df = df.resample('5T').agg({\n"
          ]
        },
        {
          "output_type": "stream",
          "name": "stdout",
          "text": [
            "Processed and saved: 25042022.csv\n"
          ]
        },
        {
          "output_type": "stream",
          "name": "stderr",
          "text": [
            "<ipython-input-2-6defbfa87029>:19: FutureWarning: 'T' is deprecated and will be removed in a future version, please use 'min' instead.\n",
            "  resampled_df = df.resample('5T').agg({\n"
          ]
        },
        {
          "output_type": "stream",
          "name": "stdout",
          "text": [
            "Processed and saved: 28042022.csv\n"
          ]
        },
        {
          "output_type": "stream",
          "name": "stderr",
          "text": [
            "<ipython-input-2-6defbfa87029>:19: FutureWarning: 'T' is deprecated and will be removed in a future version, please use 'min' instead.\n",
            "  resampled_df = df.resample('5T').agg({\n"
          ]
        },
        {
          "output_type": "stream",
          "name": "stdout",
          "text": [
            "Processed and saved: 29042022.csv\n"
          ]
        },
        {
          "output_type": "stream",
          "name": "stderr",
          "text": [
            "<ipython-input-2-6defbfa87029>:19: FutureWarning: 'T' is deprecated and will be removed in a future version, please use 'min' instead.\n",
            "  resampled_df = df.resample('5T').agg({\n"
          ]
        },
        {
          "output_type": "stream",
          "name": "stdout",
          "text": [
            "Processed and saved: 04052022.csv\n"
          ]
        },
        {
          "output_type": "stream",
          "name": "stderr",
          "text": [
            "<ipython-input-2-6defbfa87029>:19: FutureWarning: 'T' is deprecated and will be removed in a future version, please use 'min' instead.\n",
            "  resampled_df = df.resample('5T').agg({\n"
          ]
        },
        {
          "output_type": "stream",
          "name": "stdout",
          "text": [
            "Processed and saved: 05052022.csv\n"
          ]
        },
        {
          "output_type": "stream",
          "name": "stderr",
          "text": [
            "<ipython-input-2-6defbfa87029>:19: FutureWarning: 'T' is deprecated and will be removed in a future version, please use 'min' instead.\n",
            "  resampled_df = df.resample('5T').agg({\n"
          ]
        },
        {
          "output_type": "stream",
          "name": "stdout",
          "text": [
            "Processed and saved: 10052022.csv\n"
          ]
        },
        {
          "output_type": "stream",
          "name": "stderr",
          "text": [
            "<ipython-input-2-6defbfa87029>:19: FutureWarning: 'T' is deprecated and will be removed in a future version, please use 'min' instead.\n",
            "  resampled_df = df.resample('5T').agg({\n"
          ]
        },
        {
          "output_type": "stream",
          "name": "stdout",
          "text": [
            "Processed and saved: 09052022.csv\n"
          ]
        },
        {
          "output_type": "stream",
          "name": "stderr",
          "text": [
            "<ipython-input-2-6defbfa87029>:19: FutureWarning: 'T' is deprecated and will be removed in a future version, please use 'min' instead.\n",
            "  resampled_df = df.resample('5T').agg({\n"
          ]
        },
        {
          "output_type": "stream",
          "name": "stdout",
          "text": [
            "Processed and saved: 11052022.csv\n"
          ]
        },
        {
          "output_type": "stream",
          "name": "stderr",
          "text": [
            "<ipython-input-2-6defbfa87029>:19: FutureWarning: 'T' is deprecated and will be removed in a future version, please use 'min' instead.\n",
            "  resampled_df = df.resample('5T').agg({\n"
          ]
        },
        {
          "output_type": "stream",
          "name": "stdout",
          "text": [
            "Processed and saved: 16052022.csv\n"
          ]
        },
        {
          "output_type": "stream",
          "name": "stderr",
          "text": [
            "<ipython-input-2-6defbfa87029>:19: FutureWarning: 'T' is deprecated and will be removed in a future version, please use 'min' instead.\n",
            "  resampled_df = df.resample('5T').agg({\n"
          ]
        },
        {
          "output_type": "stream",
          "name": "stdout",
          "text": [
            "Processed and saved: 17052022.csv\n"
          ]
        },
        {
          "output_type": "stream",
          "name": "stderr",
          "text": [
            "<ipython-input-2-6defbfa87029>:19: FutureWarning: 'T' is deprecated and will be removed in a future version, please use 'min' instead.\n",
            "  resampled_df = df.resample('5T').agg({\n"
          ]
        },
        {
          "output_type": "stream",
          "name": "stdout",
          "text": [
            "Processed and saved: 25052022.csv\n"
          ]
        },
        {
          "output_type": "stream",
          "name": "stderr",
          "text": [
            "<ipython-input-2-6defbfa87029>:19: FutureWarning: 'T' is deprecated and will be removed in a future version, please use 'min' instead.\n",
            "  resampled_df = df.resample('5T').agg({\n"
          ]
        },
        {
          "output_type": "stream",
          "name": "stdout",
          "text": [
            "Processed and saved: 24052022.csv\n"
          ]
        },
        {
          "output_type": "stream",
          "name": "stderr",
          "text": [
            "<ipython-input-2-6defbfa87029>:19: FutureWarning: 'T' is deprecated and will be removed in a future version, please use 'min' instead.\n",
            "  resampled_df = df.resample('5T').agg({\n"
          ]
        },
        {
          "output_type": "stream",
          "name": "stdout",
          "text": [
            "Processed and saved: 30052022.csv\n"
          ]
        },
        {
          "output_type": "stream",
          "name": "stderr",
          "text": [
            "<ipython-input-2-6defbfa87029>:19: FutureWarning: 'T' is deprecated and will be removed in a future version, please use 'min' instead.\n",
            "  resampled_df = df.resample('5T').agg({\n"
          ]
        },
        {
          "output_type": "stream",
          "name": "stdout",
          "text": [
            "Processed and saved: 31052022.csv\n"
          ]
        },
        {
          "output_type": "stream",
          "name": "stderr",
          "text": [
            "<ipython-input-2-6defbfa87029>:19: FutureWarning: 'T' is deprecated and will be removed in a future version, please use 'min' instead.\n",
            "  resampled_df = df.resample('5T').agg({\n"
          ]
        },
        {
          "output_type": "stream",
          "name": "stdout",
          "text": [
            "Processed and saved: 02062022.csv\n"
          ]
        },
        {
          "output_type": "stream",
          "name": "stderr",
          "text": [
            "<ipython-input-2-6defbfa87029>:19: FutureWarning: 'T' is deprecated and will be removed in a future version, please use 'min' instead.\n",
            "  resampled_df = df.resample('5T').agg({\n"
          ]
        },
        {
          "output_type": "stream",
          "name": "stdout",
          "text": [
            "Processed and saved: 03062022.csv\n"
          ]
        },
        {
          "output_type": "stream",
          "name": "stderr",
          "text": [
            "<ipython-input-2-6defbfa87029>:19: FutureWarning: 'T' is deprecated and will be removed in a future version, please use 'min' instead.\n",
            "  resampled_df = df.resample('5T').agg({\n"
          ]
        },
        {
          "output_type": "stream",
          "name": "stdout",
          "text": [
            "Processed and saved: 09062022.csv\n"
          ]
        },
        {
          "output_type": "stream",
          "name": "stderr",
          "text": [
            "<ipython-input-2-6defbfa87029>:19: FutureWarning: 'T' is deprecated and will be removed in a future version, please use 'min' instead.\n",
            "  resampled_df = df.resample('5T').agg({\n"
          ]
        },
        {
          "output_type": "stream",
          "name": "stdout",
          "text": [
            "Processed and saved: 08062022.csv\n"
          ]
        },
        {
          "output_type": "stream",
          "name": "stderr",
          "text": [
            "<ipython-input-2-6defbfa87029>:19: FutureWarning: 'T' is deprecated and will be removed in a future version, please use 'min' instead.\n",
            "  resampled_df = df.resample('5T').agg({\n"
          ]
        },
        {
          "output_type": "stream",
          "name": "stdout",
          "text": [
            "Processed and saved: 10062022.csv\n"
          ]
        },
        {
          "output_type": "stream",
          "name": "stderr",
          "text": [
            "<ipython-input-2-6defbfa87029>:19: FutureWarning: 'T' is deprecated and will be removed in a future version, please use 'min' instead.\n",
            "  resampled_df = df.resample('5T').agg({\n"
          ]
        },
        {
          "output_type": "stream",
          "name": "stdout",
          "text": [
            "Processed and saved: 17062022.csv\n"
          ]
        },
        {
          "output_type": "stream",
          "name": "stderr",
          "text": [
            "<ipython-input-2-6defbfa87029>:19: FutureWarning: 'T' is deprecated and will be removed in a future version, please use 'min' instead.\n",
            "  resampled_df = df.resample('5T').agg({\n"
          ]
        },
        {
          "output_type": "stream",
          "name": "stdout",
          "text": [
            "Processed and saved: 16062022.csv\n"
          ]
        },
        {
          "output_type": "stream",
          "name": "stderr",
          "text": [
            "<ipython-input-2-6defbfa87029>:19: FutureWarning: 'T' is deprecated and will be removed in a future version, please use 'min' instead.\n",
            "  resampled_df = df.resample('5T').agg({\n"
          ]
        },
        {
          "output_type": "stream",
          "name": "stdout",
          "text": [
            "Processed and saved: 22062022.csv\n"
          ]
        },
        {
          "output_type": "stream",
          "name": "stderr",
          "text": [
            "<ipython-input-2-6defbfa87029>:19: FutureWarning: 'T' is deprecated and will be removed in a future version, please use 'min' instead.\n",
            "  resampled_df = df.resample('5T').agg({\n"
          ]
        },
        {
          "output_type": "stream",
          "name": "stdout",
          "text": [
            "Processed and saved: 24062022.csv\n"
          ]
        },
        {
          "output_type": "stream",
          "name": "stderr",
          "text": [
            "<ipython-input-2-6defbfa87029>:19: FutureWarning: 'T' is deprecated and will be removed in a future version, please use 'min' instead.\n",
            "  resampled_df = df.resample('5T').agg({\n"
          ]
        },
        {
          "output_type": "stream",
          "name": "stdout",
          "text": [
            "Processed and saved: 23062022.csv\n"
          ]
        },
        {
          "output_type": "stream",
          "name": "stderr",
          "text": [
            "<ipython-input-2-6defbfa87029>:19: FutureWarning: 'T' is deprecated and will be removed in a future version, please use 'min' instead.\n",
            "  resampled_df = df.resample('5T').agg({\n"
          ]
        },
        {
          "output_type": "stream",
          "name": "stdout",
          "text": [
            "Processed and saved: 28062022.csv\n"
          ]
        },
        {
          "output_type": "stream",
          "name": "stderr",
          "text": [
            "<ipython-input-2-6defbfa87029>:19: FutureWarning: 'T' is deprecated and will be removed in a future version, please use 'min' instead.\n",
            "  resampled_df = df.resample('5T').agg({\n"
          ]
        },
        {
          "output_type": "stream",
          "name": "stdout",
          "text": [
            "Processed and saved: 29062022.csv\n"
          ]
        },
        {
          "output_type": "stream",
          "name": "stderr",
          "text": [
            "<ipython-input-2-6defbfa87029>:19: FutureWarning: 'T' is deprecated and will be removed in a future version, please use 'min' instead.\n",
            "  resampled_df = df.resample('5T').agg({\n"
          ]
        },
        {
          "output_type": "stream",
          "name": "stdout",
          "text": [
            "Processed and saved: 30062022.csv\n"
          ]
        },
        {
          "output_type": "stream",
          "name": "stderr",
          "text": [
            "<ipython-input-2-6defbfa87029>:19: FutureWarning: 'T' is deprecated and will be removed in a future version, please use 'min' instead.\n",
            "  resampled_df = df.resample('5T').agg({\n"
          ]
        },
        {
          "output_type": "stream",
          "name": "stdout",
          "text": [
            "Processed and saved: 04072022.csv\n"
          ]
        },
        {
          "output_type": "stream",
          "name": "stderr",
          "text": [
            "<ipython-input-2-6defbfa87029>:19: FutureWarning: 'T' is deprecated and will be removed in a future version, please use 'min' instead.\n",
            "  resampled_df = df.resample('5T').agg({\n"
          ]
        },
        {
          "output_type": "stream",
          "name": "stdout",
          "text": [
            "Processed and saved: 08072022.csv\n"
          ]
        },
        {
          "output_type": "stream",
          "name": "stderr",
          "text": [
            "<ipython-input-2-6defbfa87029>:19: FutureWarning: 'T' is deprecated and will be removed in a future version, please use 'min' instead.\n",
            "  resampled_df = df.resample('5T').agg({\n"
          ]
        },
        {
          "output_type": "stream",
          "name": "stdout",
          "text": [
            "Processed and saved: 22072022.csv\n"
          ]
        },
        {
          "output_type": "stream",
          "name": "stderr",
          "text": [
            "<ipython-input-2-6defbfa87029>:19: FutureWarning: 'T' is deprecated and will be removed in a future version, please use 'min' instead.\n",
            "  resampled_df = df.resample('5T').agg({\n"
          ]
        },
        {
          "output_type": "stream",
          "name": "stdout",
          "text": [
            "Processed and saved: 25072022.csv\n"
          ]
        },
        {
          "output_type": "stream",
          "name": "stderr",
          "text": [
            "<ipython-input-2-6defbfa87029>:19: FutureWarning: 'T' is deprecated and will be removed in a future version, please use 'min' instead.\n",
            "  resampled_df = df.resample('5T').agg({\n"
          ]
        },
        {
          "output_type": "stream",
          "name": "stdout",
          "text": [
            "Processed and saved: 29072022.csv\n"
          ]
        },
        {
          "output_type": "stream",
          "name": "stderr",
          "text": [
            "<ipython-input-2-6defbfa87029>:19: FutureWarning: 'T' is deprecated and will be removed in a future version, please use 'min' instead.\n",
            "  resampled_df = df.resample('5T').agg({\n"
          ]
        },
        {
          "output_type": "stream",
          "name": "stdout",
          "text": [
            "Processed and saved: 28072022.csv\n"
          ]
        },
        {
          "output_type": "stream",
          "name": "stderr",
          "text": [
            "<ipython-input-2-6defbfa87029>:19: FutureWarning: 'T' is deprecated and will be removed in a future version, please use 'min' instead.\n",
            "  resampled_df = df.resample('5T').agg({\n"
          ]
        },
        {
          "output_type": "stream",
          "name": "stdout",
          "text": [
            "Processed and saved: 01082022.csv\n"
          ]
        },
        {
          "output_type": "stream",
          "name": "stderr",
          "text": [
            "<ipython-input-2-6defbfa87029>:19: FutureWarning: 'T' is deprecated and will be removed in a future version, please use 'min' instead.\n",
            "  resampled_df = df.resample('5T').agg({\n"
          ]
        },
        {
          "output_type": "stream",
          "name": "stdout",
          "text": [
            "Processed and saved: 12082022.csv\n"
          ]
        },
        {
          "output_type": "stream",
          "name": "stderr",
          "text": [
            "<ipython-input-2-6defbfa87029>:19: FutureWarning: 'T' is deprecated and will be removed in a future version, please use 'min' instead.\n",
            "  resampled_df = df.resample('5T').agg({\n"
          ]
        },
        {
          "output_type": "stream",
          "name": "stdout",
          "text": [
            "Processed and saved: 18082022.csv\n"
          ]
        },
        {
          "output_type": "stream",
          "name": "stderr",
          "text": [
            "<ipython-input-2-6defbfa87029>:19: FutureWarning: 'T' is deprecated and will be removed in a future version, please use 'min' instead.\n",
            "  resampled_df = df.resample('5T').agg({\n"
          ]
        },
        {
          "output_type": "stream",
          "name": "stdout",
          "text": [
            "Processed and saved: 19082022.csv\n"
          ]
        },
        {
          "output_type": "stream",
          "name": "stderr",
          "text": [
            "<ipython-input-2-6defbfa87029>:19: FutureWarning: 'T' is deprecated and will be removed in a future version, please use 'min' instead.\n",
            "  resampled_df = df.resample('5T').agg({\n"
          ]
        },
        {
          "output_type": "stream",
          "name": "stdout",
          "text": [
            "Processed and saved: 26082022.csv\n"
          ]
        },
        {
          "output_type": "stream",
          "name": "stderr",
          "text": [
            "<ipython-input-2-6defbfa87029>:19: FutureWarning: 'T' is deprecated and will be removed in a future version, please use 'min' instead.\n",
            "  resampled_df = df.resample('5T').agg({\n"
          ]
        },
        {
          "output_type": "stream",
          "name": "stdout",
          "text": [
            "Processed and saved: 01092022.csv\n"
          ]
        },
        {
          "output_type": "stream",
          "name": "stderr",
          "text": [
            "<ipython-input-2-6defbfa87029>:19: FutureWarning: 'T' is deprecated and will be removed in a future version, please use 'min' instead.\n",
            "  resampled_df = df.resample('5T').agg({\n"
          ]
        },
        {
          "output_type": "stream",
          "name": "stdout",
          "text": [
            "Processed and saved: 06092022.csv\n"
          ]
        },
        {
          "output_type": "stream",
          "name": "stderr",
          "text": [
            "<ipython-input-2-6defbfa87029>:19: FutureWarning: 'T' is deprecated and will be removed in a future version, please use 'min' instead.\n",
            "  resampled_df = df.resample('5T').agg({\n"
          ]
        },
        {
          "output_type": "stream",
          "name": "stdout",
          "text": [
            "Processed and saved: 12092022.csv\n"
          ]
        },
        {
          "output_type": "stream",
          "name": "stderr",
          "text": [
            "<ipython-input-2-6defbfa87029>:19: FutureWarning: 'T' is deprecated and will be removed in a future version, please use 'min' instead.\n",
            "  resampled_df = df.resample('5T').agg({\n"
          ]
        },
        {
          "output_type": "stream",
          "name": "stdout",
          "text": [
            "Processed and saved: 15092022.csv\n"
          ]
        },
        {
          "output_type": "stream",
          "name": "stderr",
          "text": [
            "<ipython-input-2-6defbfa87029>:19: FutureWarning: 'T' is deprecated and will be removed in a future version, please use 'min' instead.\n",
            "  resampled_df = df.resample('5T').agg({\n"
          ]
        },
        {
          "output_type": "stream",
          "name": "stdout",
          "text": [
            "Processed and saved: 14092022.csv\n"
          ]
        },
        {
          "output_type": "stream",
          "name": "stderr",
          "text": [
            "<ipython-input-2-6defbfa87029>:19: FutureWarning: 'T' is deprecated and will be removed in a future version, please use 'min' instead.\n",
            "  resampled_df = df.resample('5T').agg({\n"
          ]
        },
        {
          "output_type": "stream",
          "name": "stdout",
          "text": [
            "Processed and saved: 19092022.csv\n"
          ]
        },
        {
          "output_type": "stream",
          "name": "stderr",
          "text": [
            "<ipython-input-2-6defbfa87029>:19: FutureWarning: 'T' is deprecated and will be removed in a future version, please use 'min' instead.\n",
            "  resampled_df = df.resample('5T').agg({\n"
          ]
        },
        {
          "output_type": "stream",
          "name": "stdout",
          "text": [
            "Processed and saved: 20092022.csv\n"
          ]
        },
        {
          "output_type": "stream",
          "name": "stderr",
          "text": [
            "<ipython-input-2-6defbfa87029>:19: FutureWarning: 'T' is deprecated and will be removed in a future version, please use 'min' instead.\n",
            "  resampled_df = df.resample('5T').agg({\n"
          ]
        },
        {
          "output_type": "stream",
          "name": "stdout",
          "text": [
            "Processed and saved: 21092022.csv\n"
          ]
        },
        {
          "output_type": "stream",
          "name": "stderr",
          "text": [
            "<ipython-input-2-6defbfa87029>:19: FutureWarning: 'T' is deprecated and will be removed in a future version, please use 'min' instead.\n",
            "  resampled_df = df.resample('5T').agg({\n"
          ]
        },
        {
          "output_type": "stream",
          "name": "stdout",
          "text": [
            "Processed and saved: 26092022.csv\n"
          ]
        },
        {
          "output_type": "stream",
          "name": "stderr",
          "text": [
            "<ipython-input-2-6defbfa87029>:19: FutureWarning: 'T' is deprecated and will be removed in a future version, please use 'min' instead.\n",
            "  resampled_df = df.resample('5T').agg({\n"
          ]
        },
        {
          "output_type": "stream",
          "name": "stdout",
          "text": [
            "Processed and saved: 27092022.csv\n"
          ]
        },
        {
          "output_type": "stream",
          "name": "stderr",
          "text": [
            "<ipython-input-2-6defbfa87029>:19: FutureWarning: 'T' is deprecated and will be removed in a future version, please use 'min' instead.\n",
            "  resampled_df = df.resample('5T').agg({\n"
          ]
        },
        {
          "output_type": "stream",
          "name": "stdout",
          "text": [
            "Processed and saved: 07102022.csv\n"
          ]
        },
        {
          "output_type": "stream",
          "name": "stderr",
          "text": [
            "<ipython-input-2-6defbfa87029>:19: FutureWarning: 'T' is deprecated and will be removed in a future version, please use 'min' instead.\n",
            "  resampled_df = df.resample('5T').agg({\n"
          ]
        },
        {
          "output_type": "stream",
          "name": "stdout",
          "text": [
            "Processed and saved: 06102022.csv\n"
          ]
        },
        {
          "output_type": "stream",
          "name": "stderr",
          "text": [
            "<ipython-input-2-6defbfa87029>:19: FutureWarning: 'T' is deprecated and will be removed in a future version, please use 'min' instead.\n",
            "  resampled_df = df.resample('5T').agg({\n"
          ]
        },
        {
          "output_type": "stream",
          "name": "stdout",
          "text": [
            "Processed and saved: 12102022.csv\n"
          ]
        },
        {
          "output_type": "stream",
          "name": "stderr",
          "text": [
            "<ipython-input-2-6defbfa87029>:19: FutureWarning: 'T' is deprecated and will be removed in a future version, please use 'min' instead.\n",
            "  resampled_df = df.resample('5T').agg({\n"
          ]
        },
        {
          "output_type": "stream",
          "name": "stdout",
          "text": [
            "Processed and saved: 13102022.csv\n"
          ]
        },
        {
          "output_type": "stream",
          "name": "stderr",
          "text": [
            "<ipython-input-2-6defbfa87029>:19: FutureWarning: 'T' is deprecated and will be removed in a future version, please use 'min' instead.\n",
            "  resampled_df = df.resample('5T').agg({\n"
          ]
        },
        {
          "output_type": "stream",
          "name": "stdout",
          "text": [
            "Processed and saved: 14102022.csv\n"
          ]
        },
        {
          "output_type": "stream",
          "name": "stderr",
          "text": [
            "<ipython-input-2-6defbfa87029>:19: FutureWarning: 'T' is deprecated and will be removed in a future version, please use 'min' instead.\n",
            "  resampled_df = df.resample('5T').agg({\n"
          ]
        },
        {
          "output_type": "stream",
          "name": "stdout",
          "text": [
            "Processed and saved: 18102022.csv\n"
          ]
        },
        {
          "output_type": "stream",
          "name": "stderr",
          "text": [
            "<ipython-input-2-6defbfa87029>:19: FutureWarning: 'T' is deprecated and will be removed in a future version, please use 'min' instead.\n",
            "  resampled_df = df.resample('5T').agg({\n"
          ]
        },
        {
          "output_type": "stream",
          "name": "stdout",
          "text": [
            "Processed and saved: 21102022.csv\n"
          ]
        },
        {
          "output_type": "stream",
          "name": "stderr",
          "text": [
            "<ipython-input-2-6defbfa87029>:19: FutureWarning: 'T' is deprecated and will be removed in a future version, please use 'min' instead.\n",
            "  resampled_df = df.resample('5T').agg({\n"
          ]
        },
        {
          "output_type": "stream",
          "name": "stdout",
          "text": [
            "Processed and saved: 20102022.csv\n"
          ]
        },
        {
          "output_type": "stream",
          "name": "stderr",
          "text": [
            "<ipython-input-2-6defbfa87029>:19: FutureWarning: 'T' is deprecated and will be removed in a future version, please use 'min' instead.\n",
            "  resampled_df = df.resample('5T').agg({\n"
          ]
        },
        {
          "output_type": "stream",
          "name": "stdout",
          "text": [
            "Processed and saved: 19102022.csv\n"
          ]
        },
        {
          "output_type": "stream",
          "name": "stderr",
          "text": [
            "<ipython-input-2-6defbfa87029>:19: FutureWarning: 'T' is deprecated and will be removed in a future version, please use 'min' instead.\n",
            "  resampled_df = df.resample('5T').agg({\n"
          ]
        },
        {
          "output_type": "stream",
          "name": "stdout",
          "text": [
            "Processed and saved: 27102022.csv\n"
          ]
        },
        {
          "output_type": "stream",
          "name": "stderr",
          "text": [
            "<ipython-input-2-6defbfa87029>:19: FutureWarning: 'T' is deprecated and will be removed in a future version, please use 'min' instead.\n",
            "  resampled_df = df.resample('5T').agg({\n"
          ]
        },
        {
          "output_type": "stream",
          "name": "stdout",
          "text": [
            "Processed and saved: 01112022.csv\n"
          ]
        },
        {
          "output_type": "stream",
          "name": "stderr",
          "text": [
            "<ipython-input-2-6defbfa87029>:19: FutureWarning: 'T' is deprecated and will be removed in a future version, please use 'min' instead.\n",
            "  resampled_df = df.resample('5T').agg({\n"
          ]
        },
        {
          "output_type": "stream",
          "name": "stdout",
          "text": [
            "Processed and saved: 07112022.csv\n"
          ]
        },
        {
          "output_type": "stream",
          "name": "stderr",
          "text": [
            "<ipython-input-2-6defbfa87029>:19: FutureWarning: 'T' is deprecated and will be removed in a future version, please use 'min' instead.\n",
            "  resampled_df = df.resample('5T').agg({\n"
          ]
        },
        {
          "output_type": "stream",
          "name": "stdout",
          "text": [
            "Processed and saved: 14112022.csv\n"
          ]
        },
        {
          "output_type": "stream",
          "name": "stderr",
          "text": [
            "<ipython-input-2-6defbfa87029>:19: FutureWarning: 'T' is deprecated and will be removed in a future version, please use 'min' instead.\n",
            "  resampled_df = df.resample('5T').agg({\n"
          ]
        },
        {
          "output_type": "stream",
          "name": "stdout",
          "text": [
            "Processed and saved: 15112022.csv\n"
          ]
        },
        {
          "output_type": "stream",
          "name": "stderr",
          "text": [
            "<ipython-input-2-6defbfa87029>:19: FutureWarning: 'T' is deprecated and will be removed in a future version, please use 'min' instead.\n",
            "  resampled_df = df.resample('5T').agg({\n"
          ]
        },
        {
          "output_type": "stream",
          "name": "stdout",
          "text": [
            "Processed and saved: 21112022.csv\n"
          ]
        },
        {
          "output_type": "stream",
          "name": "stderr",
          "text": [
            "<ipython-input-2-6defbfa87029>:19: FutureWarning: 'T' is deprecated and will be removed in a future version, please use 'min' instead.\n",
            "  resampled_df = df.resample('5T').agg({\n"
          ]
        },
        {
          "output_type": "stream",
          "name": "stdout",
          "text": [
            "Processed and saved: 18112022.csv\n"
          ]
        },
        {
          "output_type": "stream",
          "name": "stderr",
          "text": [
            "<ipython-input-2-6defbfa87029>:19: FutureWarning: 'T' is deprecated and will be removed in a future version, please use 'min' instead.\n",
            "  resampled_df = df.resample('5T').agg({\n"
          ]
        },
        {
          "output_type": "stream",
          "name": "stdout",
          "text": [
            "Processed and saved: 01122022.csv\n"
          ]
        },
        {
          "output_type": "stream",
          "name": "stderr",
          "text": [
            "<ipython-input-2-6defbfa87029>:19: FutureWarning: 'T' is deprecated and will be removed in a future version, please use 'min' instead.\n",
            "  resampled_df = df.resample('5T').agg({\n"
          ]
        },
        {
          "output_type": "stream",
          "name": "stdout",
          "text": [
            "Processed and saved: 06122022.csv\n"
          ]
        },
        {
          "output_type": "stream",
          "name": "stderr",
          "text": [
            "<ipython-input-2-6defbfa87029>:19: FutureWarning: 'T' is deprecated and will be removed in a future version, please use 'min' instead.\n",
            "  resampled_df = df.resample('5T').agg({\n"
          ]
        },
        {
          "output_type": "stream",
          "name": "stdout",
          "text": [
            "Processed and saved: 07122022.csv\n"
          ]
        },
        {
          "output_type": "stream",
          "name": "stderr",
          "text": [
            "<ipython-input-2-6defbfa87029>:19: FutureWarning: 'T' is deprecated and will be removed in a future version, please use 'min' instead.\n",
            "  resampled_df = df.resample('5T').agg({\n"
          ]
        },
        {
          "output_type": "stream",
          "name": "stdout",
          "text": [
            "Processed and saved: 13122022.csv\n"
          ]
        },
        {
          "output_type": "stream",
          "name": "stderr",
          "text": [
            "<ipython-input-2-6defbfa87029>:19: FutureWarning: 'T' is deprecated and will be removed in a future version, please use 'min' instead.\n",
            "  resampled_df = df.resample('5T').agg({\n"
          ]
        },
        {
          "output_type": "stream",
          "name": "stdout",
          "text": [
            "Processed and saved: 14122022.csv\n"
          ]
        },
        {
          "output_type": "stream",
          "name": "stderr",
          "text": [
            "<ipython-input-2-6defbfa87029>:19: FutureWarning: 'T' is deprecated and will be removed in a future version, please use 'min' instead.\n",
            "  resampled_df = df.resample('5T').agg({\n"
          ]
        },
        {
          "output_type": "stream",
          "name": "stdout",
          "text": [
            "Processed and saved: 12122022.csv\n"
          ]
        },
        {
          "output_type": "stream",
          "name": "stderr",
          "text": [
            "<ipython-input-2-6defbfa87029>:19: FutureWarning: 'T' is deprecated and will be removed in a future version, please use 'min' instead.\n",
            "  resampled_df = df.resample('5T').agg({\n"
          ]
        },
        {
          "output_type": "stream",
          "name": "stdout",
          "text": [
            "Processed and saved: 20122022.csv\n"
          ]
        },
        {
          "output_type": "stream",
          "name": "stderr",
          "text": [
            "<ipython-input-2-6defbfa87029>:19: FutureWarning: 'T' is deprecated and will be removed in a future version, please use 'min' instead.\n",
            "  resampled_df = df.resample('5T').agg({\n"
          ]
        },
        {
          "output_type": "stream",
          "name": "stdout",
          "text": [
            "Processed and saved: 19122022.csv\n"
          ]
        },
        {
          "output_type": "stream",
          "name": "stderr",
          "text": [
            "<ipython-input-2-6defbfa87029>:19: FutureWarning: 'T' is deprecated and will be removed in a future version, please use 'min' instead.\n",
            "  resampled_df = df.resample('5T').agg({\n"
          ]
        },
        {
          "output_type": "stream",
          "name": "stdout",
          "text": [
            "Processed and saved: 15122022.csv\n"
          ]
        },
        {
          "output_type": "stream",
          "name": "stderr",
          "text": [
            "<ipython-input-2-6defbfa87029>:19: FutureWarning: 'T' is deprecated and will be removed in a future version, please use 'min' instead.\n",
            "  resampled_df = df.resample('5T').agg({\n"
          ]
        },
        {
          "output_type": "stream",
          "name": "stdout",
          "text": [
            "Processed and saved: 21122022.csv\n"
          ]
        },
        {
          "output_type": "stream",
          "name": "stderr",
          "text": [
            "<ipython-input-2-6defbfa87029>:19: FutureWarning: 'T' is deprecated and will be removed in a future version, please use 'min' instead.\n",
            "  resampled_df = df.resample('5T').agg({\n"
          ]
        },
        {
          "output_type": "stream",
          "name": "stdout",
          "text": [
            "Processed and saved: 26122022.csv\n"
          ]
        },
        {
          "output_type": "stream",
          "name": "stderr",
          "text": [
            "<ipython-input-2-6defbfa87029>:19: FutureWarning: 'T' is deprecated and will be removed in a future version, please use 'min' instead.\n",
            "  resampled_df = df.resample('5T').agg({\n"
          ]
        },
        {
          "output_type": "stream",
          "name": "stdout",
          "text": [
            "Processed and saved: 27122022.csv\n"
          ]
        },
        {
          "output_type": "stream",
          "name": "stderr",
          "text": [
            "<ipython-input-2-6defbfa87029>:19: FutureWarning: 'T' is deprecated and will be removed in a future version, please use 'min' instead.\n",
            "  resampled_df = df.resample('5T').agg({\n"
          ]
        },
        {
          "output_type": "stream",
          "name": "stdout",
          "text": [
            "Processed and saved: 06012023.csv\n"
          ]
        },
        {
          "output_type": "stream",
          "name": "stderr",
          "text": [
            "<ipython-input-2-6defbfa87029>:19: FutureWarning: 'T' is deprecated and will be removed in a future version, please use 'min' instead.\n",
            "  resampled_df = df.resample('5T').agg({\n"
          ]
        },
        {
          "output_type": "stream",
          "name": "stdout",
          "text": [
            "Processed and saved: 13012023.csv\n"
          ]
        },
        {
          "output_type": "stream",
          "name": "stderr",
          "text": [
            "<ipython-input-2-6defbfa87029>:19: FutureWarning: 'T' is deprecated and will be removed in a future version, please use 'min' instead.\n",
            "  resampled_df = df.resample('5T').agg({\n"
          ]
        },
        {
          "output_type": "stream",
          "name": "stdout",
          "text": [
            "Processed and saved: 12012023.csv\n"
          ]
        },
        {
          "output_type": "stream",
          "name": "stderr",
          "text": [
            "<ipython-input-2-6defbfa87029>:19: FutureWarning: 'T' is deprecated and will be removed in a future version, please use 'min' instead.\n",
            "  resampled_df = df.resample('5T').agg({\n"
          ]
        },
        {
          "output_type": "stream",
          "name": "stdout",
          "text": [
            "Processed and saved: 19012023.csv\n"
          ]
        },
        {
          "output_type": "stream",
          "name": "stderr",
          "text": [
            "<ipython-input-2-6defbfa87029>:19: FutureWarning: 'T' is deprecated and will be removed in a future version, please use 'min' instead.\n",
            "  resampled_df = df.resample('5T').agg({\n"
          ]
        },
        {
          "output_type": "stream",
          "name": "stdout",
          "text": [
            "Processed and saved: 18012023.csv\n"
          ]
        },
        {
          "output_type": "stream",
          "name": "stderr",
          "text": [
            "<ipython-input-2-6defbfa87029>:19: FutureWarning: 'T' is deprecated and will be removed in a future version, please use 'min' instead.\n",
            "  resampled_df = df.resample('5T').agg({\n"
          ]
        },
        {
          "output_type": "stream",
          "name": "stdout",
          "text": [
            "Processed and saved: 20012023.csv\n"
          ]
        },
        {
          "output_type": "stream",
          "name": "stderr",
          "text": [
            "<ipython-input-2-6defbfa87029>:19: FutureWarning: 'T' is deprecated and will be removed in a future version, please use 'min' instead.\n",
            "  resampled_df = df.resample('5T').agg({\n"
          ]
        },
        {
          "output_type": "stream",
          "name": "stdout",
          "text": [
            "Processed and saved: 27012023.csv\n"
          ]
        },
        {
          "output_type": "stream",
          "name": "stderr",
          "text": [
            "<ipython-input-2-6defbfa87029>:19: FutureWarning: 'T' is deprecated and will be removed in a future version, please use 'min' instead.\n",
            "  resampled_df = df.resample('5T').agg({\n"
          ]
        },
        {
          "output_type": "stream",
          "name": "stdout",
          "text": [
            "Processed and saved: 06022023.csv\n"
          ]
        },
        {
          "output_type": "stream",
          "name": "stderr",
          "text": [
            "<ipython-input-2-6defbfa87029>:19: FutureWarning: 'T' is deprecated and will be removed in a future version, please use 'min' instead.\n",
            "  resampled_df = df.resample('5T').agg({\n"
          ]
        },
        {
          "output_type": "stream",
          "name": "stdout",
          "text": [
            "Processed and saved: 07022023.csv\n"
          ]
        },
        {
          "output_type": "stream",
          "name": "stderr",
          "text": [
            "<ipython-input-2-6defbfa87029>:19: FutureWarning: 'T' is deprecated and will be removed in a future version, please use 'min' instead.\n",
            "  resampled_df = df.resample('5T').agg({\n"
          ]
        },
        {
          "output_type": "stream",
          "name": "stdout",
          "text": [
            "Processed and saved: 14022023.csv\n"
          ]
        },
        {
          "output_type": "stream",
          "name": "stderr",
          "text": [
            "<ipython-input-2-6defbfa87029>:19: FutureWarning: 'T' is deprecated and will be removed in a future version, please use 'min' instead.\n",
            "  resampled_df = df.resample('5T').agg({\n"
          ]
        },
        {
          "output_type": "stream",
          "name": "stdout",
          "text": [
            "Processed and saved: 15022023.csv\n"
          ]
        },
        {
          "output_type": "stream",
          "name": "stderr",
          "text": [
            "<ipython-input-2-6defbfa87029>:19: FutureWarning: 'T' is deprecated and will be removed in a future version, please use 'min' instead.\n",
            "  resampled_df = df.resample('5T').agg({\n"
          ]
        },
        {
          "output_type": "stream",
          "name": "stdout",
          "text": [
            "Processed and saved: 13022023.csv\n"
          ]
        },
        {
          "output_type": "stream",
          "name": "stderr",
          "text": [
            "<ipython-input-2-6defbfa87029>:19: FutureWarning: 'T' is deprecated and will be removed in a future version, please use 'min' instead.\n",
            "  resampled_df = df.resample('5T').agg({\n"
          ]
        },
        {
          "output_type": "stream",
          "name": "stdout",
          "text": [
            "Processed and saved: 21022023.csv\n"
          ]
        },
        {
          "output_type": "stream",
          "name": "stderr",
          "text": [
            "<ipython-input-2-6defbfa87029>:19: FutureWarning: 'T' is deprecated and will be removed in a future version, please use 'min' instead.\n",
            "  resampled_df = df.resample('5T').agg({\n"
          ]
        },
        {
          "output_type": "stream",
          "name": "stdout",
          "text": [
            "Processed and saved: 20022023.csv\n"
          ]
        },
        {
          "output_type": "stream",
          "name": "stderr",
          "text": [
            "<ipython-input-2-6defbfa87029>:19: FutureWarning: 'T' is deprecated and will be removed in a future version, please use 'min' instead.\n",
            "  resampled_df = df.resample('5T').agg({\n"
          ]
        },
        {
          "output_type": "stream",
          "name": "stdout",
          "text": [
            "Processed and saved: 27022023.csv\n"
          ]
        },
        {
          "output_type": "stream",
          "name": "stderr",
          "text": [
            "<ipython-input-2-6defbfa87029>:19: FutureWarning: 'T' is deprecated and will be removed in a future version, please use 'min' instead.\n",
            "  resampled_df = df.resample('5T').agg({\n"
          ]
        },
        {
          "output_type": "stream",
          "name": "stdout",
          "text": [
            "Processed and saved: 01032023.csv\n"
          ]
        },
        {
          "output_type": "stream",
          "name": "stderr",
          "text": [
            "<ipython-input-2-6defbfa87029>:19: FutureWarning: 'T' is deprecated and will be removed in a future version, please use 'min' instead.\n",
            "  resampled_df = df.resample('5T').agg({\n"
          ]
        },
        {
          "output_type": "stream",
          "name": "stdout",
          "text": [
            "Processed and saved: 06032023.csv\n"
          ]
        },
        {
          "output_type": "stream",
          "name": "stderr",
          "text": [
            "<ipython-input-2-6defbfa87029>:19: FutureWarning: 'T' is deprecated and will be removed in a future version, please use 'min' instead.\n",
            "  resampled_df = df.resample('5T').agg({\n"
          ]
        },
        {
          "output_type": "stream",
          "name": "stdout",
          "text": [
            "Processed and saved: 14032023.csv\n"
          ]
        },
        {
          "output_type": "stream",
          "name": "stderr",
          "text": [
            "<ipython-input-2-6defbfa87029>:19: FutureWarning: 'T' is deprecated and will be removed in a future version, please use 'min' instead.\n",
            "  resampled_df = df.resample('5T').agg({\n"
          ]
        },
        {
          "output_type": "stream",
          "name": "stdout",
          "text": [
            "Processed and saved: 13032023.csv\n"
          ]
        },
        {
          "output_type": "stream",
          "name": "stderr",
          "text": [
            "<ipython-input-2-6defbfa87029>:19: FutureWarning: 'T' is deprecated and will be removed in a future version, please use 'min' instead.\n",
            "  resampled_df = df.resample('5T').agg({\n"
          ]
        },
        {
          "output_type": "stream",
          "name": "stdout",
          "text": [
            "Processed and saved: 15032023.csv\n"
          ]
        },
        {
          "output_type": "stream",
          "name": "stderr",
          "text": [
            "<ipython-input-2-6defbfa87029>:19: FutureWarning: 'T' is deprecated and will be removed in a future version, please use 'min' instead.\n",
            "  resampled_df = df.resample('5T').agg({\n"
          ]
        },
        {
          "output_type": "stream",
          "name": "stdout",
          "text": [
            "Processed and saved: 21032023.csv\n"
          ]
        },
        {
          "output_type": "stream",
          "name": "stderr",
          "text": [
            "<ipython-input-2-6defbfa87029>:19: FutureWarning: 'T' is deprecated and will be removed in a future version, please use 'min' instead.\n",
            "  resampled_df = df.resample('5T').agg({\n"
          ]
        },
        {
          "output_type": "stream",
          "name": "stdout",
          "text": [
            "Processed and saved: 20032023.csv\n"
          ]
        },
        {
          "output_type": "stream",
          "name": "stderr",
          "text": [
            "<ipython-input-2-6defbfa87029>:19: FutureWarning: 'T' is deprecated and will be removed in a future version, please use 'min' instead.\n",
            "  resampled_df = df.resample('5T').agg({\n"
          ]
        },
        {
          "output_type": "stream",
          "name": "stdout",
          "text": [
            "Processed and saved: 03042023.csv\n"
          ]
        },
        {
          "output_type": "stream",
          "name": "stderr",
          "text": [
            "<ipython-input-2-6defbfa87029>:19: FutureWarning: 'T' is deprecated and will be removed in a future version, please use 'min' instead.\n",
            "  resampled_df = df.resample('5T').agg({\n"
          ]
        },
        {
          "output_type": "stream",
          "name": "stdout",
          "text": [
            "Processed and saved: 11042023.csv\n"
          ]
        },
        {
          "output_type": "stream",
          "name": "stderr",
          "text": [
            "<ipython-input-2-6defbfa87029>:19: FutureWarning: 'T' is deprecated and will be removed in a future version, please use 'min' instead.\n",
            "  resampled_df = df.resample('5T').agg({\n"
          ]
        },
        {
          "output_type": "stream",
          "name": "stdout",
          "text": [
            "Processed and saved: 05042023.csv\n"
          ]
        },
        {
          "output_type": "stream",
          "name": "stderr",
          "text": [
            "<ipython-input-2-6defbfa87029>:19: FutureWarning: 'T' is deprecated and will be removed in a future version, please use 'min' instead.\n",
            "  resampled_df = df.resample('5T').agg({\n"
          ]
        },
        {
          "output_type": "stream",
          "name": "stdout",
          "text": [
            "Processed and saved: 10042023.csv\n"
          ]
        },
        {
          "output_type": "stream",
          "name": "stderr",
          "text": [
            "<ipython-input-2-6defbfa87029>:19: FutureWarning: 'T' is deprecated and will be removed in a future version, please use 'min' instead.\n",
            "  resampled_df = df.resample('5T').agg({\n"
          ]
        },
        {
          "output_type": "stream",
          "name": "stdout",
          "text": [
            "Processed and saved: 17042023.csv\n"
          ]
        },
        {
          "output_type": "stream",
          "name": "stderr",
          "text": [
            "<ipython-input-2-6defbfa87029>:19: FutureWarning: 'T' is deprecated and will be removed in a future version, please use 'min' instead.\n",
            "  resampled_df = df.resample('5T').agg({\n"
          ]
        },
        {
          "output_type": "stream",
          "name": "stdout",
          "text": [
            "Processed and saved: 24042023.csv\n"
          ]
        },
        {
          "output_type": "stream",
          "name": "stderr",
          "text": [
            "<ipython-input-2-6defbfa87029>:19: FutureWarning: 'T' is deprecated and will be removed in a future version, please use 'min' instead.\n",
            "  resampled_df = df.resample('5T').agg({\n"
          ]
        },
        {
          "output_type": "stream",
          "name": "stdout",
          "text": [
            "Processed and saved: 25042023.csv\n"
          ]
        },
        {
          "output_type": "stream",
          "name": "stderr",
          "text": [
            "<ipython-input-2-6defbfa87029>:19: FutureWarning: 'T' is deprecated and will be removed in a future version, please use 'min' instead.\n",
            "  resampled_df = df.resample('5T').agg({\n"
          ]
        },
        {
          "output_type": "stream",
          "name": "stdout",
          "text": [
            "Processed and saved: 04052023.csv\n"
          ]
        },
        {
          "output_type": "stream",
          "name": "stderr",
          "text": [
            "<ipython-input-2-6defbfa87029>:19: FutureWarning: 'T' is deprecated and will be removed in a future version, please use 'min' instead.\n",
            "  resampled_df = df.resample('5T').agg({\n"
          ]
        },
        {
          "output_type": "stream",
          "name": "stdout",
          "text": [
            "Processed and saved: 03052023.csv\n"
          ]
        },
        {
          "output_type": "stream",
          "name": "stderr",
          "text": [
            "<ipython-input-2-6defbfa87029>:19: FutureWarning: 'T' is deprecated and will be removed in a future version, please use 'min' instead.\n",
            "  resampled_df = df.resample('5T').agg({\n"
          ]
        },
        {
          "output_type": "stream",
          "name": "stdout",
          "text": [
            "Processed and saved: 05052023.csv\n"
          ]
        },
        {
          "output_type": "stream",
          "name": "stderr",
          "text": [
            "<ipython-input-2-6defbfa87029>:19: FutureWarning: 'T' is deprecated and will be removed in a future version, please use 'min' instead.\n",
            "  resampled_df = df.resample('5T').agg({\n"
          ]
        },
        {
          "output_type": "stream",
          "name": "stdout",
          "text": [
            "Processed and saved: 09052023.csv\n"
          ]
        },
        {
          "output_type": "stream",
          "name": "stderr",
          "text": [
            "<ipython-input-2-6defbfa87029>:19: FutureWarning: 'T' is deprecated and will be removed in a future version, please use 'min' instead.\n",
            "  resampled_df = df.resample('5T').agg({\n"
          ]
        },
        {
          "output_type": "stream",
          "name": "stdout",
          "text": [
            "Processed and saved: 08052023.csv\n"
          ]
        },
        {
          "output_type": "stream",
          "name": "stderr",
          "text": [
            "<ipython-input-2-6defbfa87029>:19: FutureWarning: 'T' is deprecated and will be removed in a future version, please use 'min' instead.\n",
            "  resampled_df = df.resample('5T').agg({\n"
          ]
        },
        {
          "output_type": "stream",
          "name": "stdout",
          "text": [
            "Processed and saved: 10052023.csv\n"
          ]
        },
        {
          "output_type": "stream",
          "name": "stderr",
          "text": [
            "<ipython-input-2-6defbfa87029>:19: FutureWarning: 'T' is deprecated and will be removed in a future version, please use 'min' instead.\n",
            "  resampled_df = df.resample('5T').agg({\n"
          ]
        },
        {
          "output_type": "stream",
          "name": "stdout",
          "text": [
            "Processed and saved: 11052023.csv\n"
          ]
        },
        {
          "output_type": "stream",
          "name": "stderr",
          "text": [
            "<ipython-input-2-6defbfa87029>:19: FutureWarning: 'T' is deprecated and will be removed in a future version, please use 'min' instead.\n",
            "  resampled_df = df.resample('5T').agg({\n"
          ]
        },
        {
          "output_type": "stream",
          "name": "stdout",
          "text": [
            "Processed and saved: 17052023.csv\n"
          ]
        },
        {
          "output_type": "stream",
          "name": "stderr",
          "text": [
            "<ipython-input-2-6defbfa87029>:19: FutureWarning: 'T' is deprecated and will be removed in a future version, please use 'min' instead.\n",
            "  resampled_df = df.resample('5T').agg({\n"
          ]
        },
        {
          "output_type": "stream",
          "name": "stdout",
          "text": [
            "Processed and saved: 23052023.csv\n"
          ]
        },
        {
          "output_type": "stream",
          "name": "stderr",
          "text": [
            "<ipython-input-2-6defbfa87029>:19: FutureWarning: 'T' is deprecated and will be removed in a future version, please use 'min' instead.\n",
            "  resampled_df = df.resample('5T').agg({\n"
          ]
        },
        {
          "output_type": "stream",
          "name": "stdout",
          "text": [
            "Processed and saved: 24052023.csv\n"
          ]
        },
        {
          "output_type": "stream",
          "name": "stderr",
          "text": [
            "<ipython-input-2-6defbfa87029>:19: FutureWarning: 'T' is deprecated and will be removed in a future version, please use 'min' instead.\n",
            "  resampled_df = df.resample('5T').agg({\n"
          ]
        },
        {
          "output_type": "stream",
          "name": "stdout",
          "text": [
            "Processed and saved: 22052023.csv\n"
          ]
        },
        {
          "output_type": "stream",
          "name": "stderr",
          "text": [
            "<ipython-input-2-6defbfa87029>:19: FutureWarning: 'T' is deprecated and will be removed in a future version, please use 'min' instead.\n",
            "  resampled_df = df.resample('5T').agg({\n"
          ]
        },
        {
          "output_type": "stream",
          "name": "stdout",
          "text": [
            "Processed and saved: 30052023.csv\n"
          ]
        },
        {
          "output_type": "stream",
          "name": "stderr",
          "text": [
            "<ipython-input-2-6defbfa87029>:19: FutureWarning: 'T' is deprecated and will be removed in a future version, please use 'min' instead.\n",
            "  resampled_df = df.resample('5T').agg({\n"
          ]
        },
        {
          "output_type": "stream",
          "name": "stdout",
          "text": [
            "Processed and saved: 29052023.csv\n"
          ]
        },
        {
          "output_type": "stream",
          "name": "stderr",
          "text": [
            "<ipython-input-2-6defbfa87029>:19: FutureWarning: 'T' is deprecated and will be removed in a future version, please use 'min' instead.\n",
            "  resampled_df = df.resample('5T').agg({\n"
          ]
        },
        {
          "output_type": "stream",
          "name": "stdout",
          "text": [
            "Processed and saved: 25052023.csv\n"
          ]
        },
        {
          "output_type": "stream",
          "name": "stderr",
          "text": [
            "<ipython-input-2-6defbfa87029>:19: FutureWarning: 'T' is deprecated and will be removed in a future version, please use 'min' instead.\n",
            "  resampled_df = df.resample('5T').agg({\n"
          ]
        },
        {
          "output_type": "stream",
          "name": "stdout",
          "text": [
            "Processed and saved: 05062023.csv\n"
          ]
        },
        {
          "output_type": "stream",
          "name": "stderr",
          "text": [
            "<ipython-input-2-6defbfa87029>:19: FutureWarning: 'T' is deprecated and will be removed in a future version, please use 'min' instead.\n",
            "  resampled_df = df.resample('5T').agg({\n"
          ]
        },
        {
          "output_type": "stream",
          "name": "stdout",
          "text": [
            "Processed and saved: 31052023.csv\n"
          ]
        },
        {
          "output_type": "stream",
          "name": "stderr",
          "text": [
            "<ipython-input-2-6defbfa87029>:19: FutureWarning: 'T' is deprecated and will be removed in a future version, please use 'min' instead.\n",
            "  resampled_df = df.resample('5T').agg({\n"
          ]
        },
        {
          "output_type": "stream",
          "name": "stdout",
          "text": [
            "Processed and saved: 02062023.csv\n"
          ]
        },
        {
          "output_type": "stream",
          "name": "stderr",
          "text": [
            "<ipython-input-2-6defbfa87029>:19: FutureWarning: 'T' is deprecated and will be removed in a future version, please use 'min' instead.\n",
            "  resampled_df = df.resample('5T').agg({\n"
          ]
        },
        {
          "output_type": "stream",
          "name": "stdout",
          "text": [
            "Processed and saved: 08062023.csv\n"
          ]
        },
        {
          "output_type": "stream",
          "name": "stderr",
          "text": [
            "<ipython-input-2-6defbfa87029>:19: FutureWarning: 'T' is deprecated and will be removed in a future version, please use 'min' instead.\n",
            "  resampled_df = df.resample('5T').agg({\n"
          ]
        },
        {
          "output_type": "stream",
          "name": "stdout",
          "text": [
            "Processed and saved: 09062023.csv\n"
          ]
        },
        {
          "output_type": "stream",
          "name": "stderr",
          "text": [
            "<ipython-input-2-6defbfa87029>:19: FutureWarning: 'T' is deprecated and will be removed in a future version, please use 'min' instead.\n",
            "  resampled_df = df.resample('5T').agg({\n"
          ]
        },
        {
          "output_type": "stream",
          "name": "stdout",
          "text": [
            "Processed and saved: 16062023.csv\n"
          ]
        },
        {
          "output_type": "stream",
          "name": "stderr",
          "text": [
            "<ipython-input-2-6defbfa87029>:19: FutureWarning: 'T' is deprecated and will be removed in a future version, please use 'min' instead.\n",
            "  resampled_df = df.resample('5T').agg({\n"
          ]
        },
        {
          "output_type": "stream",
          "name": "stdout",
          "text": [
            "Processed and saved: 22062023.csv\n"
          ]
        },
        {
          "output_type": "stream",
          "name": "stderr",
          "text": [
            "<ipython-input-2-6defbfa87029>:19: FutureWarning: 'T' is deprecated and will be removed in a future version, please use 'min' instead.\n",
            "  resampled_df = df.resample('5T').agg({\n"
          ]
        },
        {
          "output_type": "stream",
          "name": "stdout",
          "text": [
            "Processed and saved: 23062023.csv\n"
          ]
        },
        {
          "output_type": "stream",
          "name": "stderr",
          "text": [
            "<ipython-input-2-6defbfa87029>:19: FutureWarning: 'T' is deprecated and will be removed in a future version, please use 'min' instead.\n",
            "  resampled_df = df.resample('5T').agg({\n"
          ]
        },
        {
          "output_type": "stream",
          "name": "stdout",
          "text": [
            "Processed and saved: 28062023.csv\n"
          ]
        },
        {
          "output_type": "stream",
          "name": "stderr",
          "text": [
            "<ipython-input-2-6defbfa87029>:19: FutureWarning: 'T' is deprecated and will be removed in a future version, please use 'min' instead.\n",
            "  resampled_df = df.resample('5T').agg({\n"
          ]
        },
        {
          "output_type": "stream",
          "name": "stdout",
          "text": [
            "Processed and saved: 03072023.csv\n"
          ]
        },
        {
          "output_type": "stream",
          "name": "stderr",
          "text": [
            "<ipython-input-2-6defbfa87029>:19: FutureWarning: 'T' is deprecated and will be removed in a future version, please use 'min' instead.\n",
            "  resampled_df = df.resample('5T').agg({\n"
          ]
        },
        {
          "output_type": "stream",
          "name": "stdout",
          "text": [
            "Processed and saved: 30062023.csv\n"
          ]
        },
        {
          "output_type": "stream",
          "name": "stderr",
          "text": [
            "<ipython-input-2-6defbfa87029>:19: FutureWarning: 'T' is deprecated and will be removed in a future version, please use 'min' instead.\n",
            "  resampled_df = df.resample('5T').agg({\n"
          ]
        },
        {
          "output_type": "stream",
          "name": "stdout",
          "text": [
            "Processed and saved: 04072023.csv\n"
          ]
        },
        {
          "output_type": "stream",
          "name": "stderr",
          "text": [
            "<ipython-input-2-6defbfa87029>:19: FutureWarning: 'T' is deprecated and will be removed in a future version, please use 'min' instead.\n",
            "  resampled_df = df.resample('5T').agg({\n"
          ]
        },
        {
          "output_type": "stream",
          "name": "stdout",
          "text": [
            "Processed and saved: 05072023.csv\n"
          ]
        },
        {
          "output_type": "stream",
          "name": "stderr",
          "text": [
            "<ipython-input-2-6defbfa87029>:19: FutureWarning: 'T' is deprecated and will be removed in a future version, please use 'min' instead.\n",
            "  resampled_df = df.resample('5T').agg({\n"
          ]
        },
        {
          "output_type": "stream",
          "name": "stdout",
          "text": [
            "Processed and saved: 10072023.csv\n"
          ]
        },
        {
          "output_type": "stream",
          "name": "stderr",
          "text": [
            "<ipython-input-2-6defbfa87029>:19: FutureWarning: 'T' is deprecated and will be removed in a future version, please use 'min' instead.\n",
            "  resampled_df = df.resample('5T').agg({\n"
          ]
        },
        {
          "output_type": "stream",
          "name": "stdout",
          "text": [
            "Processed and saved: 11072023.csv\n"
          ]
        },
        {
          "output_type": "stream",
          "name": "stderr",
          "text": [
            "<ipython-input-2-6defbfa87029>:19: FutureWarning: 'T' is deprecated and will be removed in a future version, please use 'min' instead.\n",
            "  resampled_df = df.resample('5T').agg({\n"
          ]
        },
        {
          "output_type": "stream",
          "name": "stdout",
          "text": [
            "Processed and saved: 17072023.csv\n"
          ]
        },
        {
          "output_type": "stream",
          "name": "stderr",
          "text": [
            "<ipython-input-2-6defbfa87029>:19: FutureWarning: 'T' is deprecated and will be removed in a future version, please use 'min' instead.\n",
            "  resampled_df = df.resample('5T').agg({\n"
          ]
        },
        {
          "output_type": "stream",
          "name": "stdout",
          "text": [
            "Processed and saved: 25072023.csv\n"
          ]
        },
        {
          "output_type": "stream",
          "name": "stderr",
          "text": [
            "<ipython-input-2-6defbfa87029>:19: FutureWarning: 'T' is deprecated and will be removed in a future version, please use 'min' instead.\n",
            "  resampled_df = df.resample('5T').agg({\n"
          ]
        },
        {
          "output_type": "stream",
          "name": "stdout",
          "text": [
            "Processed and saved: 28072023.csv\n"
          ]
        },
        {
          "output_type": "stream",
          "name": "stderr",
          "text": [
            "<ipython-input-2-6defbfa87029>:19: FutureWarning: 'T' is deprecated and will be removed in a future version, please use 'min' instead.\n",
            "  resampled_df = df.resample('5T').agg({\n"
          ]
        },
        {
          "output_type": "stream",
          "name": "stdout",
          "text": [
            "Processed and saved: 01082023.csv\n"
          ]
        },
        {
          "output_type": "stream",
          "name": "stderr",
          "text": [
            "<ipython-input-2-6defbfa87029>:19: FutureWarning: 'T' is deprecated and will be removed in a future version, please use 'min' instead.\n",
            "  resampled_df = df.resample('5T').agg({\n"
          ]
        },
        {
          "output_type": "stream",
          "name": "stdout",
          "text": [
            "Processed and saved: 31072023.csv\n"
          ]
        },
        {
          "output_type": "stream",
          "name": "stderr",
          "text": [
            "<ipython-input-2-6defbfa87029>:19: FutureWarning: 'T' is deprecated and will be removed in a future version, please use 'min' instead.\n",
            "  resampled_df = df.resample('5T').agg({\n"
          ]
        },
        {
          "output_type": "stream",
          "name": "stdout",
          "text": [
            "Processed and saved: 07082023.csv\n"
          ]
        },
        {
          "output_type": "stream",
          "name": "stderr",
          "text": [
            "<ipython-input-2-6defbfa87029>:19: FutureWarning: 'T' is deprecated and will be removed in a future version, please use 'min' instead.\n",
            "  resampled_df = df.resample('5T').agg({\n"
          ]
        },
        {
          "output_type": "stream",
          "name": "stdout",
          "text": [
            "Processed and saved: 14082023.csv\n"
          ]
        },
        {
          "output_type": "stream",
          "name": "stderr",
          "text": [
            "<ipython-input-2-6defbfa87029>:19: FutureWarning: 'T' is deprecated and will be removed in a future version, please use 'min' instead.\n",
            "  resampled_df = df.resample('5T').agg({\n"
          ]
        },
        {
          "output_type": "stream",
          "name": "stdout",
          "text": [
            "Processed and saved: 21082023.csv\n"
          ]
        },
        {
          "output_type": "stream",
          "name": "stderr",
          "text": [
            "<ipython-input-2-6defbfa87029>:19: FutureWarning: 'T' is deprecated and will be removed in a future version, please use 'min' instead.\n",
            "  resampled_df = df.resample('5T').agg({\n"
          ]
        },
        {
          "output_type": "stream",
          "name": "stdout",
          "text": [
            "Processed and saved: 01092023.csv\n"
          ]
        },
        {
          "output_type": "stream",
          "name": "stderr",
          "text": [
            "<ipython-input-2-6defbfa87029>:19: FutureWarning: 'T' is deprecated and will be removed in a future version, please use 'min' instead.\n",
            "  resampled_df = df.resample('5T').agg({\n"
          ]
        },
        {
          "output_type": "stream",
          "name": "stdout",
          "text": [
            "Processed and saved: 06092023.csv\n"
          ]
        },
        {
          "output_type": "stream",
          "name": "stderr",
          "text": [
            "<ipython-input-2-6defbfa87029>:19: FutureWarning: 'T' is deprecated and will be removed in a future version, please use 'min' instead.\n",
            "  resampled_df = df.resample('5T').agg({\n"
          ]
        },
        {
          "output_type": "stream",
          "name": "stdout",
          "text": [
            "Processed and saved: 07092023.csv\n"
          ]
        },
        {
          "output_type": "stream",
          "name": "stderr",
          "text": [
            "<ipython-input-2-6defbfa87029>:19: FutureWarning: 'T' is deprecated and will be removed in a future version, please use 'min' instead.\n",
            "  resampled_df = df.resample('5T').agg({\n"
          ]
        },
        {
          "output_type": "stream",
          "name": "stdout",
          "text": [
            "Processed and saved: 12092023.csv\n"
          ]
        },
        {
          "output_type": "stream",
          "name": "stderr",
          "text": [
            "<ipython-input-2-6defbfa87029>:19: FutureWarning: 'T' is deprecated and will be removed in a future version, please use 'min' instead.\n",
            "  resampled_df = df.resample('5T').agg({\n"
          ]
        },
        {
          "output_type": "stream",
          "name": "stdout",
          "text": [
            "Processed and saved: 13092023.csv\n"
          ]
        },
        {
          "output_type": "stream",
          "name": "stderr",
          "text": [
            "<ipython-input-2-6defbfa87029>:19: FutureWarning: 'T' is deprecated and will be removed in a future version, please use 'min' instead.\n",
            "  resampled_df = df.resample('5T').agg({\n"
          ]
        },
        {
          "output_type": "stream",
          "name": "stdout",
          "text": [
            "Processed and saved: 20092023.csv\n"
          ]
        },
        {
          "output_type": "stream",
          "name": "stderr",
          "text": [
            "<ipython-input-2-6defbfa87029>:19: FutureWarning: 'T' is deprecated and will be removed in a future version, please use 'min' instead.\n",
            "  resampled_df = df.resample('5T').agg({\n"
          ]
        },
        {
          "output_type": "stream",
          "name": "stdout",
          "text": [
            "Processed and saved: 15092023.csv\n"
          ]
        },
        {
          "output_type": "stream",
          "name": "stderr",
          "text": [
            "<ipython-input-2-6defbfa87029>:19: FutureWarning: 'T' is deprecated and will be removed in a future version, please use 'min' instead.\n",
            "  resampled_df = df.resample('5T').agg({\n"
          ]
        },
        {
          "output_type": "stream",
          "name": "stdout",
          "text": [
            "Processed and saved: 18092023.csv\n"
          ]
        },
        {
          "output_type": "stream",
          "name": "stderr",
          "text": [
            "<ipython-input-2-6defbfa87029>:19: FutureWarning: 'T' is deprecated and will be removed in a future version, please use 'min' instead.\n",
            "  resampled_df = df.resample('5T').agg({\n"
          ]
        },
        {
          "output_type": "stream",
          "name": "stdout",
          "text": [
            "Processed and saved: 14092023.csv\n"
          ]
        },
        {
          "output_type": "stream",
          "name": "stderr",
          "text": [
            "<ipython-input-2-6defbfa87029>:19: FutureWarning: 'T' is deprecated and will be removed in a future version, please use 'min' instead.\n",
            "  resampled_df = df.resample('5T').agg({\n"
          ]
        },
        {
          "output_type": "stream",
          "name": "stdout",
          "text": [
            "Processed and saved: 21092023.csv\n"
          ]
        },
        {
          "output_type": "stream",
          "name": "stderr",
          "text": [
            "<ipython-input-2-6defbfa87029>:19: FutureWarning: 'T' is deprecated and will be removed in a future version, please use 'min' instead.\n",
            "  resampled_df = df.resample('5T').agg({\n"
          ]
        },
        {
          "output_type": "stream",
          "name": "stdout",
          "text": [
            "Processed and saved: 27092023.csv\n"
          ]
        },
        {
          "output_type": "stream",
          "name": "stderr",
          "text": [
            "<ipython-input-2-6defbfa87029>:19: FutureWarning: 'T' is deprecated and will be removed in a future version, please use 'min' instead.\n",
            "  resampled_df = df.resample('5T').agg({\n"
          ]
        },
        {
          "output_type": "stream",
          "name": "stdout",
          "text": [
            "Processed and saved: 06102023.csv\n"
          ]
        },
        {
          "output_type": "stream",
          "name": "stderr",
          "text": [
            "<ipython-input-2-6defbfa87029>:19: FutureWarning: 'T' is deprecated and will be removed in a future version, please use 'min' instead.\n",
            "  resampled_df = df.resample('5T').agg({\n"
          ]
        },
        {
          "output_type": "stream",
          "name": "stdout",
          "text": [
            "Processed and saved: 12102023.csv\n"
          ]
        },
        {
          "output_type": "stream",
          "name": "stderr",
          "text": [
            "<ipython-input-2-6defbfa87029>:19: FutureWarning: 'T' is deprecated and will be removed in a future version, please use 'min' instead.\n",
            "  resampled_df = df.resample('5T').agg({\n"
          ]
        },
        {
          "output_type": "stream",
          "name": "stdout",
          "text": [
            "Processed and saved: 13102023.csv\n"
          ]
        },
        {
          "output_type": "stream",
          "name": "stderr",
          "text": [
            "<ipython-input-2-6defbfa87029>:19: FutureWarning: 'T' is deprecated and will be removed in a future version, please use 'min' instead.\n",
            "  resampled_df = df.resample('5T').agg({\n"
          ]
        },
        {
          "output_type": "stream",
          "name": "stdout",
          "text": [
            "Processed and saved: 19102023.csv\n"
          ]
        },
        {
          "output_type": "stream",
          "name": "stderr",
          "text": [
            "<ipython-input-2-6defbfa87029>:19: FutureWarning: 'T' is deprecated and will be removed in a future version, please use 'min' instead.\n",
            "  resampled_df = df.resample('5T').agg({\n"
          ]
        },
        {
          "output_type": "stream",
          "name": "stdout",
          "text": [
            "Processed and saved: 20102023.csv\n"
          ]
        },
        {
          "output_type": "stream",
          "name": "stderr",
          "text": [
            "<ipython-input-2-6defbfa87029>:19: FutureWarning: 'T' is deprecated and will be removed in a future version, please use 'min' instead.\n",
            "  resampled_df = df.resample('5T').agg({\n"
          ]
        },
        {
          "output_type": "stream",
          "name": "stdout",
          "text": [
            "Processed and saved: 18102023.csv\n"
          ]
        },
        {
          "output_type": "stream",
          "name": "stderr",
          "text": [
            "<ipython-input-2-6defbfa87029>:19: FutureWarning: 'T' is deprecated and will be removed in a future version, please use 'min' instead.\n",
            "  resampled_df = df.resample('5T').agg({\n"
          ]
        },
        {
          "output_type": "stream",
          "name": "stdout",
          "text": [
            "Processed and saved: 26102023.csv\n"
          ]
        },
        {
          "output_type": "stream",
          "name": "stderr",
          "text": [
            "<ipython-input-2-6defbfa87029>:19: FutureWarning: 'T' is deprecated and will be removed in a future version, please use 'min' instead.\n",
            "  resampled_df = df.resample('5T').agg({\n"
          ]
        },
        {
          "output_type": "stream",
          "name": "stdout",
          "text": [
            "Processed and saved: 27102023.csv\n"
          ]
        },
        {
          "output_type": "stream",
          "name": "stderr",
          "text": [
            "<ipython-input-2-6defbfa87029>:19: FutureWarning: 'T' is deprecated and will be removed in a future version, please use 'min' instead.\n",
            "  resampled_df = df.resample('5T').agg({\n"
          ]
        },
        {
          "output_type": "stream",
          "name": "stdout",
          "text": [
            "Processed and saved: 01022023.csv\n"
          ]
        },
        {
          "output_type": "stream",
          "name": "stderr",
          "text": [
            "<ipython-input-2-6defbfa87029>:19: FutureWarning: 'T' is deprecated and will be removed in a future version, please use 'min' instead.\n",
            "  resampled_df = df.resample('5T').agg({\n"
          ]
        },
        {
          "output_type": "stream",
          "name": "stdout",
          "text": [
            "Processed and saved: 06112023.csv\n"
          ]
        },
        {
          "output_type": "stream",
          "name": "stderr",
          "text": [
            "<ipython-input-2-6defbfa87029>:19: FutureWarning: 'T' is deprecated and will be removed in a future version, please use 'min' instead.\n",
            "  resampled_df = df.resample('5T').agg({\n"
          ]
        },
        {
          "output_type": "stream",
          "name": "stdout",
          "text": [
            "Processed and saved: 07112023.csv\n"
          ]
        },
        {
          "output_type": "stream",
          "name": "stderr",
          "text": [
            "<ipython-input-2-6defbfa87029>:19: FutureWarning: 'T' is deprecated and will be removed in a future version, please use 'min' instead.\n",
            "  resampled_df = df.resample('5T').agg({\n"
          ]
        },
        {
          "output_type": "stream",
          "name": "stdout",
          "text": [
            "Processed and saved: 13112023.csv\n"
          ]
        },
        {
          "output_type": "stream",
          "name": "stderr",
          "text": [
            "<ipython-input-2-6defbfa87029>:19: FutureWarning: 'T' is deprecated and will be removed in a future version, please use 'min' instead.\n",
            "  resampled_df = df.resample('5T').agg({\n"
          ]
        },
        {
          "output_type": "stream",
          "name": "stdout",
          "text": [
            "Processed and saved: 12112023.csv\n"
          ]
        },
        {
          "output_type": "stream",
          "name": "stderr",
          "text": [
            "<ipython-input-2-6defbfa87029>:19: FutureWarning: 'T' is deprecated and will be removed in a future version, please use 'min' instead.\n",
            "  resampled_df = df.resample('5T').agg({\n"
          ]
        },
        {
          "output_type": "stream",
          "name": "stdout",
          "text": [
            "Processed and saved: 20112023.csv\n"
          ]
        },
        {
          "output_type": "stream",
          "name": "stderr",
          "text": [
            "<ipython-input-2-6defbfa87029>:19: FutureWarning: 'T' is deprecated and will be removed in a future version, please use 'min' instead.\n",
            "  resampled_df = df.resample('5T').agg({\n"
          ]
        },
        {
          "output_type": "stream",
          "name": "stdout",
          "text": [
            "Processed and saved: 21112023.csv\n"
          ]
        },
        {
          "output_type": "stream",
          "name": "stderr",
          "text": [
            "<ipython-input-2-6defbfa87029>:19: FutureWarning: 'T' is deprecated and will be removed in a future version, please use 'min' instead.\n",
            "  resampled_df = df.resample('5T').agg({\n"
          ]
        },
        {
          "output_type": "stream",
          "name": "stdout",
          "text": [
            "Processed and saved: 01122023.csv\n"
          ]
        },
        {
          "output_type": "stream",
          "name": "stderr",
          "text": [
            "<ipython-input-2-6defbfa87029>:19: FutureWarning: 'T' is deprecated and will be removed in a future version, please use 'min' instead.\n",
            "  resampled_df = df.resample('5T').agg({\n"
          ]
        },
        {
          "output_type": "stream",
          "name": "stdout",
          "text": [
            "Processed and saved: 07122023.csv\n"
          ]
        },
        {
          "output_type": "stream",
          "name": "stderr",
          "text": [
            "<ipython-input-2-6defbfa87029>:19: FutureWarning: 'T' is deprecated and will be removed in a future version, please use 'min' instead.\n",
            "  resampled_df = df.resample('5T').agg({\n"
          ]
        },
        {
          "output_type": "stream",
          "name": "stdout",
          "text": [
            "Processed and saved: 06122023.csv\n"
          ]
        },
        {
          "output_type": "stream",
          "name": "stderr",
          "text": [
            "<ipython-input-2-6defbfa87029>:19: FutureWarning: 'T' is deprecated and will be removed in a future version, please use 'min' instead.\n",
            "  resampled_df = df.resample('5T').agg({\n"
          ]
        },
        {
          "output_type": "stream",
          "name": "stdout",
          "text": [
            "Processed and saved: 12122023.csv\n"
          ]
        },
        {
          "output_type": "stream",
          "name": "stderr",
          "text": [
            "<ipython-input-2-6defbfa87029>:19: FutureWarning: 'T' is deprecated and will be removed in a future version, please use 'min' instead.\n",
            "  resampled_df = df.resample('5T').agg({\n"
          ]
        },
        {
          "output_type": "stream",
          "name": "stdout",
          "text": [
            "Processed and saved: 13122023.csv\n"
          ]
        },
        {
          "output_type": "stream",
          "name": "stderr",
          "text": [
            "<ipython-input-2-6defbfa87029>:19: FutureWarning: 'T' is deprecated and will be removed in a future version, please use 'min' instead.\n",
            "  resampled_df = df.resample('5T').agg({\n"
          ]
        },
        {
          "output_type": "stream",
          "name": "stdout",
          "text": [
            "Processed and saved: 14122023.csv\n"
          ]
        },
        {
          "output_type": "stream",
          "name": "stderr",
          "text": [
            "<ipython-input-2-6defbfa87029>:19: FutureWarning: 'T' is deprecated and will be removed in a future version, please use 'min' instead.\n",
            "  resampled_df = df.resample('5T').agg({\n"
          ]
        },
        {
          "output_type": "stream",
          "name": "stdout",
          "text": [
            "Processed and saved: 15122023.csv\n"
          ]
        },
        {
          "output_type": "stream",
          "name": "stderr",
          "text": [
            "<ipython-input-2-6defbfa87029>:19: FutureWarning: 'T' is deprecated and will be removed in a future version, please use 'min' instead.\n",
            "  resampled_df = df.resample('5T').agg({\n"
          ]
        },
        {
          "output_type": "stream",
          "name": "stdout",
          "text": [
            "Processed and saved: 18122023.csv\n"
          ]
        },
        {
          "output_type": "stream",
          "name": "stderr",
          "text": [
            "<ipython-input-2-6defbfa87029>:19: FutureWarning: 'T' is deprecated and will be removed in a future version, please use 'min' instead.\n",
            "  resampled_df = df.resample('5T').agg({\n"
          ]
        },
        {
          "output_type": "stream",
          "name": "stdout",
          "text": [
            "Processed and saved: 20122023.csv\n"
          ]
        },
        {
          "output_type": "stream",
          "name": "stderr",
          "text": [
            "<ipython-input-2-6defbfa87029>:19: FutureWarning: 'T' is deprecated and will be removed in a future version, please use 'min' instead.\n",
            "  resampled_df = df.resample('5T').agg({\n"
          ]
        },
        {
          "output_type": "stream",
          "name": "stdout",
          "text": [
            "Processed and saved: 21122023.csv\n"
          ]
        },
        {
          "output_type": "stream",
          "name": "stderr",
          "text": [
            "<ipython-input-2-6defbfa87029>:19: FutureWarning: 'T' is deprecated and will be removed in a future version, please use 'min' instead.\n",
            "  resampled_df = df.resample('5T').agg({\n"
          ]
        },
        {
          "output_type": "stream",
          "name": "stdout",
          "text": [
            "Processed and saved: 26122023.csv\n"
          ]
        },
        {
          "output_type": "stream",
          "name": "stderr",
          "text": [
            "<ipython-input-2-6defbfa87029>:19: FutureWarning: 'T' is deprecated and will be removed in a future version, please use 'min' instead.\n",
            "  resampled_df = df.resample('5T').agg({\n"
          ]
        },
        {
          "output_type": "stream",
          "name": "stdout",
          "text": [
            "Processed and saved: 27122023.csv\n",
            "All files processed and resampled!\n",
            "Final merged file saved!\n"
          ]
        }
      ]
    },
    {
      "cell_type": "code",
      "source": [
        "df=pd.read_csv('/content/merged_resampled_all.csv')\n",
        "df"
      ],
      "metadata": {
        "colab": {
          "base_uri": "https://localhost:8080/",
          "height": 424
        },
        "id": "SSZzKYEIckfo",
        "outputId": "f13230de-8200-4436-819d-5e1e7b939fbd"
      },
      "execution_count": 3,
      "outputs": [
        {
          "output_type": "execute_result",
          "data": {
            "text/plain": [
              "                  datetime     open      high     low   close    volume  \\\n",
              "0      2011-07-04 09:20:00   115.00    243.80  102.05  243.80       275   \n",
              "1      2011-07-04 09:25:00   102.05    330.00  101.00  121.90      1525   \n",
              "2      2011-07-04 09:30:00   280.00    330.00  101.00  179.95       225   \n",
              "3      2011-07-04 09:35:00   330.00    340.00   30.00   79.00       575   \n",
              "4      2011-07-04 09:40:00   103.00    345.00   31.00   83.55       900   \n",
              "...                    ...      ...       ...     ...     ...       ...   \n",
              "50200  2023-12-27 15:10:00     7.75  12276.85    0.80   61.00  92807250   \n",
              "50201  2023-12-27 15:15:00  5160.00  10400.00    0.80   39.90  79359210   \n",
              "50202  2023-12-27 15:20:00     7.60  10550.00    0.75  420.00  66282285   \n",
              "50203  2023-12-27 15:25:00     3.60  10530.00    0.10  420.00  64077435   \n",
              "50204  2023-12-27 15:30:00     5.10   4376.00    0.85  200.00     62010   \n",
              "\n",
              "              oi                   symbol      expiry   strike instrument_type  \n",
              "0          96100    BANKNIFTY11JUL11000PE  28-07-2011  11000.0              PE  \n",
              "1         119350    BANKNIFTY11JUL11000PE  28-07-2011  11000.0              PE  \n",
              "2          81350    BANKNIFTY11JUL11300CE  28-07-2011  11300.0              CE  \n",
              "3         168400    BANKNIFTY11JUL11200CE  28-07-2011  11200.0              CE  \n",
              "4         220025    BANKNIFTY11JUL11000PE  28-07-2011  11000.0              PE  \n",
              "...          ...                      ...         ...      ...             ...  \n",
              "50200  731388620  BANKNIFTY03JAN2443000PE  03-01-2024  43000.0              PE  \n",
              "50201  715319060  BANKNIFTY03JAN2443000CE  03-01-2024  43000.0              CE  \n",
              "50202  699269010  BANKNIFTY03JAN2443000PE  03-01-2024  43000.0              PE  \n",
              "50203  681310960  BANKNIFTY03JAN2438000PE  03-01-2024  38000.0              PE  \n",
              "50204   86204070  BANKNIFTY03JAN2443500PE  03-01-2024  43500.0              PE  \n",
              "\n",
              "[50205 rows x 11 columns]"
            ],
            "text/html": [
              "\n",
              "  <div id=\"df-ef13b770-76f0-4c19-b543-56a4a49dbba6\" class=\"colab-df-container\">\n",
              "    <div>\n",
              "<style scoped>\n",
              "    .dataframe tbody tr th:only-of-type {\n",
              "        vertical-align: middle;\n",
              "    }\n",
              "\n",
              "    .dataframe tbody tr th {\n",
              "        vertical-align: top;\n",
              "    }\n",
              "\n",
              "    .dataframe thead th {\n",
              "        text-align: right;\n",
              "    }\n",
              "</style>\n",
              "<table border=\"1\" class=\"dataframe\">\n",
              "  <thead>\n",
              "    <tr style=\"text-align: right;\">\n",
              "      <th></th>\n",
              "      <th>datetime</th>\n",
              "      <th>open</th>\n",
              "      <th>high</th>\n",
              "      <th>low</th>\n",
              "      <th>close</th>\n",
              "      <th>volume</th>\n",
              "      <th>oi</th>\n",
              "      <th>symbol</th>\n",
              "      <th>expiry</th>\n",
              "      <th>strike</th>\n",
              "      <th>instrument_type</th>\n",
              "    </tr>\n",
              "  </thead>\n",
              "  <tbody>\n",
              "    <tr>\n",
              "      <th>0</th>\n",
              "      <td>2011-07-04 09:20:00</td>\n",
              "      <td>115.00</td>\n",
              "      <td>243.80</td>\n",
              "      <td>102.05</td>\n",
              "      <td>243.80</td>\n",
              "      <td>275</td>\n",
              "      <td>96100</td>\n",
              "      <td>BANKNIFTY11JUL11000PE</td>\n",
              "      <td>28-07-2011</td>\n",
              "      <td>11000.0</td>\n",
              "      <td>PE</td>\n",
              "    </tr>\n",
              "    <tr>\n",
              "      <th>1</th>\n",
              "      <td>2011-07-04 09:25:00</td>\n",
              "      <td>102.05</td>\n",
              "      <td>330.00</td>\n",
              "      <td>101.00</td>\n",
              "      <td>121.90</td>\n",
              "      <td>1525</td>\n",
              "      <td>119350</td>\n",
              "      <td>BANKNIFTY11JUL11000PE</td>\n",
              "      <td>28-07-2011</td>\n",
              "      <td>11000.0</td>\n",
              "      <td>PE</td>\n",
              "    </tr>\n",
              "    <tr>\n",
              "      <th>2</th>\n",
              "      <td>2011-07-04 09:30:00</td>\n",
              "      <td>280.00</td>\n",
              "      <td>330.00</td>\n",
              "      <td>101.00</td>\n",
              "      <td>179.95</td>\n",
              "      <td>225</td>\n",
              "      <td>81350</td>\n",
              "      <td>BANKNIFTY11JUL11300CE</td>\n",
              "      <td>28-07-2011</td>\n",
              "      <td>11300.0</td>\n",
              "      <td>CE</td>\n",
              "    </tr>\n",
              "    <tr>\n",
              "      <th>3</th>\n",
              "      <td>2011-07-04 09:35:00</td>\n",
              "      <td>330.00</td>\n",
              "      <td>340.00</td>\n",
              "      <td>30.00</td>\n",
              "      <td>79.00</td>\n",
              "      <td>575</td>\n",
              "      <td>168400</td>\n",
              "      <td>BANKNIFTY11JUL11200CE</td>\n",
              "      <td>28-07-2011</td>\n",
              "      <td>11200.0</td>\n",
              "      <td>CE</td>\n",
              "    </tr>\n",
              "    <tr>\n",
              "      <th>4</th>\n",
              "      <td>2011-07-04 09:40:00</td>\n",
              "      <td>103.00</td>\n",
              "      <td>345.00</td>\n",
              "      <td>31.00</td>\n",
              "      <td>83.55</td>\n",
              "      <td>900</td>\n",
              "      <td>220025</td>\n",
              "      <td>BANKNIFTY11JUL11000PE</td>\n",
              "      <td>28-07-2011</td>\n",
              "      <td>11000.0</td>\n",
              "      <td>PE</td>\n",
              "    </tr>\n",
              "    <tr>\n",
              "      <th>...</th>\n",
              "      <td>...</td>\n",
              "      <td>...</td>\n",
              "      <td>...</td>\n",
              "      <td>...</td>\n",
              "      <td>...</td>\n",
              "      <td>...</td>\n",
              "      <td>...</td>\n",
              "      <td>...</td>\n",
              "      <td>...</td>\n",
              "      <td>...</td>\n",
              "      <td>...</td>\n",
              "    </tr>\n",
              "    <tr>\n",
              "      <th>50200</th>\n",
              "      <td>2023-12-27 15:10:00</td>\n",
              "      <td>7.75</td>\n",
              "      <td>12276.85</td>\n",
              "      <td>0.80</td>\n",
              "      <td>61.00</td>\n",
              "      <td>92807250</td>\n",
              "      <td>731388620</td>\n",
              "      <td>BANKNIFTY03JAN2443000PE</td>\n",
              "      <td>03-01-2024</td>\n",
              "      <td>43000.0</td>\n",
              "      <td>PE</td>\n",
              "    </tr>\n",
              "    <tr>\n",
              "      <th>50201</th>\n",
              "      <td>2023-12-27 15:15:00</td>\n",
              "      <td>5160.00</td>\n",
              "      <td>10400.00</td>\n",
              "      <td>0.80</td>\n",
              "      <td>39.90</td>\n",
              "      <td>79359210</td>\n",
              "      <td>715319060</td>\n",
              "      <td>BANKNIFTY03JAN2443000CE</td>\n",
              "      <td>03-01-2024</td>\n",
              "      <td>43000.0</td>\n",
              "      <td>CE</td>\n",
              "    </tr>\n",
              "    <tr>\n",
              "      <th>50202</th>\n",
              "      <td>2023-12-27 15:20:00</td>\n",
              "      <td>7.60</td>\n",
              "      <td>10550.00</td>\n",
              "      <td>0.75</td>\n",
              "      <td>420.00</td>\n",
              "      <td>66282285</td>\n",
              "      <td>699269010</td>\n",
              "      <td>BANKNIFTY03JAN2443000PE</td>\n",
              "      <td>03-01-2024</td>\n",
              "      <td>43000.0</td>\n",
              "      <td>PE</td>\n",
              "    </tr>\n",
              "    <tr>\n",
              "      <th>50203</th>\n",
              "      <td>2023-12-27 15:25:00</td>\n",
              "      <td>3.60</td>\n",
              "      <td>10530.00</td>\n",
              "      <td>0.10</td>\n",
              "      <td>420.00</td>\n",
              "      <td>64077435</td>\n",
              "      <td>681310960</td>\n",
              "      <td>BANKNIFTY03JAN2438000PE</td>\n",
              "      <td>03-01-2024</td>\n",
              "      <td>38000.0</td>\n",
              "      <td>PE</td>\n",
              "    </tr>\n",
              "    <tr>\n",
              "      <th>50204</th>\n",
              "      <td>2023-12-27 15:30:00</td>\n",
              "      <td>5.10</td>\n",
              "      <td>4376.00</td>\n",
              "      <td>0.85</td>\n",
              "      <td>200.00</td>\n",
              "      <td>62010</td>\n",
              "      <td>86204070</td>\n",
              "      <td>BANKNIFTY03JAN2443500PE</td>\n",
              "      <td>03-01-2024</td>\n",
              "      <td>43500.0</td>\n",
              "      <td>PE</td>\n",
              "    </tr>\n",
              "  </tbody>\n",
              "</table>\n",
              "<p>50205 rows × 11 columns</p>\n",
              "</div>\n",
              "    <div class=\"colab-df-buttons\">\n",
              "\n",
              "  <div class=\"colab-df-container\">\n",
              "    <button class=\"colab-df-convert\" onclick=\"convertToInteractive('df-ef13b770-76f0-4c19-b543-56a4a49dbba6')\"\n",
              "            title=\"Convert this dataframe to an interactive table.\"\n",
              "            style=\"display:none;\">\n",
              "\n",
              "  <svg xmlns=\"http://www.w3.org/2000/svg\" height=\"24px\" viewBox=\"0 -960 960 960\">\n",
              "    <path d=\"M120-120v-720h720v720H120Zm60-500h600v-160H180v160Zm220 220h160v-160H400v160Zm0 220h160v-160H400v160ZM180-400h160v-160H180v160Zm440 0h160v-160H620v160ZM180-180h160v-160H180v160Zm440 0h160v-160H620v160Z\"/>\n",
              "  </svg>\n",
              "    </button>\n",
              "\n",
              "  <style>\n",
              "    .colab-df-container {\n",
              "      display:flex;\n",
              "      gap: 12px;\n",
              "    }\n",
              "\n",
              "    .colab-df-convert {\n",
              "      background-color: #E8F0FE;\n",
              "      border: none;\n",
              "      border-radius: 50%;\n",
              "      cursor: pointer;\n",
              "      display: none;\n",
              "      fill: #1967D2;\n",
              "      height: 32px;\n",
              "      padding: 0 0 0 0;\n",
              "      width: 32px;\n",
              "    }\n",
              "\n",
              "    .colab-df-convert:hover {\n",
              "      background-color: #E2EBFA;\n",
              "      box-shadow: 0px 1px 2px rgba(60, 64, 67, 0.3), 0px 1px 3px 1px rgba(60, 64, 67, 0.15);\n",
              "      fill: #174EA6;\n",
              "    }\n",
              "\n",
              "    .colab-df-buttons div {\n",
              "      margin-bottom: 4px;\n",
              "    }\n",
              "\n",
              "    [theme=dark] .colab-df-convert {\n",
              "      background-color: #3B4455;\n",
              "      fill: #D2E3FC;\n",
              "    }\n",
              "\n",
              "    [theme=dark] .colab-df-convert:hover {\n",
              "      background-color: #434B5C;\n",
              "      box-shadow: 0px 1px 3px 1px rgba(0, 0, 0, 0.15);\n",
              "      filter: drop-shadow(0px 1px 2px rgba(0, 0, 0, 0.3));\n",
              "      fill: #FFFFFF;\n",
              "    }\n",
              "  </style>\n",
              "\n",
              "    <script>\n",
              "      const buttonEl =\n",
              "        document.querySelector('#df-ef13b770-76f0-4c19-b543-56a4a49dbba6 button.colab-df-convert');\n",
              "      buttonEl.style.display =\n",
              "        google.colab.kernel.accessAllowed ? 'block' : 'none';\n",
              "\n",
              "      async function convertToInteractive(key) {\n",
              "        const element = document.querySelector('#df-ef13b770-76f0-4c19-b543-56a4a49dbba6');\n",
              "        const dataTable =\n",
              "          await google.colab.kernel.invokeFunction('convertToInteractive',\n",
              "                                                    [key], {});\n",
              "        if (!dataTable) return;\n",
              "\n",
              "        const docLinkHtml = 'Like what you see? Visit the ' +\n",
              "          '<a target=\"_blank\" href=https://colab.research.google.com/notebooks/data_table.ipynb>data table notebook</a>'\n",
              "          + ' to learn more about interactive tables.';\n",
              "        element.innerHTML = '';\n",
              "        dataTable['output_type'] = 'display_data';\n",
              "        await google.colab.output.renderOutput(dataTable, element);\n",
              "        const docLink = document.createElement('div');\n",
              "        docLink.innerHTML = docLinkHtml;\n",
              "        element.appendChild(docLink);\n",
              "      }\n",
              "    </script>\n",
              "  </div>\n",
              "\n",
              "\n",
              "    <div id=\"df-e7015d68-5555-4c04-bffb-a62248fd963b\">\n",
              "      <button class=\"colab-df-quickchart\" onclick=\"quickchart('df-e7015d68-5555-4c04-bffb-a62248fd963b')\"\n",
              "                title=\"Suggest charts\"\n",
              "                style=\"display:none;\">\n",
              "\n",
              "<svg xmlns=\"http://www.w3.org/2000/svg\" height=\"24px\"viewBox=\"0 0 24 24\"\n",
              "     width=\"24px\">\n",
              "    <g>\n",
              "        <path d=\"M19 3H5c-1.1 0-2 .9-2 2v14c0 1.1.9 2 2 2h14c1.1 0 2-.9 2-2V5c0-1.1-.9-2-2-2zM9 17H7v-7h2v7zm4 0h-2V7h2v10zm4 0h-2v-4h2v4z\"/>\n",
              "    </g>\n",
              "</svg>\n",
              "      </button>\n",
              "\n",
              "<style>\n",
              "  .colab-df-quickchart {\n",
              "      --bg-color: #E8F0FE;\n",
              "      --fill-color: #1967D2;\n",
              "      --hover-bg-color: #E2EBFA;\n",
              "      --hover-fill-color: #174EA6;\n",
              "      --disabled-fill-color: #AAA;\n",
              "      --disabled-bg-color: #DDD;\n",
              "  }\n",
              "\n",
              "  [theme=dark] .colab-df-quickchart {\n",
              "      --bg-color: #3B4455;\n",
              "      --fill-color: #D2E3FC;\n",
              "      --hover-bg-color: #434B5C;\n",
              "      --hover-fill-color: #FFFFFF;\n",
              "      --disabled-bg-color: #3B4455;\n",
              "      --disabled-fill-color: #666;\n",
              "  }\n",
              "\n",
              "  .colab-df-quickchart {\n",
              "    background-color: var(--bg-color);\n",
              "    border: none;\n",
              "    border-radius: 50%;\n",
              "    cursor: pointer;\n",
              "    display: none;\n",
              "    fill: var(--fill-color);\n",
              "    height: 32px;\n",
              "    padding: 0;\n",
              "    width: 32px;\n",
              "  }\n",
              "\n",
              "  .colab-df-quickchart:hover {\n",
              "    background-color: var(--hover-bg-color);\n",
              "    box-shadow: 0 1px 2px rgba(60, 64, 67, 0.3), 0 1px 3px 1px rgba(60, 64, 67, 0.15);\n",
              "    fill: var(--button-hover-fill-color);\n",
              "  }\n",
              "\n",
              "  .colab-df-quickchart-complete:disabled,\n",
              "  .colab-df-quickchart-complete:disabled:hover {\n",
              "    background-color: var(--disabled-bg-color);\n",
              "    fill: var(--disabled-fill-color);\n",
              "    box-shadow: none;\n",
              "  }\n",
              "\n",
              "  .colab-df-spinner {\n",
              "    border: 2px solid var(--fill-color);\n",
              "    border-color: transparent;\n",
              "    border-bottom-color: var(--fill-color);\n",
              "    animation:\n",
              "      spin 1s steps(1) infinite;\n",
              "  }\n",
              "\n",
              "  @keyframes spin {\n",
              "    0% {\n",
              "      border-color: transparent;\n",
              "      border-bottom-color: var(--fill-color);\n",
              "      border-left-color: var(--fill-color);\n",
              "    }\n",
              "    20% {\n",
              "      border-color: transparent;\n",
              "      border-left-color: var(--fill-color);\n",
              "      border-top-color: var(--fill-color);\n",
              "    }\n",
              "    30% {\n",
              "      border-color: transparent;\n",
              "      border-left-color: var(--fill-color);\n",
              "      border-top-color: var(--fill-color);\n",
              "      border-right-color: var(--fill-color);\n",
              "    }\n",
              "    40% {\n",
              "      border-color: transparent;\n",
              "      border-right-color: var(--fill-color);\n",
              "      border-top-color: var(--fill-color);\n",
              "    }\n",
              "    60% {\n",
              "      border-color: transparent;\n",
              "      border-right-color: var(--fill-color);\n",
              "    }\n",
              "    80% {\n",
              "      border-color: transparent;\n",
              "      border-right-color: var(--fill-color);\n",
              "      border-bottom-color: var(--fill-color);\n",
              "    }\n",
              "    90% {\n",
              "      border-color: transparent;\n",
              "      border-bottom-color: var(--fill-color);\n",
              "    }\n",
              "  }\n",
              "</style>\n",
              "\n",
              "      <script>\n",
              "        async function quickchart(key) {\n",
              "          const quickchartButtonEl =\n",
              "            document.querySelector('#' + key + ' button');\n",
              "          quickchartButtonEl.disabled = true;  // To prevent multiple clicks.\n",
              "          quickchartButtonEl.classList.add('colab-df-spinner');\n",
              "          try {\n",
              "            const charts = await google.colab.kernel.invokeFunction(\n",
              "                'suggestCharts', [key], {});\n",
              "          } catch (error) {\n",
              "            console.error('Error during call to suggestCharts:', error);\n",
              "          }\n",
              "          quickchartButtonEl.classList.remove('colab-df-spinner');\n",
              "          quickchartButtonEl.classList.add('colab-df-quickchart-complete');\n",
              "        }\n",
              "        (() => {\n",
              "          let quickchartButtonEl =\n",
              "            document.querySelector('#df-e7015d68-5555-4c04-bffb-a62248fd963b button');\n",
              "          quickchartButtonEl.style.display =\n",
              "            google.colab.kernel.accessAllowed ? 'block' : 'none';\n",
              "        })();\n",
              "      </script>\n",
              "    </div>\n",
              "\n",
              "  <div id=\"id_325216c1-850d-45b1-aa8a-5ff73249ce91\">\n",
              "    <style>\n",
              "      .colab-df-generate {\n",
              "        background-color: #E8F0FE;\n",
              "        border: none;\n",
              "        border-radius: 50%;\n",
              "        cursor: pointer;\n",
              "        display: none;\n",
              "        fill: #1967D2;\n",
              "        height: 32px;\n",
              "        padding: 0 0 0 0;\n",
              "        width: 32px;\n",
              "      }\n",
              "\n",
              "      .colab-df-generate:hover {\n",
              "        background-color: #E2EBFA;\n",
              "        box-shadow: 0px 1px 2px rgba(60, 64, 67, 0.3), 0px 1px 3px 1px rgba(60, 64, 67, 0.15);\n",
              "        fill: #174EA6;\n",
              "      }\n",
              "\n",
              "      [theme=dark] .colab-df-generate {\n",
              "        background-color: #3B4455;\n",
              "        fill: #D2E3FC;\n",
              "      }\n",
              "\n",
              "      [theme=dark] .colab-df-generate:hover {\n",
              "        background-color: #434B5C;\n",
              "        box-shadow: 0px 1px 3px 1px rgba(0, 0, 0, 0.15);\n",
              "        filter: drop-shadow(0px 1px 2px rgba(0, 0, 0, 0.3));\n",
              "        fill: #FFFFFF;\n",
              "      }\n",
              "    </style>\n",
              "    <button class=\"colab-df-generate\" onclick=\"generateWithVariable('df')\"\n",
              "            title=\"Generate code using this dataframe.\"\n",
              "            style=\"display:none;\">\n",
              "\n",
              "  <svg xmlns=\"http://www.w3.org/2000/svg\" height=\"24px\"viewBox=\"0 0 24 24\"\n",
              "       width=\"24px\">\n",
              "    <path d=\"M7,19H8.4L18.45,9,17,7.55,7,17.6ZM5,21V16.75L18.45,3.32a2,2,0,0,1,2.83,0l1.4,1.43a1.91,1.91,0,0,1,.58,1.4,1.91,1.91,0,0,1-.58,1.4L9.25,21ZM18.45,9,17,7.55Zm-12,3A5.31,5.31,0,0,0,4.9,8.1,5.31,5.31,0,0,0,1,6.5,5.31,5.31,0,0,0,4.9,4.9,5.31,5.31,0,0,0,6.5,1,5.31,5.31,0,0,0,8.1,4.9,5.31,5.31,0,0,0,12,6.5,5.46,5.46,0,0,0,6.5,12Z\"/>\n",
              "  </svg>\n",
              "    </button>\n",
              "    <script>\n",
              "      (() => {\n",
              "      const buttonEl =\n",
              "        document.querySelector('#id_325216c1-850d-45b1-aa8a-5ff73249ce91 button.colab-df-generate');\n",
              "      buttonEl.style.display =\n",
              "        google.colab.kernel.accessAllowed ? 'block' : 'none';\n",
              "\n",
              "      buttonEl.onclick = () => {\n",
              "        google.colab.notebook.generateWithVariable('df');\n",
              "      }\n",
              "      })();\n",
              "    </script>\n",
              "  </div>\n",
              "\n",
              "    </div>\n",
              "  </div>\n"
            ],
            "application/vnd.google.colaboratory.intrinsic+json": {
              "type": "dataframe",
              "variable_name": "df",
              "summary": "{\n  \"name\": \"df\",\n  \"rows\": 50205,\n  \"fields\": [\n    {\n      \"column\": \"datetime\",\n      \"properties\": {\n        \"dtype\": \"object\",\n        \"num_unique_values\": 50205,\n        \"samples\": [\n          \"2018-07-05 13:45:00\",\n          \"2023-05-29 12:05:00\",\n          \"2023-05-22 12:25:00\"\n        ],\n        \"semantic_type\": \"\",\n        \"description\": \"\"\n      }\n    },\n    {\n      \"column\": \"open\",\n      \"properties\": {\n        \"dtype\": \"number\",\n        \"std\": 452.79435642177896,\n        \"min\": 0.05,\n        \"max\": 11747.6,\n        \"num_unique_values\": 8585,\n        \"samples\": [\n          220.2,\n          416.75,\n          1018.1\n        ],\n        \"semantic_type\": \"\",\n        \"description\": \"\"\n      }\n    },\n    {\n      \"column\": \"high\",\n      \"properties\": {\n        \"dtype\": \"number\",\n        \"std\": 2381.846891072263,\n        \"min\": 20.5,\n        \"max\": 16967.8,\n        \"num_unique_values\": 25105,\n        \"samples\": [\n          4459.1,\n          2047.7,\n          1641.45\n        ],\n        \"semantic_type\": \"\",\n        \"description\": \"\"\n      }\n    },\n    {\n      \"column\": \"low\",\n      \"properties\": {\n        \"dtype\": \"number\",\n        \"std\": 5.73111453792947,\n        \"min\": 0.05,\n        \"max\": 278.55,\n        \"num_unique_values\": 464,\n        \"samples\": [\n          100.0,\n          32.05,\n          35.5\n        ],\n        \"semantic_type\": \"\",\n        \"description\": \"\"\n      }\n    },\n    {\n      \"column\": \"close\",\n      \"properties\": {\n        \"dtype\": \"number\",\n        \"std\": 1039.9144118464508,\n        \"min\": 0.05,\n        \"max\": 14300.0,\n        \"num_unique_values\": 12096,\n        \"samples\": [\n          952.75,\n          1090.8,\n          1300.0\n        ],\n        \"semantic_type\": \"\",\n        \"description\": \"\"\n      }\n    },\n    {\n      \"column\": \"volume\",\n      \"properties\": {\n        \"dtype\": \"number\",\n        \"std\": 22501280,\n        \"min\": 25,\n        \"max\": 444512050,\n        \"num_unique_values\": 48709,\n        \"samples\": [\n          4493575,\n          3766540,\n          6809825\n        ],\n        \"semantic_type\": \"\",\n        \"description\": \"\"\n      }\n    },\n    {\n      \"column\": \"oi\",\n      \"properties\": {\n        \"dtype\": \"number\",\n        \"std\": 236545702,\n        \"min\": 1550,\n        \"max\": 1387779625,\n        \"num_unique_values\": 50114,\n        \"samples\": [\n          569150925,\n          185652150,\n          650278065\n        ],\n        \"semantic_type\": \"\",\n        \"description\": \"\"\n      }\n    },\n    {\n      \"column\": \"symbol\",\n      \"properties\": {\n        \"dtype\": \"category\",\n        \"num_unique_values\": 4474,\n        \"samples\": [\n          \"BANKNIFTY12NOV2023000CE\",\n          \"BANKNIFTY07JAN2127600PE\",\n          \"BANKNIFTY16APR2016000PE\"\n        ],\n        \"semantic_type\": \"\",\n        \"description\": \"\"\n      }\n    },\n    {\n      \"column\": \"expiry\",\n      \"properties\": {\n        \"dtype\": \"object\",\n        \"num_unique_values\": 242,\n        \"samples\": [\n          \"07-06-2018\",\n          \"24-09-2015\",\n          \"06-05-2021\"\n        ],\n        \"semantic_type\": \"\",\n        \"description\": \"\"\n      }\n    },\n    {\n      \"column\": \"strike\",\n      \"properties\": {\n        \"dtype\": \"number\",\n        \"std\": 7376.987243294977,\n        \"min\": 10000.0,\n        \"max\": 51500.0,\n        \"num_unique_values\": 352,\n        \"samples\": [\n          32600.0,\n          29000.0,\n          23400.0\n        ],\n        \"semantic_type\": \"\",\n        \"description\": \"\"\n      }\n    },\n    {\n      \"column\": \"instrument_type\",\n      \"properties\": {\n        \"dtype\": \"category\",\n        \"num_unique_values\": 2,\n        \"samples\": [\n          \"CE\",\n          \"PE\"\n        ],\n        \"semantic_type\": \"\",\n        \"description\": \"\"\n      }\n    }\n  ]\n}"
            }
          },
          "metadata": {},
          "execution_count": 3
        }
      ]
    },
    {
      "cell_type": "code",
      "source": [
        "# For each datetime, find median strike of CE as proxy for spot price\n",
        "df['strike'] = df['strike'].astype(float)\n",
        "\n",
        "bnfty_estimates = (\n",
        "    df[df['instrument_type'] == 'CE']\n",
        "    .groupby('datetime')['strike']\n",
        "    .median()\n",
        "    .reset_index()\n",
        "    .rename(columns={'strike': 'bnfty'})\n",
        ")\n",
        "\n",
        "# Merge this estimate back\n",
        "df = pd.merge(df, bnfty_estimates, on='datetime', how='left')\n",
        "df.head()\n"
      ],
      "metadata": {
        "colab": {
          "base_uri": "https://localhost:8080/",
          "height": 206
        },
        "id": "O3-ds6NNdeD1",
        "outputId": "d6615404-4bd5-4027-b3ba-896bcb289c90"
      },
      "execution_count": 4,
      "outputs": [
        {
          "output_type": "execute_result",
          "data": {
            "text/plain": [
              "              datetime    open   high     low   close  volume      oi  \\\n",
              "0  2011-07-04 09:20:00  115.00  243.8  102.05  243.80     275   96100   \n",
              "1  2011-07-04 09:25:00  102.05  330.0  101.00  121.90    1525  119350   \n",
              "2  2011-07-04 09:30:00  280.00  330.0  101.00  179.95     225   81350   \n",
              "3  2011-07-04 09:35:00  330.00  340.0   30.00   79.00     575  168400   \n",
              "4  2011-07-04 09:40:00  103.00  345.0   31.00   83.55     900  220025   \n",
              "\n",
              "                  symbol      expiry   strike instrument_type    bnfty  \n",
              "0  BANKNIFTY11JUL11000PE  28-07-2011  11000.0              PE      NaN  \n",
              "1  BANKNIFTY11JUL11000PE  28-07-2011  11000.0              PE      NaN  \n",
              "2  BANKNIFTY11JUL11300CE  28-07-2011  11300.0              CE  11300.0  \n",
              "3  BANKNIFTY11JUL11200CE  28-07-2011  11200.0              CE  11200.0  \n",
              "4  BANKNIFTY11JUL11000PE  28-07-2011  11000.0              PE      NaN  "
            ],
            "text/html": [
              "\n",
              "  <div id=\"df-aa441901-aa05-4941-be7f-eec84b1ac764\" class=\"colab-df-container\">\n",
              "    <div>\n",
              "<style scoped>\n",
              "    .dataframe tbody tr th:only-of-type {\n",
              "        vertical-align: middle;\n",
              "    }\n",
              "\n",
              "    .dataframe tbody tr th {\n",
              "        vertical-align: top;\n",
              "    }\n",
              "\n",
              "    .dataframe thead th {\n",
              "        text-align: right;\n",
              "    }\n",
              "</style>\n",
              "<table border=\"1\" class=\"dataframe\">\n",
              "  <thead>\n",
              "    <tr style=\"text-align: right;\">\n",
              "      <th></th>\n",
              "      <th>datetime</th>\n",
              "      <th>open</th>\n",
              "      <th>high</th>\n",
              "      <th>low</th>\n",
              "      <th>close</th>\n",
              "      <th>volume</th>\n",
              "      <th>oi</th>\n",
              "      <th>symbol</th>\n",
              "      <th>expiry</th>\n",
              "      <th>strike</th>\n",
              "      <th>instrument_type</th>\n",
              "      <th>bnfty</th>\n",
              "    </tr>\n",
              "  </thead>\n",
              "  <tbody>\n",
              "    <tr>\n",
              "      <th>0</th>\n",
              "      <td>2011-07-04 09:20:00</td>\n",
              "      <td>115.00</td>\n",
              "      <td>243.8</td>\n",
              "      <td>102.05</td>\n",
              "      <td>243.80</td>\n",
              "      <td>275</td>\n",
              "      <td>96100</td>\n",
              "      <td>BANKNIFTY11JUL11000PE</td>\n",
              "      <td>28-07-2011</td>\n",
              "      <td>11000.0</td>\n",
              "      <td>PE</td>\n",
              "      <td>NaN</td>\n",
              "    </tr>\n",
              "    <tr>\n",
              "      <th>1</th>\n",
              "      <td>2011-07-04 09:25:00</td>\n",
              "      <td>102.05</td>\n",
              "      <td>330.0</td>\n",
              "      <td>101.00</td>\n",
              "      <td>121.90</td>\n",
              "      <td>1525</td>\n",
              "      <td>119350</td>\n",
              "      <td>BANKNIFTY11JUL11000PE</td>\n",
              "      <td>28-07-2011</td>\n",
              "      <td>11000.0</td>\n",
              "      <td>PE</td>\n",
              "      <td>NaN</td>\n",
              "    </tr>\n",
              "    <tr>\n",
              "      <th>2</th>\n",
              "      <td>2011-07-04 09:30:00</td>\n",
              "      <td>280.00</td>\n",
              "      <td>330.0</td>\n",
              "      <td>101.00</td>\n",
              "      <td>179.95</td>\n",
              "      <td>225</td>\n",
              "      <td>81350</td>\n",
              "      <td>BANKNIFTY11JUL11300CE</td>\n",
              "      <td>28-07-2011</td>\n",
              "      <td>11300.0</td>\n",
              "      <td>CE</td>\n",
              "      <td>11300.0</td>\n",
              "    </tr>\n",
              "    <tr>\n",
              "      <th>3</th>\n",
              "      <td>2011-07-04 09:35:00</td>\n",
              "      <td>330.00</td>\n",
              "      <td>340.0</td>\n",
              "      <td>30.00</td>\n",
              "      <td>79.00</td>\n",
              "      <td>575</td>\n",
              "      <td>168400</td>\n",
              "      <td>BANKNIFTY11JUL11200CE</td>\n",
              "      <td>28-07-2011</td>\n",
              "      <td>11200.0</td>\n",
              "      <td>CE</td>\n",
              "      <td>11200.0</td>\n",
              "    </tr>\n",
              "    <tr>\n",
              "      <th>4</th>\n",
              "      <td>2011-07-04 09:40:00</td>\n",
              "      <td>103.00</td>\n",
              "      <td>345.0</td>\n",
              "      <td>31.00</td>\n",
              "      <td>83.55</td>\n",
              "      <td>900</td>\n",
              "      <td>220025</td>\n",
              "      <td>BANKNIFTY11JUL11000PE</td>\n",
              "      <td>28-07-2011</td>\n",
              "      <td>11000.0</td>\n",
              "      <td>PE</td>\n",
              "      <td>NaN</td>\n",
              "    </tr>\n",
              "  </tbody>\n",
              "</table>\n",
              "</div>\n",
              "    <div class=\"colab-df-buttons\">\n",
              "\n",
              "  <div class=\"colab-df-container\">\n",
              "    <button class=\"colab-df-convert\" onclick=\"convertToInteractive('df-aa441901-aa05-4941-be7f-eec84b1ac764')\"\n",
              "            title=\"Convert this dataframe to an interactive table.\"\n",
              "            style=\"display:none;\">\n",
              "\n",
              "  <svg xmlns=\"http://www.w3.org/2000/svg\" height=\"24px\" viewBox=\"0 -960 960 960\">\n",
              "    <path d=\"M120-120v-720h720v720H120Zm60-500h600v-160H180v160Zm220 220h160v-160H400v160Zm0 220h160v-160H400v160ZM180-400h160v-160H180v160Zm440 0h160v-160H620v160ZM180-180h160v-160H180v160Zm440 0h160v-160H620v160Z\"/>\n",
              "  </svg>\n",
              "    </button>\n",
              "\n",
              "  <style>\n",
              "    .colab-df-container {\n",
              "      display:flex;\n",
              "      gap: 12px;\n",
              "    }\n",
              "\n",
              "    .colab-df-convert {\n",
              "      background-color: #E8F0FE;\n",
              "      border: none;\n",
              "      border-radius: 50%;\n",
              "      cursor: pointer;\n",
              "      display: none;\n",
              "      fill: #1967D2;\n",
              "      height: 32px;\n",
              "      padding: 0 0 0 0;\n",
              "      width: 32px;\n",
              "    }\n",
              "\n",
              "    .colab-df-convert:hover {\n",
              "      background-color: #E2EBFA;\n",
              "      box-shadow: 0px 1px 2px rgba(60, 64, 67, 0.3), 0px 1px 3px 1px rgba(60, 64, 67, 0.15);\n",
              "      fill: #174EA6;\n",
              "    }\n",
              "\n",
              "    .colab-df-buttons div {\n",
              "      margin-bottom: 4px;\n",
              "    }\n",
              "\n",
              "    [theme=dark] .colab-df-convert {\n",
              "      background-color: #3B4455;\n",
              "      fill: #D2E3FC;\n",
              "    }\n",
              "\n",
              "    [theme=dark] .colab-df-convert:hover {\n",
              "      background-color: #434B5C;\n",
              "      box-shadow: 0px 1px 3px 1px rgba(0, 0, 0, 0.15);\n",
              "      filter: drop-shadow(0px 1px 2px rgba(0, 0, 0, 0.3));\n",
              "      fill: #FFFFFF;\n",
              "    }\n",
              "  </style>\n",
              "\n",
              "    <script>\n",
              "      const buttonEl =\n",
              "        document.querySelector('#df-aa441901-aa05-4941-be7f-eec84b1ac764 button.colab-df-convert');\n",
              "      buttonEl.style.display =\n",
              "        google.colab.kernel.accessAllowed ? 'block' : 'none';\n",
              "\n",
              "      async function convertToInteractive(key) {\n",
              "        const element = document.querySelector('#df-aa441901-aa05-4941-be7f-eec84b1ac764');\n",
              "        const dataTable =\n",
              "          await google.colab.kernel.invokeFunction('convertToInteractive',\n",
              "                                                    [key], {});\n",
              "        if (!dataTable) return;\n",
              "\n",
              "        const docLinkHtml = 'Like what you see? Visit the ' +\n",
              "          '<a target=\"_blank\" href=https://colab.research.google.com/notebooks/data_table.ipynb>data table notebook</a>'\n",
              "          + ' to learn more about interactive tables.';\n",
              "        element.innerHTML = '';\n",
              "        dataTable['output_type'] = 'display_data';\n",
              "        await google.colab.output.renderOutput(dataTable, element);\n",
              "        const docLink = document.createElement('div');\n",
              "        docLink.innerHTML = docLinkHtml;\n",
              "        element.appendChild(docLink);\n",
              "      }\n",
              "    </script>\n",
              "  </div>\n",
              "\n",
              "\n",
              "    <div id=\"df-b652731a-2160-4663-95a5-419be57ea55c\">\n",
              "      <button class=\"colab-df-quickchart\" onclick=\"quickchart('df-b652731a-2160-4663-95a5-419be57ea55c')\"\n",
              "                title=\"Suggest charts\"\n",
              "                style=\"display:none;\">\n",
              "\n",
              "<svg xmlns=\"http://www.w3.org/2000/svg\" height=\"24px\"viewBox=\"0 0 24 24\"\n",
              "     width=\"24px\">\n",
              "    <g>\n",
              "        <path d=\"M19 3H5c-1.1 0-2 .9-2 2v14c0 1.1.9 2 2 2h14c1.1 0 2-.9 2-2V5c0-1.1-.9-2-2-2zM9 17H7v-7h2v7zm4 0h-2V7h2v10zm4 0h-2v-4h2v4z\"/>\n",
              "    </g>\n",
              "</svg>\n",
              "      </button>\n",
              "\n",
              "<style>\n",
              "  .colab-df-quickchart {\n",
              "      --bg-color: #E8F0FE;\n",
              "      --fill-color: #1967D2;\n",
              "      --hover-bg-color: #E2EBFA;\n",
              "      --hover-fill-color: #174EA6;\n",
              "      --disabled-fill-color: #AAA;\n",
              "      --disabled-bg-color: #DDD;\n",
              "  }\n",
              "\n",
              "  [theme=dark] .colab-df-quickchart {\n",
              "      --bg-color: #3B4455;\n",
              "      --fill-color: #D2E3FC;\n",
              "      --hover-bg-color: #434B5C;\n",
              "      --hover-fill-color: #FFFFFF;\n",
              "      --disabled-bg-color: #3B4455;\n",
              "      --disabled-fill-color: #666;\n",
              "  }\n",
              "\n",
              "  .colab-df-quickchart {\n",
              "    background-color: var(--bg-color);\n",
              "    border: none;\n",
              "    border-radius: 50%;\n",
              "    cursor: pointer;\n",
              "    display: none;\n",
              "    fill: var(--fill-color);\n",
              "    height: 32px;\n",
              "    padding: 0;\n",
              "    width: 32px;\n",
              "  }\n",
              "\n",
              "  .colab-df-quickchart:hover {\n",
              "    background-color: var(--hover-bg-color);\n",
              "    box-shadow: 0 1px 2px rgba(60, 64, 67, 0.3), 0 1px 3px 1px rgba(60, 64, 67, 0.15);\n",
              "    fill: var(--button-hover-fill-color);\n",
              "  }\n",
              "\n",
              "  .colab-df-quickchart-complete:disabled,\n",
              "  .colab-df-quickchart-complete:disabled:hover {\n",
              "    background-color: var(--disabled-bg-color);\n",
              "    fill: var(--disabled-fill-color);\n",
              "    box-shadow: none;\n",
              "  }\n",
              "\n",
              "  .colab-df-spinner {\n",
              "    border: 2px solid var(--fill-color);\n",
              "    border-color: transparent;\n",
              "    border-bottom-color: var(--fill-color);\n",
              "    animation:\n",
              "      spin 1s steps(1) infinite;\n",
              "  }\n",
              "\n",
              "  @keyframes spin {\n",
              "    0% {\n",
              "      border-color: transparent;\n",
              "      border-bottom-color: var(--fill-color);\n",
              "      border-left-color: var(--fill-color);\n",
              "    }\n",
              "    20% {\n",
              "      border-color: transparent;\n",
              "      border-left-color: var(--fill-color);\n",
              "      border-top-color: var(--fill-color);\n",
              "    }\n",
              "    30% {\n",
              "      border-color: transparent;\n",
              "      border-left-color: var(--fill-color);\n",
              "      border-top-color: var(--fill-color);\n",
              "      border-right-color: var(--fill-color);\n",
              "    }\n",
              "    40% {\n",
              "      border-color: transparent;\n",
              "      border-right-color: var(--fill-color);\n",
              "      border-top-color: var(--fill-color);\n",
              "    }\n",
              "    60% {\n",
              "      border-color: transparent;\n",
              "      border-right-color: var(--fill-color);\n",
              "    }\n",
              "    80% {\n",
              "      border-color: transparent;\n",
              "      border-right-color: var(--fill-color);\n",
              "      border-bottom-color: var(--fill-color);\n",
              "    }\n",
              "    90% {\n",
              "      border-color: transparent;\n",
              "      border-bottom-color: var(--fill-color);\n",
              "    }\n",
              "  }\n",
              "</style>\n",
              "\n",
              "      <script>\n",
              "        async function quickchart(key) {\n",
              "          const quickchartButtonEl =\n",
              "            document.querySelector('#' + key + ' button');\n",
              "          quickchartButtonEl.disabled = true;  // To prevent multiple clicks.\n",
              "          quickchartButtonEl.classList.add('colab-df-spinner');\n",
              "          try {\n",
              "            const charts = await google.colab.kernel.invokeFunction(\n",
              "                'suggestCharts', [key], {});\n",
              "          } catch (error) {\n",
              "            console.error('Error during call to suggestCharts:', error);\n",
              "          }\n",
              "          quickchartButtonEl.classList.remove('colab-df-spinner');\n",
              "          quickchartButtonEl.classList.add('colab-df-quickchart-complete');\n",
              "        }\n",
              "        (() => {\n",
              "          let quickchartButtonEl =\n",
              "            document.querySelector('#df-b652731a-2160-4663-95a5-419be57ea55c button');\n",
              "          quickchartButtonEl.style.display =\n",
              "            google.colab.kernel.accessAllowed ? 'block' : 'none';\n",
              "        })();\n",
              "      </script>\n",
              "    </div>\n",
              "\n",
              "    </div>\n",
              "  </div>\n"
            ],
            "application/vnd.google.colaboratory.intrinsic+json": {
              "type": "dataframe",
              "variable_name": "df",
              "summary": "{\n  \"name\": \"df\",\n  \"rows\": 50205,\n  \"fields\": [\n    {\n      \"column\": \"datetime\",\n      \"properties\": {\n        \"dtype\": \"object\",\n        \"num_unique_values\": 50205,\n        \"samples\": [\n          \"2018-07-05 13:45:00\",\n          \"2023-05-29 12:05:00\",\n          \"2023-05-22 12:25:00\"\n        ],\n        \"semantic_type\": \"\",\n        \"description\": \"\"\n      }\n    },\n    {\n      \"column\": \"open\",\n      \"properties\": {\n        \"dtype\": \"number\",\n        \"std\": 452.79435642177896,\n        \"min\": 0.05,\n        \"max\": 11747.6,\n        \"num_unique_values\": 8585,\n        \"samples\": [\n          220.2,\n          416.75,\n          1018.1\n        ],\n        \"semantic_type\": \"\",\n        \"description\": \"\"\n      }\n    },\n    {\n      \"column\": \"high\",\n      \"properties\": {\n        \"dtype\": \"number\",\n        \"std\": 2381.846891072263,\n        \"min\": 20.5,\n        \"max\": 16967.8,\n        \"num_unique_values\": 25105,\n        \"samples\": [\n          4459.1,\n          2047.7,\n          1641.45\n        ],\n        \"semantic_type\": \"\",\n        \"description\": \"\"\n      }\n    },\n    {\n      \"column\": \"low\",\n      \"properties\": {\n        \"dtype\": \"number\",\n        \"std\": 5.73111453792947,\n        \"min\": 0.05,\n        \"max\": 278.55,\n        \"num_unique_values\": 464,\n        \"samples\": [\n          100.0,\n          32.05,\n          35.5\n        ],\n        \"semantic_type\": \"\",\n        \"description\": \"\"\n      }\n    },\n    {\n      \"column\": \"close\",\n      \"properties\": {\n        \"dtype\": \"number\",\n        \"std\": 1039.9144118464508,\n        \"min\": 0.05,\n        \"max\": 14300.0,\n        \"num_unique_values\": 12096,\n        \"samples\": [\n          952.75,\n          1090.8,\n          1300.0\n        ],\n        \"semantic_type\": \"\",\n        \"description\": \"\"\n      }\n    },\n    {\n      \"column\": \"volume\",\n      \"properties\": {\n        \"dtype\": \"number\",\n        \"std\": 22501280,\n        \"min\": 25,\n        \"max\": 444512050,\n        \"num_unique_values\": 48709,\n        \"samples\": [\n          4493575,\n          3766540,\n          6809825\n        ],\n        \"semantic_type\": \"\",\n        \"description\": \"\"\n      }\n    },\n    {\n      \"column\": \"oi\",\n      \"properties\": {\n        \"dtype\": \"number\",\n        \"std\": 236545702,\n        \"min\": 1550,\n        \"max\": 1387779625,\n        \"num_unique_values\": 50114,\n        \"samples\": [\n          569150925,\n          185652150,\n          650278065\n        ],\n        \"semantic_type\": \"\",\n        \"description\": \"\"\n      }\n    },\n    {\n      \"column\": \"symbol\",\n      \"properties\": {\n        \"dtype\": \"category\",\n        \"num_unique_values\": 4474,\n        \"samples\": [\n          \"BANKNIFTY12NOV2023000CE\",\n          \"BANKNIFTY07JAN2127600PE\",\n          \"BANKNIFTY16APR2016000PE\"\n        ],\n        \"semantic_type\": \"\",\n        \"description\": \"\"\n      }\n    },\n    {\n      \"column\": \"expiry\",\n      \"properties\": {\n        \"dtype\": \"object\",\n        \"num_unique_values\": 242,\n        \"samples\": [\n          \"07-06-2018\",\n          \"24-09-2015\",\n          \"06-05-2021\"\n        ],\n        \"semantic_type\": \"\",\n        \"description\": \"\"\n      }\n    },\n    {\n      \"column\": \"strike\",\n      \"properties\": {\n        \"dtype\": \"number\",\n        \"std\": 7376.987243294977,\n        \"min\": 10000.0,\n        \"max\": 51500.0,\n        \"num_unique_values\": 352,\n        \"samples\": [\n          32600.0,\n          29000.0,\n          23400.0\n        ],\n        \"semantic_type\": \"\",\n        \"description\": \"\"\n      }\n    },\n    {\n      \"column\": \"instrument_type\",\n      \"properties\": {\n        \"dtype\": \"category\",\n        \"num_unique_values\": 2,\n        \"samples\": [\n          \"CE\",\n          \"PE\"\n        ],\n        \"semantic_type\": \"\",\n        \"description\": \"\"\n      }\n    },\n    {\n      \"column\": \"bnfty\",\n      \"properties\": {\n        \"dtype\": \"number\",\n        \"std\": 8194.723796181843,\n        \"min\": 10000.0,\n        \"max\": 51500.0,\n        \"num_unique_values\": 293,\n        \"samples\": [\n          29400.0,\n          40600.0\n        ],\n        \"semantic_type\": \"\",\n        \"description\": \"\"\n      }\n    }\n  ]\n}"
            }
          },
          "metadata": {},
          "execution_count": 4
        }
      ]
    },
    {
      "cell_type": "code",
      "source": [
        "import pandas as pd\n",
        "\n",
        "# Load your main dataframe\n",
        "df = pd.read_csv('merged_resampled_all.csv', parse_dates=['datetime'])\n",
        "\n",
        "# Load the Bank Nifty futures data\n",
        "bnfty_df = pd.read_csv('/content/gdrive/MyDrive/Colab Notebooks/final_BANKNIFTY_F2.csv')\n",
        "\n",
        "# Combine Date and Time to create datetime column\n",
        "# Example Date format: 20220324 (YYYYMMDD) -> to datetime\n",
        "bnfty_df['Date'] = pd.to_datetime(bnfty_df['Date'], format='%Y%m%d')\n",
        "\n",
        "# Combine Date and Time\n",
        "bnfty_df['datetime'] = pd.to_datetime(\n",
        "    bnfty_df['Date'].dt.strftime('%Y-%m-%d') + ' ' + bnfty_df['Time'],\n",
        "    format='%Y-%m-%d %H:%M'\n",
        ")\n",
        "\n",
        "# Now extract only the datetime and Close price\n",
        "bnfty_df = bnfty_df[['datetime', 'Close']].rename(columns={'Close': 'bnfty'})\n",
        "\n",
        "# Merge with your main dataframe\n",
        "final_df = pd.merge(df, bnfty_df, on='datetime', how='left')\n",
        "\n",
        "# Save or display\n",
        "#final_df.to_csv('final_with_bnfty.csv', index=False)\n",
        "final_df\n"
      ],
      "metadata": {
        "colab": {
          "base_uri": "https://localhost:8080/",
          "height": 424
        },
        "id": "XlLwYS5FeNPh",
        "outputId": "ca3b6b73-1d7a-45cf-f3f4-be9b2bc9ac8a"
      },
      "execution_count": 5,
      "outputs": [
        {
          "output_type": "execute_result",
          "data": {
            "text/plain": [
              "                 datetime     open      high     low   close    volume  \\\n",
              "0     2011-07-04 09:20:00   115.00    243.80  102.05  243.80       275   \n",
              "1     2011-07-04 09:25:00   102.05    330.00  101.00  121.90      1525   \n",
              "2     2011-07-04 09:30:00   280.00    330.00  101.00  179.95       225   \n",
              "3     2011-07-04 09:35:00   330.00    340.00   30.00   79.00       575   \n",
              "4     2011-07-04 09:40:00   103.00    345.00   31.00   83.55       900   \n",
              "...                   ...      ...       ...     ...     ...       ...   \n",
              "93128 2023-12-27 15:10:00     7.75  12276.85    0.80   61.00  92807250   \n",
              "93129 2023-12-27 15:15:00  5160.00  10400.00    0.80   39.90  79359210   \n",
              "93130 2023-12-27 15:20:00     7.60  10550.00    0.75  420.00  66282285   \n",
              "93131 2023-12-27 15:25:00     3.60  10530.00    0.10  420.00  64077435   \n",
              "93132 2023-12-27 15:30:00     5.10   4376.00    0.85  200.00     62010   \n",
              "\n",
              "              oi                   symbol      expiry   strike  \\\n",
              "0          96100    BANKNIFTY11JUL11000PE  28-07-2011  11000.0   \n",
              "1         119350    BANKNIFTY11JUL11000PE  28-07-2011  11000.0   \n",
              "2          81350    BANKNIFTY11JUL11300CE  28-07-2011  11300.0   \n",
              "3         168400    BANKNIFTY11JUL11200CE  28-07-2011  11200.0   \n",
              "4         220025    BANKNIFTY11JUL11000PE  28-07-2011  11000.0   \n",
              "...          ...                      ...         ...      ...   \n",
              "93128  731388620  BANKNIFTY03JAN2443000PE  03-01-2024  43000.0   \n",
              "93129  715319060  BANKNIFTY03JAN2443000CE  03-01-2024  43000.0   \n",
              "93130  699269010  BANKNIFTY03JAN2443000PE  03-01-2024  43000.0   \n",
              "93131  681310960  BANKNIFTY03JAN2438000PE  03-01-2024  38000.0   \n",
              "93132   86204070  BANKNIFTY03JAN2443500PE  03-01-2024  43500.0   \n",
              "\n",
              "      instrument_type  bnfty  \n",
              "0                  PE    NaN  \n",
              "1                  PE    NaN  \n",
              "2                  CE    NaN  \n",
              "3                  CE    NaN  \n",
              "4                  PE    NaN  \n",
              "...               ...    ...  \n",
              "93128              PE    NaN  \n",
              "93129              CE    NaN  \n",
              "93130              PE    NaN  \n",
              "93131              PE    NaN  \n",
              "93132              PE    NaN  \n",
              "\n",
              "[93133 rows x 12 columns]"
            ],
            "text/html": [
              "\n",
              "  <div id=\"df-7de64ec7-8def-4b9e-bb19-09ae23625ede\" class=\"colab-df-container\">\n",
              "    <div>\n",
              "<style scoped>\n",
              "    .dataframe tbody tr th:only-of-type {\n",
              "        vertical-align: middle;\n",
              "    }\n",
              "\n",
              "    .dataframe tbody tr th {\n",
              "        vertical-align: top;\n",
              "    }\n",
              "\n",
              "    .dataframe thead th {\n",
              "        text-align: right;\n",
              "    }\n",
              "</style>\n",
              "<table border=\"1\" class=\"dataframe\">\n",
              "  <thead>\n",
              "    <tr style=\"text-align: right;\">\n",
              "      <th></th>\n",
              "      <th>datetime</th>\n",
              "      <th>open</th>\n",
              "      <th>high</th>\n",
              "      <th>low</th>\n",
              "      <th>close</th>\n",
              "      <th>volume</th>\n",
              "      <th>oi</th>\n",
              "      <th>symbol</th>\n",
              "      <th>expiry</th>\n",
              "      <th>strike</th>\n",
              "      <th>instrument_type</th>\n",
              "      <th>bnfty</th>\n",
              "    </tr>\n",
              "  </thead>\n",
              "  <tbody>\n",
              "    <tr>\n",
              "      <th>0</th>\n",
              "      <td>2011-07-04 09:20:00</td>\n",
              "      <td>115.00</td>\n",
              "      <td>243.80</td>\n",
              "      <td>102.05</td>\n",
              "      <td>243.80</td>\n",
              "      <td>275</td>\n",
              "      <td>96100</td>\n",
              "      <td>BANKNIFTY11JUL11000PE</td>\n",
              "      <td>28-07-2011</td>\n",
              "      <td>11000.0</td>\n",
              "      <td>PE</td>\n",
              "      <td>NaN</td>\n",
              "    </tr>\n",
              "    <tr>\n",
              "      <th>1</th>\n",
              "      <td>2011-07-04 09:25:00</td>\n",
              "      <td>102.05</td>\n",
              "      <td>330.00</td>\n",
              "      <td>101.00</td>\n",
              "      <td>121.90</td>\n",
              "      <td>1525</td>\n",
              "      <td>119350</td>\n",
              "      <td>BANKNIFTY11JUL11000PE</td>\n",
              "      <td>28-07-2011</td>\n",
              "      <td>11000.0</td>\n",
              "      <td>PE</td>\n",
              "      <td>NaN</td>\n",
              "    </tr>\n",
              "    <tr>\n",
              "      <th>2</th>\n",
              "      <td>2011-07-04 09:30:00</td>\n",
              "      <td>280.00</td>\n",
              "      <td>330.00</td>\n",
              "      <td>101.00</td>\n",
              "      <td>179.95</td>\n",
              "      <td>225</td>\n",
              "      <td>81350</td>\n",
              "      <td>BANKNIFTY11JUL11300CE</td>\n",
              "      <td>28-07-2011</td>\n",
              "      <td>11300.0</td>\n",
              "      <td>CE</td>\n",
              "      <td>NaN</td>\n",
              "    </tr>\n",
              "    <tr>\n",
              "      <th>3</th>\n",
              "      <td>2011-07-04 09:35:00</td>\n",
              "      <td>330.00</td>\n",
              "      <td>340.00</td>\n",
              "      <td>30.00</td>\n",
              "      <td>79.00</td>\n",
              "      <td>575</td>\n",
              "      <td>168400</td>\n",
              "      <td>BANKNIFTY11JUL11200CE</td>\n",
              "      <td>28-07-2011</td>\n",
              "      <td>11200.0</td>\n",
              "      <td>CE</td>\n",
              "      <td>NaN</td>\n",
              "    </tr>\n",
              "    <tr>\n",
              "      <th>4</th>\n",
              "      <td>2011-07-04 09:40:00</td>\n",
              "      <td>103.00</td>\n",
              "      <td>345.00</td>\n",
              "      <td>31.00</td>\n",
              "      <td>83.55</td>\n",
              "      <td>900</td>\n",
              "      <td>220025</td>\n",
              "      <td>BANKNIFTY11JUL11000PE</td>\n",
              "      <td>28-07-2011</td>\n",
              "      <td>11000.0</td>\n",
              "      <td>PE</td>\n",
              "      <td>NaN</td>\n",
              "    </tr>\n",
              "    <tr>\n",
              "      <th>...</th>\n",
              "      <td>...</td>\n",
              "      <td>...</td>\n",
              "      <td>...</td>\n",
              "      <td>...</td>\n",
              "      <td>...</td>\n",
              "      <td>...</td>\n",
              "      <td>...</td>\n",
              "      <td>...</td>\n",
              "      <td>...</td>\n",
              "      <td>...</td>\n",
              "      <td>...</td>\n",
              "      <td>...</td>\n",
              "    </tr>\n",
              "    <tr>\n",
              "      <th>93128</th>\n",
              "      <td>2023-12-27 15:10:00</td>\n",
              "      <td>7.75</td>\n",
              "      <td>12276.85</td>\n",
              "      <td>0.80</td>\n",
              "      <td>61.00</td>\n",
              "      <td>92807250</td>\n",
              "      <td>731388620</td>\n",
              "      <td>BANKNIFTY03JAN2443000PE</td>\n",
              "      <td>03-01-2024</td>\n",
              "      <td>43000.0</td>\n",
              "      <td>PE</td>\n",
              "      <td>NaN</td>\n",
              "    </tr>\n",
              "    <tr>\n",
              "      <th>93129</th>\n",
              "      <td>2023-12-27 15:15:00</td>\n",
              "      <td>5160.00</td>\n",
              "      <td>10400.00</td>\n",
              "      <td>0.80</td>\n",
              "      <td>39.90</td>\n",
              "      <td>79359210</td>\n",
              "      <td>715319060</td>\n",
              "      <td>BANKNIFTY03JAN2443000CE</td>\n",
              "      <td>03-01-2024</td>\n",
              "      <td>43000.0</td>\n",
              "      <td>CE</td>\n",
              "      <td>NaN</td>\n",
              "    </tr>\n",
              "    <tr>\n",
              "      <th>93130</th>\n",
              "      <td>2023-12-27 15:20:00</td>\n",
              "      <td>7.60</td>\n",
              "      <td>10550.00</td>\n",
              "      <td>0.75</td>\n",
              "      <td>420.00</td>\n",
              "      <td>66282285</td>\n",
              "      <td>699269010</td>\n",
              "      <td>BANKNIFTY03JAN2443000PE</td>\n",
              "      <td>03-01-2024</td>\n",
              "      <td>43000.0</td>\n",
              "      <td>PE</td>\n",
              "      <td>NaN</td>\n",
              "    </tr>\n",
              "    <tr>\n",
              "      <th>93131</th>\n",
              "      <td>2023-12-27 15:25:00</td>\n",
              "      <td>3.60</td>\n",
              "      <td>10530.00</td>\n",
              "      <td>0.10</td>\n",
              "      <td>420.00</td>\n",
              "      <td>64077435</td>\n",
              "      <td>681310960</td>\n",
              "      <td>BANKNIFTY03JAN2438000PE</td>\n",
              "      <td>03-01-2024</td>\n",
              "      <td>38000.0</td>\n",
              "      <td>PE</td>\n",
              "      <td>NaN</td>\n",
              "    </tr>\n",
              "    <tr>\n",
              "      <th>93132</th>\n",
              "      <td>2023-12-27 15:30:00</td>\n",
              "      <td>5.10</td>\n",
              "      <td>4376.00</td>\n",
              "      <td>0.85</td>\n",
              "      <td>200.00</td>\n",
              "      <td>62010</td>\n",
              "      <td>86204070</td>\n",
              "      <td>BANKNIFTY03JAN2443500PE</td>\n",
              "      <td>03-01-2024</td>\n",
              "      <td>43500.0</td>\n",
              "      <td>PE</td>\n",
              "      <td>NaN</td>\n",
              "    </tr>\n",
              "  </tbody>\n",
              "</table>\n",
              "<p>93133 rows × 12 columns</p>\n",
              "</div>\n",
              "    <div class=\"colab-df-buttons\">\n",
              "\n",
              "  <div class=\"colab-df-container\">\n",
              "    <button class=\"colab-df-convert\" onclick=\"convertToInteractive('df-7de64ec7-8def-4b9e-bb19-09ae23625ede')\"\n",
              "            title=\"Convert this dataframe to an interactive table.\"\n",
              "            style=\"display:none;\">\n",
              "\n",
              "  <svg xmlns=\"http://www.w3.org/2000/svg\" height=\"24px\" viewBox=\"0 -960 960 960\">\n",
              "    <path d=\"M120-120v-720h720v720H120Zm60-500h600v-160H180v160Zm220 220h160v-160H400v160Zm0 220h160v-160H400v160ZM180-400h160v-160H180v160Zm440 0h160v-160H620v160ZM180-180h160v-160H180v160Zm440 0h160v-160H620v160Z\"/>\n",
              "  </svg>\n",
              "    </button>\n",
              "\n",
              "  <style>\n",
              "    .colab-df-container {\n",
              "      display:flex;\n",
              "      gap: 12px;\n",
              "    }\n",
              "\n",
              "    .colab-df-convert {\n",
              "      background-color: #E8F0FE;\n",
              "      border: none;\n",
              "      border-radius: 50%;\n",
              "      cursor: pointer;\n",
              "      display: none;\n",
              "      fill: #1967D2;\n",
              "      height: 32px;\n",
              "      padding: 0 0 0 0;\n",
              "      width: 32px;\n",
              "    }\n",
              "\n",
              "    .colab-df-convert:hover {\n",
              "      background-color: #E2EBFA;\n",
              "      box-shadow: 0px 1px 2px rgba(60, 64, 67, 0.3), 0px 1px 3px 1px rgba(60, 64, 67, 0.15);\n",
              "      fill: #174EA6;\n",
              "    }\n",
              "\n",
              "    .colab-df-buttons div {\n",
              "      margin-bottom: 4px;\n",
              "    }\n",
              "\n",
              "    [theme=dark] .colab-df-convert {\n",
              "      background-color: #3B4455;\n",
              "      fill: #D2E3FC;\n",
              "    }\n",
              "\n",
              "    [theme=dark] .colab-df-convert:hover {\n",
              "      background-color: #434B5C;\n",
              "      box-shadow: 0px 1px 3px 1px rgba(0, 0, 0, 0.15);\n",
              "      filter: drop-shadow(0px 1px 2px rgba(0, 0, 0, 0.3));\n",
              "      fill: #FFFFFF;\n",
              "    }\n",
              "  </style>\n",
              "\n",
              "    <script>\n",
              "      const buttonEl =\n",
              "        document.querySelector('#df-7de64ec7-8def-4b9e-bb19-09ae23625ede button.colab-df-convert');\n",
              "      buttonEl.style.display =\n",
              "        google.colab.kernel.accessAllowed ? 'block' : 'none';\n",
              "\n",
              "      async function convertToInteractive(key) {\n",
              "        const element = document.querySelector('#df-7de64ec7-8def-4b9e-bb19-09ae23625ede');\n",
              "        const dataTable =\n",
              "          await google.colab.kernel.invokeFunction('convertToInteractive',\n",
              "                                                    [key], {});\n",
              "        if (!dataTable) return;\n",
              "\n",
              "        const docLinkHtml = 'Like what you see? Visit the ' +\n",
              "          '<a target=\"_blank\" href=https://colab.research.google.com/notebooks/data_table.ipynb>data table notebook</a>'\n",
              "          + ' to learn more about interactive tables.';\n",
              "        element.innerHTML = '';\n",
              "        dataTable['output_type'] = 'display_data';\n",
              "        await google.colab.output.renderOutput(dataTable, element);\n",
              "        const docLink = document.createElement('div');\n",
              "        docLink.innerHTML = docLinkHtml;\n",
              "        element.appendChild(docLink);\n",
              "      }\n",
              "    </script>\n",
              "  </div>\n",
              "\n",
              "\n",
              "    <div id=\"df-667ceef6-8b99-472b-83e7-3c7eb367b6ed\">\n",
              "      <button class=\"colab-df-quickchart\" onclick=\"quickchart('df-667ceef6-8b99-472b-83e7-3c7eb367b6ed')\"\n",
              "                title=\"Suggest charts\"\n",
              "                style=\"display:none;\">\n",
              "\n",
              "<svg xmlns=\"http://www.w3.org/2000/svg\" height=\"24px\"viewBox=\"0 0 24 24\"\n",
              "     width=\"24px\">\n",
              "    <g>\n",
              "        <path d=\"M19 3H5c-1.1 0-2 .9-2 2v14c0 1.1.9 2 2 2h14c1.1 0 2-.9 2-2V5c0-1.1-.9-2-2-2zM9 17H7v-7h2v7zm4 0h-2V7h2v10zm4 0h-2v-4h2v4z\"/>\n",
              "    </g>\n",
              "</svg>\n",
              "      </button>\n",
              "\n",
              "<style>\n",
              "  .colab-df-quickchart {\n",
              "      --bg-color: #E8F0FE;\n",
              "      --fill-color: #1967D2;\n",
              "      --hover-bg-color: #E2EBFA;\n",
              "      --hover-fill-color: #174EA6;\n",
              "      --disabled-fill-color: #AAA;\n",
              "      --disabled-bg-color: #DDD;\n",
              "  }\n",
              "\n",
              "  [theme=dark] .colab-df-quickchart {\n",
              "      --bg-color: #3B4455;\n",
              "      --fill-color: #D2E3FC;\n",
              "      --hover-bg-color: #434B5C;\n",
              "      --hover-fill-color: #FFFFFF;\n",
              "      --disabled-bg-color: #3B4455;\n",
              "      --disabled-fill-color: #666;\n",
              "  }\n",
              "\n",
              "  .colab-df-quickchart {\n",
              "    background-color: var(--bg-color);\n",
              "    border: none;\n",
              "    border-radius: 50%;\n",
              "    cursor: pointer;\n",
              "    display: none;\n",
              "    fill: var(--fill-color);\n",
              "    height: 32px;\n",
              "    padding: 0;\n",
              "    width: 32px;\n",
              "  }\n",
              "\n",
              "  .colab-df-quickchart:hover {\n",
              "    background-color: var(--hover-bg-color);\n",
              "    box-shadow: 0 1px 2px rgba(60, 64, 67, 0.3), 0 1px 3px 1px rgba(60, 64, 67, 0.15);\n",
              "    fill: var(--button-hover-fill-color);\n",
              "  }\n",
              "\n",
              "  .colab-df-quickchart-complete:disabled,\n",
              "  .colab-df-quickchart-complete:disabled:hover {\n",
              "    background-color: var(--disabled-bg-color);\n",
              "    fill: var(--disabled-fill-color);\n",
              "    box-shadow: none;\n",
              "  }\n",
              "\n",
              "  .colab-df-spinner {\n",
              "    border: 2px solid var(--fill-color);\n",
              "    border-color: transparent;\n",
              "    border-bottom-color: var(--fill-color);\n",
              "    animation:\n",
              "      spin 1s steps(1) infinite;\n",
              "  }\n",
              "\n",
              "  @keyframes spin {\n",
              "    0% {\n",
              "      border-color: transparent;\n",
              "      border-bottom-color: var(--fill-color);\n",
              "      border-left-color: var(--fill-color);\n",
              "    }\n",
              "    20% {\n",
              "      border-color: transparent;\n",
              "      border-left-color: var(--fill-color);\n",
              "      border-top-color: var(--fill-color);\n",
              "    }\n",
              "    30% {\n",
              "      border-color: transparent;\n",
              "      border-left-color: var(--fill-color);\n",
              "      border-top-color: var(--fill-color);\n",
              "      border-right-color: var(--fill-color);\n",
              "    }\n",
              "    40% {\n",
              "      border-color: transparent;\n",
              "      border-right-color: var(--fill-color);\n",
              "      border-top-color: var(--fill-color);\n",
              "    }\n",
              "    60% {\n",
              "      border-color: transparent;\n",
              "      border-right-color: var(--fill-color);\n",
              "    }\n",
              "    80% {\n",
              "      border-color: transparent;\n",
              "      border-right-color: var(--fill-color);\n",
              "      border-bottom-color: var(--fill-color);\n",
              "    }\n",
              "    90% {\n",
              "      border-color: transparent;\n",
              "      border-bottom-color: var(--fill-color);\n",
              "    }\n",
              "  }\n",
              "</style>\n",
              "\n",
              "      <script>\n",
              "        async function quickchart(key) {\n",
              "          const quickchartButtonEl =\n",
              "            document.querySelector('#' + key + ' button');\n",
              "          quickchartButtonEl.disabled = true;  // To prevent multiple clicks.\n",
              "          quickchartButtonEl.classList.add('colab-df-spinner');\n",
              "          try {\n",
              "            const charts = await google.colab.kernel.invokeFunction(\n",
              "                'suggestCharts', [key], {});\n",
              "          } catch (error) {\n",
              "            console.error('Error during call to suggestCharts:', error);\n",
              "          }\n",
              "          quickchartButtonEl.classList.remove('colab-df-spinner');\n",
              "          quickchartButtonEl.classList.add('colab-df-quickchart-complete');\n",
              "        }\n",
              "        (() => {\n",
              "          let quickchartButtonEl =\n",
              "            document.querySelector('#df-667ceef6-8b99-472b-83e7-3c7eb367b6ed button');\n",
              "          quickchartButtonEl.style.display =\n",
              "            google.colab.kernel.accessAllowed ? 'block' : 'none';\n",
              "        })();\n",
              "      </script>\n",
              "    </div>\n",
              "\n",
              "  <div id=\"id_001f15c4-6692-4c70-947f-15477b82054f\">\n",
              "    <style>\n",
              "      .colab-df-generate {\n",
              "        background-color: #E8F0FE;\n",
              "        border: none;\n",
              "        border-radius: 50%;\n",
              "        cursor: pointer;\n",
              "        display: none;\n",
              "        fill: #1967D2;\n",
              "        height: 32px;\n",
              "        padding: 0 0 0 0;\n",
              "        width: 32px;\n",
              "      }\n",
              "\n",
              "      .colab-df-generate:hover {\n",
              "        background-color: #E2EBFA;\n",
              "        box-shadow: 0px 1px 2px rgba(60, 64, 67, 0.3), 0px 1px 3px 1px rgba(60, 64, 67, 0.15);\n",
              "        fill: #174EA6;\n",
              "      }\n",
              "\n",
              "      [theme=dark] .colab-df-generate {\n",
              "        background-color: #3B4455;\n",
              "        fill: #D2E3FC;\n",
              "      }\n",
              "\n",
              "      [theme=dark] .colab-df-generate:hover {\n",
              "        background-color: #434B5C;\n",
              "        box-shadow: 0px 1px 3px 1px rgba(0, 0, 0, 0.15);\n",
              "        filter: drop-shadow(0px 1px 2px rgba(0, 0, 0, 0.3));\n",
              "        fill: #FFFFFF;\n",
              "      }\n",
              "    </style>\n",
              "    <button class=\"colab-df-generate\" onclick=\"generateWithVariable('final_df')\"\n",
              "            title=\"Generate code using this dataframe.\"\n",
              "            style=\"display:none;\">\n",
              "\n",
              "  <svg xmlns=\"http://www.w3.org/2000/svg\" height=\"24px\"viewBox=\"0 0 24 24\"\n",
              "       width=\"24px\">\n",
              "    <path d=\"M7,19H8.4L18.45,9,17,7.55,7,17.6ZM5,21V16.75L18.45,3.32a2,2,0,0,1,2.83,0l1.4,1.43a1.91,1.91,0,0,1,.58,1.4,1.91,1.91,0,0,1-.58,1.4L9.25,21ZM18.45,9,17,7.55Zm-12,3A5.31,5.31,0,0,0,4.9,8.1,5.31,5.31,0,0,0,1,6.5,5.31,5.31,0,0,0,4.9,4.9,5.31,5.31,0,0,0,6.5,1,5.31,5.31,0,0,0,8.1,4.9,5.31,5.31,0,0,0,12,6.5,5.46,5.46,0,0,0,6.5,12Z\"/>\n",
              "  </svg>\n",
              "    </button>\n",
              "    <script>\n",
              "      (() => {\n",
              "      const buttonEl =\n",
              "        document.querySelector('#id_001f15c4-6692-4c70-947f-15477b82054f button.colab-df-generate');\n",
              "      buttonEl.style.display =\n",
              "        google.colab.kernel.accessAllowed ? 'block' : 'none';\n",
              "\n",
              "      buttonEl.onclick = () => {\n",
              "        google.colab.notebook.generateWithVariable('final_df');\n",
              "      }\n",
              "      })();\n",
              "    </script>\n",
              "  </div>\n",
              "\n",
              "    </div>\n",
              "  </div>\n"
            ],
            "application/vnd.google.colaboratory.intrinsic+json": {
              "type": "dataframe",
              "variable_name": "final_df",
              "summary": "{\n  \"name\": \"final_df\",\n  \"rows\": 93133,\n  \"fields\": [\n    {\n      \"column\": \"datetime\",\n      \"properties\": {\n        \"dtype\": \"date\",\n        \"min\": \"2011-01-10 09:15:00\",\n        \"max\": \"2023-12-27 15:30:00\",\n        \"num_unique_values\": 50205,\n        \"samples\": [\n          \"2018-07-05 13:45:00\",\n          \"2023-05-29 12:05:00\",\n          \"2023-05-22 12:25:00\"\n        ],\n        \"semantic_type\": \"\",\n        \"description\": \"\"\n      }\n    },\n    {\n      \"column\": \"open\",\n      \"properties\": {\n        \"dtype\": \"number\",\n        \"std\": 460.8364697501532,\n        \"min\": 0.05,\n        \"max\": 11747.6,\n        \"num_unique_values\": 8585,\n        \"samples\": [\n          220.2,\n          416.75,\n          1018.1\n        ],\n        \"semantic_type\": \"\",\n        \"description\": \"\"\n      }\n    },\n    {\n      \"column\": \"high\",\n      \"properties\": {\n        \"dtype\": \"number\",\n        \"std\": 2327.0216252844134,\n        \"min\": 20.5,\n        \"max\": 16967.8,\n        \"num_unique_values\": 25105,\n        \"samples\": [\n          4459.1,\n          2047.7,\n          1641.45\n        ],\n        \"semantic_type\": \"\",\n        \"description\": \"\"\n      }\n    },\n    {\n      \"column\": \"low\",\n      \"properties\": {\n        \"dtype\": \"number\",\n        \"std\": 4.599384720357388,\n        \"min\": 0.05,\n        \"max\": 278.55,\n        \"num_unique_values\": 464,\n        \"samples\": [\n          100.0,\n          32.05,\n          35.5\n        ],\n        \"semantic_type\": \"\",\n        \"description\": \"\"\n      }\n    },\n    {\n      \"column\": \"close\",\n      \"properties\": {\n        \"dtype\": \"number\",\n        \"std\": 1018.6786300679827,\n        \"min\": 0.05,\n        \"max\": 14300.0,\n        \"num_unique_values\": 12096,\n        \"samples\": [\n          952.75,\n          1090.8,\n          1300.0\n        ],\n        \"semantic_type\": \"\",\n        \"description\": \"\"\n      }\n    },\n    {\n      \"column\": \"volume\",\n      \"properties\": {\n        \"dtype\": \"number\",\n        \"std\": 19097551,\n        \"min\": 25,\n        \"max\": 444512050,\n        \"num_unique_values\": 48709,\n        \"samples\": [\n          4493575,\n          3766540,\n          6809825\n        ],\n        \"semantic_type\": \"\",\n        \"description\": \"\"\n      }\n    },\n    {\n      \"column\": \"oi\",\n      \"properties\": {\n        \"dtype\": \"number\",\n        \"std\": 207729083,\n        \"min\": 1550,\n        \"max\": 1387779625,\n        \"num_unique_values\": 50114,\n        \"samples\": [\n          569150925,\n          185652150,\n          650278065\n        ],\n        \"semantic_type\": \"\",\n        \"description\": \"\"\n      }\n    },\n    {\n      \"column\": \"symbol\",\n      \"properties\": {\n        \"dtype\": \"category\",\n        \"num_unique_values\": 4474,\n        \"samples\": [\n          \"BANKNIFTY12NOV2023000CE\",\n          \"BANKNIFTY07JAN2127600PE\",\n          \"BANKNIFTY16APR2016000PE\"\n        ],\n        \"semantic_type\": \"\",\n        \"description\": \"\"\n      }\n    },\n    {\n      \"column\": \"expiry\",\n      \"properties\": {\n        \"dtype\": \"object\",\n        \"num_unique_values\": 242,\n        \"samples\": [\n          \"07-06-2018\",\n          \"24-09-2015\",\n          \"06-05-2021\"\n        ],\n        \"semantic_type\": \"\",\n        \"description\": \"\"\n      }\n    },\n    {\n      \"column\": \"strike\",\n      \"properties\": {\n        \"dtype\": \"number\",\n        \"std\": 6776.897616487068,\n        \"min\": 10000.0,\n        \"max\": 51500.0,\n        \"num_unique_values\": 352,\n        \"samples\": [\n          32600.0,\n          29000.0,\n          23400.0\n        ],\n        \"semantic_type\": \"\",\n        \"description\": \"\"\n      }\n    },\n    {\n      \"column\": \"instrument_type\",\n      \"properties\": {\n        \"dtype\": \"category\",\n        \"num_unique_values\": 2,\n        \"samples\": [\n          \"CE\",\n          \"PE\"\n        ],\n        \"semantic_type\": \"\",\n        \"description\": \"\"\n      }\n    },\n    {\n      \"column\": \"bnfty\",\n      \"properties\": {\n        \"dtype\": \"number\",\n        \"std\": 6170.6605373290095,\n        \"min\": 17054.15,\n        \"max\": 44465.95,\n        \"num_unique_values\": 32499,\n        \"samples\": [\n          36105.0,\n          35133.35\n        ],\n        \"semantic_type\": \"\",\n        \"description\": \"\"\n      }\n    }\n  ]\n}"
            }
          },
          "metadata": {},
          "execution_count": 5
        }
      ]
    },
    {
      "cell_type": "code",
      "source": [
        "df=final_df.loc[final_df['bnfty'].notna()]\n",
        "df"
      ],
      "metadata": {
        "colab": {
          "base_uri": "https://localhost:8080/",
          "height": 424
        },
        "id": "X4b3nHIAgKsX",
        "outputId": "57e58ea5-5b9d-4c8f-bcaa-29ff17d5a558"
      },
      "execution_count": 14,
      "outputs": [
        {
          "output_type": "execute_result",
          "data": {
            "text/plain": [
              "                 datetime    open    high   low   close    volume         oi  \\\n",
              "378   2018-01-19 09:20:00  311.35  2042.0  0.60    5.45   1863080   58640720   \n",
              "379   2018-01-19 09:20:00  311.35  2042.0  0.60    5.45   1863080   58640720   \n",
              "380   2018-01-19 09:25:00  128.95  1552.0  0.60    6.20   1355840   58780040   \n",
              "381   2018-01-19 09:25:00  128.95  1552.0  0.60    6.20   1355840   58780040   \n",
              "382   2018-01-19 09:30:00   45.00  1554.0  2.20    5.15    982280   57881640   \n",
              "...                   ...     ...     ...   ...     ...       ...        ...   \n",
              "91823 2023-02-01 15:20:00    2.35  6230.0  1.85   26.05  46561275  538903175   \n",
              "91824 2023-02-01 15:25:00    2.50  7820.4  1.35   26.35  47648575  530172850   \n",
              "91825 2023-02-01 15:25:00    2.50  7820.4  1.35   26.35  47648575  530172850   \n",
              "91826 2023-02-01 15:30:00    2.65  2032.0  2.00  100.05     55200   76026725   \n",
              "91827 2023-02-01 15:30:00    2.65  2032.0  2.00  100.05     55200   76026725   \n",
              "\n",
              "                        symbol      expiry   strike instrument_type     bnfty  \n",
              "378    BANKNIFTY01FEB1826500PE  01-02-2018  26500.0              PE  26557.00  \n",
              "379    BANKNIFTY01FEB1826500PE  01-02-2018  26500.0              PE  26557.00  \n",
              "380    BANKNIFTY01FEB1826000PE  01-02-2018  26000.0              PE  26568.10  \n",
              "381    BANKNIFTY01FEB1826000PE  01-02-2018  26000.0              PE  26568.10  \n",
              "382    BANKNIFTY01FEB1825500PE  01-02-2018  25500.0              PE  26585.00  \n",
              "...                        ...         ...      ...             ...       ...  \n",
              "91823  BANKNIFTY02FEB2335500PE  02-02-2023  35500.0              PE  40989.00  \n",
              "91824  BANKNIFTY02FEB2335500PE  02-02-2023  35500.0              PE  40936.05  \n",
              "91825  BANKNIFTY02FEB2335500PE  02-02-2023  35500.0              PE  40936.05  \n",
              "91826  BANKNIFTY02FEB2335500PE  02-02-2023  35500.0              PE  40921.00  \n",
              "91827  BANKNIFTY02FEB2335500PE  02-02-2023  35500.0              PE  40921.00  \n",
              "\n",
              "[80919 rows x 12 columns]"
            ],
            "text/html": [
              "\n",
              "  <div id=\"df-5804c358-9830-4e38-be11-ee411b65e59f\" class=\"colab-df-container\">\n",
              "    <div>\n",
              "<style scoped>\n",
              "    .dataframe tbody tr th:only-of-type {\n",
              "        vertical-align: middle;\n",
              "    }\n",
              "\n",
              "    .dataframe tbody tr th {\n",
              "        vertical-align: top;\n",
              "    }\n",
              "\n",
              "    .dataframe thead th {\n",
              "        text-align: right;\n",
              "    }\n",
              "</style>\n",
              "<table border=\"1\" class=\"dataframe\">\n",
              "  <thead>\n",
              "    <tr style=\"text-align: right;\">\n",
              "      <th></th>\n",
              "      <th>datetime</th>\n",
              "      <th>open</th>\n",
              "      <th>high</th>\n",
              "      <th>low</th>\n",
              "      <th>close</th>\n",
              "      <th>volume</th>\n",
              "      <th>oi</th>\n",
              "      <th>symbol</th>\n",
              "      <th>expiry</th>\n",
              "      <th>strike</th>\n",
              "      <th>instrument_type</th>\n",
              "      <th>bnfty</th>\n",
              "    </tr>\n",
              "  </thead>\n",
              "  <tbody>\n",
              "    <tr>\n",
              "      <th>378</th>\n",
              "      <td>2018-01-19 09:20:00</td>\n",
              "      <td>311.35</td>\n",
              "      <td>2042.0</td>\n",
              "      <td>0.60</td>\n",
              "      <td>5.45</td>\n",
              "      <td>1863080</td>\n",
              "      <td>58640720</td>\n",
              "      <td>BANKNIFTY01FEB1826500PE</td>\n",
              "      <td>01-02-2018</td>\n",
              "      <td>26500.0</td>\n",
              "      <td>PE</td>\n",
              "      <td>26557.00</td>\n",
              "    </tr>\n",
              "    <tr>\n",
              "      <th>379</th>\n",
              "      <td>2018-01-19 09:20:00</td>\n",
              "      <td>311.35</td>\n",
              "      <td>2042.0</td>\n",
              "      <td>0.60</td>\n",
              "      <td>5.45</td>\n",
              "      <td>1863080</td>\n",
              "      <td>58640720</td>\n",
              "      <td>BANKNIFTY01FEB1826500PE</td>\n",
              "      <td>01-02-2018</td>\n",
              "      <td>26500.0</td>\n",
              "      <td>PE</td>\n",
              "      <td>26557.00</td>\n",
              "    </tr>\n",
              "    <tr>\n",
              "      <th>380</th>\n",
              "      <td>2018-01-19 09:25:00</td>\n",
              "      <td>128.95</td>\n",
              "      <td>1552.0</td>\n",
              "      <td>0.60</td>\n",
              "      <td>6.20</td>\n",
              "      <td>1355840</td>\n",
              "      <td>58780040</td>\n",
              "      <td>BANKNIFTY01FEB1826000PE</td>\n",
              "      <td>01-02-2018</td>\n",
              "      <td>26000.0</td>\n",
              "      <td>PE</td>\n",
              "      <td>26568.10</td>\n",
              "    </tr>\n",
              "    <tr>\n",
              "      <th>381</th>\n",
              "      <td>2018-01-19 09:25:00</td>\n",
              "      <td>128.95</td>\n",
              "      <td>1552.0</td>\n",
              "      <td>0.60</td>\n",
              "      <td>6.20</td>\n",
              "      <td>1355840</td>\n",
              "      <td>58780040</td>\n",
              "      <td>BANKNIFTY01FEB1826000PE</td>\n",
              "      <td>01-02-2018</td>\n",
              "      <td>26000.0</td>\n",
              "      <td>PE</td>\n",
              "      <td>26568.10</td>\n",
              "    </tr>\n",
              "    <tr>\n",
              "      <th>382</th>\n",
              "      <td>2018-01-19 09:30:00</td>\n",
              "      <td>45.00</td>\n",
              "      <td>1554.0</td>\n",
              "      <td>2.20</td>\n",
              "      <td>5.15</td>\n",
              "      <td>982280</td>\n",
              "      <td>57881640</td>\n",
              "      <td>BANKNIFTY01FEB1825500PE</td>\n",
              "      <td>01-02-2018</td>\n",
              "      <td>25500.0</td>\n",
              "      <td>PE</td>\n",
              "      <td>26585.00</td>\n",
              "    </tr>\n",
              "    <tr>\n",
              "      <th>...</th>\n",
              "      <td>...</td>\n",
              "      <td>...</td>\n",
              "      <td>...</td>\n",
              "      <td>...</td>\n",
              "      <td>...</td>\n",
              "      <td>...</td>\n",
              "      <td>...</td>\n",
              "      <td>...</td>\n",
              "      <td>...</td>\n",
              "      <td>...</td>\n",
              "      <td>...</td>\n",
              "      <td>...</td>\n",
              "    </tr>\n",
              "    <tr>\n",
              "      <th>91823</th>\n",
              "      <td>2023-02-01 15:20:00</td>\n",
              "      <td>2.35</td>\n",
              "      <td>6230.0</td>\n",
              "      <td>1.85</td>\n",
              "      <td>26.05</td>\n",
              "      <td>46561275</td>\n",
              "      <td>538903175</td>\n",
              "      <td>BANKNIFTY02FEB2335500PE</td>\n",
              "      <td>02-02-2023</td>\n",
              "      <td>35500.0</td>\n",
              "      <td>PE</td>\n",
              "      <td>40989.00</td>\n",
              "    </tr>\n",
              "    <tr>\n",
              "      <th>91824</th>\n",
              "      <td>2023-02-01 15:25:00</td>\n",
              "      <td>2.50</td>\n",
              "      <td>7820.4</td>\n",
              "      <td>1.35</td>\n",
              "      <td>26.35</td>\n",
              "      <td>47648575</td>\n",
              "      <td>530172850</td>\n",
              "      <td>BANKNIFTY02FEB2335500PE</td>\n",
              "      <td>02-02-2023</td>\n",
              "      <td>35500.0</td>\n",
              "      <td>PE</td>\n",
              "      <td>40936.05</td>\n",
              "    </tr>\n",
              "    <tr>\n",
              "      <th>91825</th>\n",
              "      <td>2023-02-01 15:25:00</td>\n",
              "      <td>2.50</td>\n",
              "      <td>7820.4</td>\n",
              "      <td>1.35</td>\n",
              "      <td>26.35</td>\n",
              "      <td>47648575</td>\n",
              "      <td>530172850</td>\n",
              "      <td>BANKNIFTY02FEB2335500PE</td>\n",
              "      <td>02-02-2023</td>\n",
              "      <td>35500.0</td>\n",
              "      <td>PE</td>\n",
              "      <td>40936.05</td>\n",
              "    </tr>\n",
              "    <tr>\n",
              "      <th>91826</th>\n",
              "      <td>2023-02-01 15:30:00</td>\n",
              "      <td>2.65</td>\n",
              "      <td>2032.0</td>\n",
              "      <td>2.00</td>\n",
              "      <td>100.05</td>\n",
              "      <td>55200</td>\n",
              "      <td>76026725</td>\n",
              "      <td>BANKNIFTY02FEB2335500PE</td>\n",
              "      <td>02-02-2023</td>\n",
              "      <td>35500.0</td>\n",
              "      <td>PE</td>\n",
              "      <td>40921.00</td>\n",
              "    </tr>\n",
              "    <tr>\n",
              "      <th>91827</th>\n",
              "      <td>2023-02-01 15:30:00</td>\n",
              "      <td>2.65</td>\n",
              "      <td>2032.0</td>\n",
              "      <td>2.00</td>\n",
              "      <td>100.05</td>\n",
              "      <td>55200</td>\n",
              "      <td>76026725</td>\n",
              "      <td>BANKNIFTY02FEB2335500PE</td>\n",
              "      <td>02-02-2023</td>\n",
              "      <td>35500.0</td>\n",
              "      <td>PE</td>\n",
              "      <td>40921.00</td>\n",
              "    </tr>\n",
              "  </tbody>\n",
              "</table>\n",
              "<p>80919 rows × 12 columns</p>\n",
              "</div>\n",
              "    <div class=\"colab-df-buttons\">\n",
              "\n",
              "  <div class=\"colab-df-container\">\n",
              "    <button class=\"colab-df-convert\" onclick=\"convertToInteractive('df-5804c358-9830-4e38-be11-ee411b65e59f')\"\n",
              "            title=\"Convert this dataframe to an interactive table.\"\n",
              "            style=\"display:none;\">\n",
              "\n",
              "  <svg xmlns=\"http://www.w3.org/2000/svg\" height=\"24px\" viewBox=\"0 -960 960 960\">\n",
              "    <path d=\"M120-120v-720h720v720H120Zm60-500h600v-160H180v160Zm220 220h160v-160H400v160Zm0 220h160v-160H400v160ZM180-400h160v-160H180v160Zm440 0h160v-160H620v160ZM180-180h160v-160H180v160Zm440 0h160v-160H620v160Z\"/>\n",
              "  </svg>\n",
              "    </button>\n",
              "\n",
              "  <style>\n",
              "    .colab-df-container {\n",
              "      display:flex;\n",
              "      gap: 12px;\n",
              "    }\n",
              "\n",
              "    .colab-df-convert {\n",
              "      background-color: #E8F0FE;\n",
              "      border: none;\n",
              "      border-radius: 50%;\n",
              "      cursor: pointer;\n",
              "      display: none;\n",
              "      fill: #1967D2;\n",
              "      height: 32px;\n",
              "      padding: 0 0 0 0;\n",
              "      width: 32px;\n",
              "    }\n",
              "\n",
              "    .colab-df-convert:hover {\n",
              "      background-color: #E2EBFA;\n",
              "      box-shadow: 0px 1px 2px rgba(60, 64, 67, 0.3), 0px 1px 3px 1px rgba(60, 64, 67, 0.15);\n",
              "      fill: #174EA6;\n",
              "    }\n",
              "\n",
              "    .colab-df-buttons div {\n",
              "      margin-bottom: 4px;\n",
              "    }\n",
              "\n",
              "    [theme=dark] .colab-df-convert {\n",
              "      background-color: #3B4455;\n",
              "      fill: #D2E3FC;\n",
              "    }\n",
              "\n",
              "    [theme=dark] .colab-df-convert:hover {\n",
              "      background-color: #434B5C;\n",
              "      box-shadow: 0px 1px 3px 1px rgba(0, 0, 0, 0.15);\n",
              "      filter: drop-shadow(0px 1px 2px rgba(0, 0, 0, 0.3));\n",
              "      fill: #FFFFFF;\n",
              "    }\n",
              "  </style>\n",
              "\n",
              "    <script>\n",
              "      const buttonEl =\n",
              "        document.querySelector('#df-5804c358-9830-4e38-be11-ee411b65e59f button.colab-df-convert');\n",
              "      buttonEl.style.display =\n",
              "        google.colab.kernel.accessAllowed ? 'block' : 'none';\n",
              "\n",
              "      async function convertToInteractive(key) {\n",
              "        const element = document.querySelector('#df-5804c358-9830-4e38-be11-ee411b65e59f');\n",
              "        const dataTable =\n",
              "          await google.colab.kernel.invokeFunction('convertToInteractive',\n",
              "                                                    [key], {});\n",
              "        if (!dataTable) return;\n",
              "\n",
              "        const docLinkHtml = 'Like what you see? Visit the ' +\n",
              "          '<a target=\"_blank\" href=https://colab.research.google.com/notebooks/data_table.ipynb>data table notebook</a>'\n",
              "          + ' to learn more about interactive tables.';\n",
              "        element.innerHTML = '';\n",
              "        dataTable['output_type'] = 'display_data';\n",
              "        await google.colab.output.renderOutput(dataTable, element);\n",
              "        const docLink = document.createElement('div');\n",
              "        docLink.innerHTML = docLinkHtml;\n",
              "        element.appendChild(docLink);\n",
              "      }\n",
              "    </script>\n",
              "  </div>\n",
              "\n",
              "\n",
              "    <div id=\"df-509a28a5-ab11-4170-9ffa-e1329dd3d443\">\n",
              "      <button class=\"colab-df-quickchart\" onclick=\"quickchart('df-509a28a5-ab11-4170-9ffa-e1329dd3d443')\"\n",
              "                title=\"Suggest charts\"\n",
              "                style=\"display:none;\">\n",
              "\n",
              "<svg xmlns=\"http://www.w3.org/2000/svg\" height=\"24px\"viewBox=\"0 0 24 24\"\n",
              "     width=\"24px\">\n",
              "    <g>\n",
              "        <path d=\"M19 3H5c-1.1 0-2 .9-2 2v14c0 1.1.9 2 2 2h14c1.1 0 2-.9 2-2V5c0-1.1-.9-2-2-2zM9 17H7v-7h2v7zm4 0h-2V7h2v10zm4 0h-2v-4h2v4z\"/>\n",
              "    </g>\n",
              "</svg>\n",
              "      </button>\n",
              "\n",
              "<style>\n",
              "  .colab-df-quickchart {\n",
              "      --bg-color: #E8F0FE;\n",
              "      --fill-color: #1967D2;\n",
              "      --hover-bg-color: #E2EBFA;\n",
              "      --hover-fill-color: #174EA6;\n",
              "      --disabled-fill-color: #AAA;\n",
              "      --disabled-bg-color: #DDD;\n",
              "  }\n",
              "\n",
              "  [theme=dark] .colab-df-quickchart {\n",
              "      --bg-color: #3B4455;\n",
              "      --fill-color: #D2E3FC;\n",
              "      --hover-bg-color: #434B5C;\n",
              "      --hover-fill-color: #FFFFFF;\n",
              "      --disabled-bg-color: #3B4455;\n",
              "      --disabled-fill-color: #666;\n",
              "  }\n",
              "\n",
              "  .colab-df-quickchart {\n",
              "    background-color: var(--bg-color);\n",
              "    border: none;\n",
              "    border-radius: 50%;\n",
              "    cursor: pointer;\n",
              "    display: none;\n",
              "    fill: var(--fill-color);\n",
              "    height: 32px;\n",
              "    padding: 0;\n",
              "    width: 32px;\n",
              "  }\n",
              "\n",
              "  .colab-df-quickchart:hover {\n",
              "    background-color: var(--hover-bg-color);\n",
              "    box-shadow: 0 1px 2px rgba(60, 64, 67, 0.3), 0 1px 3px 1px rgba(60, 64, 67, 0.15);\n",
              "    fill: var(--button-hover-fill-color);\n",
              "  }\n",
              "\n",
              "  .colab-df-quickchart-complete:disabled,\n",
              "  .colab-df-quickchart-complete:disabled:hover {\n",
              "    background-color: var(--disabled-bg-color);\n",
              "    fill: var(--disabled-fill-color);\n",
              "    box-shadow: none;\n",
              "  }\n",
              "\n",
              "  .colab-df-spinner {\n",
              "    border: 2px solid var(--fill-color);\n",
              "    border-color: transparent;\n",
              "    border-bottom-color: var(--fill-color);\n",
              "    animation:\n",
              "      spin 1s steps(1) infinite;\n",
              "  }\n",
              "\n",
              "  @keyframes spin {\n",
              "    0% {\n",
              "      border-color: transparent;\n",
              "      border-bottom-color: var(--fill-color);\n",
              "      border-left-color: var(--fill-color);\n",
              "    }\n",
              "    20% {\n",
              "      border-color: transparent;\n",
              "      border-left-color: var(--fill-color);\n",
              "      border-top-color: var(--fill-color);\n",
              "    }\n",
              "    30% {\n",
              "      border-color: transparent;\n",
              "      border-left-color: var(--fill-color);\n",
              "      border-top-color: var(--fill-color);\n",
              "      border-right-color: var(--fill-color);\n",
              "    }\n",
              "    40% {\n",
              "      border-color: transparent;\n",
              "      border-right-color: var(--fill-color);\n",
              "      border-top-color: var(--fill-color);\n",
              "    }\n",
              "    60% {\n",
              "      border-color: transparent;\n",
              "      border-right-color: var(--fill-color);\n",
              "    }\n",
              "    80% {\n",
              "      border-color: transparent;\n",
              "      border-right-color: var(--fill-color);\n",
              "      border-bottom-color: var(--fill-color);\n",
              "    }\n",
              "    90% {\n",
              "      border-color: transparent;\n",
              "      border-bottom-color: var(--fill-color);\n",
              "    }\n",
              "  }\n",
              "</style>\n",
              "\n",
              "      <script>\n",
              "        async function quickchart(key) {\n",
              "          const quickchartButtonEl =\n",
              "            document.querySelector('#' + key + ' button');\n",
              "          quickchartButtonEl.disabled = true;  // To prevent multiple clicks.\n",
              "          quickchartButtonEl.classList.add('colab-df-spinner');\n",
              "          try {\n",
              "            const charts = await google.colab.kernel.invokeFunction(\n",
              "                'suggestCharts', [key], {});\n",
              "          } catch (error) {\n",
              "            console.error('Error during call to suggestCharts:', error);\n",
              "          }\n",
              "          quickchartButtonEl.classList.remove('colab-df-spinner');\n",
              "          quickchartButtonEl.classList.add('colab-df-quickchart-complete');\n",
              "        }\n",
              "        (() => {\n",
              "          let quickchartButtonEl =\n",
              "            document.querySelector('#df-509a28a5-ab11-4170-9ffa-e1329dd3d443 button');\n",
              "          quickchartButtonEl.style.display =\n",
              "            google.colab.kernel.accessAllowed ? 'block' : 'none';\n",
              "        })();\n",
              "      </script>\n",
              "    </div>\n",
              "\n",
              "  <div id=\"id_a2c6b013-21dd-4af9-a84a-2e613c65bcc3\">\n",
              "    <style>\n",
              "      .colab-df-generate {\n",
              "        background-color: #E8F0FE;\n",
              "        border: none;\n",
              "        border-radius: 50%;\n",
              "        cursor: pointer;\n",
              "        display: none;\n",
              "        fill: #1967D2;\n",
              "        height: 32px;\n",
              "        padding: 0 0 0 0;\n",
              "        width: 32px;\n",
              "      }\n",
              "\n",
              "      .colab-df-generate:hover {\n",
              "        background-color: #E2EBFA;\n",
              "        box-shadow: 0px 1px 2px rgba(60, 64, 67, 0.3), 0px 1px 3px 1px rgba(60, 64, 67, 0.15);\n",
              "        fill: #174EA6;\n",
              "      }\n",
              "\n",
              "      [theme=dark] .colab-df-generate {\n",
              "        background-color: #3B4455;\n",
              "        fill: #D2E3FC;\n",
              "      }\n",
              "\n",
              "      [theme=dark] .colab-df-generate:hover {\n",
              "        background-color: #434B5C;\n",
              "        box-shadow: 0px 1px 3px 1px rgba(0, 0, 0, 0.15);\n",
              "        filter: drop-shadow(0px 1px 2px rgba(0, 0, 0, 0.3));\n",
              "        fill: #FFFFFF;\n",
              "      }\n",
              "    </style>\n",
              "    <button class=\"colab-df-generate\" onclick=\"generateWithVariable('df')\"\n",
              "            title=\"Generate code using this dataframe.\"\n",
              "            style=\"display:none;\">\n",
              "\n",
              "  <svg xmlns=\"http://www.w3.org/2000/svg\" height=\"24px\"viewBox=\"0 0 24 24\"\n",
              "       width=\"24px\">\n",
              "    <path d=\"M7,19H8.4L18.45,9,17,7.55,7,17.6ZM5,21V16.75L18.45,3.32a2,2,0,0,1,2.83,0l1.4,1.43a1.91,1.91,0,0,1,.58,1.4,1.91,1.91,0,0,1-.58,1.4L9.25,21ZM18.45,9,17,7.55Zm-12,3A5.31,5.31,0,0,0,4.9,8.1,5.31,5.31,0,0,0,1,6.5,5.31,5.31,0,0,0,4.9,4.9,5.31,5.31,0,0,0,6.5,1,5.31,5.31,0,0,0,8.1,4.9,5.31,5.31,0,0,0,12,6.5,5.46,5.46,0,0,0,6.5,12Z\"/>\n",
              "  </svg>\n",
              "    </button>\n",
              "    <script>\n",
              "      (() => {\n",
              "      const buttonEl =\n",
              "        document.querySelector('#id_a2c6b013-21dd-4af9-a84a-2e613c65bcc3 button.colab-df-generate');\n",
              "      buttonEl.style.display =\n",
              "        google.colab.kernel.accessAllowed ? 'block' : 'none';\n",
              "\n",
              "      buttonEl.onclick = () => {\n",
              "        google.colab.notebook.generateWithVariable('df');\n",
              "      }\n",
              "      })();\n",
              "    </script>\n",
              "  </div>\n",
              "\n",
              "    </div>\n",
              "  </div>\n"
            ],
            "application/vnd.google.colaboratory.intrinsic+json": {
              "type": "dataframe",
              "variable_name": "df",
              "summary": "{\n  \"name\": \"df\",\n  \"rows\": 80919,\n  \"fields\": [\n    {\n      \"column\": \"datetime\",\n      \"properties\": {\n        \"dtype\": \"date\",\n        \"min\": \"2018-01-12 09:20:00\",\n        \"max\": \"2023-02-27 15:30:00\",\n        \"num_unique_values\": 37991,\n        \"samples\": [\n          \"2022-04-04 13:50:00\",\n          \"2022-09-27 14:20:00\",\n          \"2022-04-25 10:50:00\"\n        ],\n        \"semantic_type\": \"\",\n        \"description\": \"\"\n      }\n    },\n    {\n      \"column\": \"open\",\n      \"properties\": {\n        \"dtype\": \"number\",\n        \"std\": 466.46738101898865,\n        \"min\": 0.05,\n        \"max\": 11747.6,\n        \"num_unique_values\": 7037,\n        \"samples\": [\n          67.1,\n          16.5,\n          21.8\n        ],\n        \"semantic_type\": \"\",\n        \"description\": \"\"\n      }\n    },\n    {\n      \"column\": \"high\",\n      \"properties\": {\n        \"dtype\": \"number\",\n        \"std\": 2285.269366261044,\n        \"min\": 30.0,\n        \"max\": 16967.8,\n        \"num_unique_values\": 20070,\n        \"samples\": [\n          3321.0,\n          2116.45,\n          3208.3\n        ],\n        \"semantic_type\": \"\",\n        \"description\": \"\"\n      }\n    },\n    {\n      \"column\": \"low\",\n      \"properties\": {\n        \"dtype\": \"number\",\n        \"std\": 2.590124982949765,\n        \"min\": 0.05,\n        \"max\": 167.55,\n        \"num_unique_values\": 328,\n        \"samples\": [\n          26.5,\n          12.0,\n          4.95\n        ],\n        \"semantic_type\": \"\",\n        \"description\": \"\"\n      }\n    },\n    {\n      \"column\": \"close\",\n      \"properties\": {\n        \"dtype\": \"number\",\n        \"std\": 1009.9839610388275,\n        \"min\": 0.05,\n        \"max\": 14300.0,\n        \"num_unique_values\": 10095,\n        \"samples\": [\n          904.3,\n          47.15,\n          1401.75\n        ],\n        \"semantic_type\": \"\",\n        \"description\": \"\"\n      }\n    },\n    {\n      \"column\": \"volume\",\n      \"properties\": {\n        \"dtype\": \"number\",\n        \"std\": 14120063,\n        \"min\": 40,\n        \"max\": 216575100,\n        \"num_unique_values\": 37097,\n        \"samples\": [\n          12398325,\n          8688325,\n          5616850\n        ],\n        \"semantic_type\": \"\",\n        \"description\": \"\"\n      }\n    },\n    {\n      \"column\": \"oi\",\n      \"properties\": {\n        \"dtype\": \"number\",\n        \"std\": 163417186,\n        \"min\": 111520,\n        \"max\": 933041525,\n        \"num_unique_values\": 37932,\n        \"samples\": [\n          59937120,\n          79383340,\n          470337625\n        ],\n        \"semantic_type\": \"\",\n        \"description\": \"\"\n      }\n    },\n    {\n      \"column\": \"symbol\",\n      \"properties\": {\n        \"dtype\": \"category\",\n        \"num_unique_values\": 3690,\n        \"samples\": [\n          \"BANKNIFTY08DEC2237500PE\",\n          \"BANKNIFTY22DEC2241000PE\",\n          \"BANKNIFTY12SEP1826400PE\"\n        ],\n        \"semantic_type\": \"\",\n        \"description\": \"\"\n      }\n    },\n    {\n      \"column\": \"expiry\",\n      \"properties\": {\n        \"dtype\": \"category\",\n        \"num_unique_values\": 206,\n        \"samples\": [\n          \"10-05-2018\",\n          \"15-03-2018\",\n          \"22-12-2022\"\n        ],\n        \"semantic_type\": \"\",\n        \"description\": \"\"\n      }\n    },\n    {\n      \"column\": \"strike\",\n      \"properties\": {\n        \"dtype\": \"number\",\n        \"std\": 6052.358261404454,\n        \"min\": 13900.0,\n        \"max\": 48500.0,\n        \"num_unique_values\": 289,\n        \"samples\": [\n          22300.0,\n          16900.0,\n          42700.0\n        ],\n        \"semantic_type\": \"\",\n        \"description\": \"\"\n      }\n    },\n    {\n      \"column\": \"instrument_type\",\n      \"properties\": {\n        \"dtype\": \"category\",\n        \"num_unique_values\": 2,\n        \"samples\": [\n          \"CE\",\n          \"PE\"\n        ],\n        \"semantic_type\": \"\",\n        \"description\": \"\"\n      }\n    },\n    {\n      \"column\": \"bnfty\",\n      \"properties\": {\n        \"dtype\": \"number\",\n        \"std\": 6170.6605373290095,\n        \"min\": 17054.15,\n        \"max\": 44465.95,\n        \"num_unique_values\": 32499,\n        \"samples\": [\n          36105.0,\n          35133.35\n        ],\n        \"semantic_type\": \"\",\n        \"description\": \"\"\n      }\n    }\n  ]\n}"
            }
          },
          "metadata": {},
          "execution_count": 14
        }
      ]
    },
    {
      "cell_type": "code",
      "source": [
        "import pandas as pd\n",
        "\n",
        "df['datetime'] = pd.to_datetime(df['datetime'])\n",
        "df['date'] = df['datetime'].dt.date\n",
        "\n",
        "# Convert to numeric\n",
        "df['strike'] = pd.to_numeric(df['strike'], errors='coerce')\n",
        "df['bnfty'] = pd.to_numeric(df['bnfty'], errors='coerce')\n",
        "\n",
        "# Find the first timestamp's bnfty for each date\n",
        "first_bnfty = df.groupby('date').apply(lambda x: x.loc[x['datetime'].idxmin(), 'bnfty']).reset_index()\n",
        "first_bnfty.columns = ['date', 'first_bnfty']\n",
        "\n",
        "# Merge back to df to have the day's initial bnfty\n",
        "df = df.merge(first_bnfty, on='date', how='left')\n",
        "\n",
        "# Calculate abs difference from the initial day's bnfty\n",
        "df['abs_diff'] = (df['strike'] - df['first_bnfty']).abs()\n",
        "\n",
        "# For each date & instrument_type, keep only the closest strike\n",
        "nearest_strike_df = df.loc[df.groupby(['date', 'instrument_type'])['abs_diff'].idxmin()]\n",
        "\n",
        "# Retain only date, instrument_type, and the closest strike for that day\n",
        "atm_strikes = nearest_strike_df[['date', 'instrument_type', 'strike']]\n",
        "\n",
        "# Merge back to original dataframe to keep only rows with that strike for the entire day\n",
        "df_atm_day = df.merge(atm_strikes, on=['date', 'instrument_type', 'strike'], how='inner')\n",
        "\n",
        "# Drop helper columns if needed\n",
        "df_atm_day = df_atm_day.drop(columns=['abs_diff', 'first_bnfty'])\n",
        "\n",
        "print(\"Shape of final ATM dataframe:\", df_atm_day.shape)\n",
        "df_atm_day\n",
        "\n"
      ],
      "metadata": {
        "colab": {
          "base_uri": "https://localhost:8080/",
          "height": 926
        },
        "id": "bFlj7FpuUOWd",
        "outputId": "fefe8533-ce62-46b3-bbf9-e9c2a167b108"
      },
      "execution_count": 15,
      "outputs": [
        {
          "output_type": "stream",
          "name": "stderr",
          "text": [
            "<ipython-input-15-1bb9bc4edeca>:3: SettingWithCopyWarning: \n",
            "A value is trying to be set on a copy of a slice from a DataFrame.\n",
            "Try using .loc[row_indexer,col_indexer] = value instead\n",
            "\n",
            "See the caveats in the documentation: https://pandas.pydata.org/pandas-docs/stable/user_guide/indexing.html#returning-a-view-versus-a-copy\n",
            "  df['datetime'] = pd.to_datetime(df['datetime'])\n",
            "<ipython-input-15-1bb9bc4edeca>:4: SettingWithCopyWarning: \n",
            "A value is trying to be set on a copy of a slice from a DataFrame.\n",
            "Try using .loc[row_indexer,col_indexer] = value instead\n",
            "\n",
            "See the caveats in the documentation: https://pandas.pydata.org/pandas-docs/stable/user_guide/indexing.html#returning-a-view-versus-a-copy\n",
            "  df['date'] = df['datetime'].dt.date\n",
            "<ipython-input-15-1bb9bc4edeca>:7: SettingWithCopyWarning: \n",
            "A value is trying to be set on a copy of a slice from a DataFrame.\n",
            "Try using .loc[row_indexer,col_indexer] = value instead\n",
            "\n",
            "See the caveats in the documentation: https://pandas.pydata.org/pandas-docs/stable/user_guide/indexing.html#returning-a-view-versus-a-copy\n",
            "  df['strike'] = pd.to_numeric(df['strike'], errors='coerce')\n",
            "<ipython-input-15-1bb9bc4edeca>:8: SettingWithCopyWarning: \n",
            "A value is trying to be set on a copy of a slice from a DataFrame.\n",
            "Try using .loc[row_indexer,col_indexer] = value instead\n",
            "\n",
            "See the caveats in the documentation: https://pandas.pydata.org/pandas-docs/stable/user_guide/indexing.html#returning-a-view-versus-a-copy\n",
            "  df['bnfty'] = pd.to_numeric(df['bnfty'], errors='coerce')\n",
            "<ipython-input-15-1bb9bc4edeca>:11: DeprecationWarning: DataFrameGroupBy.apply operated on the grouping columns. This behavior is deprecated, and in a future version of pandas the grouping columns will be excluded from the operation. Either pass `include_groups=False` to exclude the groupings or explicitly select the grouping columns after groupby to silence this warning.\n",
            "  first_bnfty = df.groupby('date').apply(lambda x: x.loc[x['datetime'].idxmin(), 'bnfty']).reset_index()\n"
          ]
        },
        {
          "output_type": "stream",
          "name": "stdout",
          "text": [
            "Shape of final ATM dataframe: (5181, 13)\n"
          ]
        },
        {
          "output_type": "execute_result",
          "data": {
            "text/plain": [
              "                datetime    open    high   low   close    volume         oi  \\\n",
              "0    2018-01-19 09:20:00  311.35  2042.0  0.60    5.45   1863080   58640720   \n",
              "1    2018-01-19 09:20:00  311.35  2042.0  0.60    5.45   1863080   58640720   \n",
              "2    2018-01-19 10:15:00  384.85  3450.0  0.70    7.10   3235160   66917840   \n",
              "3    2018-01-19 10:15:00  384.85  3450.0  0.70    7.10   3235160   66917840   \n",
              "4    2018-01-19 10:30:00  234.35  3460.0  1.35    6.45   1398840   62408880   \n",
              "...                  ...     ...     ...   ...     ...       ...        ...   \n",
              "5176 2023-02-01 15:20:00    2.35  6230.0  1.85   26.05  46561275  538903175   \n",
              "5177 2023-02-01 15:25:00    2.50  7820.4  1.35   26.35  47648575  530172850   \n",
              "5178 2023-02-01 15:25:00    2.50  7820.4  1.35   26.35  47648575  530172850   \n",
              "5179 2023-02-01 15:30:00    2.65  2032.0  2.00  100.05     55200   76026725   \n",
              "5180 2023-02-01 15:30:00    2.65  2032.0  2.00  100.05     55200   76026725   \n",
              "\n",
              "                       symbol      expiry   strike instrument_type     bnfty  \\\n",
              "0     BANKNIFTY01FEB1826500PE  01-02-2018  26500.0              PE  26557.00   \n",
              "1     BANKNIFTY01FEB1826500PE  01-02-2018  26500.0              PE  26557.00   \n",
              "2     BANKNIFTY01FEB1826500CE  01-02-2018  26500.0              CE  26698.70   \n",
              "3     BANKNIFTY01FEB1826500CE  01-02-2018  26500.0              CE  26698.70   \n",
              "4     BANKNIFTY01FEB1826500PE  01-02-2018  26500.0              PE  26714.00   \n",
              "...                       ...         ...      ...             ...       ...   \n",
              "5176  BANKNIFTY02FEB2335500PE  02-02-2023  35500.0              PE  40989.00   \n",
              "5177  BANKNIFTY02FEB2335500PE  02-02-2023  35500.0              PE  40936.05   \n",
              "5178  BANKNIFTY02FEB2335500PE  02-02-2023  35500.0              PE  40936.05   \n",
              "5179  BANKNIFTY02FEB2335500PE  02-02-2023  35500.0              PE  40921.00   \n",
              "5180  BANKNIFTY02FEB2335500PE  02-02-2023  35500.0              PE  40921.00   \n",
              "\n",
              "            date  \n",
              "0     2018-01-19  \n",
              "1     2018-01-19  \n",
              "2     2018-01-19  \n",
              "3     2018-01-19  \n",
              "4     2018-01-19  \n",
              "...          ...  \n",
              "5176  2023-02-01  \n",
              "5177  2023-02-01  \n",
              "5178  2023-02-01  \n",
              "5179  2023-02-01  \n",
              "5180  2023-02-01  \n",
              "\n",
              "[5181 rows x 13 columns]"
            ],
            "text/html": [
              "\n",
              "  <div id=\"df-1bd6f500-6544-48b9-b647-4fedacbcb38b\" class=\"colab-df-container\">\n",
              "    <div>\n",
              "<style scoped>\n",
              "    .dataframe tbody tr th:only-of-type {\n",
              "        vertical-align: middle;\n",
              "    }\n",
              "\n",
              "    .dataframe tbody tr th {\n",
              "        vertical-align: top;\n",
              "    }\n",
              "\n",
              "    .dataframe thead th {\n",
              "        text-align: right;\n",
              "    }\n",
              "</style>\n",
              "<table border=\"1\" class=\"dataframe\">\n",
              "  <thead>\n",
              "    <tr style=\"text-align: right;\">\n",
              "      <th></th>\n",
              "      <th>datetime</th>\n",
              "      <th>open</th>\n",
              "      <th>high</th>\n",
              "      <th>low</th>\n",
              "      <th>close</th>\n",
              "      <th>volume</th>\n",
              "      <th>oi</th>\n",
              "      <th>symbol</th>\n",
              "      <th>expiry</th>\n",
              "      <th>strike</th>\n",
              "      <th>instrument_type</th>\n",
              "      <th>bnfty</th>\n",
              "      <th>date</th>\n",
              "    </tr>\n",
              "  </thead>\n",
              "  <tbody>\n",
              "    <tr>\n",
              "      <th>0</th>\n",
              "      <td>2018-01-19 09:20:00</td>\n",
              "      <td>311.35</td>\n",
              "      <td>2042.0</td>\n",
              "      <td>0.60</td>\n",
              "      <td>5.45</td>\n",
              "      <td>1863080</td>\n",
              "      <td>58640720</td>\n",
              "      <td>BANKNIFTY01FEB1826500PE</td>\n",
              "      <td>01-02-2018</td>\n",
              "      <td>26500.0</td>\n",
              "      <td>PE</td>\n",
              "      <td>26557.00</td>\n",
              "      <td>2018-01-19</td>\n",
              "    </tr>\n",
              "    <tr>\n",
              "      <th>1</th>\n",
              "      <td>2018-01-19 09:20:00</td>\n",
              "      <td>311.35</td>\n",
              "      <td>2042.0</td>\n",
              "      <td>0.60</td>\n",
              "      <td>5.45</td>\n",
              "      <td>1863080</td>\n",
              "      <td>58640720</td>\n",
              "      <td>BANKNIFTY01FEB1826500PE</td>\n",
              "      <td>01-02-2018</td>\n",
              "      <td>26500.0</td>\n",
              "      <td>PE</td>\n",
              "      <td>26557.00</td>\n",
              "      <td>2018-01-19</td>\n",
              "    </tr>\n",
              "    <tr>\n",
              "      <th>2</th>\n",
              "      <td>2018-01-19 10:15:00</td>\n",
              "      <td>384.85</td>\n",
              "      <td>3450.0</td>\n",
              "      <td>0.70</td>\n",
              "      <td>7.10</td>\n",
              "      <td>3235160</td>\n",
              "      <td>66917840</td>\n",
              "      <td>BANKNIFTY01FEB1826500CE</td>\n",
              "      <td>01-02-2018</td>\n",
              "      <td>26500.0</td>\n",
              "      <td>CE</td>\n",
              "      <td>26698.70</td>\n",
              "      <td>2018-01-19</td>\n",
              "    </tr>\n",
              "    <tr>\n",
              "      <th>3</th>\n",
              "      <td>2018-01-19 10:15:00</td>\n",
              "      <td>384.85</td>\n",
              "      <td>3450.0</td>\n",
              "      <td>0.70</td>\n",
              "      <td>7.10</td>\n",
              "      <td>3235160</td>\n",
              "      <td>66917840</td>\n",
              "      <td>BANKNIFTY01FEB1826500CE</td>\n",
              "      <td>01-02-2018</td>\n",
              "      <td>26500.0</td>\n",
              "      <td>CE</td>\n",
              "      <td>26698.70</td>\n",
              "      <td>2018-01-19</td>\n",
              "    </tr>\n",
              "    <tr>\n",
              "      <th>4</th>\n",
              "      <td>2018-01-19 10:30:00</td>\n",
              "      <td>234.35</td>\n",
              "      <td>3460.0</td>\n",
              "      <td>1.35</td>\n",
              "      <td>6.45</td>\n",
              "      <td>1398840</td>\n",
              "      <td>62408880</td>\n",
              "      <td>BANKNIFTY01FEB1826500PE</td>\n",
              "      <td>01-02-2018</td>\n",
              "      <td>26500.0</td>\n",
              "      <td>PE</td>\n",
              "      <td>26714.00</td>\n",
              "      <td>2018-01-19</td>\n",
              "    </tr>\n",
              "    <tr>\n",
              "      <th>...</th>\n",
              "      <td>...</td>\n",
              "      <td>...</td>\n",
              "      <td>...</td>\n",
              "      <td>...</td>\n",
              "      <td>...</td>\n",
              "      <td>...</td>\n",
              "      <td>...</td>\n",
              "      <td>...</td>\n",
              "      <td>...</td>\n",
              "      <td>...</td>\n",
              "      <td>...</td>\n",
              "      <td>...</td>\n",
              "      <td>...</td>\n",
              "    </tr>\n",
              "    <tr>\n",
              "      <th>5176</th>\n",
              "      <td>2023-02-01 15:20:00</td>\n",
              "      <td>2.35</td>\n",
              "      <td>6230.0</td>\n",
              "      <td>1.85</td>\n",
              "      <td>26.05</td>\n",
              "      <td>46561275</td>\n",
              "      <td>538903175</td>\n",
              "      <td>BANKNIFTY02FEB2335500PE</td>\n",
              "      <td>02-02-2023</td>\n",
              "      <td>35500.0</td>\n",
              "      <td>PE</td>\n",
              "      <td>40989.00</td>\n",
              "      <td>2023-02-01</td>\n",
              "    </tr>\n",
              "    <tr>\n",
              "      <th>5177</th>\n",
              "      <td>2023-02-01 15:25:00</td>\n",
              "      <td>2.50</td>\n",
              "      <td>7820.4</td>\n",
              "      <td>1.35</td>\n",
              "      <td>26.35</td>\n",
              "      <td>47648575</td>\n",
              "      <td>530172850</td>\n",
              "      <td>BANKNIFTY02FEB2335500PE</td>\n",
              "      <td>02-02-2023</td>\n",
              "      <td>35500.0</td>\n",
              "      <td>PE</td>\n",
              "      <td>40936.05</td>\n",
              "      <td>2023-02-01</td>\n",
              "    </tr>\n",
              "    <tr>\n",
              "      <th>5178</th>\n",
              "      <td>2023-02-01 15:25:00</td>\n",
              "      <td>2.50</td>\n",
              "      <td>7820.4</td>\n",
              "      <td>1.35</td>\n",
              "      <td>26.35</td>\n",
              "      <td>47648575</td>\n",
              "      <td>530172850</td>\n",
              "      <td>BANKNIFTY02FEB2335500PE</td>\n",
              "      <td>02-02-2023</td>\n",
              "      <td>35500.0</td>\n",
              "      <td>PE</td>\n",
              "      <td>40936.05</td>\n",
              "      <td>2023-02-01</td>\n",
              "    </tr>\n",
              "    <tr>\n",
              "      <th>5179</th>\n",
              "      <td>2023-02-01 15:30:00</td>\n",
              "      <td>2.65</td>\n",
              "      <td>2032.0</td>\n",
              "      <td>2.00</td>\n",
              "      <td>100.05</td>\n",
              "      <td>55200</td>\n",
              "      <td>76026725</td>\n",
              "      <td>BANKNIFTY02FEB2335500PE</td>\n",
              "      <td>02-02-2023</td>\n",
              "      <td>35500.0</td>\n",
              "      <td>PE</td>\n",
              "      <td>40921.00</td>\n",
              "      <td>2023-02-01</td>\n",
              "    </tr>\n",
              "    <tr>\n",
              "      <th>5180</th>\n",
              "      <td>2023-02-01 15:30:00</td>\n",
              "      <td>2.65</td>\n",
              "      <td>2032.0</td>\n",
              "      <td>2.00</td>\n",
              "      <td>100.05</td>\n",
              "      <td>55200</td>\n",
              "      <td>76026725</td>\n",
              "      <td>BANKNIFTY02FEB2335500PE</td>\n",
              "      <td>02-02-2023</td>\n",
              "      <td>35500.0</td>\n",
              "      <td>PE</td>\n",
              "      <td>40921.00</td>\n",
              "      <td>2023-02-01</td>\n",
              "    </tr>\n",
              "  </tbody>\n",
              "</table>\n",
              "<p>5181 rows × 13 columns</p>\n",
              "</div>\n",
              "    <div class=\"colab-df-buttons\">\n",
              "\n",
              "  <div class=\"colab-df-container\">\n",
              "    <button class=\"colab-df-convert\" onclick=\"convertToInteractive('df-1bd6f500-6544-48b9-b647-4fedacbcb38b')\"\n",
              "            title=\"Convert this dataframe to an interactive table.\"\n",
              "            style=\"display:none;\">\n",
              "\n",
              "  <svg xmlns=\"http://www.w3.org/2000/svg\" height=\"24px\" viewBox=\"0 -960 960 960\">\n",
              "    <path d=\"M120-120v-720h720v720H120Zm60-500h600v-160H180v160Zm220 220h160v-160H400v160Zm0 220h160v-160H400v160ZM180-400h160v-160H180v160Zm440 0h160v-160H620v160ZM180-180h160v-160H180v160Zm440 0h160v-160H620v160Z\"/>\n",
              "  </svg>\n",
              "    </button>\n",
              "\n",
              "  <style>\n",
              "    .colab-df-container {\n",
              "      display:flex;\n",
              "      gap: 12px;\n",
              "    }\n",
              "\n",
              "    .colab-df-convert {\n",
              "      background-color: #E8F0FE;\n",
              "      border: none;\n",
              "      border-radius: 50%;\n",
              "      cursor: pointer;\n",
              "      display: none;\n",
              "      fill: #1967D2;\n",
              "      height: 32px;\n",
              "      padding: 0 0 0 0;\n",
              "      width: 32px;\n",
              "    }\n",
              "\n",
              "    .colab-df-convert:hover {\n",
              "      background-color: #E2EBFA;\n",
              "      box-shadow: 0px 1px 2px rgba(60, 64, 67, 0.3), 0px 1px 3px 1px rgba(60, 64, 67, 0.15);\n",
              "      fill: #174EA6;\n",
              "    }\n",
              "\n",
              "    .colab-df-buttons div {\n",
              "      margin-bottom: 4px;\n",
              "    }\n",
              "\n",
              "    [theme=dark] .colab-df-convert {\n",
              "      background-color: #3B4455;\n",
              "      fill: #D2E3FC;\n",
              "    }\n",
              "\n",
              "    [theme=dark] .colab-df-convert:hover {\n",
              "      background-color: #434B5C;\n",
              "      box-shadow: 0px 1px 3px 1px rgba(0, 0, 0, 0.15);\n",
              "      filter: drop-shadow(0px 1px 2px rgba(0, 0, 0, 0.3));\n",
              "      fill: #FFFFFF;\n",
              "    }\n",
              "  </style>\n",
              "\n",
              "    <script>\n",
              "      const buttonEl =\n",
              "        document.querySelector('#df-1bd6f500-6544-48b9-b647-4fedacbcb38b button.colab-df-convert');\n",
              "      buttonEl.style.display =\n",
              "        google.colab.kernel.accessAllowed ? 'block' : 'none';\n",
              "\n",
              "      async function convertToInteractive(key) {\n",
              "        const element = document.querySelector('#df-1bd6f500-6544-48b9-b647-4fedacbcb38b');\n",
              "        const dataTable =\n",
              "          await google.colab.kernel.invokeFunction('convertToInteractive',\n",
              "                                                    [key], {});\n",
              "        if (!dataTable) return;\n",
              "\n",
              "        const docLinkHtml = 'Like what you see? Visit the ' +\n",
              "          '<a target=\"_blank\" href=https://colab.research.google.com/notebooks/data_table.ipynb>data table notebook</a>'\n",
              "          + ' to learn more about interactive tables.';\n",
              "        element.innerHTML = '';\n",
              "        dataTable['output_type'] = 'display_data';\n",
              "        await google.colab.output.renderOutput(dataTable, element);\n",
              "        const docLink = document.createElement('div');\n",
              "        docLink.innerHTML = docLinkHtml;\n",
              "        element.appendChild(docLink);\n",
              "      }\n",
              "    </script>\n",
              "  </div>\n",
              "\n",
              "\n",
              "    <div id=\"df-37eb3159-8857-43a1-8729-ec8341145400\">\n",
              "      <button class=\"colab-df-quickchart\" onclick=\"quickchart('df-37eb3159-8857-43a1-8729-ec8341145400')\"\n",
              "                title=\"Suggest charts\"\n",
              "                style=\"display:none;\">\n",
              "\n",
              "<svg xmlns=\"http://www.w3.org/2000/svg\" height=\"24px\"viewBox=\"0 0 24 24\"\n",
              "     width=\"24px\">\n",
              "    <g>\n",
              "        <path d=\"M19 3H5c-1.1 0-2 .9-2 2v14c0 1.1.9 2 2 2h14c1.1 0 2-.9 2-2V5c0-1.1-.9-2-2-2zM9 17H7v-7h2v7zm4 0h-2V7h2v10zm4 0h-2v-4h2v4z\"/>\n",
              "    </g>\n",
              "</svg>\n",
              "      </button>\n",
              "\n",
              "<style>\n",
              "  .colab-df-quickchart {\n",
              "      --bg-color: #E8F0FE;\n",
              "      --fill-color: #1967D2;\n",
              "      --hover-bg-color: #E2EBFA;\n",
              "      --hover-fill-color: #174EA6;\n",
              "      --disabled-fill-color: #AAA;\n",
              "      --disabled-bg-color: #DDD;\n",
              "  }\n",
              "\n",
              "  [theme=dark] .colab-df-quickchart {\n",
              "      --bg-color: #3B4455;\n",
              "      --fill-color: #D2E3FC;\n",
              "      --hover-bg-color: #434B5C;\n",
              "      --hover-fill-color: #FFFFFF;\n",
              "      --disabled-bg-color: #3B4455;\n",
              "      --disabled-fill-color: #666;\n",
              "  }\n",
              "\n",
              "  .colab-df-quickchart {\n",
              "    background-color: var(--bg-color);\n",
              "    border: none;\n",
              "    border-radius: 50%;\n",
              "    cursor: pointer;\n",
              "    display: none;\n",
              "    fill: var(--fill-color);\n",
              "    height: 32px;\n",
              "    padding: 0;\n",
              "    width: 32px;\n",
              "  }\n",
              "\n",
              "  .colab-df-quickchart:hover {\n",
              "    background-color: var(--hover-bg-color);\n",
              "    box-shadow: 0 1px 2px rgba(60, 64, 67, 0.3), 0 1px 3px 1px rgba(60, 64, 67, 0.15);\n",
              "    fill: var(--button-hover-fill-color);\n",
              "  }\n",
              "\n",
              "  .colab-df-quickchart-complete:disabled,\n",
              "  .colab-df-quickchart-complete:disabled:hover {\n",
              "    background-color: var(--disabled-bg-color);\n",
              "    fill: var(--disabled-fill-color);\n",
              "    box-shadow: none;\n",
              "  }\n",
              "\n",
              "  .colab-df-spinner {\n",
              "    border: 2px solid var(--fill-color);\n",
              "    border-color: transparent;\n",
              "    border-bottom-color: var(--fill-color);\n",
              "    animation:\n",
              "      spin 1s steps(1) infinite;\n",
              "  }\n",
              "\n",
              "  @keyframes spin {\n",
              "    0% {\n",
              "      border-color: transparent;\n",
              "      border-bottom-color: var(--fill-color);\n",
              "      border-left-color: var(--fill-color);\n",
              "    }\n",
              "    20% {\n",
              "      border-color: transparent;\n",
              "      border-left-color: var(--fill-color);\n",
              "      border-top-color: var(--fill-color);\n",
              "    }\n",
              "    30% {\n",
              "      border-color: transparent;\n",
              "      border-left-color: var(--fill-color);\n",
              "      border-top-color: var(--fill-color);\n",
              "      border-right-color: var(--fill-color);\n",
              "    }\n",
              "    40% {\n",
              "      border-color: transparent;\n",
              "      border-right-color: var(--fill-color);\n",
              "      border-top-color: var(--fill-color);\n",
              "    }\n",
              "    60% {\n",
              "      border-color: transparent;\n",
              "      border-right-color: var(--fill-color);\n",
              "    }\n",
              "    80% {\n",
              "      border-color: transparent;\n",
              "      border-right-color: var(--fill-color);\n",
              "      border-bottom-color: var(--fill-color);\n",
              "    }\n",
              "    90% {\n",
              "      border-color: transparent;\n",
              "      border-bottom-color: var(--fill-color);\n",
              "    }\n",
              "  }\n",
              "</style>\n",
              "\n",
              "      <script>\n",
              "        async function quickchart(key) {\n",
              "          const quickchartButtonEl =\n",
              "            document.querySelector('#' + key + ' button');\n",
              "          quickchartButtonEl.disabled = true;  // To prevent multiple clicks.\n",
              "          quickchartButtonEl.classList.add('colab-df-spinner');\n",
              "          try {\n",
              "            const charts = await google.colab.kernel.invokeFunction(\n",
              "                'suggestCharts', [key], {});\n",
              "          } catch (error) {\n",
              "            console.error('Error during call to suggestCharts:', error);\n",
              "          }\n",
              "          quickchartButtonEl.classList.remove('colab-df-spinner');\n",
              "          quickchartButtonEl.classList.add('colab-df-quickchart-complete');\n",
              "        }\n",
              "        (() => {\n",
              "          let quickchartButtonEl =\n",
              "            document.querySelector('#df-37eb3159-8857-43a1-8729-ec8341145400 button');\n",
              "          quickchartButtonEl.style.display =\n",
              "            google.colab.kernel.accessAllowed ? 'block' : 'none';\n",
              "        })();\n",
              "      </script>\n",
              "    </div>\n",
              "\n",
              "  <div id=\"id_15f9e55d-fb78-4748-800d-313cb8325f5f\">\n",
              "    <style>\n",
              "      .colab-df-generate {\n",
              "        background-color: #E8F0FE;\n",
              "        border: none;\n",
              "        border-radius: 50%;\n",
              "        cursor: pointer;\n",
              "        display: none;\n",
              "        fill: #1967D2;\n",
              "        height: 32px;\n",
              "        padding: 0 0 0 0;\n",
              "        width: 32px;\n",
              "      }\n",
              "\n",
              "      .colab-df-generate:hover {\n",
              "        background-color: #E2EBFA;\n",
              "        box-shadow: 0px 1px 2px rgba(60, 64, 67, 0.3), 0px 1px 3px 1px rgba(60, 64, 67, 0.15);\n",
              "        fill: #174EA6;\n",
              "      }\n",
              "\n",
              "      [theme=dark] .colab-df-generate {\n",
              "        background-color: #3B4455;\n",
              "        fill: #D2E3FC;\n",
              "      }\n",
              "\n",
              "      [theme=dark] .colab-df-generate:hover {\n",
              "        background-color: #434B5C;\n",
              "        box-shadow: 0px 1px 3px 1px rgba(0, 0, 0, 0.15);\n",
              "        filter: drop-shadow(0px 1px 2px rgba(0, 0, 0, 0.3));\n",
              "        fill: #FFFFFF;\n",
              "      }\n",
              "    </style>\n",
              "    <button class=\"colab-df-generate\" onclick=\"generateWithVariable('df_atm_day')\"\n",
              "            title=\"Generate code using this dataframe.\"\n",
              "            style=\"display:none;\">\n",
              "\n",
              "  <svg xmlns=\"http://www.w3.org/2000/svg\" height=\"24px\"viewBox=\"0 0 24 24\"\n",
              "       width=\"24px\">\n",
              "    <path d=\"M7,19H8.4L18.45,9,17,7.55,7,17.6ZM5,21V16.75L18.45,3.32a2,2,0,0,1,2.83,0l1.4,1.43a1.91,1.91,0,0,1,.58,1.4,1.91,1.91,0,0,1-.58,1.4L9.25,21ZM18.45,9,17,7.55Zm-12,3A5.31,5.31,0,0,0,4.9,8.1,5.31,5.31,0,0,0,1,6.5,5.31,5.31,0,0,0,4.9,4.9,5.31,5.31,0,0,0,6.5,1,5.31,5.31,0,0,0,8.1,4.9,5.31,5.31,0,0,0,12,6.5,5.46,5.46,0,0,0,6.5,12Z\"/>\n",
              "  </svg>\n",
              "    </button>\n",
              "    <script>\n",
              "      (() => {\n",
              "      const buttonEl =\n",
              "        document.querySelector('#id_15f9e55d-fb78-4748-800d-313cb8325f5f button.colab-df-generate');\n",
              "      buttonEl.style.display =\n",
              "        google.colab.kernel.accessAllowed ? 'block' : 'none';\n",
              "\n",
              "      buttonEl.onclick = () => {\n",
              "        google.colab.notebook.generateWithVariable('df_atm_day');\n",
              "      }\n",
              "      })();\n",
              "    </script>\n",
              "  </div>\n",
              "\n",
              "    </div>\n",
              "  </div>\n"
            ],
            "application/vnd.google.colaboratory.intrinsic+json": {
              "type": "dataframe",
              "variable_name": "df_atm_day",
              "summary": "{\n  \"name\": \"df_atm_day\",\n  \"rows\": 5181,\n  \"fields\": [\n    {\n      \"column\": \"datetime\",\n      \"properties\": {\n        \"dtype\": \"date\",\n        \"min\": \"2018-01-12 09:35:00\",\n        \"max\": \"2023-02-27 15:30:00\",\n        \"num_unique_values\": 2428,\n        \"samples\": [\n          \"2020-01-21 13:00:00\",\n          \"2020-08-18 12:15:00\",\n          \"2019-03-19 14:25:00\"\n        ],\n        \"semantic_type\": \"\",\n        \"description\": \"\"\n      }\n    },\n    {\n      \"column\": \"open\",\n      \"properties\": {\n        \"dtype\": \"number\",\n        \"std\": 880.9393608520812,\n        \"min\": 0.05,\n        \"max\": 11233.3,\n        \"num_unique_values\": 1841,\n        \"samples\": [\n          867.0,\n          53.35,\n          200.7\n        ],\n        \"semantic_type\": \"\",\n        \"description\": \"\"\n      }\n    },\n    {\n      \"column\": \"high\",\n      \"properties\": {\n        \"dtype\": \"number\",\n        \"std\": 2523.3423882393176,\n        \"min\": 30.0,\n        \"max\": 14779.35,\n        \"num_unique_values\": 2067,\n        \"samples\": [\n          1746.0,\n          4750.0,\n          7050.0\n        ],\n        \"semantic_type\": \"\",\n        \"description\": \"\"\n      }\n    },\n    {\n      \"column\": \"low\",\n      \"properties\": {\n        \"dtype\": \"number\",\n        \"std\": 4.983383292149095,\n        \"min\": 0.05,\n        \"max\": 90.0,\n        \"num_unique_values\": 198,\n        \"samples\": [\n          8.25,\n          75.0,\n          1.8\n        ],\n        \"semantic_type\": \"\",\n        \"description\": \"\"\n      }\n    },\n    {\n      \"column\": \"close\",\n      \"properties\": {\n        \"dtype\": \"number\",\n        \"std\": 1027.648340007577,\n        \"min\": 0.05,\n        \"max\": 12420.0,\n        \"num_unique_values\": 1600,\n        \"samples\": [\n          295.05,\n          410.0,\n          28.75\n        ],\n        \"semantic_type\": \"\",\n        \"description\": \"\"\n      }\n    },\n    {\n      \"column\": \"volume\",\n      \"properties\": {\n        \"dtype\": \"number\",\n        \"std\": 14621633,\n        \"min\": 40,\n        \"max\": 136760075,\n        \"num_unique_values\": 2370,\n        \"samples\": [\n          495,\n          1033400,\n          20096100\n        ],\n        \"semantic_type\": \"\",\n        \"description\": \"\"\n      }\n    },\n    {\n      \"column\": \"oi\",\n      \"properties\": {\n        \"dtype\": \"number\",\n        \"std\": 165422374,\n        \"min\": 111520,\n        \"max\": 913760950,\n        \"num_unique_values\": 2428,\n        \"samples\": [\n          106666760,\n          94519425,\n          85613980\n        ],\n        \"semantic_type\": \"\",\n        \"description\": \"\"\n      }\n    },\n    {\n      \"column\": \"symbol\",\n      \"properties\": {\n        \"dtype\": \"category\",\n        \"num_unique_values\": 828,\n        \"samples\": [\n          \"BANKNIFTY05AUG2136000PE\",\n          \"BANKNIFTY06AUG2023000CE\",\n          \"BANKNIFTY08AUG1926800PE\"\n        ],\n        \"semantic_type\": \"\",\n        \"description\": \"\"\n      }\n    },\n    {\n      \"column\": \"expiry\",\n      \"properties\": {\n        \"dtype\": \"category\",\n        \"num_unique_values\": 141,\n        \"samples\": [\n          \"02-01-2020\",\n          \"01-04-2021\",\n          \"06-11-2018\"\n        ],\n        \"semantic_type\": \"\",\n        \"description\": \"\"\n      }\n    },\n    {\n      \"column\": \"strike\",\n      \"properties\": {\n        \"dtype\": \"number\",\n        \"std\": 5828.334100145976,\n        \"min\": 13900.0,\n        \"max\": 45000.0,\n        \"num_unique_values\": 213,\n        \"samples\": [\n          25500.0,\n          43200.0,\n          28800.0\n        ],\n        \"semantic_type\": \"\",\n        \"description\": \"\"\n      }\n    },\n    {\n      \"column\": \"instrument_type\",\n      \"properties\": {\n        \"dtype\": \"category\",\n        \"num_unique_values\": 2,\n        \"samples\": [\n          \"CE\",\n          \"PE\"\n        ],\n        \"semantic_type\": \"\",\n        \"description\": \"\"\n      }\n    },\n    {\n      \"column\": \"bnfty\",\n      \"properties\": {\n        \"dtype\": \"number\",\n        \"std\": 6047.98829280134,\n        \"min\": 17110.05,\n        \"max\": 44450.4,\n        \"num_unique_values\": 2399,\n        \"samples\": [\n          32776.05,\n          38120.05\n        ],\n        \"semantic_type\": \"\",\n        \"description\": \"\"\n      }\n    },\n    {\n      \"column\": \"date\",\n      \"properties\": {\n        \"dtype\": \"date\",\n        \"min\": \"2018-01-12\",\n        \"max\": \"2023-02-27\",\n        \"num_unique_values\": 572,\n        \"samples\": [\n          \"2022-07-28\",\n          \"2018-07-31\"\n        ],\n        \"semantic_type\": \"\",\n        \"description\": \"\"\n      }\n    }\n  ]\n}"
            }
          },
          "metadata": {},
          "execution_count": 15
        }
      ]
    },
    {
      "cell_type": "code",
      "source": [
        "import pandas as pd\n",
        "\n",
        "# Sample: Read data\n",
        "# df = pd.read_csv(\"your_file.csv\", parse_dates=['datetime'])\n",
        "# For demonstration, I'll use df and df_atm_day as if they’re already loaded.\n",
        "\n",
        "# 1️⃣ Remove duplicate rows in ATM option data\n",
        "df_atm_day = df_atm_day.drop_duplicates()\n",
        "\n",
        "# 2️⃣ Group BNFTY data by datetime to get OHLC\n",
        "bnfty_df = df.groupby('datetime').agg({\n",
        "    'bnfty': ['first', 'max', 'min', 'last']\n",
        "}).reset_index()\n",
        "\n",
        "# Flatten columns\n",
        "bnfty_df.columns = ['datetime', 'open', 'high', 'low', 'close']\n",
        "\n",
        "# 3️⃣ Shift open price by 1 to compare with close price\n",
        "bnfty_df['prev_open'] = bnfty_df['open'].shift(1)\n",
        "\n",
        "# 4️⃣ Calculate difference\n",
        "bnfty_df['diff'] = bnfty_df['close'] - bnfty_df['prev_open']\n",
        "\n",
        "# 5️⃣ Generate signals: 1=Buy Call, -1=Buy Put, 0=No trade\n",
        "bnfty_df['signal'] = 0\n",
        "bnfty_df.loc[bnfty_df['diff'] > 50, 'signal'] = 1\n",
        "bnfty_df.loc[bnfty_df['diff'] < -50, 'signal'] = -1\n",
        "\n",
        "# 6️⃣ Set execution time as the next candle (since trade is placed on next 5-min candle)\n",
        "bnfty_df['execution_time'] = bnfty_df['datetime'].shift(-1)\n",
        "\n",
        "# 7️⃣ Merge ATM option data with BNFTY signals based on execution time\n",
        "df_atm_merged = df_atm_day.merge(\n",
        "    bnfty_df[['execution_time', 'signal']],\n",
        "    left_on='datetime',\n",
        "    right_on='execution_time',\n",
        "    how='left'\n",
        ")\n",
        "\n",
        "# 8️⃣ Get previous close of option data (for stop loss)\n",
        "df_atm_merged['prev_close'] = df_atm_merged.groupby(['date', 'instrument_type'])['close'].shift(1)\n",
        "\n",
        "# 9️⃣ Set stop loss as previous close if trade is executed\n",
        "df_atm_merged['stop_loss'] = df_atm_merged.apply(\n",
        "    lambda x: x['prev_close'] if x['signal'] in [1, -1] else None,\n",
        "    axis=1\n",
        ")\n",
        "\n",
        "# 1️⃣0️⃣ Final cleaning: sort and display relevant columns\n",
        "df_atm_merged = df_atm_merged.sort_values('datetime')\n",
        "#df_atm_merged = df_atm_merged[['datetime', 'instrument_type', 'signal', 'close', 'prev_close', 'stop_loss']]\n",
        "\n",
        "print(df_atm_merged.head(20))  # Show first 20 rows for a quick check!\n",
        "\n"
      ],
      "metadata": {
        "colab": {
          "base_uri": "https://localhost:8080/"
        },
        "id": "e1Z2rlTLVAqH",
        "outputId": "938e2922-e655-476d-8fd2-09a246fa25c6"
      },
      "execution_count": 29,
      "outputs": [
        {
          "output_type": "stream",
          "name": "stdout",
          "text": [
            "              datetime     open     high   low    close    volume         oi  \\\n",
            "11 2018-01-12 09:35:00  1198.35  1230.00  0.60   755.00    836640   56788680   \n",
            "12 2018-01-12 11:05:00   104.85  1210.00  0.65    10.95    451400   54005760   \n",
            "13 2018-01-12 12:35:00   109.85  1715.00  0.95   858.75   4995000   63935560   \n",
            "14 2018-01-12 15:10:00   107.45  1750.00  0.85     4.15   2517960   66772920   \n",
            "15 2018-01-15 11:10:00   315.00  1945.00  0.50  1510.00   2032360   76601280   \n",
            "16 2018-01-15 13:35:00   325.00  1200.00  0.50     1.70   1090640   77595000   \n",
            "17 2018-01-15 15:30:00     7.95   264.00  7.90   222.00      3320    5770720   \n",
            "18 2018-01-18 09:20:00   350.75  2140.00  0.05    12.50  10906560   99986120   \n",
            "19 2018-01-18 09:25:00   400.00  3430.00  0.05   757.55  11958480  110006600   \n",
            "20 2018-01-18 09:50:00   486.00  3538.00  0.05    16.10   6039400  123516680   \n",
            "21 2018-01-18 11:35:00   398.45  2152.15  0.05     8.50   4854160  138975240   \n",
            "22 2018-01-18 12:15:00   428.00  1751.85  0.05    11.35   3407120  131372080   \n",
            "23 2018-01-18 12:20:00   422.00  2223.70  0.05    11.50   2867200  131850760   \n",
            "24 2018-01-18 12:30:00   420.00  3186.70  0.05    13.80   6133720  140378440   \n",
            "25 2018-01-18 13:00:00   235.05  3490.00  0.05    11.70   4160480  143877640   \n",
            "26 2018-01-18 13:05:00   237.05  1596.70  0.05    11.25   4049760  145099400   \n",
            "27 2018-01-18 13:10:00   422.00  2700.00  0.05   772.00   3713120  144758320   \n",
            "28 2018-01-18 13:15:00   430.00  1783.40  0.05    12.05   4351800  142492240   \n",
            "29 2018-01-18 13:20:00   422.00  2700.00  0.05    11.20   2734280  137793480   \n",
            "30 2018-01-18 14:00:00   401.85  3480.00  0.05     5.00   7831960  149301880   \n",
            "\n",
            "                     symbol      expiry   strike instrument_type    bnfty  \\\n",
            "11  BANKNIFTY18JAN1824500CE  18-01-2018  24500.0              CE  25790.0   \n",
            "12  BANKNIFTY01FEB1825000PE  01-02-2018  25000.0              PE  25777.2   \n",
            "13  BANKNIFTY01FEB1825000PE  01-02-2018  25000.0              PE  25680.0   \n",
            "14  BANKNIFTY01FEB1825000PE  01-02-2018  25000.0              PE  25783.2   \n",
            "15  BANKNIFTY01FEB1826000CE  01-02-2018  26000.0              CE  25986.0   \n",
            "16  BANKNIFTY01FEB1826000CE  01-02-2018  26000.0              CE  26050.0   \n",
            "17  BANKNIFTY18JAN1825300PE  18-01-2018  25300.0              PE  26075.1   \n",
            "18  BANKNIFTY01FEB1826500CE  01-02-2018  26500.0              CE  26669.9   \n",
            "19  BANKNIFTY01FEB1826500CE  01-02-2018  26500.0              CE  26669.9   \n",
            "20  BANKNIFTY01FEB1826500CE  01-02-2018  26500.0              CE  26787.7   \n",
            "21  BANKNIFTY01FEB1826500CE  01-02-2018  26500.0              CE  26670.2   \n",
            "22  BANKNIFTY01FEB1826500CE  01-02-2018  26500.0              CE  26720.1   \n",
            "23  BANKNIFTY01FEB1826500CE  01-02-2018  26500.0              CE  26715.0   \n",
            "24  BANKNIFTY01FEB1826500CE  01-02-2018  26500.0              CE  26720.0   \n",
            "25  BANKNIFTY01FEB1826500PE  01-02-2018  26500.0              PE  26738.3   \n",
            "26  BANKNIFTY01FEB1826500PE  01-02-2018  26500.0              PE  26732.3   \n",
            "27  BANKNIFTY01FEB1826500CE  01-02-2018  26500.0              CE  26725.0   \n",
            "28  BANKNIFTY01FEB1826500CE  01-02-2018  26500.0              CE  26742.6   \n",
            "29  BANKNIFTY01FEB1826500CE  01-02-2018  26500.0              CE  26745.0   \n",
            "30  BANKNIFTY01FEB1826500CE  01-02-2018  26500.0              CE  26708.4   \n",
            "\n",
            "          date      execution_time  signal  prev_close  stop_loss  \n",
            "11  2018-01-12 2018-01-12 09:35:00       0         NaN        NaN  \n",
            "12  2018-01-12 2018-01-12 11:05:00       0         NaN        NaN  \n",
            "13  2018-01-12 2018-01-12 12:35:00       0       10.95        NaN  \n",
            "14  2018-01-12 2018-01-12 15:10:00       0      858.75        NaN  \n",
            "15  2018-01-15 2018-01-15 11:10:00       0         NaN        NaN  \n",
            "16  2018-01-15 2018-01-15 13:35:00       0     1510.00        NaN  \n",
            "17  2018-01-15 2018-01-15 15:30:00       0         NaN        NaN  \n",
            "18  2018-01-18 2018-01-18 09:20:00       0         NaN        NaN  \n",
            "19  2018-01-18 2018-01-18 09:25:00       1       12.50       12.5  \n",
            "20  2018-01-18 2018-01-18 09:50:00       0      757.55        NaN  \n",
            "21  2018-01-18 2018-01-18 11:35:00       0       16.10        NaN  \n",
            "22  2018-01-18 2018-01-18 12:15:00       0        8.50        NaN  \n",
            "23  2018-01-18 2018-01-18 12:20:00       0       11.35        NaN  \n",
            "24  2018-01-18 2018-01-18 12:30:00       0       11.50        NaN  \n",
            "25  2018-01-18 2018-01-18 13:00:00       0         NaN        NaN  \n",
            "26  2018-01-18 2018-01-18 13:05:00       0       11.70        NaN  \n",
            "27  2018-01-18 2018-01-18 13:10:00       0       13.80        NaN  \n",
            "28  2018-01-18 2018-01-18 13:15:00       0      772.00        NaN  \n",
            "29  2018-01-18 2018-01-18 13:20:00       0       12.05        NaN  \n",
            "30  2018-01-18 2018-01-18 14:00:00       0       11.20        NaN  \n"
          ]
        }
      ]
    },
    {
      "cell_type": "code",
      "source": [
        "import matplotlib.pyplot as plt\n",
        "\n",
        "# Convert datetime column to pandas datetime\n",
        "bnfty_df['datetime'] = pd.to_datetime(bnfty_df['datetime'])\n",
        "\n",
        "plt.figure(figsize=(15, 8))\n",
        "plt.plot(bnfty_df['datetime'], bnfty_df['close'], label='BNFTY Close', color='black')\n",
        "\n",
        "# Plot Buy Call signals\n",
        "call_signals = bnfty_df[bnfty_df['signal'] == 1]\n",
        "plt.scatter(call_signals['datetime'], call_signals['close'], marker='^', color='green', label='Buy Call', s=100)\n",
        "\n",
        "# Plot Buy Put signals\n",
        "put_signals = bnfty_df[bnfty_df['signal'] == -1]\n",
        "plt.scatter(put_signals['datetime'], put_signals['close'], marker='v', color='red', label='Buy Put', s=100)\n",
        "\n",
        "plt.legend()\n",
        "plt.xlabel('Datetime')\n",
        "plt.ylabel('BNFTY Close')\n",
        "plt.title('BNFTY 5-min chart with Buy Signals')\n",
        "plt.grid(True)\n",
        "plt.show()\n"
      ],
      "metadata": {
        "colab": {
          "base_uri": "https://localhost:8080/",
          "height": 718
        },
        "id": "Ww81vjMhXEPR",
        "outputId": "8291bba0-5687-43ac-c25c-fcd72ad08b60"
      },
      "execution_count": 30,
      "outputs": [
        {
          "output_type": "display_data",
          "data": {
            "text/plain": [
              "<Figure size 1500x800 with 1 Axes>"
            ],
            "image/png": "[encoded data removed]"
          },
          "metadata": {}
        }
      ]
    },
    {
      "cell_type": "code",
      "source": [
        "import numpy as np\n",
        "\n",
        "# Filter executed trades\n",
        "trades_df = df_atm_merged[df_atm_merged['signal'] != 0].copy()\n",
        "\n",
        "# Initialize results\n",
        "trades = []\n",
        "\n",
        "for idx, trade in trades_df.iterrows():\n",
        "    trade_time = trade['datetime']\n",
        "    instr_type = trade['instrument_type']\n",
        "    signal = trade['signal']\n",
        "    entry_price = trade['close']\n",
        "    stop_loss = trade['stop_loss']\n",
        "    trade_date = trade['datetime'].date()\n",
        "\n",
        "    # Get all future candles for this instrument and date after trade_time\n",
        "    future_candles = df_atm_merged[\n",
        "        (df_atm_merged['instrument_type'] == instr_type) &\n",
        "        (df_atm_merged['datetime'] > trade_time) &\n",
        "        (df_atm_merged['datetime'].dt.date == trade_date)\n",
        "    ].copy()\n",
        "\n",
        "    stop_loss_hit = False\n",
        "    profit_hit = False\n",
        "    exit_price = None\n",
        "    exit_time = None\n",
        "\n",
        "    # Check if stop loss hit in future candles\n",
        "    if signal == 1:  # Buy Call -> Stop loss if low <= stop_loss\n",
        "        sl_hit_rows = future_candles[future_candles['low'] <= stop_loss]\n",
        "        if not sl_hit_rows.empty:\n",
        "            stop_loss_hit = True\n",
        "            exit_price = stop_loss  # Assume exit at stop loss price\n",
        "            exit_time = sl_hit_rows.iloc[0]['datetime']\n",
        "    elif signal == -1:  # Buy Put -> Stop loss if high >= stop_loss\n",
        "        sl_hit_rows = future_candles[future_candles['high'] >= stop_loss]\n",
        "        if not sl_hit_rows.empty:\n",
        "            stop_loss_hit = True\n",
        "            exit_price = stop_loss\n",
        "            exit_time = sl_hit_rows.iloc[0]['datetime']\n",
        "\n",
        "    # If stop loss not hit, assume exit at last candle close of the day or before next trade signal\n",
        "    if not stop_loss_hit:\n",
        "        # Find next trade signal after this trade_time for same instrument\n",
        "        next_trade_rows = trades_df[\n",
        "            (trades_df['instrument_type'] == instr_type) &\n",
        "            (trades_df['datetime'] > trade_time)\n",
        "        ]\n",
        "        next_trade_time = next_trade_rows['datetime'].min() if not next_trade_rows.empty else None\n",
        "\n",
        "        if next_trade_time:\n",
        "            exit_candles = future_candles[future_candles['datetime'] < next_trade_time]\n",
        "        else:\n",
        "            exit_candles = future_candles\n",
        "\n",
        "        if not exit_candles.empty:\n",
        "            last_candle = exit_candles.iloc[-1]\n",
        "            exit_price = last_candle['close']\n",
        "            exit_time = last_candle['datetime']\n",
        "            # Determine profit/loss\n",
        "            if signal == 1 and exit_price > entry_price:\n",
        "                profit_hit = True\n",
        "            elif signal == -1 and exit_price < entry_price:\n",
        "                profit_hit = True\n",
        "\n",
        "    trades.append({\n",
        "        'trade_time': trade_time,\n",
        "        'instrument_type': instr_type,\n",
        "        'signal': signal,\n",
        "        'entry_price': entry_price,\n",
        "        'stop_loss': stop_loss,\n",
        "        'exit_time': exit_time,\n",
        "        'exit_price': exit_price,\n",
        "        'stop_loss_hit': stop_loss_hit,\n",
        "        'profit_hit': profit_hit\n",
        "    })\n",
        "\n",
        "# Create summary DataFrame\n",
        "trades_summary = pd.DataFrame(trades)\n",
        "\n",
        "# Stats\n",
        "total_trades = len(trades_summary)\n",
        "stop_loss_hits = trades_summary['stop_loss_hit'].sum()\n",
        "profitable_trades = trades_summary['profit_hit'].sum()\n",
        "loss_trades = total_trades - profitable_trades - stop_loss_hits  # Remaining are neither profit nor stop loss hit (e.g., breakeven or no clear exit)\n",
        "\n",
        "print(f\"Total trades executed: {total_trades}\")\n",
        "print(f\"Trades hit stop loss: {stop_loss_hits}\")\n",
        "print(f\"Profitable trades: {profitable_trades}\")\n",
        "print(f\"Other trades (no profit or stop loss): {loss_trades}\")\n",
        "\n",
        "# Show all trades\n",
        "trades_summary\n"
      ],
      "metadata": {
        "colab": {
          "base_uri": "https://localhost:8080/",
          "height": 495
        },
        "id": "IC_b6G9cXmlp",
        "outputId": "629717bc-4b5c-468e-8f58-ed2765928b82"
      },
      "execution_count": 32,
      "outputs": [
        {
          "output_type": "stream",
          "name": "stdout",
          "text": [
            "Total trades executed: 437\n",
            "Trades hit stop loss: 247\n",
            "Profitable trades: 15\n",
            "Other trades (no profit or stop loss): 175\n"
          ]
        },
        {
          "output_type": "execute_result",
          "data": {
            "text/plain": [
              "             trade_time instrument_type  signal  entry_price  stop_loss  \\\n",
              "0   2018-01-18 09:25:00              CE       1       757.55      12.50   \n",
              "1   2018-01-18 14:30:00              CE      -1         8.80      11.30   \n",
              "2   2018-02-01 14:20:00              CE      -1       559.95      25.20   \n",
              "3   2018-02-15 13:10:00              PE      -1        25.60      45.50   \n",
              "4   2018-02-19 14:10:00              CE       1        40.75        NaN   \n",
              "..                  ...             ...     ...          ...        ...   \n",
              "432 2023-02-01 15:20:00              PE      -1        26.05      20.20   \n",
              "433 2023-02-01 15:25:00              PE       1        26.35      26.05   \n",
              "434 2023-02-01 15:30:00              PE      -1       100.05      26.35   \n",
              "435 2023-02-06 12:05:00              PE       1       119.85      85.25   \n",
              "436 2023-02-07 13:00:00              CE      -1        29.45     110.00   \n",
              "\n",
              "              exit_time  exit_price  stop_loss_hit  profit_hit  \n",
              "0   2018-01-18 09:50:00       12.50           True       False  \n",
              "1                   NaT         NaN          False       False  \n",
              "2   2018-02-01 14:25:00       25.20           True       False  \n",
              "3   2018-02-15 13:15:00       45.50           True       False  \n",
              "4                   NaT         NaN          False       False  \n",
              "..                  ...         ...            ...         ...  \n",
              "432 2023-02-01 15:25:00       20.20           True       False  \n",
              "433 2023-02-01 15:30:00       26.05           True       False  \n",
              "434                 NaT         NaN          False       False  \n",
              "435 2023-02-06 14:30:00       85.25           True       False  \n",
              "436 2023-02-07 13:20:00      110.00           True       False  \n",
              "\n",
              "[437 rows x 9 columns]"
            ],
            "text/html": [
              "\n",
              "  <div id=\"df-232b081e-3631-4f9a-a358-193d99d6d4a3\" class=\"colab-df-container\">\n",
              "    <div>\n",
              "<style scoped>\n",
              "    .dataframe tbody tr th:only-of-type {\n",
              "        vertical-align: middle;\n",
              "    }\n",
              "\n",
              "    .dataframe tbody tr th {\n",
              "        vertical-align: top;\n",
              "    }\n",
              "\n",
              "    .dataframe thead th {\n",
              "        text-align: right;\n",
              "    }\n",
              "</style>\n",
              "<table border=\"1\" class=\"dataframe\">\n",
              "  <thead>\n",
              "    <tr style=\"text-align: right;\">\n",
              "      <th></th>\n",
              "      <th>trade_time</th>\n",
              "      <th>instrument_type</th>\n",
              "      <th>signal</th>\n",
              "      <th>entry_price</th>\n",
              "      <th>stop_loss</th>\n",
              "      <th>exit_time</th>\n",
              "      <th>exit_price</th>\n",
              "      <th>stop_loss_hit</th>\n",
              "      <th>profit_hit</th>\n",
              "    </tr>\n",
              "  </thead>\n",
              "  <tbody>\n",
              "    <tr>\n",
              "      <th>0</th>\n",
              "      <td>2018-01-18 09:25:00</td>\n",
              "      <td>CE</td>\n",
              "      <td>1</td>\n",
              "      <td>757.55</td>\n",
              "      <td>12.50</td>\n",
              "      <td>2018-01-18 09:50:00</td>\n",
              "      <td>12.50</td>\n",
              "      <td>True</td>\n",
              "      <td>False</td>\n",
              "    </tr>\n",
              "    <tr>\n",
              "      <th>1</th>\n",
              "      <td>2018-01-18 14:30:00</td>\n",
              "      <td>CE</td>\n",
              "      <td>-1</td>\n",
              "      <td>8.80</td>\n",
              "      <td>11.30</td>\n",
              "      <td>NaT</td>\n",
              "      <td>NaN</td>\n",
              "      <td>False</td>\n",
              "      <td>False</td>\n",
              "    </tr>\n",
              "    <tr>\n",
              "      <th>2</th>\n",
              "      <td>2018-02-01 14:20:00</td>\n",
              "      <td>CE</td>\n",
              "      <td>-1</td>\n",
              "      <td>559.95</td>\n",
              "      <td>25.20</td>\n",
              "      <td>2018-02-01 14:25:00</td>\n",
              "      <td>25.20</td>\n",
              "      <td>True</td>\n",
              "      <td>False</td>\n",
              "    </tr>\n",
              "    <tr>\n",
              "      <th>3</th>\n",
              "      <td>2018-02-15 13:10:00</td>\n",
              "      <td>PE</td>\n",
              "      <td>-1</td>\n",
              "      <td>25.60</td>\n",
              "      <td>45.50</td>\n",
              "      <td>2018-02-15 13:15:00</td>\n",
              "      <td>45.50</td>\n",
              "      <td>True</td>\n",
              "      <td>False</td>\n",
              "    </tr>\n",
              "    <tr>\n",
              "      <th>4</th>\n",
              "      <td>2018-02-19 14:10:00</td>\n",
              "      <td>CE</td>\n",
              "      <td>1</td>\n",
              "      <td>40.75</td>\n",
              "      <td>NaN</td>\n",
              "      <td>NaT</td>\n",
              "      <td>NaN</td>\n",
              "      <td>False</td>\n",
              "      <td>False</td>\n",
              "    </tr>\n",
              "    <tr>\n",
              "      <th>...</th>\n",
              "      <td>...</td>\n",
              "      <td>...</td>\n",
              "      <td>...</td>\n",
              "      <td>...</td>\n",
              "      <td>...</td>\n",
              "      <td>...</td>\n",
              "      <td>...</td>\n",
              "      <td>...</td>\n",
              "      <td>...</td>\n",
              "    </tr>\n",
              "    <tr>\n",
              "      <th>432</th>\n",
              "      <td>2023-02-01 15:20:00</td>\n",
              "      <td>PE</td>\n",
              "      <td>-1</td>\n",
              "      <td>26.05</td>\n",
              "      <td>20.20</td>\n",
              "      <td>2023-02-01 15:25:00</td>\n",
              "      <td>20.20</td>\n",
              "      <td>True</td>\n",
              "      <td>False</td>\n",
              "    </tr>\n",
              "    <tr>\n",
              "      <th>433</th>\n",
              "      <td>2023-02-01 15:25:00</td>\n",
              "      <td>PE</td>\n",
              "      <td>1</td>\n",
              "      <td>26.35</td>\n",
              "      <td>26.05</td>\n",
              "      <td>2023-02-01 15:30:00</td>\n",
              "      <td>26.05</td>\n",
              "      <td>True</td>\n",
              "      <td>False</td>\n",
              "    </tr>\n",
              "    <tr>\n",
              "      <th>434</th>\n",
              "      <td>2023-02-01 15:30:00</td>\n",
              "      <td>PE</td>\n",
              "      <td>-1</td>\n",
              "      <td>100.05</td>\n",
              "      <td>26.35</td>\n",
              "      <td>NaT</td>\n",
              "      <td>NaN</td>\n",
              "      <td>False</td>\n",
              "      <td>False</td>\n",
              "    </tr>\n",
              "    <tr>\n",
              "      <th>435</th>\n",
              "      <td>2023-02-06 12:05:00</td>\n",
              "      <td>PE</td>\n",
              "      <td>1</td>\n",
              "      <td>119.85</td>\n",
              "      <td>85.25</td>\n",
              "      <td>2023-02-06 14:30:00</td>\n",
              "      <td>85.25</td>\n",
              "      <td>True</td>\n",
              "      <td>False</td>\n",
              "    </tr>\n",
              "    <tr>\n",
              "      <th>436</th>\n",
              "      <td>2023-02-07 13:00:00</td>\n",
              "      <td>CE</td>\n",
              "      <td>-1</td>\n",
              "      <td>29.45</td>\n",
              "      <td>110.00</td>\n",
              "      <td>2023-02-07 13:20:00</td>\n",
              "      <td>110.00</td>\n",
              "      <td>True</td>\n",
              "      <td>False</td>\n",
              "    </tr>\n",
              "  </tbody>\n",
              "</table>\n",
              "<p>437 rows × 9 columns</p>\n",
              "</div>\n",
              "    <div class=\"colab-df-buttons\">\n",
              "\n",
              "  <div class=\"colab-df-container\">\n",
              "    <button class=\"colab-df-convert\" onclick=\"convertToInteractive('df-232b081e-3631-4f9a-a358-193d99d6d4a3')\"\n",
              "            title=\"Convert this dataframe to an interactive table.\"\n",
              "            style=\"display:none;\">\n",
              "\n",
              "  <svg xmlns=\"http://www.w3.org/2000/svg\" height=\"24px\" viewBox=\"0 -960 960 960\">\n",
              "    <path d=\"M120-120v-720h720v720H120Zm60-500h600v-160H180v160Zm220 220h160v-160H400v160Zm0 220h160v-160H400v160ZM180-400h160v-160H180v160Zm440 0h160v-160H620v160ZM180-180h160v-160H180v160Zm440 0h160v-160H620v160Z\"/>\n",
              "  </svg>\n",
              "    </button>\n",
              "\n",
              "  <style>\n",
              "    .colab-df-container {\n",
              "      display:flex;\n",
              "      gap: 12px;\n",
              "    }\n",
              "\n",
              "    .colab-df-convert {\n",
              "      background-color: #E8F0FE;\n",
              "      border: none;\n",
              "      border-radius: 50%;\n",
              "      cursor: pointer;\n",
              "      display: none;\n",
              "      fill: #1967D2;\n",
              "      height: 32px;\n",
              "      padding: 0 0 0 0;\n",
              "      width: 32px;\n",
              "    }\n",
              "\n",
              "    .colab-df-convert:hover {\n",
              "      background-color: #E2EBFA;\n",
              "      box-shadow: 0px 1px 2px rgba(60, 64, 67, 0.3), 0px 1px 3px 1px rgba(60, 64, 67, 0.15);\n",
              "      fill: #174EA6;\n",
              "    }\n",
              "\n",
              "    .colab-df-buttons div {\n",
              "      margin-bottom: 4px;\n",
              "    }\n",
              "\n",
              "    [theme=dark] .colab-df-convert {\n",
              "      background-color: #3B4455;\n",
              "      fill: #D2E3FC;\n",
              "    }\n",
              "\n",
              "    [theme=dark] .colab-df-convert:hover {\n",
              "      background-color: #434B5C;\n",
              "      box-shadow: 0px 1px 3px 1px rgba(0, 0, 0, 0.15);\n",
              "      filter: drop-shadow(0px 1px 2px rgba(0, 0, 0, 0.3));\n",
              "      fill: #FFFFFF;\n",
              "    }\n",
              "  </style>\n",
              "\n",
              "    <script>\n",
              "      const buttonEl =\n",
              "        document.querySelector('#df-232b081e-3631-4f9a-a358-193d99d6d4a3 button.colab-df-convert');\n",
              "      buttonEl.style.display =\n",
              "        google.colab.kernel.accessAllowed ? 'block' : 'none';\n",
              "\n",
              "      async function convertToInteractive(key) {\n",
              "        const element = document.querySelector('#df-232b081e-3631-4f9a-a358-193d99d6d4a3');\n",
              "        const dataTable =\n",
              "          await google.colab.kernel.invokeFunction('convertToInteractive',\n",
              "                                                    [key], {});\n",
              "        if (!dataTable) return;\n",
              "\n",
              "        const docLinkHtml = 'Like what you see? Visit the ' +\n",
              "          '<a target=\"_blank\" href=https://colab.research.google.com/notebooks/data_table.ipynb>data table notebook</a>'\n",
              "          + ' to learn more about interactive tables.';\n",
              "        element.innerHTML = '';\n",
              "        dataTable['output_type'] = 'display_data';\n",
              "        await google.colab.output.renderOutput(dataTable, element);\n",
              "        const docLink = document.createElement('div');\n",
              "        docLink.innerHTML = docLinkHtml;\n",
              "        element.appendChild(docLink);\n",
              "      }\n",
              "    </script>\n",
              "  </div>\n",
              "\n",
              "\n",
              "    <div id=\"df-00d5627c-5dbf-4e8f-9c53-5950680bdda0\">\n",
              "      <button class=\"colab-df-quickchart\" onclick=\"quickchart('df-00d5627c-5dbf-4e8f-9c53-5950680bdda0')\"\n",
              "                title=\"Suggest charts\"\n",
              "                style=\"display:none;\">\n",
              "\n",
              "<svg xmlns=\"http://www.w3.org/2000/svg\" height=\"24px\"viewBox=\"0 0 24 24\"\n",
              "     width=\"24px\">\n",
              "    <g>\n",
              "        <path d=\"M19 3H5c-1.1 0-2 .9-2 2v14c0 1.1.9 2 2 2h14c1.1 0 2-.9 2-2V5c0-1.1-.9-2-2-2zM9 17H7v-7h2v7zm4 0h-2V7h2v10zm4 0h-2v-4h2v4z\"/>\n",
              "    </g>\n",
              "</svg>\n",
              "      </button>\n",
              "\n",
              "<style>\n",
              "  .colab-df-quickchart {\n",
              "      --bg-color: #E8F0FE;\n",
              "      --fill-color: #1967D2;\n",
              "      --hover-bg-color: #E2EBFA;\n",
              "      --hover-fill-color: #174EA6;\n",
              "      --disabled-fill-color: #AAA;\n",
              "      --disabled-bg-color: #DDD;\n",
              "  }\n",
              "\n",
              "  [theme=dark] .colab-df-quickchart {\n",
              "      --bg-color: #3B4455;\n",
              "      --fill-color: #D2E3FC;\n",
              "      --hover-bg-color: #434B5C;\n",
              "      --hover-fill-color: #FFFFFF;\n",
              "      --disabled-bg-color: #3B4455;\n",
              "      --disabled-fill-color: #666;\n",
              "  }\n",
              "\n",
              "  .colab-df-quickchart {\n",
              "    background-color: var(--bg-color);\n",
              "    border: none;\n",
              "    border-radius: 50%;\n",
              "    cursor: pointer;\n",
              "    display: none;\n",
              "    fill: var(--fill-color);\n",
              "    height: 32px;\n",
              "    padding: 0;\n",
              "    width: 32px;\n",
              "  }\n",
              "\n",
              "  .colab-df-quickchart:hover {\n",
              "    background-color: var(--hover-bg-color);\n",
              "    box-shadow: 0 1px 2px rgba(60, 64, 67, 0.3), 0 1px 3px 1px rgba(60, 64, 67, 0.15);\n",
              "    fill: var(--button-hover-fill-color);\n",
              "  }\n",
              "\n",
              "  .colab-df-quickchart-complete:disabled,\n",
              "  .colab-df-quickchart-complete:disabled:hover {\n",
              "    background-color: var(--disabled-bg-color);\n",
              "    fill: var(--disabled-fill-color);\n",
              "    box-shadow: none;\n",
              "  }\n",
              "\n",
              "  .colab-df-spinner {\n",
              "    border: 2px solid var(--fill-color);\n",
              "    border-color: transparent;\n",
              "    border-bottom-color: var(--fill-color);\n",
              "    animation:\n",
              "      spin 1s steps(1) infinite;\n",
              "  }\n",
              "\n",
              "  @keyframes spin {\n",
              "    0% {\n",
              "      border-color: transparent;\n",
              "      border-bottom-color: var(--fill-color);\n",
              "      border-left-color: var(--fill-color);\n",
              "    }\n",
              "    20% {\n",
              "      border-color: transparent;\n",
              "      border-left-color: var(--fill-color);\n",
              "      border-top-color: var(--fill-color);\n",
              "    }\n",
              "    30% {\n",
              "      border-color: transparent;\n",
              "      border-left-color: var(--fill-color);\n",
              "      border-top-color: var(--fill-color);\n",
              "      border-right-color: var(--fill-color);\n",
              "    }\n",
              "    40% {\n",
              "      border-color: transparent;\n",
              "      border-right-color: var(--fill-color);\n",
              "      border-top-color: var(--fill-color);\n",
              "    }\n",
              "    60% {\n",
              "      border-color: transparent;\n",
              "      border-right-color: var(--fill-color);\n",
              "    }\n",
              "    80% {\n",
              "      border-color: transparent;\n",
              "      border-right-color: var(--fill-color);\n",
              "      border-bottom-color: var(--fill-color);\n",
              "    }\n",
              "    90% {\n",
              "      border-color: transparent;\n",
              "      border-bottom-color: var(--fill-color);\n",
              "    }\n",
              "  }\n",
              "</style>\n",
              "\n",
              "      <script>\n",
              "        async function quickchart(key) {\n",
              "          const quickchartButtonEl =\n",
              "            document.querySelector('#' + key + ' button');\n",
              "          quickchartButtonEl.disabled = true;  // To prevent multiple clicks.\n",
              "          quickchartButtonEl.classList.add('colab-df-spinner');\n",
              "          try {\n",
              "            const charts = await google.colab.kernel.invokeFunction(\n",
              "                'suggestCharts', [key], {});\n",
              "          } catch (error) {\n",
              "            console.error('Error during call to suggestCharts:', error);\n",
              "          }\n",
              "          quickchartButtonEl.classList.remove('colab-df-spinner');\n",
              "          quickchartButtonEl.classList.add('colab-df-quickchart-complete');\n",
              "        }\n",
              "        (() => {\n",
              "          let quickchartButtonEl =\n",
              "            document.querySelector('#df-00d5627c-5dbf-4e8f-9c53-5950680bdda0 button');\n",
              "          quickchartButtonEl.style.display =\n",
              "            google.colab.kernel.accessAllowed ? 'block' : 'none';\n",
              "        })();\n",
              "      </script>\n",
              "    </div>\n",
              "\n",
              "  <div id=\"id_29d578e4-7973-40b5-b604-d74fe1c24835\">\n",
              "    <style>\n",
              "      .colab-df-generate {\n",
              "        background-color: #E8F0FE;\n",
              "        border: none;\n",
              "        border-radius: 50%;\n",
              "        cursor: pointer;\n",
              "        display: none;\n",
              "        fill: #1967D2;\n",
              "        height: 32px;\n",
              "        padding: 0 0 0 0;\n",
              "        width: 32px;\n",
              "      }\n",
              "\n",
              "      .colab-df-generate:hover {\n",
              "        background-color: #E2EBFA;\n",
              "        box-shadow: 0px 1px 2px rgba(60, 64, 67, 0.3), 0px 1px 3px 1px rgba(60, 64, 67, 0.15);\n",
              "        fill: #174EA6;\n",
              "      }\n",
              "\n",
              "      [theme=dark] .colab-df-generate {\n",
              "        background-color: #3B4455;\n",
              "        fill: #D2E3FC;\n",
              "      }\n",
              "\n",
              "      [theme=dark] .colab-df-generate:hover {\n",
              "        background-color: #434B5C;\n",
              "        box-shadow: 0px 1px 3px 1px rgba(0, 0, 0, 0.15);\n",
              "        filter: drop-shadow(0px 1px 2px rgba(0, 0, 0, 0.3));\n",
              "        fill: #FFFFFF;\n",
              "      }\n",
              "    </style>\n",
              "    <button class=\"colab-df-generate\" onclick=\"generateWithVariable('trades_summary')\"\n",
              "            title=\"Generate code using this dataframe.\"\n",
              "            style=\"display:none;\">\n",
              "\n",
              "  <svg xmlns=\"http://www.w3.org/2000/svg\" height=\"24px\"viewBox=\"0 0 24 24\"\n",
              "       width=\"24px\">\n",
              "    <path d=\"M7,19H8.4L18.45,9,17,7.55,7,17.6ZM5,21V16.75L18.45,3.32a2,2,0,0,1,2.83,0l1.4,1.43a1.91,1.91,0,0,1,.58,1.4,1.91,1.91,0,0,1-.58,1.4L9.25,21ZM18.45,9,17,7.55Zm-12,3A5.31,5.31,0,0,0,4.9,8.1,5.31,5.31,0,0,0,1,6.5,5.31,5.31,0,0,0,4.9,4.9,5.31,5.31,0,0,0,6.5,1,5.31,5.31,0,0,0,8.1,4.9,5.31,5.31,0,0,0,12,6.5,5.46,5.46,0,0,0,6.5,12Z\"/>\n",
              "  </svg>\n",
              "    </button>\n",
              "    <script>\n",
              "      (() => {\n",
              "      const buttonEl =\n",
              "        document.querySelector('#id_29d578e4-7973-40b5-b604-d74fe1c24835 button.colab-df-generate');\n",
              "      buttonEl.style.display =\n",
              "        google.colab.kernel.accessAllowed ? 'block' : 'none';\n",
              "\n",
              "      buttonEl.onclick = () => {\n",
              "        google.colab.notebook.generateWithVariable('trades_summary');\n",
              "      }\n",
              "      })();\n",
              "    </script>\n",
              "  </div>\n",
              "\n",
              "    </div>\n",
              "  </div>\n"
            ],
            "application/vnd.google.colaboratory.intrinsic+json": {
              "type": "dataframe",
              "variable_name": "trades_summary",
              "summary": "{\n  \"name\": \"trades_summary\",\n  \"rows\": 437,\n  \"fields\": [\n    {\n      \"column\": \"trade_time\",\n      \"properties\": {\n        \"dtype\": \"date\",\n        \"min\": \"2018-01-18 09:25:00\",\n        \"max\": \"2023-02-07 13:00:00\",\n        \"num_unique_values\": 435,\n        \"samples\": [\n          \"2022-03-07 10:20:00\",\n          \"2020-02-19 09:55:00\",\n          \"2020-04-29 15:30:00\"\n        ],\n        \"semantic_type\": \"\",\n        \"description\": \"\"\n      }\n    },\n    {\n      \"column\": \"instrument_type\",\n      \"properties\": {\n        \"dtype\": \"category\",\n        \"num_unique_values\": 2,\n        \"samples\": [\n          \"PE\",\n          \"CE\"\n        ],\n        \"semantic_type\": \"\",\n        \"description\": \"\"\n      }\n    },\n    {\n      \"column\": \"signal\",\n      \"properties\": {\n        \"dtype\": \"number\",\n        \"std\": 1,\n        \"min\": -1,\n        \"max\": 1,\n        \"num_unique_values\": 2,\n        \"samples\": [\n          -1,\n          1\n        ],\n        \"semantic_type\": \"\",\n        \"description\": \"\"\n      }\n    },\n    {\n      \"column\": \"entry_price\",\n      \"properties\": {\n        \"dtype\": \"number\",\n        \"std\": 1422.5300294591643,\n        \"min\": 0.4,\n        \"max\": 12420.0,\n        \"num_unique_values\": 387,\n        \"samples\": [\n          99.0,\n          15.65\n        ],\n        \"semantic_type\": \"\",\n        \"description\": \"\"\n      }\n    },\n    {\n      \"column\": \"stop_loss\",\n      \"properties\": {\n        \"dtype\": \"number\",\n        \"std\": 1272.2047792254557,\n        \"min\": 0.4,\n        \"max\": 9550.0,\n        \"num_unique_values\": 267,\n        \"samples\": [\n          14.6,\n          21.45\n        ],\n        \"semantic_type\": \"\",\n        \"description\": \"\"\n      }\n    },\n    {\n      \"column\": \"exit_time\",\n      \"properties\": {\n        \"dtype\": \"date\",\n        \"min\": \"2018-01-18 09:50:00\",\n        \"max\": \"2023-02-07 13:20:00\",\n        \"num_unique_values\": 293,\n        \"samples\": [\n          \"2021-02-01 11:45:00\",\n          \"2023-02-01 12:35:00\"\n        ],\n        \"semantic_type\": \"\",\n        \"description\": \"\"\n      }\n    },\n    {\n      \"column\": \"exit_price\",\n      \"properties\": {\n        \"dtype\": \"number\",\n        \"std\": 1258.7550770640416,\n        \"min\": 0.05,\n        \"max\": 9550.0,\n        \"num_unique_values\": 262,\n        \"samples\": [\n          82.25,\n          53.65\n        ],\n        \"semantic_type\": \"\",\n        \"description\": \"\"\n      }\n    },\n    {\n      \"column\": \"stop_loss_hit\",\n      \"properties\": {\n        \"dtype\": \"boolean\",\n        \"num_unique_values\": 2,\n        \"samples\": [\n          false,\n          true\n        ],\n        \"semantic_type\": \"\",\n        \"description\": \"\"\n      }\n    },\n    {\n      \"column\": \"profit_hit\",\n      \"properties\": {\n        \"dtype\": \"boolean\",\n        \"num_unique_values\": 2,\n        \"samples\": [\n          true,\n          false\n        ],\n        \"semantic_type\": \"\",\n        \"description\": \"\"\n      }\n    }\n  ]\n}"
            }
          },
          "metadata": {},
          "execution_count": 32
        }
      ]
    },
    {
      "cell_type": "code",
      "source": [],
      "metadata": {
        "id": "-xUnwBo5ZFui"
      },
      "execution_count": null,
      "outputs": []
    }
  ]
}