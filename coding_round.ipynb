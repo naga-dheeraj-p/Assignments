{
  "nbformat": 4,
  "nbformat_minor": 0,
  "metadata": {
    "colab": {
      "provenance": [],
      "authorship_tag": "ABX9TyPtjNbY2jvkUwqzKhzG54Is",
      "include_colab_link": true
    },
    "kernelspec": {
      "name": "python3",
      "display_name": "Python 3"
    },
    "language_info": {
      "name": "python"
    }
  },
  "cells": [
    {
      "cell_type": "markdown",
      "metadata": {
        "id": "view-in-github",
        "colab_type": "text"
      },
      "source": [
        "<a href=\"https://colab.research.google.com/github/naga-dheeraj-p/Assignments/blob/main/coding_round.ipynb\" target=\"_parent\"><img src=\"https://colab.research.google.com/assets/colab-badge.svg\" alt=\"Open In Colab\"/></a>"
      ]
    },
    {
      "cell_type": "markdown",
      "source": [
        "Coding Round"
      ],
      "metadata": {
        "id": "ZLD9MkhIxdWs"
      }
    },
    {
      "cell_type": "code",
      "execution_count": null,
      "metadata": {
        "id": "Wr3kBqgDn1Bh"
      },
      "outputs": [],
      "source": [
        "# Anagram question\n",
        "class Solution:\n",
        "    def groupAnagrams(self, strs: List[str]) -> List[List[str]]:\n",
        "        anagrams_dict=defaultdict(list)\n",
        "        for i in strs:\n",
        "            count=[0]*26\n",
        "            for c in i:\n",
        "                count[ord(c)-ord('a')]+=1\n",
        "            key=tuple(count)\n",
        "            anagrams_dict[key].append(i)\n",
        "\n",
        "        #return anagrams_dict.values()\n",
        "        #was returning the values directly and not the list\n",
        "        return list(anagrams_dict.values())                   #corrected code"
      ]
    },
    {
      "cell_type": "code",
      "source": [
        "import requests\n",
        "url = \"https://api.binance.com/api/v3/ticker/price\"\n",
        "\n",
        "try:\n",
        "    response = requests.get(url)\n",
        "    response.raise_for_status()\n",
        "    data = response.json()\n",
        "\n",
        "    if isinstance(data, list):\n",
        "        BTC = next((item for item in data if item[\"symbol\"] == \"BTCUSDT\"), None)\n",
        "        if BTC:\n",
        "            print(BTC[\"price\"])\n",
        "        else:\n",
        "            print(\"BTC not found\")\n",
        "    else:\n",
        "        print(\"Unexpected format received:\", data)\n",
        "\n",
        "\n",
        "except requests.exceptions.RequestException as e:\n",
        "    print(\"ERROR while fetching:\", e)\n",
        "## error occured"
      ],
      "metadata": {
        "id": "WBMc3wwTz351",
        "outputId": "b8b50c88-d293-4de1-8508-b1087321ded5",
        "colab": {
          "base_uri": "https://localhost:8080/"
        }
      },
      "execution_count": 10,
      "outputs": [
        {
          "output_type": "stream",
          "name": "stdout",
          "text": [
            "ERROR while fetching: 451 Client Error:  for url: https://api.binance.com/api/v3/ticker/price\n"
          ]
        }
      ]
    }
  ]
}